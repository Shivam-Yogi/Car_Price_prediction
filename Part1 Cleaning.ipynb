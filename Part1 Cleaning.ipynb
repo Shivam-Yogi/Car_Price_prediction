{
 "cells": [
  {
   "cell_type": "markdown",
   "metadata": {
    "application/vnd.databricks.v1+cell": {
     "cellMetadata": {},
     "inputWidgets": {},
     "nuid": "51c0a2a0-5f1e-4a5e-84f1-8802c1c09833",
     "showTitle": false,
     "title": ""
    }
   },
   "source": [
    "### **Importing the data and libraries**\n",
    "\n",
    "Let's begin by importing a few of the libraries that we will need for this project."
   ]
  },
  {
   "cell_type": "code",
   "execution_count": null,
   "metadata": {
    "application/vnd.databricks.v1+cell": {
     "cellMetadata": {
      "byteLimit": 2048000,
      "rowLimit": 10000
     },
     "inputWidgets": {},
     "nuid": "e3d97830-f291-48fe-85da-3d3af2b84a38",
     "showTitle": false,
     "title": ""
    },
    "tags": []
   },
   "outputs": [
    {
     "data": {
      "text/html": [
       "<style scoped>\n",
       "  .table-result-container {\n",
       "    max-height: 300px;\n",
       "    overflow: auto;\n",
       "  }\n",
       "  table, th, td {\n",
       "    border: 1px solid black;\n",
       "    border-collapse: collapse;\n",
       "  }\n",
       "  th, td {\n",
       "    padding: 5px;\n",
       "  }\n",
       "  th {\n",
       "    text-align: left;\n",
       "  }\n",
       "</style><div class='table-result-container'><table class='table-result'><thead style='background-color: white'><tr><th>path</th><th>name</th><th>size</th><th>modificationTime</th></tr></thead><tbody><tr><td>dbfs:/mnt/files/cars_cleaned.csv</td><td>cars_cleaned.csv</td><td>541522105</td><td>1692966218000</td></tr><tr><td>dbfs:/mnt/files/cleaned_dataset.csv/</td><td>cleaned_dataset.csv/</td><td>0</td><td>1692953360000</td></tr><tr><td>dbfs:/mnt/files/dataset.csv</td><td>dataset.csv</td><td>1986417938</td><td>1692854417000</td></tr></tbody></table></div>"
      ]
     },
     "metadata": {
      "application/vnd.databricks.v1+output": {
       "addedWidgets": {},
       "aggData": [],
       "aggError": "",
       "aggOverflow": false,
       "aggSchema": [],
       "aggSeriesLimitReached": false,
       "aggType": "",
       "arguments": {},
       "columnCustomDisplayInfos": {},
       "data": [
        [
         "dbfs:/mnt/files/cars_cleaned.csv",
         "cars_cleaned.csv",
         541522105,
         1692966218000
        ],
        [
         "dbfs:/mnt/files/cleaned_dataset.csv/",
         "cleaned_dataset.csv/",
         0,
         1692953360000
        ],
        [
         "dbfs:/mnt/files/dataset.csv",
         "dataset.csv",
         1986417938,
         1692854417000
        ]
       ],
       "datasetInfos": [],
       "dbfsResultPath": null,
       "isJsonSchema": true,
       "metadata": {
        "isDbfsCommandResult": false
       },
       "overflow": false,
       "plotOptions": {
        "customPlotOptions": {},
        "displayType": "table",
        "pivotAggregation": null,
        "pivotColumns": null,
        "xColumns": null,
        "yColumns": null
       },
       "removedWidgets": [],
       "schema": [
        {
         "metadata": "{}",
         "name": "path",
         "type": "\"string\""
        },
        {
         "metadata": "{}",
         "name": "name",
         "type": "\"string\""
        },
        {
         "metadata": "{}",
         "name": "size",
         "type": "\"long\""
        },
        {
         "metadata": "{}",
         "name": "modificationTime",
         "type": "\"long\""
        }
       ],
       "type": "table"
      }
     },
     "output_type": "display_data"
    }
   ],
   "source": [
    "%fs\n",
    "ls \"/mnt/files\""
   ]
  },
  {
   "cell_type": "code",
   "execution_count": null,
   "metadata": {
    "application/vnd.databricks.v1+cell": {
     "cellMetadata": {
      "byteLimit": 2048000,
      "rowLimit": 10000
     },
     "inputWidgets": {},
     "nuid": "77eab0f6-8d8a-4e25-911f-7eb002cf8550",
     "showTitle": false,
     "title": ""
    },
    "tags": []
   },
   "outputs": [
    {
     "data": {
      "application/vnd.databricks.v1+bamboolib_hint": "{\"pd.DataFrames\": [], \"version\": \"0.0.1\"}",
      "text/plain": []
     },
     "metadata": {},
     "output_type": "display_data"
    }
   ],
   "source": [
    "from pyspark.sql import SparkSession\n",
    "from pyspark.sql.types import  StringType, FloatType, IntegerType\n",
    "from pyspark.sql.functions import count, col, split, mean, median, mode, when, sum as spark_sum ,countDistinct, regexp_replace,lit\n",
    "from pyspark.sql import Window\n",
    "from pyspark.sql.functions import expr, avg, length, log\n",
    "from pyspark.ml.feature import Bucketizer\n",
    "\n",
    "import pandas as pd\n",
    "import numpy as np\n",
    "import seaborn as sns\n",
    "import matplotlib.pyplot as plt"
   ]
  },
  {
   "cell_type": "markdown",
   "metadata": {
    "application/vnd.databricks.v1+cell": {
     "cellMetadata": {},
     "inputWidgets": {},
     "nuid": "b8fc9e81-c6d8-4df8-b080-3cd4b212071b",
     "showTitle": false,
     "title": ""
    }
   },
   "source": [
    "### Creating a Spark Session"
   ]
  },
  {
   "cell_type": "code",
   "execution_count": null,
   "metadata": {
    "application/vnd.databricks.v1+cell": {
     "cellMetadata": {
      "byteLimit": 2048000,
      "rowLimit": 10000
     },
     "inputWidgets": {},
     "nuid": "3ab83506-cf20-4b99-9bab-ea026e82661d",
     "showTitle": false,
     "title": ""
    },
    "tags": []
   },
   "outputs": [],
   "source": [
    "# Create a Spark session\n",
    "spark = SparkSession.builder \\\n",
    "         .appName(\"UsedCars\") \\\n",
    "         .getOrCreate()"
   ]
  },
  {
   "cell_type": "code",
   "execution_count": null,
   "metadata": {
    "application/vnd.databricks.v1+cell": {
     "cellMetadata": {
      "byteLimit": 2048000,
      "rowLimit": 10000
     },
     "inputWidgets": {},
     "nuid": "ebece1bd-9658-4403-9e45-8d1081149157",
     "showTitle": false,
     "title": ""
    },
    "scrolled": true,
    "tags": []
   },
   "outputs": [
    {
     "data": {
      "text/html": [
       "\n",
       "            <div>\n",
       "                <p><b>SparkSession - hive</b></p>\n",
       "                \n",
       "        <div>\n",
       "            <p><b>SparkContext</b></p>\n",
       "\n",
       "            <p><a href=\"/?o=8678633105558865#setting/sparkui/0829-165912-n9bynu4t/driver-5335111351487448069\">Spark UI</a></p>\n",
       "\n",
       "            <dl>\n",
       "              <dt>Version</dt>\n",
       "                <dd><code>v3.3.2</code></dd>\n",
       "              <dt>Master</dt>\n",
       "                <dd><code>local[*, 4]</code></dd>\n",
       "              <dt>AppName</dt>\n",
       "                <dd><code>Databricks Shell</code></dd>\n",
       "            </dl>\n",
       "        </div>\n",
       "        \n",
       "            </div>\n",
       "        "
      ]
     },
     "metadata": {
      "application/vnd.databricks.v1+output": {
       "addedWidgets": {},
       "arguments": {},
       "data": "\n            <div>\n                <p><b>SparkSession - hive</b></p>\n                \n        <div>\n            <p><b>SparkContext</b></p>\n\n            <p><a href=\"/?o=8678633105558865#setting/sparkui/0829-165912-n9bynu4t/driver-5335111351487448069\">Spark UI</a></p>\n\n            <dl>\n              <dt>Version</dt>\n                <dd><code>v3.3.2</code></dd>\n              <dt>Master</dt>\n                <dd><code>local[*, 4]</code></dd>\n              <dt>AppName</dt>\n                <dd><code>Databricks Shell</code></dd>\n            </dl>\n        </div>\n        \n            </div>\n        ",
       "datasetInfos": [],
       "metadata": {},
       "removedWidgets": [],
       "textData": null,
       "type": "htmlSandbox"
      }
     },
     "output_type": "display_data"
    }
   ],
   "source": [
    "spark"
   ]
  },
  {
   "cell_type": "markdown",
   "metadata": {
    "application/vnd.databricks.v1+cell": {
     "cellMetadata": {},
     "inputWidgets": {},
     "nuid": "79a4030a-4a25-4858-838f-8d6c27ec6d32",
     "showTitle": false,
     "title": ""
    }
   },
   "source": [
    "### Loading the data in Spark"
   ]
  },
  {
   "cell_type": "code",
   "execution_count": null,
   "metadata": {
    "application/vnd.databricks.v1+cell": {
     "cellMetadata": {
      "byteLimit": 2048000,
      "rowLimit": 10000
     },
     "inputWidgets": {},
     "nuid": "e996e550-91d7-459c-baea-125ed644d525",
     "showTitle": false,
     "title": ""
    }
   },
   "outputs": [],
   "source": [
    "df = spark.read.format(\"csv\").option(\"header\", \"true\").option(\"inferSchema\",\"True\").load(\"dbfs:/mnt/files/dataset.csv\")\n"
   ]
  },
  {
   "cell_type": "code",
   "execution_count": null,
   "metadata": {
    "application/vnd.databricks.v1+cell": {
     "cellMetadata": {
      "byteLimit": 2048000,
      "rowLimit": 10000
     },
     "inputWidgets": {},
     "nuid": "d0adbb9b-ce61-4078-bc16-9cfd070ca90c",
     "showTitle": false,
     "title": ""
    }
   },
   "outputs": [],
   "source": [
    "# df = spark.read.format(\"csv\").option(\"header\", \"true\").option(\"inferSchema\",\"True\").load(\"dataset.csv\")\n"
   ]
  },
  {
   "cell_type": "markdown",
   "metadata": {
    "application/vnd.databricks.v1+cell": {
     "cellMetadata": {},
     "inputWidgets": {},
     "nuid": "2098855b-d01d-4f7d-b17f-9a8b5849113b",
     "showTitle": false,
     "title": ""
    }
   },
   "source": [
    "### Count the number of rows and columns"
   ]
  },
  {
   "cell_type": "code",
   "execution_count": null,
   "metadata": {
    "application/vnd.databricks.v1+cell": {
     "cellMetadata": {
      "byteLimit": 2048000,
      "rowLimit": 10000
     },
     "inputWidgets": {},
     "nuid": "49de71cb-f8fc-4965-b994-6158ae5afa89",
     "showTitle": false,
     "title": ""
    }
   },
   "outputs": [
    {
     "name": "stdout",
     "output_type": "stream",
     "text": [
      "The shape of the DataFrame is 3000040 rows and 66 columns\n"
     ]
    }
   ],
   "source": [
    "num_rows = df.count()\n",
    "num_cols = len(df.columns)\n",
    "\n",
    "print(f\"The shape of the DataFrame is {num_rows} rows and {num_cols} columns\")"
   ]
  },
  {
   "cell_type": "markdown",
   "metadata": {
    "application/vnd.databricks.v1+cell": {
     "cellMetadata": {},
     "inputWidgets": {},
     "nuid": "f7850f1d-b9d5-42dc-9ebb-6841f454d0a9",
     "showTitle": false,
     "title": ""
    }
   },
   "source": [
    "### Print the schema of the DataFrame"
   ]
  },
  {
   "cell_type": "code",
   "execution_count": null,
   "metadata": {
    "application/vnd.databricks.v1+cell": {
     "cellMetadata": {
      "byteLimit": 2048000,
      "rowLimit": 10000
     },
     "inputWidgets": {},
     "nuid": "a08575ff-2a96-4c08-b536-4fb2fa52c27c",
     "showTitle": false,
     "title": ""
    }
   },
   "outputs": [
    {
     "name": "stdout",
     "output_type": "stream",
     "text": [
      "root\n",
      " |-- _c0: integer (nullable = true)\n",
      " |-- vin: string (nullable = true)\n",
      " |-- back_legroom: string (nullable = true)\n",
      " |-- bed: string (nullable = true)\n",
      " |-- bed_height: string (nullable = true)\n",
      " |-- bed_length: string (nullable = true)\n",
      " |-- body_type: string (nullable = true)\n",
      " |-- cabin: string (nullable = true)\n",
      " |-- city: string (nullable = true)\n",
      " |-- city_fuel_economy: double (nullable = true)\n",
      " |-- combine_fuel_economy: string (nullable = true)\n",
      " |-- daysonmarket: integer (nullable = true)\n",
      " |-- dealer_zip: string (nullable = true)\n",
      " |-- engine_cylinders: string (nullable = true)\n",
      " |-- engine_displacement: double (nullable = true)\n",
      " |-- engine_type: string (nullable = true)\n",
      " |-- exterior_color: string (nullable = true)\n",
      " |-- fleet: boolean (nullable = true)\n",
      " |-- frame_damaged: boolean (nullable = true)\n",
      " |-- franchise_dealer: boolean (nullable = true)\n",
      " |-- franchise_make: string (nullable = true)\n",
      " |-- front_legroom: string (nullable = true)\n",
      " |-- fuel_tank_volume: string (nullable = true)\n",
      " |-- fuel_type: string (nullable = true)\n",
      " |-- has_accidents: boolean (nullable = true)\n",
      " |-- height: string (nullable = true)\n",
      " |-- highway_fuel_economy: double (nullable = true)\n",
      " |-- horsepower: double (nullable = true)\n",
      " |-- interior_color: string (nullable = true)\n",
      " |-- isCab: boolean (nullable = true)\n",
      " |-- is_certified: string (nullable = true)\n",
      " |-- is_cpo: boolean (nullable = true)\n",
      " |-- is_new: boolean (nullable = true)\n",
      " |-- is_oemcpo: boolean (nullable = true)\n",
      " |-- latitude: double (nullable = true)\n",
      " |-- length: string (nullable = true)\n",
      " |-- listed_date: date (nullable = true)\n",
      " |-- listing_color: string (nullable = true)\n",
      " |-- listing_id: integer (nullable = true)\n",
      " |-- longitude: double (nullable = true)\n",
      " |-- main_picture_url: string (nullable = true)\n",
      " |-- major_options: string (nullable = true)\n",
      " |-- make_name: string (nullable = true)\n",
      " |-- maximum_seating: string (nullable = true)\n",
      " |-- mileage: double (nullable = true)\n",
      " |-- model_name: string (nullable = true)\n",
      " |-- owner_count: double (nullable = true)\n",
      " |-- power: string (nullable = true)\n",
      " |-- price: double (nullable = true)\n",
      " |-- salvage: boolean (nullable = true)\n",
      " |-- savings_amount: integer (nullable = true)\n",
      " |-- seller_rating: double (nullable = true)\n",
      " |-- sp_id: double (nullable = true)\n",
      " |-- sp_name: string (nullable = true)\n",
      " |-- theft_title: boolean (nullable = true)\n",
      " |-- torque: string (nullable = true)\n",
      " |-- transmission: string (nullable = true)\n",
      " |-- transmission_display: string (nullable = true)\n",
      " |-- trimId: string (nullable = true)\n",
      " |-- trim_name: string (nullable = true)\n",
      " |-- vehicle_damage_category: string (nullable = true)\n",
      " |-- wheel_system: string (nullable = true)\n",
      " |-- wheel_system_display: string (nullable = true)\n",
      " |-- wheelbase: string (nullable = true)\n",
      " |-- width: string (nullable = true)\n",
      " |-- year: integer (nullable = true)\n",
      "\n"
     ]
    }
   ],
   "source": [
    "df.printSchema()"
   ]
  },
  {
   "cell_type": "markdown",
   "metadata": {
    "application/vnd.databricks.v1+cell": {
     "cellMetadata": {},
     "inputWidgets": {},
     "nuid": "b7e93ebe-6d1b-4f86-9393-d4bd56f8db80",
     "showTitle": false,
     "title": ""
    }
   },
   "source": [
    "### Calculate summary statistics for numerical columns"
   ]
  },
  {
   "cell_type": "code",
   "execution_count": null,
   "metadata": {
    "application/vnd.databricks.v1+cell": {
     "cellMetadata": {
      "byteLimit": 2048000,
      "rowLimit": 10000
     },
     "inputWidgets": {},
     "nuid": "751acc14-82b2-419f-9a4a-d31407547010",
     "showTitle": false,
     "title": ""
    }
   },
   "outputs": [],
   "source": [
    "summary = df.describe()"
   ]
  },
  {
   "cell_type": "code",
   "execution_count": null,
   "metadata": {
    "application/vnd.databricks.v1+cell": {
     "cellMetadata": {
      "byteLimit": 2048000,
      "rowLimit": 10000
     },
     "inputWidgets": {},
     "nuid": "281ce957-d875-458a-a63e-2801c8c35c13",
     "showTitle": false,
     "title": ""
    }
   },
   "outputs": [
    {
     "name": "stdout",
     "output_type": "stream",
     "text": [
      "+-------+-----------------+-----------------+------------+-----+----------+----------+-----------+-----------+-----------+------------------+--------------------+------------------+------------------+----------------+-------------------+-----------+------------------+--------------+-------------+----------------+---------+-------+--------------------+-----------------+------------------+------------+------------------+--------+-------------+--------------------+------------------+--------------------+--------------------+----------+---------------+------------------+------------------+------------------+--------------------+------------------+------------------+------------------+------------------+--------------------+--------------------+------------+--------------------+-------+------------------+-----------------------+------------+--------------------+---------+-------+-----------------+\n",
      "|summary|              _c0|              vin|back_legroom|  bed|bed_height|bed_length|  body_type|      cabin|       city| city_fuel_economy|combine_fuel_economy|      daysonmarket|        dealer_zip|engine_cylinders|engine_displacement|engine_type|    exterior_color|franchise_make|front_legroom|fuel_tank_volume|fuel_type| height|highway_fuel_economy|       horsepower|    interior_color|is_certified|          latitude|  length|listing_color|          listing_id|         longitude|    main_picture_url|       major_options| make_name|maximum_seating|           mileage|        model_name|       owner_count|               power|             price|    savings_amount|     seller_rating|             sp_id|             sp_name|              torque|transmission|transmission_display| trimId|         trim_name|vehicle_damage_category|wheel_system|wheel_system_display|wheelbase|  width|             year|\n",
      "+-------+-----------------+-----------------+------------+-----+----------+----------+-----------+-----------+-----------+------------------+--------------------+------------------+------------------+----------------+-------------------+-----------+------------------+--------------+-------------+----------------+---------+-------+--------------------+-----------------+------------------+------------+------------------+--------+-------------+--------------------+------------------+--------------------+--------------------+----------+---------------+------------------+------------------+------------------+--------------------+------------------+------------------+------------------+------------------+--------------------+--------------------+------------+--------------------+-------+------------------+-----------------------+------------+--------------------+---------+-------+-----------------+\n",
      "|  count|          3000040|          3000040|     2840771|19568|    429098|    429098|    2986497|      63533|    3000040|           2508755|                   0|           3000040|           3000040|         2899459|            2827654|    2899459|           3000014|       2427405|      2840771|         2840771|  2917316|2840771|             2508755|          2827654|           2999875|           0|           3000040| 2840771|      3000040|             3000040|           3000040|             2630947|             2799992|   3000040|        2840771|           2855653|           3000040|           1483027|             2518614|           3000040|           3000040|           2959168|           2999944|             3000040|             2482247|     2935855|             2935855|2884213|           2883746|                      0|     2853308|             2853308|  2840771|2840771|          3000040|\n",
      "|   mean|        1500019.5|         Infinity|        null| null|      null|      null|       null|       null|       null|22.693250237667687|                null| 76.05972920361062| 50682.78371081571|            null| 2968.4876933316455|       null|3804.1945552439706|          null|         null|            null|     null|   null|   29.47337025735873|247.9957102248012|21277.107667731627|        null| 36.98414201820701|    null|         null|2.7549867382553065E8|-90.64224405217138|                null|                null|      null|           null|31146.899743421207|1598.9786154900617|1.5326443820645208|                null|29933.366903950282| 550.9768136424848| 4.270413205820137|233522.40598691176|                null|                null|        null|                null|   null|101.86088280060883|                   null|        null|                null|     null|   null|2017.728316622445|\n",
      "| stddev|866037.0951273778|             -NaN|        null| null|      null|      null|       null|       null|       null|  8.80702395313522|                null|108.88385145204472|27367.446591941705|            null| 1348.9045085149035|       null|  17762.9139208812|          null|         null|            null|     null|   null|   7.769252088989304|90.46638888010376| 50526.70682921893|        null|4.9968189538198615|    null|         null|   8894122.675895177|13.905889704915236|                null|                null|      null|           null| 74586.74520227255|  760.914659415378|0.9202928135868655|                null|19566.169779298354|1079.4477007536386|0.5133016858972198|  132322.070954935|                null|                null|        null|                null|   null|483.25798476547243|                   null|        null|                null|     null|   null|4.178701451979212|\n",
      "|    min|                0|                0|          --| Long|        --|        --|Convertible|   Crew Cab|    Hayward|               7.0|                null|                 0|             01060|              H4|              700.0|         H4|                \"\"|         Acura|           --|              --|Biodiesel|     --|                10.0|             55.0|               !!!|        null|           18.3467|      --|        BLACK|            19946203|          -157.928|https://058cfc5fa...|['101A Mid Equipm...|AM General|             --|               0.0|          1 Series|               1.0|1,001 hp @ 6,000 RPM|             165.0|                 0|               1.0|           41593.0|\\t Bazaar Enterpr...|100 lb-ft @ 3,000...|           A|   1-Speed Automatic| t10000|                 !|                   null|         4WD|                 4X2|       --|     --|             1915|\n",
      "|    max|          3000039|ZPBUA1ZLXLLA06790|     59.8 in|Short|        --|   98.8 in|      Wagon|Regular Cab|north hills|             127.0|                null|              3599|             99518|              W8|             8400.0|         W8|             yelow|         smart|        67 in|         9.5 gal|  Propane|99.2 in|               127.0|           1001.0|    yellow leather|        null|           61.2031|294.1 in|       YELLOW|           282022171|          -66.0785|https://www.yourc...|     ['Z71 Package']|     smart|        9 seats|       9.9999988E7|                xD|              19.0|   99 hp @ 5,600 RPM|         3299995.0|            147414|               5.0|          440951.0|      vBs Auto Sales|99 lb-ft @ 3,000 RPM|           M|              Manual|  t9994|     xDrive50i AWD|                   null|         RWD|    Rear-Wheel Drive|  99.9 in|99.6 in|             2021|\n",
      "+-------+-----------------+-----------------+------------+-----+----------+----------+-----------+-----------+-----------+------------------+--------------------+------------------+------------------+----------------+-------------------+-----------+------------------+--------------+-------------+----------------+---------+-------+--------------------+-----------------+------------------+------------+------------------+--------+-------------+--------------------+------------------+--------------------+--------------------+----------+---------------+------------------+------------------+------------------+--------------------+------------------+------------------+------------------+------------------+--------------------+--------------------+------------+--------------------+-------+------------------+-----------------------+------------+--------------------+---------+-------+-----------------+\n",
      "\n"
     ]
    }
   ],
   "source": [
    "summary.show()"
   ]
  },
  {
   "cell_type": "markdown",
   "metadata": {
    "application/vnd.databricks.v1+cell": {
     "cellMetadata": {},
     "inputWidgets": {},
     "nuid": "279a8ca3-2e88-4957-9fa0-0519c325845f",
     "showTitle": false,
     "title": ""
    }
   },
   "source": [
    "Now that we have a better understanding of the data, let's dive into the data cleaning process."
   ]
  },
  {
   "cell_type": "markdown",
   "metadata": {
    "application/vnd.databricks.v1+cell": {
     "cellMetadata": {},
     "inputWidgets": {},
     "nuid": "6285e882-c787-4210-8e76-233b5d36c307",
     "showTitle": false,
     "title": ""
    }
   },
   "source": [
    "------------------------------------------------------------------------------------------"
   ]
  },
  {
   "cell_type": "markdown",
   "metadata": {
    "application/vnd.databricks.v1+cell": {
     "cellMetadata": {},
     "inputWidgets": {},
     "nuid": "f559f8b1-4b10-4a42-ad56-ef1ea8bf7b15",
     "showTitle": false,
     "title": ""
    }
   },
   "source": [
    "### Data Cleaning & Data Wrangling"
   ]
  },
  {
   "cell_type": "markdown",
   "metadata": {
    "application/vnd.databricks.v1+cell": {
     "cellMetadata": {},
     "inputWidgets": {},
     "nuid": "3a816c96-ae45-4ee5-8eb0-26ef4f3f469a",
     "showTitle": false,
     "title": ""
    }
   },
   "source": [
    "Let's first drop the _c0 as it is only the index"
   ]
  },
  {
   "cell_type": "code",
   "execution_count": null,
   "metadata": {
    "application/vnd.databricks.v1+cell": {
     "cellMetadata": {
      "byteLimit": 2048000,
      "rowLimit": 10000
     },
     "inputWidgets": {},
     "nuid": "38cee70c-d5cd-46a1-8afd-08b5985123c8",
     "showTitle": false,
     "title": ""
    }
   },
   "outputs": [],
   "source": [
    "df = df.drop('_c0')"
   ]
  },
  {
   "cell_type": "markdown",
   "metadata": {
    "application/vnd.databricks.v1+cell": {
     "cellMetadata": {},
     "inputWidgets": {},
     "nuid": "1546a5c7-8463-4701-a7c0-d323e2f683e4",
     "showTitle": false,
     "title": ""
    }
   },
   "source": [
    "## Duplicates"
   ]
  },
  {
   "cell_type": "markdown",
   "metadata": {
    "application/vnd.databricks.v1+cell": {
     "cellMetadata": {},
     "inputWidgets": {},
     "nuid": "a7fca5ce-d3a3-4ca2-a021-e0325c1d009b",
     "showTitle": false,
     "title": ""
    }
   },
   "source": [
    "Let's begin by checking for duplicate rows using the VIN number as our reference. If there are duplicate rows, we will drop them."
   ]
  },
  {
   "cell_type": "code",
   "execution_count": null,
   "metadata": {
    "application/vnd.databricks.v1+cell": {
     "cellMetadata": {
      "byteLimit": 2048000,
      "rowLimit": 10000
     },
     "inputWidgets": {},
     "nuid": "460bc370-9f1d-4b2b-b0c1-818b540ba54b",
     "showTitle": false,
     "title": ""
    }
   },
   "outputs": [
    {
     "name": "stdout",
     "output_type": "stream",
     "text": [
      "The number of duplicate rows are 40.\n"
     ]
    }
   ],
   "source": [
    "# Count the number of duplicate rows\n",
    "duplicate_rows = df.groupBy(df.columns).count().filter(col('count') > 1).count()\n",
    "print(f\"The number of duplicate rows are {duplicate_rows}.\")"
   ]
  },
  {
   "cell_type": "code",
   "execution_count": null,
   "metadata": {
    "application/vnd.databricks.v1+cell": {
     "cellMetadata": {
      "byteLimit": 2048000,
      "rowLimit": 10000
     },
     "inputWidgets": {},
     "nuid": "e526f93f-74a3-4dd1-9032-705c3d9d987b",
     "showTitle": false,
     "title": ""
    }
   },
   "outputs": [],
   "source": [
    "# Create a window specification for checking duplicates based on index\n",
    "window_spec = Window.partitionBy(df.columns).orderBy(col(\"vin\"))\n"
   ]
  },
  {
   "cell_type": "code",
   "execution_count": null,
   "metadata": {
    "application/vnd.databricks.v1+cell": {
     "cellMetadata": {
      "byteLimit": 2048000,
      "rowLimit": 10000
     },
     "inputWidgets": {},
     "nuid": "7425f3b7-abe6-4172-98fb-9bd2222a18ac",
     "showTitle": false,
     "title": ""
    }
   },
   "outputs": [],
   "source": [
    "# Add a column with a count of occurrences of each group\n",
    "df_with_duplicates = df.withColumn(\"duplicate_count\", count(\"vin\").over(window_spec))\n"
   ]
  },
  {
   "cell_type": "code",
   "execution_count": null,
   "metadata": {
    "application/vnd.databricks.v1+cell": {
     "cellMetadata": {
      "byteLimit": 2048000,
      "rowLimit": 10000
     },
     "inputWidgets": {},
     "nuid": "617f72ad-971f-4ecc-af9e-b6d08e7a0053",
     "showTitle": false,
     "title": ""
    }
   },
   "outputs": [],
   "source": [
    "# Select rows with duplicate indexes and sort by index\n",
    "duplicate_rows = df_with_duplicates.filter(col(\"duplicate_count\") > 1).orderBy(col(\"vin\"))\n"
   ]
  },
  {
   "cell_type": "code",
   "execution_count": null,
   "metadata": {
    "application/vnd.databricks.v1+cell": {
     "cellMetadata": {
      "byteLimit": 2048000,
      "rowLimit": 10000
     },
     "inputWidgets": {},
     "nuid": "0357af29-1e9b-496a-bddf-9f26ecae749a",
     "showTitle": false,
     "title": ""
    }
   },
   "outputs": [
    {
     "name": "stdout",
     "output_type": "stream",
     "text": [
      "+-----------------+------------+----+----------+----------+---------------+-----+-------------+-----------------+--------------------+------------+----------+--------------------+-------------------+--------------------+--------------------+-----+-------------+----------------+--------------+-------------+----------------+-----------------+-------------+-------+--------------------+----------+--------------------+-----+------------+------+------+---------+--------+--------+-----------+-------------+----------+---------+--------------------+--------------------+---------+---------------+--------+----------------+-----------+------------------+-------+-------+--------------+-----------------+--------+--------------------+-----------+--------------------+------------+--------------------+------+--------------------+-----------------------+------------+--------------------+---------+-------+----+---------------+\n",
      "|              vin|back_legroom| bed|bed_height|bed_length|      body_type|cabin|         city|city_fuel_economy|combine_fuel_economy|daysonmarket|dealer_zip|    engine_cylinders|engine_displacement|         engine_type|      exterior_color|fleet|frame_damaged|franchise_dealer|franchise_make|front_legroom|fuel_tank_volume|        fuel_type|has_accidents| height|highway_fuel_economy|horsepower|      interior_color|isCab|is_certified|is_cpo|is_new|is_oemcpo|latitude|  length|listed_date|listing_color|listing_id|longitude|    main_picture_url|       major_options|make_name|maximum_seating| mileage|      model_name|owner_count|             power|  price|salvage|savings_amount|    seller_rating|   sp_id|             sp_name|theft_title|              torque|transmission|transmission_display|trimId|           trim_name|vehicle_damage_category|wheel_system|wheel_system_display|wheelbase|  width|year|duplicate_count|\n",
      "+-----------------+------------+----+----------+----------+---------------+-----+-------------+-----------------+--------------------+------------+----------+--------------------+-------------------+--------------------+--------------------+-----+-------------+----------------+--------------+-------------+----------------+-----------------+-------------+-------+--------------------+----------+--------------------+-----+------------+------+------+---------+--------+--------+-----------+-------------+----------+---------+--------------------+--------------------+---------+---------------+--------+----------------+-----------+------------------+-------+-------+--------------+-----------------+--------+--------------------+-----------+--------------------+------------+--------------------+------+--------------------+-----------------------+------------+--------------------+---------+-------+----+---------------+\n",
      "|1C3CCCBG4FN686074|     37.6 in|null|      null|      null|          Sedan| null|    Deer Park|             19.0|                null|         530|     99006|                  V6|             3600.0|                  V6|                Blue|false|        false|           false|          null|      42.2 in|        15.8 gal|         Gasoline|        false|54.9 in|                32.0|     295.0|               Black|false|        null|  null| false|     null| 47.9408|192.3 in| 2019-03-31|         BLUE| 236441395| -117.473|https://static.ca...|['Leather Seats',...| Chrysler|        5 seats| 77705.0|             200|        1.0|295 hp @ 6,350 RPM|13488.0|  false|           428|         4.453125|305398.0|        Parkway Auto|      false|262 lb-ft @ 4,250...|           A|           Automatic|t53887|         S Sedan FWD|                   null|         FWD|   Front-Wheel Drive| 108.9 in|73.6 in|2015|              2|\n",
      "|1C3CCCBG4FN686074|     37.6 in|null|      null|      null|          Sedan| null|    Deer Park|             19.0|                null|         530|     99006|                  V6|             3600.0|                  V6|                Blue|false|        false|           false|          null|      42.2 in|        15.8 gal|         Gasoline|        false|54.9 in|                32.0|     295.0|               Black|false|        null|  null| false|     null| 47.9408|192.3 in| 2019-03-31|         BLUE| 236441395| -117.473|https://static.ca...|['Leather Seats',...| Chrysler|        5 seats| 77705.0|             200|        1.0|295 hp @ 6,350 RPM|13488.0|  false|           428|         4.453125|305398.0|        Parkway Auto|      false|262 lb-ft @ 4,250...|           A|           Automatic|t53887|         S Sedan FWD|                   null|         FWD|   Front-Wheel Drive| 108.9 in|73.6 in|2015|              2|\n",
      "|1C6RR7FT5ES405345|     34.7 in|null|        --|   76.3 in|   Pickup Truck| null|Bonners Ferry|             null|                null|          49|     83805|                  V8|             5700.0|                  V8|                GRAY|false|        false|           false|          null|        41 in|          26 gal|         Gasoline|        false|77.7 in|                null|     395.0|                None|false|        null|  null| false|     null| 48.6971|  229 in| 2020-07-24|         GRAY| 277372981| -116.313|https://static.ca...|['Steel Wheels', ...|      RAM|        6 seats| 57451.0|            1500|        1.0|395 hp @ 5,600 RPM|20480.0|  false|          1583|             4.75|302926.0|Riverside Auto Ce...|      false|407 lb-ft @ 3,950...|        null|                null|t52613|Tradesman Quad Ca...|                   null|         4WD|    Four-Wheel Drive| 140.5 in|79.4 in|2014|              2|\n",
      "|1C6RR7FT5ES405345|     34.7 in|null|        --|   76.3 in|   Pickup Truck| null|Bonners Ferry|             null|                null|          49|     83805|                  V8|             5700.0|                  V8|                GRAY|false|        false|           false|          null|        41 in|          26 gal|         Gasoline|        false|77.7 in|                null|     395.0|                None|false|        null|  null| false|     null| 48.6971|  229 in| 2020-07-24|         GRAY| 277372981| -116.313|https://static.ca...|['Steel Wheels', ...|      RAM|        6 seats| 57451.0|            1500|        1.0|395 hp @ 5,600 RPM|20480.0|  false|          1583|             4.75|302926.0|Riverside Auto Ce...|      false|407 lb-ft @ 3,950...|        null|                null|t52613|Tradesman Quad Ca...|                   null|         4WD|    Four-Wheel Drive| 140.5 in|79.4 in|2014|              2|\n",
      "|1FA6P8TH0J5179933|       29 in|null|      null|      null|          Coupe| null|    Groveport|             21.0|                null|           7|     43125|                  I4|             2300.0|                  I4|Lightning Blue Me...|false|        false|           false|          null|      45.1 in|        15.5 gal|         Gasoline|        false|54.3 in|                32.0|     310.0|        Dark Ceramic|false|        null|  null| false|     null| 39.8881|188.5 in| 2020-09-03|         BLUE| 281158317| -82.8833|https://static.ca...|   ['Backup Camera']|     Ford|        4 seats| 22738.0|         Mustang|        1.0|310 hp @ 5,500 RPM|24000.0|  false|            16|4.211764705882353|345903.0|Ricart Used Car F...|      false|350 lb-ft @ 3,000...|           A|           Automatic|t73250|  EcoBoost Coupe RWD|                   null|         RWD|    Rear-Wheel Drive| 107.1 in|81.9 in|2018|              2|\n",
      "|1FA6P8TH0J5179933|       29 in|null|      null|      null|          Coupe| null|    Groveport|             21.0|                null|           7|     43125|                  I4|             2300.0|                  I4|Lightning Blue Me...|false|        false|           false|          null|      45.1 in|        15.5 gal|         Gasoline|        false|54.3 in|                32.0|     310.0|        Dark Ceramic|false|        null|  null| false|     null| 39.8881|188.5 in| 2020-09-03|         BLUE| 281158317| -82.8833|https://static.ca...|   ['Backup Camera']|     Ford|        4 seats| 22738.0|         Mustang|        1.0|310 hp @ 5,500 RPM|24000.0|  false|            16|4.211764705882353|345903.0|Ricart Used Car F...|      false|350 lb-ft @ 3,000...|           A|           Automatic|t73250|  EcoBoost Coupe RWD|                   null|         RWD|    Rear-Wheel Drive| 107.1 in|81.9 in|2018|              2|\n",
      "|1FADP3F29FL349680|     33.2 in|null|      null|      null|          Sedan| null|    Deer Park|             27.0|                null|         118|     99006|I4 Flex Fuel Vehicle|             2000.0|I4 Flex Fuel Vehicle|               Black|false|        false|           false|          null|      43.7 in|        12.4 gal|Flex Fuel Vehicle|         true|57.7 in|                40.0|     160.0|                Gray|false|        null|  null| false|     null| 47.9408|178.5 in| 2020-05-16|        BLACK| 272054180| -117.473|https://static.ca...|   ['Backup Camera']|     Ford|        5 seats|135668.0|           Focus|        2.0|123 hp @ 6,350 RPM| 7495.0|  false|           593|         4.453125|305398.0|        Parkway Auto|      false|148 lb-ft @ 5,000...|           A|           Automatic|t56905|                  SE|                   null|         FWD|   Front-Wheel Drive| 104.3 in|71.8 in|2015|              2|\n",
      "|1FADP3F29FL349680|     33.2 in|null|      null|      null|          Sedan| null|    Deer Park|             27.0|                null|         118|     99006|I4 Flex Fuel Vehicle|             2000.0|I4 Flex Fuel Vehicle|               Black|false|        false|           false|          null|      43.7 in|        12.4 gal|Flex Fuel Vehicle|         true|57.7 in|                40.0|     160.0|                Gray|false|        null|  null| false|     null| 47.9408|178.5 in| 2020-05-16|        BLACK| 272054180| -117.473|https://static.ca...|   ['Backup Camera']|     Ford|        5 seats|135668.0|           Focus|        2.0|123 hp @ 6,350 RPM| 7495.0|  false|           593|         4.453125|305398.0|        Parkway Auto|      false|148 lb-ft @ 5,000...|           A|           Automatic|t56905|                  SE|                   null|         FWD|   Front-Wheel Drive| 104.3 in|71.8 in|2015|              2|\n",
      "|1FMSK8DH8LGC57819|       39 in|null|      null|      null|SUV / Crossover| null|     Columbus|             20.0|                null|          71|     43229|                  I4|             2300.0|                  I4|Agate Black Metallic| null|         null|            true|          Ford|        43 in|        19.2 gal|         Gasoline|         null|69.9 in|                27.0|     300.0|Black (Ebony With...| null|        null|  null|  true|     null| 40.0603|198.8 in| 2020-07-01|        BLACK| 275453501| -82.9699|https://static.ca...|['Alloy Wheels', ...|     Ford|        7 seats|     6.0|        Explorer|       null|              null|38590.0|   null|             0|4.578947368421052| 57271.0|   Krieger Ford Inc.|       null|                null|           A|           Automatic|t84879|             XLT AWD|                   null|         AWD|     All-Wheel Drive| 119.1 in|89.3 in|2020|              2|\n",
      "|1FMSK8DH8LGC57819|       39 in|null|      null|      null|SUV / Crossover| null|     Columbus|             20.0|                null|          71|     43229|                  I4|             2300.0|                  I4|Agate Black Metallic| null|         null|            true|          Ford|        43 in|        19.2 gal|         Gasoline|         null|69.9 in|                27.0|     300.0|Black (Ebony With...| null|        null|  null|  true|     null| 40.0603|198.8 in| 2020-07-01|        BLACK| 275453501| -82.9699|https://static.ca...|['Alloy Wheels', ...|     Ford|        7 seats|     6.0|        Explorer|       null|              null|38590.0|   null|             0|4.578947368421052| 57271.0|   Krieger Ford Inc.|       null|                null|           A|           Automatic|t84879|             XLT AWD|                   null|         AWD|     All-Wheel Drive| 119.1 in|89.3 in|2020|              2|\n",
      "|1FT7W2BT8GEC69991|        null|null|      null|      null|   Pickup Truck| null|     Colville|             null|                null|          13|     99114|        V8 Biodiesel|               null|        V8 Biodiesel|              MAROON|false|        false|            true|     Chevrolet|         null|            null|        Biodiesel|         true|   null|                null|      null|               PECAN|false|        null|  null| false|     null| 48.5365|    null| 2020-08-29|          RED| 280743273| -117.906|                null|                null|     Ford|           null| 82670.0|F-250 Super Duty|        1.0|              null|47000.0|  false|          6526|4.583333333333333| 53124.0|   Country Chevrolet|      false|                null|           A|   6-Speed Automatic|  null|                null|                   null|        null|                null|     null|   null|2016|              2|\n",
      "|1FT7W2BT8GEC69991|        null|null|      null|      null|   Pickup Truck| null|     Colville|             null|                null|          13|     99114|        V8 Biodiesel|               null|        V8 Biodiesel|              MAROON|false|        false|            true|     Chevrolet|         null|            null|        Biodiesel|         true|   null|                null|      null|               PECAN|false|        null|  null| false|     null| 48.5365|    null| 2020-08-29|          RED| 280743273| -117.906|                null|                null|     Ford|           null| 82670.0|F-250 Super Duty|        1.0|              null|47000.0|  false|          6526|4.583333333333333| 53124.0|   Country Chevrolet|      false|                null|           A|   6-Speed Automatic|  null|                null|                   null|        null|                null|     null|   null|2016|              2|\n",
      "|1FTEW1EP0HKC03244|     43.6 in|null|        --|   67.1 in|   Pickup Truck| null|    Groveport|             18.0|                null|          65|     43125|                  V6|             3500.0|                  V6|            Race Red|false|        false|           false|          null|      43.9 in|          23 gal|         Gasoline|         true|76.9 in|                23.0|     375.0|               Black|false|        null|  null| false|     null| 39.8881|231.9 in| 2020-07-07|          RED| 275959609| -82.8833|https://static.ca...|['Navigation Syst...|     Ford|        6 seats| 29917.0|           F-150|        1.0|375 hp @ 5,000 RPM|35890.0|  false|            97|4.211764705882353|345903.0|Ricart Used Car F...|      false|470 lb-ft @ 2,500...|           A|   6-Speed Automatic|t69641|   XLT SuperCrew 4WD|                   null|         4WD|    Four-Wheel Drive|   145 in|96.8 in|2017|              2|\n",
      "|1FTEW1EP0HKC03244|     43.6 in|null|        --|   67.1 in|   Pickup Truck| null|    Groveport|             18.0|                null|          65|     43125|                  V6|             3500.0|                  V6|            Race Red|false|        false|           false|          null|      43.9 in|          23 gal|         Gasoline|         true|76.9 in|                23.0|     375.0|               Black|false|        null|  null| false|     null| 39.8881|231.9 in| 2020-07-07|          RED| 275959609| -82.8833|https://static.ca...|['Navigation Syst...|     Ford|        6 seats| 29917.0|           F-150|        1.0|375 hp @ 5,000 RPM|35890.0|  false|            97|4.211764705882353|345903.0|Ricart Used Car F...|      false|470 lb-ft @ 2,500...|           A|   6-Speed Automatic|t69641|   XLT SuperCrew 4WD|                   null|         4WD|    Four-Wheel Drive|   145 in|96.8 in|2017|              2|\n",
      "|1FTFW1E43LKE95510|     43.6 in|null|        --|   78.9 in|   Pickup Truck| null|    Tremonton|             16.0|                null|          34|     84337|                  V6|             3500.0|                  V6|            MAGNETIC| null|         null|            true|          Ford|      43.9 in|          26 gal|         Gasoline|         null|77.3 in|                22.0|     375.0|                None| null|        null|  null|  true|     null| 41.7134|243.7 in| 2020-08-08|      UNKNOWN| 278706876| -112.162|https://static.ca...|['Navigation Syst...|     Ford|        6 seats|    14.0|           F-150|       null|375 hp @ 5,000 RPM|50854.0|   null|             0|              5.0|310293.0|Heritage Motor Co...|       null|470 lb-ft @ 3,500...|           A|           Automatic|t87722|Lariat SuperCrew ...|                   null|         4WD|    Four-Wheel Drive| 156.8 in|96.8 in|2020|              2|\n",
      "|1FTFW1E43LKE95510|     43.6 in|null|        --|   78.9 in|   Pickup Truck| null|    Tremonton|             16.0|                null|          34|     84337|                  V6|             3500.0|                  V6|            MAGNETIC| null|         null|            true|          Ford|      43.9 in|          26 gal|         Gasoline|         null|77.3 in|                22.0|     375.0|                None| null|        null|  null|  true|     null| 41.7134|243.7 in| 2020-08-08|      UNKNOWN| 278706876| -112.162|https://static.ca...|['Navigation Syst...|     Ford|        6 seats|    14.0|           F-150|       null|375 hp @ 5,000 RPM|50854.0|   null|             0|              5.0|310293.0|Heritage Motor Co...|       null|470 lb-ft @ 3,500...|           A|           Automatic|t87722|Lariat SuperCrew ...|                   null|         4WD|    Four-Wheel Drive| 156.8 in|96.8 in|2020|              2|\n",
      "|1G1FZ6S07L4132159|        null|null|      null|      null|          Wagon| null|       Burien|            127.0|                null|          37|     98168|                null|               null|                null|Nightfall Gray Me...| null|         null|            true|     Chevrolet|         null|            null|         Electric|         null|   null|               108.0|      null|Dark Galvanized Gray| null|        null|  null|  true|     null| 47.4745|    null| 2020-08-05|         GRAY| 278406530| -122.334|https://static.ca...|['Alloy Wheels', ...|Chevrolet|           null|    10.0|         Bolt EV|       null|              null|29243.0|   null|             0|              4.5| 53804.0|    Burien Chevrolet|       null|                null|           A|           Automatic|t88269|         Premier FWD|                   null|         FWD|   Front-Wheel Drive|     null|   null|2020|              2|\n",
      "|1G1FZ6S07L4132159|        null|null|      null|      null|          Wagon| null|       Burien|            127.0|                null|          37|     98168|                null|               null|                null|Nightfall Gray Me...| null|         null|            true|     Chevrolet|         null|            null|         Electric|         null|   null|               108.0|      null|Dark Galvanized Gray| null|        null|  null|  true|     null| 47.4745|    null| 2020-08-05|         GRAY| 278406530| -122.334|https://static.ca...|['Alloy Wheels', ...|Chevrolet|           null|    10.0|         Bolt EV|       null|              null|29243.0|   null|             0|              4.5| 53804.0|    Burien Chevrolet|       null|                null|           A|           Automatic|t88269|         Premier FWD|                   null|         FWD|   Front-Wheel Drive|     null|   null|2020|              2|\n",
      "|1G1ZE5E1XBF285533|     37.6 in|null|      null|      null|          Sedan| null|    Deer Park|             22.0|                null|          48|     99006|                  I4|             2400.0|                  I4|               Black|false|        false|           false|          null|      42.2 in|          16 gal|         Gasoline|         true|57.1 in|                33.0|     169.0|               Black|false|        null|  null| false|     null| 47.9408|191.8 in| 2020-07-25|        BLACK| 277489886| -117.473|https://static.ca...|['Leather Seats',...|Chevrolet|        5 seats|143397.0|          Malibu|        2.0|252 hp @ 6,300 RPM| 6995.0|  false|           585|         4.453125|305398.0|        Parkway Auto|      false|251 lb-ft @ 3,200...|           A|           Automatic|t37841|             LTZ FWD|                   null|         FWD|   Front-Wheel Drive| 112.3 in|70.3 in|2011|              2|\n",
      "|1G1ZE5E1XBF285533|     37.6 in|null|      null|      null|          Sedan| null|    Deer Park|             22.0|                null|          48|     99006|                  I4|             2400.0|                  I4|               Black|false|        false|           false|          null|      42.2 in|          16 gal|         Gasoline|         true|57.1 in|                33.0|     169.0|               Black|false|        null|  null| false|     null| 47.9408|191.8 in| 2020-07-25|        BLACK| 277489886| -117.473|https://static.ca...|['Leather Seats',...|Chevrolet|        5 seats|143397.0|          Malibu|        2.0|252 hp @ 6,300 RPM| 6995.0|  false|           585|         4.453125|305398.0|        Parkway Auto|      false|251 lb-ft @ 3,200...|           A|           Automatic|t37841|             LTZ FWD|                   null|         FWD|   Front-Wheel Drive| 112.3 in|70.3 in|2011|              2|\n",
      "+-----------------+------------+----+----------+----------+---------------+-----+-------------+-----------------+--------------------+------------+----------+--------------------+-------------------+--------------------+--------------------+-----+-------------+----------------+--------------+-------------+----------------+-----------------+-------------+-------+--------------------+----------+--------------------+-----+------------+------+------+---------+--------+--------+-----------+-------------+----------+---------+--------------------+--------------------+---------+---------------+--------+----------------+-----------+------------------+-------+-------+--------------+-----------------+--------+--------------------+-----------+--------------------+------------+--------------------+------+--------------------+-----------------------+------------+--------------------+---------+-------+----+---------------+\n",
      "only showing top 20 rows\n",
      "\n"
     ]
    }
   ],
   "source": [
    "# Show the selected rows\n",
    "duplicate_rows.show()\n"
   ]
  },
  {
   "cell_type": "markdown",
   "metadata": {
    "application/vnd.databricks.v1+cell": {
     "cellMetadata": {},
     "inputWidgets": {},
     "nuid": "fb6bd73f-314b-4ec2-a4c1-74e17495a9e9",
     "showTitle": false,
     "title": ""
    }
   },
   "source": [
    "The results show that there are no differences between the duplicate rows. This means that we can safely drop these rows."
   ]
  },
  {
   "cell_type": "code",
   "execution_count": null,
   "metadata": {
    "application/vnd.databricks.v1+cell": {
     "cellMetadata": {
      "byteLimit": 2048000,
      "rowLimit": 10000
     },
     "inputWidgets": {},
     "nuid": "6e2cf788-b7d4-41fb-b74f-727953871af0",
     "showTitle": false,
     "title": ""
    }
   },
   "outputs": [],
   "source": [
    "# Create a new DataFrame with duplicate rows dropped\n",
    "df2 = df.dropDuplicates()\n"
   ]
  },
  {
   "cell_type": "code",
   "execution_count": null,
   "metadata": {
    "application/vnd.databricks.v1+cell": {
     "cellMetadata": {
      "byteLimit": 2048000,
      "rowLimit": 10000
     },
     "inputWidgets": {},
     "nuid": "b08f827b-8bf2-4536-b44c-92669bb9f6b1",
     "showTitle": false,
     "title": ""
    }
   },
   "outputs": [
    {
     "name": "stdout",
     "output_type": "stream",
     "text": [
      "The number of duplicate rows are 0.\n"
     ]
    }
   ],
   "source": [
    "# Count the number of duplicate rows in the new DataFrame\n",
    "dup = df2.groupBy(df2.columns).count().filter(col('count') > 1).count()\n",
    "print(f\"The number of duplicate rows are {dup}.\")"
   ]
  },
  {
   "cell_type": "markdown",
   "metadata": {
    "application/vnd.databricks.v1+cell": {
     "cellMetadata": {},
     "inputWidgets": {},
     "nuid": "df04c806-9df0-4261-9179-8f664895011a",
     "showTitle": false,
     "title": ""
    }
   },
   "source": [
    "We've successfully removed all duplicate records, Now let's take a look at missing values."
   ]
  },
  {
   "cell_type": "markdown",
   "metadata": {
    "application/vnd.databricks.v1+cell": {
     "cellMetadata": {},
     "inputWidgets": {},
     "nuid": "e0636e98-cd93-4ef9-9a0c-acde4b15c6a1",
     "showTitle": false,
     "title": ""
    }
   },
   "source": [
    "# Null Values"
   ]
  },
  {
   "cell_type": "code",
   "execution_count": null,
   "metadata": {
    "application/vnd.databricks.v1+cell": {
     "cellMetadata": {
      "byteLimit": 2048000,
      "rowLimit": 10000
     },
     "inputWidgets": {},
     "nuid": "a3b1f5ce-e60c-48e5-94cd-77f11e35ba55",
     "showTitle": false,
     "title": ""
    }
   },
   "outputs": [],
   "source": [
    "# Calculate the total number of null values in each column\n",
    "null_counts = df2.select([spark_sum(col(c).isNull().cast(\"int\")).alias(c) for c in df2.columns])"
   ]
  },
  {
   "cell_type": "code",
   "execution_count": null,
   "metadata": {
    "application/vnd.databricks.v1+cell": {
     "cellMetadata": {
      "byteLimit": 2048000,
      "rowLimit": 10000
     },
     "inputWidgets": {},
     "nuid": "d5fe311a-f60a-4100-8caa-7253ee1bc828",
     "showTitle": false,
     "title": ""
    }
   },
   "outputs": [
    {
     "name": "stdout",
     "output_type": "stream",
     "text": [
      "+---+------------+-------+----------+----------+---------+-------+----+-----------------+--------------------+------------+----------+----------------+-------------------+-----------+--------------+-------+-------------+----------------+--------------+-------------+----------------+---------+-------------+------+--------------------+----------+--------------+-------+------------+-------+------+---------+--------+------+-----------+-------------+----------+---------+----------------+-------------+---------+---------------+-------+----------+-----------+------+-----+-------+--------------+-------------+-----+-------+-----------+------+------------+--------------------+------+---------+-----------------------+------------+--------------------+---------+------+----+\n",
      "|vin|back_legroom|    bed|bed_height|bed_length|body_type|  cabin|city|city_fuel_economy|combine_fuel_economy|daysonmarket|dealer_zip|engine_cylinders|engine_displacement|engine_type|exterior_color|  fleet|frame_damaged|franchise_dealer|franchise_make|front_legroom|fuel_tank_volume|fuel_type|has_accidents|height|highway_fuel_economy|horsepower|interior_color|  isCab|is_certified| is_cpo|is_new|is_oemcpo|latitude|length|listed_date|listing_color|listing_id|longitude|main_picture_url|major_options|make_name|maximum_seating|mileage|model_name|owner_count| power|price|salvage|savings_amount|seller_rating|sp_id|sp_name|theft_title|torque|transmission|transmission_display|trimId|trim_name|vehicle_damage_category|wheel_system|wheel_system_display|wheelbase| width|year|\n",
      "+---+------------+-------+----------+----------+---------+-------+----+-----------------+--------------------+------------+----------+----------------+-------------------+-----------+--------------+-------+-------------+----------------+--------------+-------------+----------------+---------+-------------+------+--------------------+----------+--------------+-------+------------+-------+------+---------+--------+------+-----------+-------------+----------+---------+----------------+-------------+---------+---------------+-------+----------+-----------+------+-----+-------+--------------+-------------+-----+-------+-----------+------+------------+--------------------+------+---------+-----------------------+------------+--------------------+---------+------+----+\n",
      "|  0|      159266|2980432|   2570909|   2570909|    13542|2936468|   0|           491278|             3000000|           0|         0|          100580|             172383|     100580|            26|1426579|      1426579|               0|        572617|       159266|          159266|    82724|      1426579|159266|              491278|    172383|           165|1426579|     3000000|2817104|     0|  2864640|       0|159266|          0|            0|         0|        0|          369086|       200046|        0|         159266| 144387|         0|    1516996|481422|    0|1426579|             0|        40872|   96|      0|    1426579|517788|       64184|               64184|115825|   116292|                3000000|      146730|              146730|   159266|159266|   0|\n",
      "+---+------------+-------+----------+----------+---------+-------+----+-----------------+--------------------+------------+----------+----------------+-------------------+-----------+--------------+-------+-------------+----------------+--------------+-------------+----------------+---------+-------------+------+--------------------+----------+--------------+-------+------------+-------+------+---------+--------+------+-----------+-------------+----------+---------+----------------+-------------+---------+---------------+-------+----------+-----------+------+-----+-------+--------------+-------------+-----+-------+-----------+------+------------+--------------------+------+---------+-----------------------+------------+--------------------+---------+------+----+\n",
      "\n"
     ]
    }
   ],
   "source": [
    "# Show the total number of null values in each column\n",
    "null_counts.show()"
   ]
  },
  {
   "cell_type": "markdown",
   "metadata": {
    "application/vnd.databricks.v1+cell": {
     "cellMetadata": {},
     "inputWidgets": {},
     "nuid": "0653850a-23d9-478b-b202-b9eafeedbf67",
     "showTitle": false,
     "title": ""
    }
   },
   "source": [
    "It seems that we have a large amount of missing values in our dataset, Let's check the percentage of missing values so that we get a more clear picture of what we are dealing with."
   ]
  },
  {
   "cell_type": "code",
   "execution_count": null,
   "metadata": {
    "application/vnd.databricks.v1+cell": {
     "cellMetadata": {
      "byteLimit": 2048000,
      "rowLimit": 10000
     },
     "inputWidgets": {},
     "nuid": "b02b2db6-a15c-4d27-b54d-cb143364c4c4",
     "showTitle": false,
     "title": ""
    }
   },
   "outputs": [],
   "source": [
    "# Calculate the percentage of null values in each column\n",
    "null_percentage = df2.select([(spark_sum(col(c).isNull().cast(\"int\")) / df2.count()) * 100 for c in df.columns])\n",
    "\n",
    "# Show the percentage of null values in each column\n",
    "null_percentage.show()"
   ]
  },
  {
   "cell_type": "markdown",
   "metadata": {
    "application/vnd.databricks.v1+cell": {
     "cellMetadata": {},
     "inputWidgets": {},
     "nuid": "70bdb631-4a81-4739-9750-a905cfca02cb",
     "showTitle": false,
     "title": ""
    }
   },
   "source": [
    "As we can see there are a lot of columns which have null values and filling null values in all of them is not feasible so we need to drop some of the columns which have large number of null values"
   ]
  },
  {
   "cell_type": "markdown",
   "metadata": {
    "application/vnd.databricks.v1+cell": {
     "cellMetadata": {},
     "inputWidgets": {},
     "nuid": "d8a2ad71-d3ec-47ac-acc7-2bd5e45dbf98",
     "showTitle": false,
     "title": ""
    }
   },
   "source": [
    "We set the threshold of 50% to drop any columns above that threshold."
   ]
  },
  {
   "cell_type": "code",
   "execution_count": null,
   "metadata": {
    "application/vnd.databricks.v1+cell": {
     "cellMetadata": {
      "byteLimit": 2048000,
      "rowLimit": 10000
     },
     "inputWidgets": {},
     "nuid": "ddd8b71a-9d22-47e2-8d03-841c40a35335",
     "showTitle": false,
     "title": ""
    }
   },
   "outputs": [],
   "source": [
    "# Calculate the threshold count for dropping columns\n",
    "percentage = 50\n",
    "min_count = int(((100 - percentage) / 100) * df2.count()) + 1"
   ]
  },
  {
   "cell_type": "code",
   "execution_count": null,
   "metadata": {
    "application/vnd.databricks.v1+cell": {
     "cellMetadata": {
      "byteLimit": 2048000,
      "rowLimit": 10000
     },
     "inputWidgets": {},
     "nuid": "ae6f9751-94b5-4630-a244-05faa4f4000e",
     "showTitle": false,
     "title": ""
    }
   },
   "outputs": [],
   "source": [
    "# Create a list of columns to drop\n",
    "columns_to_drop = [col_name for col_name in df2.columns if df2.select(col(col_name).isNull().cast(IntegerType())).groupBy().sum().collect()[0][0] >= min_count]"
   ]
  },
  {
   "cell_type": "code",
   "execution_count": null,
   "metadata": {
    "application/vnd.databricks.v1+cell": {
     "cellMetadata": {
      "byteLimit": 2048000,
      "rowLimit": 10000
     },
     "inputWidgets": {},
     "nuid": "5611c928-65c5-434b-a77f-6c5a4422f438",
     "showTitle": false,
     "title": ""
    }
   },
   "outputs": [],
   "source": [
    "columns_to_drop = ['bed', 'bed_height', 'bed_length', 'cabin', 'combine_fuel_economy', 'is_certified', 'is_cpo', 'is_oemcpo', 'owner_count', 'vehicle_damage_category']"
   ]
  },
  {
   "cell_type": "code",
   "execution_count": null,
   "metadata": {
    "application/vnd.databricks.v1+cell": {
     "cellMetadata": {
      "byteLimit": 2048000,
      "rowLimit": 10000
     },
     "inputWidgets": {},
     "nuid": "c4e75905-62f9-4fa2-8cb6-a00ef4fe71ab",
     "showTitle": false,
     "title": ""
    }
   },
   "outputs": [],
   "source": [
    "# Drop columns with more than 50% null values\n",
    "cars_df = df2.drop(*columns_to_drop)"
   ]
  },
  {
   "cell_type": "code",
   "execution_count": null,
   "metadata": {
    "application/vnd.databricks.v1+cell": {
     "cellMetadata": {},
     "inputWidgets": {},
     "nuid": "6c23aa21-7451-4930-a9fa-e5857ba9c7f9",
     "showTitle": false,
     "title": ""
    }
   },
   "outputs": [],
   "source": [
    "# Print information about removed columns\n",
    "print(f\"The columns with {percentage}% or more null values are: {columns_to_drop}\")"
   ]
  },
  {
   "cell_type": "markdown",
   "metadata": {
    "application/vnd.databricks.v1+cell": {
     "cellMetadata": {},
     "inputWidgets": {},
     "nuid": "93b182bb-4c55-4a7d-88ed-6765af8ca8b8",
     "showTitle": false,
     "title": ""
    }
   },
   "source": [
    "The results show that the following columns have been dropped:\n",
    "* bed\n",
    "* bed_height\n",
    "* bed_length\n",
    "* cabin\n",
    "* combine_fuel_economy\n",
    "* is_certified\n",
    "* is_cpo\n",
    "* is_oemcpo\n",
    "* owner_count\n",
    "* vehicle_damage_category"
   ]
  },
  {
   "cell_type": "code",
   "execution_count": null,
   "metadata": {
    "application/vnd.databricks.v1+cell": {
     "cellMetadata": {
      "byteLimit": 2048000,
      "rowLimit": 10000
     },
     "inputWidgets": {},
     "nuid": "e01bfe7a-1a9e-4fce-8453-0641f17e3515",
     "showTitle": false,
     "title": ""
    }
   },
   "outputs": [
    {
     "name": "stdout",
     "output_type": "stream",
     "text": [
      "The new shape of the DataFrame is 3000000 rows and 55 columns.\n"
     ]
    }
   ],
   "source": [
    "print(f\"The new shape of the DataFrame is {cars_df.count()} rows and {len(cars_df.columns)} columns.\")"
   ]
  },
  {
   "cell_type": "code",
   "execution_count": null,
   "metadata": {
    "application/vnd.databricks.v1+cell": {
     "cellMetadata": {
      "byteLimit": 2048000,
      "rowLimit": 10000
     },
     "inputWidgets": {},
     "nuid": "c00f5b10-4744-4a93-8729-b437498f52d4",
     "showTitle": false,
     "title": ""
    }
   },
   "outputs": [
    {
     "name": "stdout",
     "output_type": "stream",
     "text": [
      "                                                    Percentage of Null Values\n",
      "((sum(CAST((back_legroom IS NULL) AS INT)) / 30...                   5.308867\n",
      "((sum(CAST((bed IS NULL) AS INT)) / 3000000) * ...                  99.347733\n",
      "((sum(CAST((bed_height IS NULL) AS INT)) / 3000...                  85.696967\n",
      "((sum(CAST((bed_length IS NULL) AS INT)) / 3000...                  85.696967\n",
      "((sum(CAST((body_type IS NULL) AS INT)) / 30000...                   0.451400\n",
      "((sum(CAST((cabin IS NULL) AS INT)) / 3000000) ...                  97.882267\n",
      "((sum(CAST((city_fuel_economy IS NULL) AS INT))...                  16.375933\n",
      "((sum(CAST((combine_fuel_economy IS NULL) AS IN...                 100.000000\n",
      "((sum(CAST((engine_cylinders IS NULL) AS INT)) ...                   3.352667\n",
      "((sum(CAST((engine_displacement IS NULL) AS INT...                   5.746100\n",
      "((sum(CAST((engine_type IS NULL) AS INT)) / 300...                   3.352667\n",
      "((sum(CAST((exterior_color IS NULL) AS INT)) / ...                   0.000867\n",
      "((sum(CAST((fleet IS NULL) AS INT)) / 3000000) ...                  47.552633\n",
      "((sum(CAST((frame_damaged IS NULL) AS INT)) / 3...                  47.552633\n",
      "((sum(CAST((franchise_make IS NULL) AS INT)) / ...                  19.087233\n",
      "((sum(CAST((front_legroom IS NULL) AS INT)) / 3...                   5.308867\n",
      "((sum(CAST((fuel_tank_volume IS NULL) AS INT)) ...                   5.308867\n",
      "((sum(CAST((fuel_type IS NULL) AS INT)) / 30000...                   2.757467\n",
      "((sum(CAST((has_accidents IS NULL) AS INT)) / 3...                  47.552633\n",
      "((sum(CAST((height IS NULL) AS INT)) / 3000000)...                   5.308867\n",
      "((sum(CAST((highway_fuel_economy IS NULL) AS IN...                  16.375933\n",
      "((sum(CAST((horsepower IS NULL) AS INT)) / 3000...                   5.746100\n",
      "((sum(CAST((interior_color IS NULL) AS INT)) / ...                   0.005500\n",
      "((sum(CAST((isCab IS NULL) AS INT)) / 3000000) ...                  47.552633\n",
      "((sum(CAST((is_certified IS NULL) AS INT)) / 30...                 100.000000\n",
      "((sum(CAST((is_cpo IS NULL) AS INT)) / 3000000)...                  93.903467\n",
      "((sum(CAST((is_oemcpo IS NULL) AS INT)) / 30000...                  95.488000\n",
      "((sum(CAST((length IS NULL) AS INT)) / 3000000)...                   5.308867\n",
      "((sum(CAST((main_picture_url IS NULL) AS INT)) ...                  12.302867\n",
      "((sum(CAST((major_options IS NULL) AS INT)) / 3...                   6.668200\n",
      "((sum(CAST((maximum_seating IS NULL) AS INT)) /...                   5.308867\n",
      "((sum(CAST((mileage IS NULL) AS INT)) / 3000000...                   4.812900\n",
      "((sum(CAST((owner_count IS NULL) AS INT)) / 300...                  50.566533\n",
      "((sum(CAST((power IS NULL) AS INT)) / 3000000) ...                  16.047400\n",
      "((sum(CAST((salvage IS NULL) AS INT)) / 3000000...                  47.552633\n",
      "((sum(CAST((seller_rating IS NULL) AS INT)) / 3...                   1.362400\n",
      "((sum(CAST((sp_id IS NULL) AS INT)) / 3000000) ...                   0.003200\n",
      "((sum(CAST((theft_title IS NULL) AS INT)) / 300...                  47.552633\n",
      "((sum(CAST((torque IS NULL) AS INT)) / 3000000)...                  17.259600\n",
      "((sum(CAST((transmission IS NULL) AS INT)) / 30...                   2.139467\n",
      "((sum(CAST((transmission_display IS NULL) AS IN...                   2.139467\n",
      "((sum(CAST((trimId IS NULL) AS INT)) / 3000000)...                   3.860833\n",
      "((sum(CAST((trim_name IS NULL) AS INT)) / 30000...                   3.876400\n",
      "((sum(CAST((vehicle_damage_category IS NULL) AS...                 100.000000\n",
      "((sum(CAST((wheel_system IS NULL) AS INT)) / 30...                   4.891000\n",
      "((sum(CAST((wheel_system_display IS NULL) AS IN...                   4.891000\n",
      "((sum(CAST((wheelbase IS NULL) AS INT)) / 30000...                   5.308867\n",
      "((sum(CAST((width IS NULL) AS INT)) / 3000000) ...                   5.308867\n"
     ]
    }
   ],
   "source": [
    "# Calculate the percentage of null values in each column\n",
    "null_percentages = cars_df.agg(*[((count(col(c)) / cars_df.count()) * 100).alias(c + \"_null_percentage\")for c in cars_df.columns])\n",
    "\n",
    "# Collect the results and create a summary DataFrame\n",
    "null_summary = null_percentage.toPandas().transpose()\n",
    "null_summary.columns = ['Percentage of Null Values']\n",
    "null_summary = null_summary[null_summary['Percentage of Null Values'] > 0]\n",
    "print(null_summary)\n"
   ]
  },
  {
   "cell_type": "markdown",
   "metadata": {
    "application/vnd.databricks.v1+cell": {
     "cellMetadata": {},
     "inputWidgets": {},
     "nuid": "2bab1254-b1fa-48f0-9605-54f9c26eba19",
     "showTitle": false,
     "title": ""
    }
   },
   "source": [
    "Now we can focus in individual column to handle the missing values"
   ]
  },
  {
   "cell_type": "markdown",
   "metadata": {
    "application/vnd.databricks.v1+cell": {
     "cellMetadata": {},
     "inputWidgets": {},
     "nuid": "016f7b10-1c74-49ba-8372-1170f14b5dfd",
     "showTitle": false,
     "title": ""
    }
   },
   "source": [
    "Creating a copy of dataframe so that we can have original data if anything goes wrong"
   ]
  },
  {
   "cell_type": "code",
   "execution_count": null,
   "metadata": {
    "application/vnd.databricks.v1+cell": {
     "cellMetadata": {
      "byteLimit": 2048000,
      "rowLimit": 10000
     },
     "inputWidgets": {},
     "nuid": "43f22f8f-d483-4912-ace5-49c36f71b2a6",
     "showTitle": false,
     "title": ""
    }
   },
   "outputs": [
    {
     "name": "stdout",
     "output_type": "stream",
     "text": [
      "+-----------------+------------+---------------+----------------+-----------------+------------+----------+----------------+-------------------+-----------+--------------------+-----+-------------+----------------+--------------+-------------+----------------+---------+-------------+-------+--------------------+----------+--------------------+-----+------+--------+--------+-----------+-------------+----------+---------+--------------------+--------------------+-------------+---------------+--------+------------------+------------------+-------+-------+--------------+------------------+--------+--------------------+-----------+--------------------+------------+--------------------+------+--------------------+------------+--------------------+---------+-------+----+\n",
      "|              vin|back_legroom|      body_type|            city|city_fuel_economy|daysonmarket|dealer_zip|engine_cylinders|engine_displacement|engine_type|      exterior_color|fleet|frame_damaged|franchise_dealer|franchise_make|front_legroom|fuel_tank_volume|fuel_type|has_accidents| height|highway_fuel_economy|horsepower|      interior_color|isCab|is_new|latitude|  length|listed_date|listing_color|listing_id|longitude|    main_picture_url|       major_options|    make_name|maximum_seating| mileage|        model_name|             power|  price|salvage|savings_amount|     seller_rating|   sp_id|             sp_name|theft_title|              torque|transmission|transmission_display|trimId|           trim_name|wheel_system|wheel_system_display|wheelbase|  width|year|\n",
      "+-----------------+------------+---------------+----------------+-----------------+------------+----------+----------------+-------------------+-----------+--------------------+-----+-------------+----------------+--------------+-------------+----------------+---------+-------------+-------+--------------------+----------+--------------------+-----+------+--------+--------+-----------+-------------+----------+---------+--------------------+--------------------+-------------+---------------+--------+------------------+------------------+-------+-------+--------------+------------------+--------+--------------------+-----------+--------------------+------------+--------------------+------+--------------------+------------+--------------------+---------+-------+----+\n",
      "|3G1BF6SM9HS532435|     36.1 in|      Hatchback|       Bay Shore|             28.0|          27|     11706|              I4|             1400.0|         I4| Pepperdust Metallic|false|        false|            true|     Chevrolet|        42 in|        13.7 gal| Gasoline|        false|57.7 in|                37.0|     153.0|           Jet Black|false| false| 40.7333|175.3 in| 2020-08-13|      UNKNOWN| 279129188| -73.2587|https://static.ca...|['Leather Seats',...|    Chevrolet|        5 seats| 38097.0|             Cruze|153 hp @ 5,600 RPM|14824.0|  false|          1846|3.4477611940298507|314501.0|Atlantic Chevrole...|      false|                null|           A|   6-Speed Automatic|t68159|Premier Hatchback...|         FWD|   Front-Wheel Drive| 106.3 in|70.5 in|2017|\n",
      "|WDCTG4GB7FJ176354|     33.9 in|SUV / Crossover|        Woodbury|             24.0|          20|     11797|              I4|             2000.0|         I4|         Jupiter Red|false|        false|           false|          null|      41.9 in|        14.8 gal| Gasoline|        false|  60 in|                32.0|     208.0|      Gray/Dark Gray|false| false| 40.8168|173.9 in| 2020-08-20|          RED| 279783188| -73.4643|https://static.ca...|['Alloy Wheels', ...|Mercedes-Benz|        5 seats| 81053.0|         GLA-Class|208 hp @ 5,500 RPM|15495.0|  false|          2478| 2.963636363636364|432605.0|   Dream Car Gallery|      false|258 lb-ft @ 1,250...|           A|           Automatic|t56956|      GLA 250 4MATIC|         AWD|     All-Wheel Drive| 106.3 in|79.6 in|2015|\n",
      "|1GNSKBKCXLR158262|       39 in|SUV / Crossover|       Bay Shore|             null|          19|     11706|              V8|             5300.0|         V8|Blue Velvet Metallic| true|        false|            true|     Chevrolet|      45.3 in|          26 gal| Gasoline|        false|74.4 in|                null|     355.0|           Jet Black| true| false| 40.7333|  204 in| 2020-08-21|         BLUE| 279931199| -73.2587|https://static.ca...|['Leather Seats',...|    Chevrolet|        8 seats| 15929.0|             Tahoe|355 hp @ 5,600 RPM|49422.0|  false|           635|3.4477611940298507|314501.0|Atlantic Chevrole...|      false|383 lb-ft @ 4,100...|           A|6-Speed Automatic...|t86051|              LT 4WD|         4WD|    Four-Wheel Drive|   116 in|80.5 in|2020|\n",
      "|3C4NJDBB7MT516258|     38.3 in|SUV / Crossover|   East Hartford|             22.0|           5|      6108|              I4|             2400.0|         I4|Granite Crystal M...| null|         null|            true|          Jeep|      41.8 in|        13.5 gal| Gasoline|         null|64.6 in|                30.0|     180.0|               Black| null|  true| 41.7696|  173 in| 2020-09-04|         GRAY| 281231777| -72.6545|https://static.ca...|['Alloy Wheels', ...|         Jeep|        5 seats|     0.0|           Compass|180 hp @ 6,400 RPM|26329.0|   null|             0| 4.377777777777778| 60510.0|Gengras Chrysler ...|       null|175 lb-ft @ 3,900...|           A|           Automatic|t93967|        Altitude 4WD|         4WD|    Four-Wheel Drive| 103.8 in|  80 in|2021|\n",
      "|1C4RJFAG0LC240171|     38.6 in|SUV / Crossover|   East Hartford|             18.0|         266|      6108|              V6|             3600.0|         V6|Bright White Clea...| null|         null|            true|          Jeep|      40.3 in|        24.6 gal| Gasoline|         null|69.3 in|                25.0|     295.0|               Black| null|  true| 41.7696|189.8 in| 2019-12-18|        WHITE| 260914346| -72.6545|https://static.ca...|['Sunroof/Moonroo...|         Jeep|        5 seats|     1.0|    Grand Cherokee|295 hp @ 6,400 RPM|36390.0|   null|             0| 4.377777777777778| 60510.0|Gengras Chrysler ...|       null|260 lb-ft @ 4,000...|           A|           Automatic|t87078|        Altitude 4WD|         4WD|    Four-Wheel Drive| 114.7 in|84.8 in|2020|\n",
      "|WBA4E3C5XHG187100|     33.7 in|          Sedan|      Great Neck|             21.0|         181|     11021|              I6|             3000.0|         I6|               Black|false|        false|           false|          null|      42.2 in|        15.8 gal| Gasoline|        false|55.3 in|                32.0|     320.0|                 Red|false| false| 40.7774|182.6 in| 2020-03-12|        BLACK| 268381135| -73.7268|https://static.ca...|['Sport Package',...|          BMW|        5 seats| 61160.0|          4 Series|320 hp @ 5,500 RPM|23495.0|  false|          2816|3.3461538461538463|282634.0|    European Masters|      false|330 lb-ft @ 1,380...|           A|   8-Speed Automatic|t69296| 440i Gran Coupe RWD|         RWD|    Rear-Wheel Drive| 110.6 in|79.4 in|2017|\n",
      "|2FMDK4KC8ABB38049|     39.6 in|SUV / Crossover|    Little Ferry|             17.0|           3|      7643|              V6|             3500.0|         V6|            Burgundy|false|        false|           false|          null|      40.7 in|          20 gal| Gasoline|         true|  67 in|                23.0|     265.0|               Black|false| false| 40.8558|185.7 in| 2020-09-06|          RED| 281491736| -74.0493|https://static.ca...|                null|         Ford|        5 seats|177937.0|              Edge|265 hp @ 6,250 RPM| 5250.0|  false|          1630| 3.577777777777778|351457.0|    Magic Auto Sales|      false|250 lb-ft @ 4,500...|           A|   6-Speed Automatic|t35447|         Limited AWD|         AWD|     All-Wheel Drive| 111.2 in|87.5 in|2010|\n",
      "|KL7CJKSB7MB310075|     35.7 in|SUV / Crossover|       Bay Shore|             26.0|           5|     11706|              I4|             1400.0|         I4|        Summit White| null|         null|            true|     Chevrolet|      40.8 in|          14 gal| Gasoline|         null|64.9 in|                31.0|     138.0|White (Jet Blk Clth)| null|  true| 40.7333|167.6 in| 2020-09-04|        WHITE| 281247171| -73.2587|                null|['Alloy Wheels', ...|    Chevrolet|        5 seats|    null|              Trax|138 hp @ 4,900 RPM|22890.0|   null|             0|3.4477611940298507|314501.0|Atlantic Chevrole...|       null| 148 lb-ft @ 200 RPM|           A|   6-Speed Automatic|t91947|              LS FWD|         FWD|   Front-Wheel Drive| 100.6 in|69.9 in|2021|\n",
      "|KNDPMCAC9H7247775|     38.2 in|SUV / Crossover|     East Meadow|             21.0|          15|     11554|              I4|             2400.0|         I4|    Sparkling Silver|false|        false|            true|           Kia|      41.5 in|        16.4 gal| Gasoline|        false|65.2 in|                25.0|     181.0|                Gray|false| false| 40.7604|176.4 in| 2020-08-25|       SILVER| 280232563| -73.5319|https://static.ca...|['Alloy Wheels', ...|          Kia|        5 seats| 13625.0|          Sportage|181 hp @ 6,000 RPM|18257.0|  false|           592| 3.555555555555556|293986.0|       Autoworld Kia|      false|175 lb-ft @ 4,000...|           A|   6-Speed Automatic|t66999|              LX AWD|         AWD|     All-Wheel Drive| 105.1 in|  73 in|2017|\n",
      "|1C4RJFBG8LC444618|     38.6 in|SUV / Crossover|   East Hartford|             18.0|          20|      6108|              V6|               null|         V6|Bright White Clea...| null|         null|            true|          Jeep|      40.3 in|        24.6 gal| Gasoline|         null|69.3 in|                25.0|      null|               Black| null|  true| 41.7696|189.8 in| 2020-08-20|        WHITE| 279752733| -72.6545|https://static.ca...|['Sunroof/Moonroo...|         Jeep|        5 seats|    14.0|    Grand Cherokee|              null|42306.0|   null|             0| 4.377777777777778| 60510.0|Gengras Chrysler ...|       null|                null|           A|           Automatic|t87088|       Limited X 4WD|         4WD|    Four-Wheel Drive| 114.7 in|84.8 in|2020|\n",
      "|WDDGF8BB8BR160545|     33.4 in|          Sedan|   West Hartford|             17.0|          55|      6110|              V6|             3000.0|         V6|        Arctic White|false|         true|           false|          null|      41.7 in|        17.4 gal| Gasoline|        false|56.3 in|                24.0|     228.0|               Black|false| false| 41.7359|182.3 in| 2020-07-16|        WHITE| 276729118|  -72.722|https://static.ca...|['Sunroof/Moonroo...|Mercedes-Benz|        5 seats|102967.0|           C-Class|228 hp @ 6,000 RPM| 8990.0|  false|             0| 4.764705882352941|379817.0|          Auto Store|      false|221 lb-ft @ 2,700...|           A|           Automatic|t40154|  C 300 Sport 4MATIC|         AWD|     All-Wheel Drive| 108.7 in|79.5 in|2011|\n",
      "|3KPF24AD0KE102955|     35.7 in|          Sedan|North Plainfield|             30.0|          31|      7060|              I4|             2000.0|         I4|       Deep Sea Blue| true|        false|           false|          null|      42.2 in|          14 gal| Gasoline|        false|56.5 in|                40.0|     147.0|               Black| true| false| 40.6229|182.7 in| 2020-08-09|         BLUE| 278873470| -74.4454|https://static.ca...|['Power Package',...|          Kia|        5 seats| 11442.0|             Forte|147 hp @ 6,200 RPM|15900.0|  false|           112| 4.418604651162791|409159.0|            CarTopia|      false|132 lb-ft @ 4,500...|           A|           Automatic|t83563|             LXS FWD|         FWD|   Front-Wheel Drive| 106.3 in|70.9 in|2019|\n",
      "|KNDPRCA61M7850354|     38.2 in|SUV / Crossover|         Bohemia|             null|           6|     11716|              I4|             2000.0|         I4|          Steel Gray| null|         null|            true|           Kia|      41.5 in|        16.4 gal| Gasoline|         null|65.2 in|                null|     237.0|               Black| null|  true| 40.7589|176.4 in| 2020-09-03|         GRAY| 281158068| -73.1055|                null|                null|          Kia|        5 seats|    12.0|          Sportage|237 hp @ 6,000 RPM|35895.0|   null|             0| 3.647058823529412|339626.0|      Generation Kia|       null|260 lb-ft @ 1,450...|           A|6-Speed Automatic...|t94060|        SX Turbo AWD|         AWD|     All-Wheel Drive| 105.1 in|  73 in|2021|\n",
      "|KNDMB5C12J6355702|     41.1 in|        Minivan|         Bohemia|             18.0|         181|     11716|              V6|             3300.0|         V6|        Aurora Black|false|        false|            true|           Kia|      40.9 in|        21.1 gal| Gasoline|        false|68.5 in|                24.0|     276.0|       dark graphite|false| false| 40.7589|201.4 in| 2020-03-12|        BLACK| 268393443| -73.1055|https://static.ca...|['Alloy Wheels', ...|          Kia|        8 seats| 19714.0|            Sedona|276 hp @ 6,000 RPM|24403.0|  false|          3034| 3.647058823529412|339626.0|      Generation Kia|      false|248 lb-ft @ 5,200...|           A|   6-Speed Automatic|t76533|                  LX|         FWD|   Front-Wheel Drive| 120.5 in|89.3 in|2018|\n",
      "|1C4BJWDG9EL260645|     37.2 in|SUV / Crossover|           Bronx|             16.0|          46|     10466|              V6|             3600.0|         V6|     Black Clearcoat|false|        false|            true|          Jeep|        41 in|        22.5 gal| Gasoline|        false|70.8 in|                20.0|     285.0|               Black|false| false| 40.8847|173.4 in| 2020-07-25|        BLACK| 277512563| -73.8317|                null|['Alloy Wheels', ...|         Jeep|        5 seats| 99933.0|Wrangler Unlimited|285 hp @ 6,400 RPM|18700.0|  false|          6292|               2.8| 62178.0|Eastchester Chrys...|      false|260 lb-ft @ 4,800...|           A|   5-Speed Automatic|t67196|           Sport 4WD|         4WD|    Four-Wheel Drive|   116 in|82.8 in|2014|\n",
      "|1GNKVGKD4HJ285429|     36.8 in|SUV / Crossover|       Bay Shore|             15.0|          57|     11706|              V6|             3600.0|         V6|Mosaic Black Meta...|false|        false|            true|     Chevrolet|      41.3 in|          22 gal| Gasoline|        false|69.9 in|                22.0|     281.0|       Black (Ebony)|false| false| 40.7333|203.7 in| 2020-07-14|        BLACK| 276554019| -73.2587|https://static.ca...|['Sunroof/Moonroo...|    Chevrolet|        8 seats| 24771.0|          Traverse|281 hp @ 6,300 RPM|23723.0|  false|          2323|3.4477611940298507|314501.0|Atlantic Chevrole...|      false|266 lb-ft @ 3,400...|           A|   6-Speed Automatic|t67372|             1LT AWD|         AWD|     All-Wheel Drive| 118.9 in|78.5 in|2017|\n",
      "|3GCUKREC8JG339735|     40.9 in|   Pickup Truck|           Bronx|             null|           0|     10466|            null|             5300.0|       null|  Cajun Red Tintcoat|false|        false|            true|          Jeep|      45.3 in|          26 gal|     null|        false|  74 in|                null|     355.0|           jet black|false| false| 40.8847|  230 in| 2020-09-09|          RED| 281596114| -73.8317|https://d28oohqml...|['Alloy Wheels', ...|    Chevrolet|        6 seats| 29881.0|    Silverado 1500|355 hp @ 5,600 RPM|35500.0|  false|          2804|               2.8| 62178.0|Eastchester Chrys...|      false|383 lb-ft @ 4,100...|           A|6-Speed Automatic...|t74386|     LT Crew Cab 4WD|         4WD|    Four-Wheel Drive| 143.5 in|  80 in|2018|\n",
      "|5UXFG2C59DL782911|     35.9 in|SUV / Crossover|        Woodbury|             16.0|         177|     11797|              I6|             3000.0|         I6|        Alpine White|false|        false|           false|          null|      40.4 in|        22.5 gal| Gasoline|        false|66.5 in|                23.0|     300.0|       Criollo Brown|false| false| 40.8168|192.1 in| 2020-03-16|        WHITE| 268753701| -73.4643|https://static.ca...|['Leather Seats',...|          BMW|        4 seats| 87399.0|                X6|300 hp @ 5,800 RPM|16895.0|  false|             0| 2.963636363636364|432605.0|   Dream Car Gallery|      false|300 lb-ft @ 1,400...|           A|           Automatic|t43762|       xDrive35i AWD|         AWD|     All-Wheel Drive| 115.5 in|86.4 in|2013|\n",
      "|1J8HG48K38C178094|     36.1 in|SUV / Crossover|    Little Ferry|             14.0|          20|      7643|              V6|             3700.0|         V6|                 Red| true|        false|           false|          null|      41.7 in|        21.1 gal| Gasoline|        false|71.9 in|                19.0|     210.0|               Black|false| false| 40.8558|188.5 in| 2020-08-20|          RED| 279846405| -74.0493|https://static.ca...|    ['Alloy Wheels']|         Jeep|        7 seats|117944.0|         Commander|305 hp @ 5,650 RPM| 4999.0|  false|          1783| 3.577777777777778|351457.0|    Magic Auto Sales|      false|334 lb-ft @ 3,950...|           A|   5-Speed Automatic|t32045|           Sport 4WD|         4WD|    Four-Wheel Drive| 109.5 in|74.8 in|2008|\n",
      "|1J8GR48KX7C507247|     35.5 in|SUV / Crossover|    Little Ferry|             15.0|           5|      7643|              V6|             3700.0|         V6|                 Red|false|        false|           false|          null|      41.7 in|        21.1 gal| Gasoline|         true|70.3 in|                19.0|     210.0|                Gray|false| false| 40.8558|186.7 in| 2020-09-04|          RED| 281270984| -74.0493|https://static.ca...|                null|         Jeep|        5 seats|151228.0|    Grand Cherokee|210 hp @ 5,200 RPM| 4750.0|  false|          1184| 3.577777777777778|351457.0|    Magic Auto Sales|      false|235 lb-ft @ 4,000...|           A|   5-Speed Automatic|t40128|          Laredo 4WD|         4WD|    Four-Wheel Drive| 109.5 in|85.5 in|2007|\n",
      "+-----------------+------------+---------------+----------------+-----------------+------------+----------+----------------+-------------------+-----------+--------------------+-----+-------------+----------------+--------------+-------------+----------------+---------+-------------+-------+--------------------+----------+--------------------+-----+------+--------+--------+-----------+-------------+----------+---------+--------------------+--------------------+-------------+---------------+--------+------------------+------------------+-------+-------+--------------+------------------+--------+--------------------+-----------+--------------------+------------+--------------------+------+--------------------+------------+--------------------+---------+-------+----+\n",
      "only showing top 20 rows\n",
      "\n"
     ]
    }
   ],
   "source": [
    "cars_df2 = cars_df\n",
    "cars_df2.show()"
   ]
  },
  {
   "cell_type": "markdown",
   "metadata": {
    "application/vnd.databricks.v1+cell": {
     "cellMetadata": {},
     "inputWidgets": {},
     "nuid": "f1c5558a-aeb3-4f99-a2c1-f7ec6c48f4c9",
     "showTitle": false,
     "title": ""
    }
   },
   "source": [
    "----------------------------------------------------------------------------------"
   ]
  },
  {
   "cell_type": "markdown",
   "metadata": {
    "application/vnd.databricks.v1+cell": {
     "cellMetadata": {},
     "inputWidgets": {},
     "nuid": "fe8600ad-9655-4b5b-8506-50f3cf365ac2",
     "showTitle": false,
     "title": ""
    }
   },
   "source": [
    "Now that we have made a copy let's further clean the data"
   ]
  },
  {
   "cell_type": "markdown",
   "metadata": {
    "application/vnd.databricks.v1+cell": {
     "cellMetadata": {},
     "inputWidgets": {},
     "nuid": "1b442903-9a3c-4701-9313-7a186b9e66bb",
     "showTitle": false,
     "title": ""
    }
   },
   "source": [
    "### back_legroom"
   ]
  },
  {
   "cell_type": "code",
   "execution_count": null,
   "metadata": {
    "application/vnd.databricks.v1+cell": {
     "cellMetadata": {
      "byteLimit": 2048000,
      "rowLimit": 10000
     },
     "inputWidgets": {},
     "nuid": "3d9980e3-7ba4-4682-86cf-e5a12c353ccc",
     "showTitle": false,
     "title": ""
    }
   },
   "outputs": [
    {
     "name": "stdout",
     "output_type": "stream",
     "text": [
      "The percentage of null values in the back_legroom column is 5.31%.\n"
     ]
    }
   ],
   "source": [
    "null_percentage = (cars_df2.filter(col('back_legroom').isNull()).count() / cars_df2.count() * 100)\n",
    "\n",
    "# Print the result\n",
    "print(f\"The percentage of null values in the back_legroom column is {null_percentage:.2f}%.\")\n"
   ]
  },
  {
   "cell_type": "code",
   "execution_count": null,
   "metadata": {
    "application/vnd.databricks.v1+cell": {
     "cellMetadata": {
      "byteLimit": 2048000,
      "rowLimit": 10000
     },
     "inputWidgets": {},
     "nuid": "3d691689-a2a5-48f6-892e-df886f3a01f5",
     "showTitle": false,
     "title": ""
    }
   },
   "outputs": [
    {
     "name": "stdout",
     "output_type": "stream",
     "text": [
      "+------------+-----+\n",
      "|back_legroom|count|\n",
      "+------------+-----+\n",
      "|     38.5 in|24878|\n",
      "|       28 in|   26|\n",
      "|     36.3 in|19637|\n",
      "|     30.6 in| 2236|\n",
      "|     44.4 in| 1776|\n",
      "|     42.1 in| 4148|\n",
      "|     31.4 in| 1392|\n",
      "|     30.2 in|  198|\n",
      "|     24.6 in|  907|\n",
      "|     43.5 in| 5334|\n",
      "|     41.2 in|  167|\n",
      "|     33.7 in|10219|\n",
      "|     30.4 in| 2156|\n",
      "|     33.4 in|22061|\n",
      "|     32.6 in|13004|\n",
      "|     35.5 in| 3195|\n",
      "|     33.8 in| 2121|\n",
      "|     32.5 in|  436|\n",
      "|       35 in| 9064|\n",
      "|     34.7 in|17392|\n",
      "+------------+-----+\n",
      "only showing top 20 rows\n",
      "\n"
     ]
    }
   ],
   "source": [
    "# Calculate the value counts of the 'back_legroom' column\n",
    "value_counts = cars_df2.groupBy('back_legroom').count()\n",
    "value_counts.show()"
   ]
  },
  {
   "cell_type": "code",
   "execution_count": null,
   "metadata": {
    "application/vnd.databricks.v1+cell": {
     "cellMetadata": {
      "byteLimit": 2048000,
      "rowLimit": 10000
     },
     "inputWidgets": {},
     "nuid": "26faec10-ee86-4a98-bcb0-08c300d0e026",
     "showTitle": false,
     "title": ""
    }
   },
   "outputs": [
    {
     "name": "stdout",
     "output_type": "stream",
     "text": [
      "+------------+\n",
      "|back_legroom|\n",
      "+------------+\n",
      "|     38.5 in|\n",
      "|     36.3 in|\n",
      "|     30.6 in|\n",
      "|     31.4 in|\n",
      "|     44.4 in|\n",
      "|     42.1 in|\n",
      "|     43.5 in|\n",
      "|     33.7 in|\n",
      "|     33.4 in|\n",
      "|     33.8 in|\n",
      "|     35.5 in|\n",
      "|     32.6 in|\n",
      "|       35 in|\n",
      "|     34.7 in|\n",
      "|     32.4 in|\n",
      "|     40.1 in|\n",
      "|     38.9 in|\n",
      "|     41.6 in|\n",
      "|     39.4 in|\n",
      "|     38.1 in|\n",
      "+------------+\n",
      "only showing top 20 rows\n",
      "\n"
     ]
    }
   ],
   "source": [
    "# Get the unique values of the 'back_legroom' column\n",
    "unique_values = cars_df2.select('back_legroom').distinct()\n",
    "\n",
    "unique_values.show()"
   ]
  },
  {
   "cell_type": "markdown",
   "metadata": {
    "application/vnd.databricks.v1+cell": {
     "cellMetadata": {},
     "inputWidgets": {},
     "nuid": "e1707219-3b7c-4036-a3e1-5005d6fd96ac",
     "showTitle": false,
     "title": ""
    }
   },
   "source": [
    "We need to remove the unit measurement and any special character from the column so that we can handle the missing values more appropriately"
   ]
  },
  {
   "cell_type": "code",
   "execution_count": null,
   "metadata": {
    "application/vnd.databricks.v1+cell": {
     "cellMetadata": {
      "byteLimit": 2048000,
      "rowLimit": 10000
     },
     "inputWidgets": {},
     "nuid": "1e12be6c-ae3d-4ae1-b689-c3fe7d48f8d8",
     "showTitle": false,
     "title": ""
    }
   },
   "outputs": [],
   "source": [
    "# Split the 'back_legroom' column and extract the numeric values\n",
    "cars_df2 = cars_df2.withColumn('back_legroom', split(col('back_legroom'), ' ')[0])"
   ]
  },
  {
   "cell_type": "code",
   "execution_count": null,
   "metadata": {
    "application/vnd.databricks.v1+cell": {
     "cellMetadata": {
      "byteLimit": 2048000,
      "rowLimit": 10000
     },
     "inputWidgets": {},
     "nuid": "80933baf-42d4-4570-ba6d-3020f60fabb8",
     "showTitle": false,
     "title": ""
    }
   },
   "outputs": [],
   "source": [
    "# Replace '--' with null values\n",
    "cars_df2 = cars_df2.withColumn('back_legroom', when(col('back_legroom') == '--', None).otherwise(col('back_legroom')))"
   ]
  },
  {
   "cell_type": "code",
   "execution_count": null,
   "metadata": {
    "application/vnd.databricks.v1+cell": {
     "cellMetadata": {
      "byteLimit": 2048000,
      "rowLimit": 10000
     },
     "inputWidgets": {},
     "nuid": "50573d9f-1126-4492-a6f1-78b67838544b",
     "showTitle": false,
     "title": ""
    }
   },
   "outputs": [],
   "source": [
    "# Convert the 'back_legroom' column to a float\n",
    "cars_df2 = cars_df2.withColumn('back_legroom', col('back_legroom').cast(FloatType()))"
   ]
  },
  {
   "cell_type": "markdown",
   "metadata": {
    "application/vnd.databricks.v1+cell": {
     "cellMetadata": {},
     "inputWidgets": {},
     "nuid": "e715bef5-ae5f-4af9-99eb-4847a579bef0",
     "showTitle": false,
     "title": ""
    }
   },
   "source": [
    "### Convert Spark DataFrame to Pandas DataFrame for visualization"
   ]
  },
  {
   "cell_type": "code",
   "execution_count": null,
   "metadata": {
    "application/vnd.databricks.v1+cell": {
     "cellMetadata": {
      "byteLimit": 2048000,
      "rowLimit": 10000
     },
     "inputWidgets": {},
     "nuid": "b3f11eae-7a10-4a8d-bb06-74ec375b0502",
     "showTitle": false,
     "title": ""
    }
   },
   "outputs": [],
   "source": [
    "back_legroom_data = cars_df2.select('back_legroom').toPandas()\n",
    "back_legroom_data = back_legroom_data['back_legroom'].dropna()"
   ]
  },
  {
   "cell_type": "markdown",
   "metadata": {
    "application/vnd.databricks.v1+cell": {
     "cellMetadata": {},
     "inputWidgets": {},
     "nuid": "71ec1b62-17fa-4bae-8571-8e6c6bbc653d",
     "showTitle": false,
     "title": ""
    }
   },
   "source": [
    "Visually Checking the distribution of back_legroom column"
   ]
  },
  {
   "cell_type": "code",
   "execution_count": null,
   "metadata": {
    "application/vnd.databricks.v1+cell": {
     "cellMetadata": {
      "byteLimit": 2048000,
      "rowLimit": 10000
     },
     "inputWidgets": {},
     "nuid": "cf948551-1ca6-466f-a26b-6c2db2998ae0",
     "showTitle": false,
     "title": ""
    }
   },
   "outputs": [
    {
     "data": {
      "image/png": "[encoded data removed]"
     },
     "metadata": {
      "application/vnd.databricks.v1+output": {
       "addedWidgets": {},
       "arguments": {},
       "data": "data:image/png;base64,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\n",
       "datasetInfos": [],
       "metadata": {},
       "removedWidgets": [],
       "type": "image"
      }
     },
     "output_type": "display_data"
    }
   ],
   "source": [
    "# Plotting using Matplotlib\n",
    "plt.figure(figsize=(10, 6))\n",
    "plt.hist(back_legroom_data, bins=20, color='blue', alpha=0.7)\n",
    "plt.title('Back Legroom Distribution')\n",
    "plt.axvline(back_legroom_data.mode()[0], color='r', linestyle='dashed', linewidth=2, label='Mode')\n",
    "plt.axvline(back_legroom_data.median(), color='goldenrod', label='Median')\n",
    "plt.axvline(back_legroom_data.mean(), color='darkgreen', label='Mean')\n",
    "plt.legend()\n",
    "plt.xlabel('Back Legroom')\n",
    "plt.ylabel('Frequency')\n",
    "plt.show()"
   ]
  },
  {
   "cell_type": "code",
   "execution_count": null,
   "metadata": {
    "application/vnd.databricks.v1+cell": {
     "cellMetadata": {
      "byteLimit": 2048000,
      "rowLimit": 10000
     },
     "inputWidgets": {},
     "nuid": "97b42817-26fc-49c5-99b9-aa150fb0e54c",
     "showTitle": false,
     "title": ""
    }
   },
   "outputs": [
    {
     "name": "stdout",
     "output_type": "stream",
     "text": [
      "The mean of the 'back_legroom' column is 37.96\n"
     ]
    }
   ],
   "source": [
    "# Calculate the mean of the 'back_legroom' column\n",
    "mean_back_legroom = cars_df2.select(mean('back_legroom')).collect()[0][0]\n",
    "print(f\"The mean of the 'back_legroom' column is {mean_back_legroom:.2f}\")"
   ]
  },
  {
   "cell_type": "markdown",
   "metadata": {
    "application/vnd.databricks.v1+cell": {
     "cellMetadata": {},
     "inputWidgets": {},
     "nuid": "6f47f295-e102-413e-a7a0-af69acc10044",
     "showTitle": false,
     "title": ""
    }
   },
   "source": [
    "The results show that most of the vehicles have a back legroom of ~38 inches. We can also see that there are a few outliers. Let's take a closer look at these outliers with zero back legroom. This could be because they are vehicles that do not have a back seat. Let's take a look at the body type of these vehicles, to see if this is the case."
   ]
  },
  {
   "cell_type": "code",
   "execution_count": null,
   "metadata": {
    "application/vnd.databricks.v1+cell": {
     "cellMetadata": {
      "byteLimit": 2048000,
      "rowLimit": 10000
     },
     "inputWidgets": {},
     "nuid": "9f31d891-cf63-4b2b-b26b-e912bca9cac8",
     "showTitle": false,
     "title": ""
    }
   },
   "outputs": [
    {
     "name": "stdout",
     "output_type": "stream",
     "text": [
      "+---------------+---------------+------+\n",
      "|      body_type|maximum_seating| count|\n",
      "+---------------+---------------+------+\n",
      "|          Wagon|        2 seats|    30|\n",
      "|            Van|       10 seats|   540|\n",
      "|      Hatchback|           null| 10474|\n",
      "|        Minivan|        7 seats| 35633|\n",
      "|SUV / Crossover|        7 seats|267010|\n",
      "|    Convertible|           null|   756|\n",
      "|   Pickup Truck|        4 seats|  7354|\n",
      "|    Convertible|        2 seats|  9358|\n",
      "|           null|           null| 13498|\n",
      "|           null|        5 seats|    32|\n",
      "|      Hatchback|        5 seats| 64632|\n",
      "|          Coupe|        5 seats| 22797|\n",
      "|SUV / Crossover|        2 seats|    38|\n",
      "|    Convertible|        4 seats| 15863|\n",
      "|            Van|        6 seats|    11|\n",
      "|          Sedan|           null| 25667|\n",
      "|            Van|        5 seats|  4687|\n",
      "|          Sedan|        4 seats|  2865|\n",
      "|          Sedan|             --|   175|\n",
      "|   Pickup Truck|        5 seats|105035|\n",
      "+---------------+---------------+------+\n",
      "only showing top 20 rows\n",
      "\n"
     ]
    }
   ],
   "source": [
    "# Group by 'body_type' and 'maximum_seating', then count occurrences\n",
    "outlier_counts = cars_df2.groupBy('body_type', 'maximum_seating').count()\n",
    "outlier_counts.show()"
   ]
  },
  {
   "cell_type": "code",
   "execution_count": null,
   "metadata": {
    "application/vnd.databricks.v1+cell": {
     "cellMetadata": {
      "byteLimit": 2048000,
      "rowLimit": 10000
     },
     "inputWidgets": {},
     "nuid": "75f9fa2b-236d-4955-80ad-24f44f8d5fce",
     "showTitle": false,
     "title": ""
    }
   },
   "outputs": [],
   "source": [
    "# Filter for rows with back_legroom less than 10 and not 'Pickup Truck' body_type\n",
    "filtered_data = cars_df2.filter((col('back_legroom') < 10) & (col('body_type') != 'Pickup Truck'))"
   ]
  },
  {
   "cell_type": "code",
   "execution_count": null,
   "metadata": {
    "application/vnd.databricks.v1+cell": {
     "cellMetadata": {
      "byteLimit": 2048000,
      "rowLimit": 10000
     },
     "inputWidgets": {},
     "nuid": "a02f7e1d-34c8-41c3-876f-ab8845db0c79",
     "showTitle": false,
     "title": ""
    }
   },
   "outputs": [
    {
     "name": "stdout",
     "output_type": "stream",
     "text": [
      "+---------------+---------------+------------+-------------+----------+\n",
      "|      body_type|maximum_seating|back_legroom|    make_name|model_name|\n",
      "+---------------+---------------+------------+-------------+----------+\n",
      "|          Sedan|        5 seats|         3.5|       Subaru|   Impreza|\n",
      "|          Sedan|        5 seats|         3.5|       Subaru|   Impreza|\n",
      "|          Sedan|        5 seats|         0.0|Mercedes-Benz|   C-Class|\n",
      "|SUV / Crossover|        4 seats|         0.0|         Jeep|  Wrangler|\n",
      "|          Sedan|        5 seats|         3.5|       Subaru|   Impreza|\n",
      "|SUV / Crossover|        4 seats|         0.0|         Jeep|  Wrangler|\n",
      "|          Sedan|        5 seats|         3.5|       Subaru|   Impreza|\n",
      "|          Sedan|        5 seats|         3.5|       Subaru|   Impreza|\n",
      "|          Sedan|        5 seats|         3.5|       Subaru|   Impreza|\n",
      "|          Sedan|        5 seats|         0.0|Mercedes-Benz|   C-Class|\n",
      "|SUV / Crossover|        4 seats|         0.0|         Jeep|  Wrangler|\n",
      "|          Sedan|        5 seats|         3.5|       Subaru|   Impreza|\n",
      "|SUV / Crossover|        2 seats|         0.0|         Jeep|  Wrangler|\n",
      "|SUV / Crossover|        4 seats|         0.0|         Jeep|  Wrangler|\n",
      "|SUV / Crossover|        4 seats|         0.0|         Jeep|  Wrangler|\n",
      "|SUV / Crossover|        2 seats|         0.0|         Jeep|  Wrangler|\n",
      "|          Sedan|        5 seats|         3.5|       Subaru|   Impreza|\n",
      "|          Sedan|        5 seats|         3.5|       Subaru|   Impreza|\n",
      "|          Sedan|        5 seats|         3.5|       Subaru|   Impreza|\n",
      "|          Sedan|        5 seats|         3.5|       Subaru|   Impreza|\n",
      "+---------------+---------------+------------+-------------+----------+\n",
      "only showing top 20 rows\n",
      "\n"
     ]
    }
   ],
   "source": [
    "# Select the desired columns for the output\n",
    "selected_columns = ['body_type', 'maximum_seating', 'back_legroom', 'make_name', 'model_name']\n",
    "result = filtered_data.select(selected_columns)\n",
    "result.show()"
   ]
  },
  {
   "cell_type": "markdown",
   "metadata": {
    "application/vnd.databricks.v1+cell": {
     "cellMetadata": {},
     "inputWidgets": {},
     "nuid": "cbb9d3fa-a717-4666-95d0-c8ff0d4f7547",
     "showTitle": false,
     "title": ""
    }
   },
   "source": [
    "It looks like these vehicles have a back seat, but the back legroom is not listed. This is because the back legroom is not a standard feature for these vehicles. We can fill in the null values with the average back legroom for the body type of the vehicle."
   ]
  },
  {
   "cell_type": "code",
   "execution_count": null,
   "metadata": {
    "application/vnd.databricks.v1+cell": {
     "cellMetadata": {
      "byteLimit": 2048000,
      "rowLimit": 10000
     },
     "inputWidgets": {},
     "nuid": "0bab58e6-19c4-4c06-8cc8-1b6d513f73dd",
     "showTitle": false,
     "title": ""
    }
   },
   "outputs": [],
   "source": [
    "# Calculate the median of the 'back_legroom' column\n",
    "median_back_legroom = cars_df2.select(median('back_legroom')).first()[0]"
   ]
  },
  {
   "cell_type": "code",
   "execution_count": null,
   "metadata": {
    "application/vnd.databricks.v1+cell": {
     "cellMetadata": {
      "byteLimit": 2048000,
      "rowLimit": 10000
     },
     "inputWidgets": {},
     "nuid": "4146bfcb-a2e6-44e7-90fb-96c4997c7415",
     "showTitle": false,
     "title": ""
    }
   },
   "outputs": [],
   "source": [
    "# Fill null values in 'back_legroom' with the calculated median\n",
    "cars_df2 = cars_df2.withColumn('back_legroom', when(col('back_legroom').isNull(), median_back_legroom).otherwise(col('back_legroom')))"
   ]
  },
  {
   "cell_type": "code",
   "execution_count": null,
   "metadata": {
    "application/vnd.databricks.v1+cell": {
     "cellMetadata": {
      "byteLimit": 2048000,
      "rowLimit": 10000
     },
     "inputWidgets": {},
     "nuid": "99a40c0b-a757-4462-b1fd-a63e5f64a0fd",
     "showTitle": false,
     "title": ""
    }
   },
   "outputs": [
    {
     "name": "stdout",
     "output_type": "stream",
     "text": [
      "The amount of null values in the back_legroom column is 0.00%.\n"
     ]
    }
   ],
   "source": [
    "# Calculate the percentage of null values in the 'back_legroom' column\n",
    "total_rows = cars_df2.count()\n",
    "null_rows = cars_df2.filter(col('back_legroom').isNull()).count()\n",
    "null_percentage = (null_rows / total_rows) * 100\n",
    "\n",
    "# Print the result\n",
    "print(f\"The amount of null values in the back_legroom column is {null_percentage:.2f}%.\")"
   ]
  },
  {
   "cell_type": "markdown",
   "metadata": {
    "application/vnd.databricks.v1+cell": {
     "cellMetadata": {},
     "inputWidgets": {},
     "nuid": "3a7c6466-e435-49f4-b88b-d2e372831541",
     "showTitle": false,
     "title": ""
    }
   },
   "source": [
    "----------------------------------------------------------------------------------"
   ]
  },
  {
   "cell_type": "markdown",
   "metadata": {
    "application/vnd.databricks.v1+cell": {
     "cellMetadata": {},
     "inputWidgets": {},
     "nuid": "319cd2a9-566a-40f8-b8e3-a06202d6761a",
     "showTitle": false,
     "title": ""
    }
   },
   "source": [
    "body_type"
   ]
  },
  {
   "cell_type": "code",
   "execution_count": null,
   "metadata": {
    "application/vnd.databricks.v1+cell": {
     "cellMetadata": {
      "byteLimit": 2048000,
      "rowLimit": 10000
     },
     "inputWidgets": {},
     "nuid": "44ffed97-d525-4a75-9cf7-09b1c88372f0",
     "showTitle": false,
     "title": ""
    }
   },
   "outputs": [
    {
     "name": "stdout",
     "output_type": "stream",
     "text": [
      "The percentage of null values in the body_type column is 0.45%.\n"
     ]
    }
   ],
   "source": [
    "# Calculate the percentage of null values in the 'body_type' column\n",
    "null_percentage = (cars_df2.filter(col('body_type').isNull()).count() / cars_df2.count() * 100)\n",
    "\n",
    "# Print the result\n",
    "print(f\"The percentage of null values in the body_type column is {null_percentage:.2f}%.\")"
   ]
  },
  {
   "cell_type": "markdown",
   "metadata": {
    "application/vnd.databricks.v1+cell": {
     "cellMetadata": {},
     "inputWidgets": {},
     "nuid": "8bfc0a10-c33c-4eb5-992c-a61289ae1bb1",
     "showTitle": false,
     "title": ""
    }
   },
   "source": [
    "The size of null values is very low. Let's take a look at the data to see if we can fill in the null values."
   ]
  },
  {
   "cell_type": "code",
   "execution_count": null,
   "metadata": {
    "application/vnd.databricks.v1+cell": {
     "cellMetadata": {
      "byteLimit": 2048000,
      "rowLimit": 10000
     },
     "inputWidgets": {},
     "nuid": "eab5bec5-293f-4bc3-9f2e-b335dc3f5900",
     "showTitle": false,
     "title": ""
    }
   },
   "outputs": [],
   "source": [
    "# Group by 'body_type' and count occurrences\n",
    "body_type_counts = cars_df2.groupBy('body_type').count()"
   ]
  },
  {
   "cell_type": "code",
   "execution_count": null,
   "metadata": {
    "application/vnd.databricks.v1+cell": {
     "cellMetadata": {
      "byteLimit": 2048000,
      "rowLimit": 10000
     },
     "inputWidgets": {},
     "nuid": "efa566a5-a8a0-4be8-9f8d-88e884d09a29",
     "showTitle": false,
     "title": ""
    }
   },
   "outputs": [],
   "source": [
    "# Calculate the total number of rows in the 'body_type' column\n",
    "total_rows = cars_df2.count()"
   ]
  },
  {
   "cell_type": "code",
   "execution_count": null,
   "metadata": {
    "application/vnd.databricks.v1+cell": {
     "cellMetadata": {
      "byteLimit": 2048000,
      "rowLimit": 10000
     },
     "inputWidgets": {},
     "nuid": "d93449de-9324-4828-9c35-9a3bd8587890",
     "showTitle": false,
     "title": ""
    }
   },
   "outputs": [
    {
     "name": "stdout",
     "output_type": "stream",
     "text": [
      "+---------------+-------+-------------------+\n",
      "|      body_type|  count|         percentage|\n",
      "+---------------+-------+-------------------+\n",
      "|      Hatchback|  88373| 2.9457666666666666|\n",
      "|    Convertible|  26010| 0.8670000000000001|\n",
      "|           null|  13542|0.45139999999999997|\n",
      "|          Sedan| 742026|            24.7342|\n",
      "|   Pickup Truck| 474587| 15.819566666666669|\n",
      "|          Wagon|  40503|             1.3501|\n",
      "|            Van|  47166|             1.5722|\n",
      "|SUV / Crossover|1416386|  47.21286666666666|\n",
      "|          Coupe|  71605|  2.386833333333333|\n",
      "|        Minivan|  79802|  2.660066666666667|\n",
      "+---------------+-------+-------------------+\n",
      "\n"
     ]
    }
   ],
   "source": [
    "# Calculate the percentage of each body type\n",
    "body_type_percentages = body_type_counts.withColumn('percentage', (col('count') / total_rows) * 100)\n",
    "body_type_percentages.show()"
   ]
  },
  {
   "cell_type": "markdown",
   "metadata": {
    "application/vnd.databricks.v1+cell": {
     "cellMetadata": {},
     "inputWidgets": {},
     "nuid": "2b998ed9-d632-40b3-b426-0004c5603934",
     "showTitle": false,
     "title": ""
    }
   },
   "source": [
    "We can see that the majority of vehicles are SUV / Crossover. Let's take a look at the null rows and see what we can do with them."
   ]
  },
  {
   "cell_type": "code",
   "execution_count": null,
   "metadata": {
    "application/vnd.databricks.v1+cell": {
     "cellMetadata": {
      "byteLimit": 2048000,
      "rowLimit": 10000
     },
     "inputWidgets": {},
     "nuid": "082fb718-ad68-4424-929f-328b9f39e9c5",
     "showTitle": false,
     "title": ""
    }
   },
   "outputs": [],
   "source": [
    "# Calculate the most common body type\n",
    "most_common_body_type = cars_df2.select(mode('body_type')).first()[0]"
   ]
  },
  {
   "cell_type": "code",
   "execution_count": null,
   "metadata": {
    "application/vnd.databricks.v1+cell": {
     "cellMetadata": {
      "byteLimit": 2048000,
      "rowLimit": 10000
     },
     "inputWidgets": {},
     "nuid": "87e7ff80-ca91-4403-b6b9-8be12b9948a0",
     "showTitle": false,
     "title": ""
    }
   },
   "outputs": [],
   "source": [
    "# Replace null values in 'body_type' with the most common body type\n",
    "cars_df2 = cars_df2.withColumn('body_type', when(col('body_type').isNull(), most_common_body_type).otherwise(col('body_type')))"
   ]
  },
  {
   "cell_type": "code",
   "execution_count": null,
   "metadata": {
    "application/vnd.databricks.v1+cell": {
     "cellMetadata": {
      "byteLimit": 2048000,
      "rowLimit": 10000
     },
     "inputWidgets": {},
     "nuid": "401eb11a-2f2f-4c75-9894-b85ddbdc6399",
     "showTitle": false,
     "title": ""
    }
   },
   "outputs": [
    {
     "name": "stdout",
     "output_type": "stream",
     "text": [
      "The percentage of null values in the body_type column is 0.00%.\n"
     ]
    }
   ],
   "source": [
    "# Calculate the percentage of null values in the 'body_type' column\n",
    "null_percentage = (cars_df2.filter(col('body_type').isNull()).count() / cars_df2.count() * 100)\n",
    "\n",
    "# Print the result\n",
    "print(f\"The percentage of null values in the body_type column is {null_percentage:.2f}%.\")\n"
   ]
  },
  {
   "cell_type": "code",
   "execution_count": null,
   "metadata": {
    "application/vnd.databricks.v1+cell": {
     "cellMetadata": {
      "byteLimit": 2048000,
      "rowLimit": 10000
     },
     "inputWidgets": {},
     "nuid": "42a53297-cac2-4bd7-b579-5a438348e981",
     "showTitle": false,
     "title": ""
    }
   },
   "outputs": [],
   "source": [
    "# Convert Spark DataFrame to Pandas DataFrame\n",
    "body_type_counts = cars_df2.groupBy('body_type').count().toPandas()"
   ]
  },
  {
   "cell_type": "code",
   "execution_count": null,
   "metadata": {
    "application/vnd.databricks.v1+cell": {
     "cellMetadata": {
      "byteLimit": 2048000,
      "rowLimit": 10000
     },
     "inputWidgets": {},
     "nuid": "4d4c7176-8db1-413e-a91a-35161b8335f8",
     "showTitle": false,
     "title": ""
    }
   },
   "outputs": [
    {
     "data": {
      "image/png": "[encoded data removed]"
     },
     "metadata": {
      "application/vnd.databricks.v1+output": {
       "addedWidgets": {},
       "arguments": {},
       "data": "data:image/png;base64,iVBORw0KGgoAAAANSUhEUgAAAsgAAAGoCAYAAABbtxOxAAAAOXRFWHRTb2Z0d2FyZQBNYXRwbG90bGliIHZlcnNpb24zLjUuMSwgaHR0cHM6Ly9tYXRwbG90bGliLm9yZy/YYfK9AAAACXBIWXMAAAsTAAALEwEAmpwYAABAfElEQVR4nO3debytc93/8dfbUKiQnMpM3VTuRp1KdyVpQpmSUGkyJGm4o2hG091Pc2kQUhpRiSINtzpNyikSSklOHO4IhTL7/P74Xpvr7M5x9tFZe52z1uv5eHhY61rXXuuz19nrWp/re32+n2+qCkmSJEnNMsMOQJIkSVqSmCBLkiRJPSbIkiRJUo8JsiRJktRjgixJkiT1mCBLkiRJPSbIkjQfSdZPUkmWG3Ysg5DkuiQPWEzP9aYkR3S3F+v7lmTdLtZlF8fzSdJUmCBLGhlJLkpyfZdQXZ3kW0nWmeYYzu1e/7oktya5oXf/TdPw+psnua33mpckOTbJY/r7VdU9q+rCKTzXJQt7zap6d1Xt8e/G3r3mRUme1nvuP3ex3ro4nl+SpsIEWdKo2aaq7gmsAfwF+Oh0vnhV/WeX0N0T+BGw78T9qnr3NIVxaff69wI2BX4H/CjJUxf3C43qCLuk8WaCLGkkVdUNwPHAxhPbkqyS5HNJrkgyJ8lbkizTPbZskvcl+WuSC4Fn9X5upyS/7D9/ktcl+cZU40lyTpJteveX717rUb2yhL2SXJrksiT79/ZdJsmBSf6Y5MpuRHi1KbwHVVWXVNXbgCOA9/aes5L8R3d76yTnJbk2ydwk+ye5B3AKsGZvNHrNJAclOT7J55NcA7yk2/b5SS//sgX8LkcneWfv/u2j1EmOAdYFTupe7w2TSza6GE5MclWSC5Ls2Xuug7r35nPd73JukplT+xeSpDuYIEsaSUlWAnYGTu9t/iiwCvAA4MnAi4CXdo/tCTwbeBQwE3hu7+dOBDZI8pDett2Azy1CSJ8DXti7vzVwWVWd2dv2FGBD4BnAAb1Sg1cB23cxrwlcDRy2CK8N8DVgky7xnexI4OVVdS/gocD/VtU/gK3oRqO7/y7t9t+OdvKxKvCFBbzegn6XBaqq3YA/010FqKr/N5/dvgxcQnsfngu8O8kWvce37fZZlfbv9rGFva4kTbZUJshJjkpyeZJzprj/87rRkXOTfHHQ8UkaqhOS/A34O/B04FBoI8TALsAbq+raqroIeD8t0QV4HvChqrq4qq4C3jPxhFV1I/AVugQ3yX8C6wPfXIS4Pg9snWTl7v5uwDGT9jm4qv5RVb8BPgPs2m3fG3hzNxp8I3AQ8NxFLG+4FAgtcZzsZmDjJCtX1dVV9auFPNfPquqEqrqtqq5fwD4L+l3usq6e/AnAAVV1Q1WdRRsZf1Fvtx9X1cldzfIxwCP+3deVNH6WygQZOBrYcio7JtkQeCPwhKr6T+C1gwtL0hJg+6paFVgB2Bf4YZL7A6sDywNzevvOAdbqbq8JXDzpsb7PAs9PElpye2yXrE5JN/r6E2DHJKvSRmcnj75Ofv01u9vrAV9P8rcu+f8tcCtwv6m+Pu33LOBv83lsR9qI9pwkP0zy+IU818ULeXzyPv3f5d+xJnBVVV076bnX6t3/v97tfwIrWCctaVEtlQlyVc0CrupvS/LAJN9O8sskP0ry4O6hPYHDqurq7mcvn+ZwJQ1BVd1aVV+jJZJPBP5KGyldr7fbusDc7vZlwDqTHus/3+nATcCTgOfzr6O/U/FZ2ij0TrRR2LmTHp/8+hMlDRcDW1XVqr3/VpjPz9+ZHYBfdaUT86iqM6pqO+C+wAnAsRMPLeC5FrS9b0G/yz+AlXqP3X8RnvtSYLUk95r03IvyPkjSQi2VCfICHA68qqoeDewPfLzbvhGwUZKfJDk9yZRGniUt3dJsB9wb+G13yf1Y4F1J7pVkPeB1tNIHusdenWTtJPcGDpzP036OVtN6c1X9+C6EdQKwCfAa5l+//NYkK3UlHC+llXUAfLKLe73ud5vR/W53qnsP1krydmAP4F/azCW5W5IXJFmlqm4GrgFu6x7+C3CfJKss0m9557/LWbRSk9W6kf3XTvq5v9BqxP9FVV0M/BR4T5IVkjwc2J07/g0labEYiQQ5yT2B/wKOS3IW8ClaiyeA5WgTRTan1cB9uru8KWk0nZTkOlqi9y7gxVV1bvfYq2gjmBcCPwa+CBzVPfZp4FTg18CvaJPaJjuGNontLiVkXb3uV4ENFvD8PwQuAL4PvK+qvtNt/zBtwtl3klxLm3j4uDt5qTW79+A64AzgYcDmveebbDfgoq4rxd7AC7p4fwd8CbiwK+9YlDKJBf0ux9De44uA73BH4jzhPcBbutfbn3+1K63++1Lg68Dbq+p7ixCXJC1UqqZypWzJk2R94JtV9dBu0sv5VbXGfPb7JPDzqvpMd//7wIFVdca0BixpqZdkReByYJOq+sNdfI63ARtV1Qt729YH/gQsX1W3LI5YJUl33UiMIFfVNcCfkuwEt19WnJi5fAJt9Jgkq9NKLu509ShJWoBXAGf8G8nxarSSgMMXa1SSpMVqqUyQk3wJ+BnwoLRlVHenXRLcPcmvgXNpfTqhXTK9Msl5wGnA66vqymHELWnpleQiWu3wfnfx5/ekTbY7pZtoLElaQi21JRaSJEnSICyVI8iSJEnSoCx1zdNXX331Wn/99YcdhiRJkpZyv/zlL/9aVTMmb1/qEuT111+f2bNnDzsMSZIkLeWSTF41FbDEQpIkSZqHCbIkSZLUY4IsSZIk9ZggS5IkST0myJIkSVKPCbIkSZLUY4IsSZIk9ZggS5IkST0myJIkSVKPCbIkSZLUY4IsSZIk9ZggS5IkST0myJIkSVLPcsMOQJKkcbTZ0zdjztw5ww5j2qy31nrM+u6sYYchTYkJsiRJQzBn7hxmvHbGsMOYNnM+ND4nA1r6WWIhSZIk9QwsQU5yVJLLk5yzkP0ek+SWJM8dVCySJEnSVA1yBPloYMs72yHJssB7ge8MMA5JkiRpygaWIFfVLOCqhez2KuCrwOWDikOSJElaFEOrQU6yFrAD8Ikp7LtXktlJZl9xxRWDD06SJElja5iT9D4EHFBVty1sx6o6vKpmVtXMGTPGZ8avJEmSpt8w27zNBL6cBGB1YOskt1TVCUOMSZIkSWNuaAlyVW0wcTvJ0cA3TY4lSZI0bANLkJN8CdgcWD3JJcDbgeUBquqTg3pdSZIk6d8xsAS5qnZdhH1fMqg4JEmSpEXhSnqSJElSjwmyJEmS1GOCLEmSJPWYIEuSJEk9JsiSJElSjwmyJEmS1GOCLEmSJPWYIEuSJEk9JsiSJElSjwmyJEmS1GOCLEmSJPWYIEuSJEk9JsiSJElSjwmyJEmS1GOCLEmSJPWYIEuSJEk9JsiSJElSjwmyJEmS1GOCLEmSJPWYIEuSJEk9JsiSJElSjwmyJEmS1GOCLEmSJPWYIEuSJEk9JsiSJElSjwmyJEmS1GOCLEmSJPWYIEuSJEk9JsiSJElSjwmyJEmS1GOCLEmSJPWYIEuSJEk9A0uQkxyV5PIk5yzg8RckOTvJb5L8NMkjBhWLJEmSNFWDHEE+GtjyTh7/E/DkqnoY8A7g8AHGIkmSJE3JcoN64qqalWT9O3n8p727pwNrDyoWSZIkaaqWlBrk3YFThh2EJEmSNLAR5KlK8hRagvzEO9lnL2AvgHXXXXeaIpMkSdI4GuoIcpKHA0cA21XVlQvar6oOr6qZVTVzxowZ0xegJEmSxs7QEuQk6wJfA3arqt8PKw5JkiSpb2AlFkm+BGwOrJ7kEuDtwPIAVfVJ4G3AfYCPJwG4papmDioeSZIkaSoG2cVi14U8vgewx6BeX5IkSborlpQuFpIkSdISwQRZkiRJ6jFBliRJknpMkCVJkqQeE2RJkiSpxwRZkiRJ6jFBliRJknpMkCVJkqQeE2RJkiSpxwRZkiRJ6jFBliRJknpMkCVJkqQeE2RJkiSpxwRZkiRJ6jFBliRJknpMkCVJkqQeE2RJkiSpxwRZkiRJ6jFBliRJknpMkCVJkqQeE2RJkiSpxwRZkiRJ6jFBliRJknpMkCVJkqQeE2RJkiSpxwRZkiRJ6jFBliRJknpMkCVJkqQeE2RJkiSpxwRZkiRJ6jFBliRJknpMkCVJkqQeE2RJkiSpZ2AJcpKjklye5JwFPJ4kH0lyQZKzk2wyqFgkSZKkqRrkCPLRwJZ38vhWwIbdf3sBnxhgLJIkSdKUDCxBrqpZwFV3sst2wOeqOR1YNckag4pHkiRJmoph1iCvBVzcu39Jt+1fJNkryewks6+44oppCU6SJEnjaamYpFdVh1fVzKqaOWPGjGGHI0mSpBE2zAR5LrBO7/7a3TZJkiRpaIaZIJ8IvKjrZrEp8PequmyI8UiSJEksN6gnTvIlYHNg9SSXAG8Hlgeoqk8CJwNbAxcA/wReOqhYJEmSpKkaWIJcVbsu5PECXjmo15ckSZLuiqVikp4kSZI0XUyQJUmSpB4TZEmSJKnHBFmSJEnqMUGWJEmSekyQJUmSpB4TZEmSJKnHBFmSJEnqMUGWJEmSekyQJUmSpB4TZEmSJKnHBFmSJEnqMUGWJEmSekyQJUmSpB4TZEmSJKnHBFmSJEnqMUGWJEmSekyQJUmSpB4TZEmSJKnHBFmSJEnqMUGWJEmSekyQJUmSpJ4pJchJHjboQCRJkqQlwVRHkD+e5BdJ9kmyykAjkiRJkoZoSglyVT0JeAGwDvDLJF9M8vSBRiZJkiQNwZRrkKvqD8BbgAOAJwMfSfK7JM8ZVHCSJEnSdJtqDfLDk3wQ+C2wBbBNVT2ku/3BAcYnSZIkTavlprjfR4EjgDdV1fUTG6vq0iRvGUhkkiRJ0hBMNUF+FnB9Vd0KkGQZYIWq+mdVHTOw6CRJkqRpNtUa5O8BK/bur9RtkyRJkkbKVBPkFarquok73e2VBhOSJEmSNDxTTZD/kWSTiTtJHg1cfyf7S5IkSUulqSbIrwWOS/KjJD8GvgLsu7AfSrJlkvOTXJDkwPk8vm6S05KcmeTsJFsvUvSSJEnSYjalSXpVdUaSBwMP6jadX1U339nPJFkWOAx4OnAJcEaSE6vqvN5ubwGOrapPJNkYOBlYfxF/B0mSJGmxmWoXC4DH0JLX5YBNklBVn7uT/R8LXFBVFwIk+TKwHdBPkAtYubu9CnDpIsQjSZIkLXZTSpCTHAM8EDgLuLXbXMCdJchrARf37l8CPG7SPgcB30nyKuAewNMW8Pp7AXsBrLvuulMJWZIkSbpLpjqCPBPYuKpqMb/+rsDRVfX+JI8Hjkny0Kq6rb9TVR0OHA4wc+bMxR2DJEmSdLupTtI7B7j/Ij73XGCd3v21u219uwPHAlTVz4AVgNUX8XUkSZKkxWaqI8irA+cl+QVw48TGqtr2Tn7mDGDDJBvQEuNdgOdP2ufPwFOBo5M8hJYgXzHFmCRJkqTFbqoJ8kGL+sRVdUuSfYFTgWWBo6rq3CSHALOr6kRgP+DTSf6bVtP8kgGUcUiSJElTNtU2bz9Msh6wYVV9L8lKtKR3YT93Mq11W3/b23q3zwOesGghS5IkSYMzpRrkJHsCxwOf6jatBZwwoJgkSZKkoZnqJL1X0kZ6rwGoqj8A9x1UUJIkSdKwTDVBvrGqbpq4k2Q5Ws2wJEmSNFKmmiD/MMmbgBWTPB04DjhpcGFJkiRJwzHVBPlAWvu13wAvp028e8uggpIkSZKGZapdLG4DPt39J0mSJI2sKSXISf7EfGqOq+oBiz0iaSmz2WbbMGfOZcMOY1qtt94azJpllZUkaTRNdaGQmb3bKwA7Aast/nCkpc+cOZcxY8bsYYcxrebMmbnwnSRJWkpNqQa5qq7s/Te3qj4EPGuwoUmSJEnTb6olFpv07i5DG1Ge6uizJEmStNSYapL7/t7tW4CLgOct9mgkSZKkIZtqF4unDDoQSZIkaUkw1RKL193Z41X1gcUTjiRJkjRci9LF4jHAid39bYBfAH8YRFCSJEnSsEw1QV4b2KSqrgVIchDwrap64aACkyRJkoZhqktN3w+4qXf/pm6bJEmSNFKmOoL8OeAXSb7e3d8e+OxAIpIkSZKGaKpdLN6V5BTgSd2ml1bVmYMLS5IkSRqOqZZYAKwEXFNVHwYuSbLBgGKSJEmShmZKCXKStwMHAG/sNi0PfH5QQUmSJEnDMtUR5B2AbYF/AFTVpcC9BhWUJEmSNCxTTZBvqqoCCiDJPQYXkiRJkjQ8U02Qj03yKWDVJHsC3wM+PbiwJEmSpOFYaBeLJAG+AjwYuAZ4EPC2qvrugGOTJEmSpt1CE+SqqiQnV9XDAJNiSZIkjbSpllj8KsljBhqJJEmStASY6kp6jwNemOQiWieL0AaXHz6owCRJkqRhuNMEOcm6VfVn4JnTFI8kSZI0VAsbQT4B2KSq5iT5alXtOA0xSZIkSUOzsBrk9G4/YJCBSJIkSUuChSXItYDbkiRJ0khaWInFI5JcQxtJXrG7DXdM0lt5oNFJkiRJ0+xOR5CratmqWrmq7lVVy3W3J+4vNDlOsmWS85NckOTABezzvCTnJTk3yRfv6i8iSZIkLQ5TbfO2yJIsCxwGPB24BDgjyYlVdV5vnw2BNwJPqKqrk9x3UPFIkiRJUzHVhULuiscCF1TVhVV1E/BlYLtJ++wJHFZVVwNU1eUDjEeSJElaqEEmyGsBF/fuX9Jt69sI2CjJT5KcnmTLAcYjSZIkLdTASiwW4fU3BDYH1gZmJXlYVf2tv1OSvYC9ANZdd91pDlGSJEnjZJAjyHOBdXr31+629V0CnFhVN1fVn4Df0xLmeVTV4VU1s6pmzpgxY2ABS5IkSYNMkM8ANkyyQZK7AbsAJ07a5wTa6DFJVqeVXFw4wJgkSZKkOzWwBLmqbgH2BU4FfgscW1XnJjkkybbdbqcCVyY5DzgNeH1VXTmomCRJkqSFGWgNclWdDJw8advbercLeF33nyRJkjR0gyyxkCRJkpY6JsiSJElSjwmyJEmS1GOCLEmSJPWYIEuSJEk9JsiSJElSjwmyJEmS1GOCLEmSJPWYIEuSJEk9JsiSJElSjwmyJEmS1GOCLEmSJPWYIEuSJEk9JsiSJElSjwmyJEmS1GOCLEmSJPWYIEuSJEk9JsiSJElSjwmyJEmS1GOCLEmSJPUsN+wAJI2WbbbcjMvmzhl2GNNqjbXW46Rvzxp2GJKkxcQEWdJiddncOcw+dMaww5hWM18/XicEkjTqLLGQJEmSekyQJUmSpB4TZEmSJKnHBFmSJEnqMUGWJEmSekyQJUmSpB4TZEmSJKnHBFmSJEnqMUGWJEmSekyQJUmSpB4TZEmSJKlnoAlyki2TnJ/kgiQH3sl+OyapJDMHGY8kSZK0MANLkJMsCxwGbAVsDOyaZOP57Hcv4DXAzwcViyRJkjRVgxxBfixwQVVdWFU3AV8GtpvPfu8A3gvcMMBYJEmSpCkZZIK8FnBx7/4l3bbbJdkEWKeqvnVnT5RkrySzk8y+4oorFn+kkiRJUmdok/SSLAN8ANhvYftW1eFVNbOqZs6YMWPwwUmSJGlsDTJBngus07u/drdtwr2AhwI/SHIRsClwohP1JEmSNEyDTJDPADZMskGSuwG7ACdOPFhVf6+q1atq/apaHzgd2LaqZg8wJkmSJOlODSxBrqpbgH2BU4HfAsdW1blJDkmy7aBeV5IkSfp3LDfIJ6+qk4GTJ2172wL23XyQsUiSJElT4Up6kiRJUo8JsiRJktRjgixJkiT1mCBLkiRJPSbIkiRJUo8JsiRJktRjgixJkiT1mCBLkiRJPSbIkiRJUo8JsiRJktRjgixJkiT1mCBLkiRJPSbIkiRJUo8JsiRJktRjgixJkiT1mCBLkiRJPSbIkiRJUo8JsiRJktRjgixJkiT1mCBLkiRJPSbIkiRJUo8JsiRJktRjgixJkiT1mCBLkiRJPSbIkiRJUo8JsiRJktRjgixJkiT1mCBLkiRJPSbIkiRJUo8JsiRJktRjgixJkiT1mCBLkiRJPQNNkJNsmeT8JBckOXA+j78uyXlJzk7y/STrDTIeSZIkaWEGliAnWRY4DNgK2BjYNcnGk3Y7E5hZVQ8Hjgf+36DikSRJkqZikCPIjwUuqKoLq+om4MvAdv0dquq0qvpnd/d0YO0BxiNJkiQt1CAT5LWAi3v3L+m2LcjuwCnzeyDJXklmJ5l9xRVXLMYQJUmSpHktEZP0krwQmAkcOr/Hq+rwqppZVTNnzJgxvcFJkiRprCw3wOeeC6zTu792t20eSZ4GvBl4clXdOMB4JEmSpIUa5AjyGcCGSTZIcjdgF+DE/g5JHgV8Cti2qi4fYCySJEnSlAwsQa6qW4B9gVOB3wLHVtW5SQ5Jsm2326HAPYHjkpyV5MQFPJ0kSZI0LQZZYkFVnQycPGnb23q3nzbI15ckSZIW1RIxSU+SJElaUpggS5IkST0myJIkSVKPCbIkSZLUY4IsSZIk9ZggS5IkST0myJIkSVKPCbIkSZLUY4IsSZIk9ZggS5IkST0myJIkSVKPCbIkSZLUY4IsSZIk9ZggS5IkST0myJIkSVKPCbIkSZLUY4IsSZIk9Sw37ACWFps9fTPmzJ0z7DCm1Xprrces784adhiSJEnTygR5iubMncOM184YdhjTas6HxuuEQJIkCUyQJUmSliibbbYNc+ZcNuwwptV6663BrFknDTuM25kgS5IkLUHmzLmMGTNmDzuMaTVnzsxhhzAPE2RJkjRU22y2GZfNGa+yvjXWW4+TZjnPZ0llgixJkobqsjlzmD1jvOb5zByzE4KljW3eJEmSpB4TZEmSJKnHBFmSJEnqsQZZkjQtnr7Z05k7Z+6ww5hWa623Ft+d9d1hhyFpEZkgS9KAbLPNZlx22XhNxFljjfU46aT5z8yfO2cur53x2ukNaMg+NOdDww5B0l1ggixJA3LZZXOYPXvMZubPHK8TAkmjyRpkSZIkqccRZN0lNnWXJEmjygRZd4lN3SVJ0qgaaIlFki2TnJ/kgiQHzufxuyf5Svf4z5OsP8h4JEmSpIUZWIKcZFngMGArYGNg1yQbT9ptd+DqqvoP4IPAewcVjyRJkjQVgxxBfixwQVVdWFU3AV8Gtpu0z3bAZ7vbxwNPTZIBxiRJkiTdqUEmyGsBF/fuX9Jtm+8+VXUL8HfgPgOMSZIkSbpTqarBPHHyXGDLqtqju78b8Liq2re3zzndPpd09//Y7fPXSc+1F7BXd/dBwPkDCXrJtTrw14XuNR58L+bl+3EH34t5+X7cwfdiXr4f8/L9uMM4vhfrVdW/dB0YZBeLucA6vftrd9vmt88lSZYDVgGunPxEVXU4cPiA4lziJZldVTOHHceSwPdiXr4fd/C9mJfvxx18L+bl+zEv3487+F7cYZAlFmcAGybZIMndgF2AEyftcyLw4u72c4H/rUENaUuSJElTMLAR5Kq6Jcm+wKnAssBRVXVukkOA2VV1InAkcEySC4CraEm0JEmSNDQDXSikqk4GTp607W292zcAOw0yhhExtuUl8+F7MS/fjzv4XszL9+MOvhfz8v2Yl+/HHXwvOgObpCdJkiQtjQa6kp4kSZK0tDFBliRJknpMkIfMlQMlSYtLkmW7//v9Lv0b/AAN2URbuyQbJ1lh2PFoyTBx4uQJ1LySPDHJusOOQ0sGPx/zSrJMVd3aJcfvTPLgYcckLa1MkIckyQbd/5PkCcC7gLGdMbmgL7pxHAVJkl4/8PsNNZghS7Jmkhf1Nu0H/MuKR+NsXJPE/uckyf2S3KP/2PAiG56quq373V8PLFdVvxt2TMM0v7+DcfxOgfH9TPw7xvIPZZi6hHhF4NtJDuoO8JcAlwM3dSsKjtWHeNIX3QuS7NwtTU5V3Tbc6KbXpPdiX+DEJB9L8viJS6djZmPgpUn26O5PXD4ey4N978rCo5PsmuRe47i40qTPyeto/fY/nOSV0K7MjdvfSO/3fRdtTYEzhxjO0E38jSR5dpL3JvlUkvuP23cK/MvnZYck/51kjWHHtaQbmyRsCZKquh7YFtg+yYG0L/1ru8duGWp0Q9D74L4W2JM2kv6WJGO3cEzvvdgeeAqwB3ALrV/408YwSf4J8F5gmyQvpq3QednEg0nuNazAhqH7wn8q8EXgpcA3upOn5Ycc2rTqfU4eCzwc2B34KrB1lzCPTZI8cUzonSh9GPgt8MQkqw0tsCHr/v2fBrwNOBqYSTuJGru8p/d5eQnt/Xgs8OUkT0ly92HGtiQb6EIhmld3FncbQFWdn2Rb4DvAFkCAI5NcTUuYL01y6Cif7Sa5L3BDVV2T5N7AY6tq8yRvAs4HjkuyYndCMTaSPAg4CPh6VZ2d5K3Aa4FnAndLcnJV3TrEEAeuN+Jxb+CntM/Hq4AtgWcAVya5AZiRZKeqump40U6frqb0v4Edq+qcJG+nvS8fTTK7qm4eboTTo0t8H0tbiOrjVfXLtDkc1wIHdMeNd4366PqkmuMP0RLjy4G9aCdRr0nykaq6cohhDtPjgX2BBwI3AK/vylCWH5fPyoQkTwReCDytqq5Msh/wSqCS/KyqbhxuhEuesTuTGqbeWdwruuT3z7Qv/FWAFWlnuWcAvwO+MuLJ8drA+4CtkqxCO3itlORTtDP9nbskcOckmwwx1IGbzyjXX4DjgZ2SPLmqrqW9VzcC/wWM/GTObvTnWcC3gdWAHwMfAb4G/IJ2oN8beN0YJcd3p11VeCjwJICqOhg4DziQljCOrP7npJqfAx8DnpNknW5l1tOBDwCPHIfR0y7ZWwY4BbgauBV4P3A3YB/gUcDbktxzeFEO1S3AAcBrgBdX1Z+TPA/Yf9SvLvTKsZJkJeBhwAa0YydV9X7a4MObGPFjx13lCPI0SzLxxb4dQFVdlGRn4BvAY6rqfcOMb7pU1SVJTqeNBt5cVV9L8iPgjcCmVXV92uSs1wFbDzPWQZpUG7YFLQn+Y1W9M8nfgNcnoap+mOQQ4B5V9Y8hhjwtkjyKVku5T1Vd1G37IXAb8AZgt6r6RJK/Dy/KwevVUa5A+9v4JG1g41FJtq+qE7q/lYOBfw412AFKct+qury7/UzaoML3qurtXYL4jSQ7VNWc7jhy+ihfeUqybO8q0qOBH1TVe5L8ADi0qq5Kcg3wcmCXqrpuWLFOt67s5m7ANcBnaCPIh1bVBUkeT7s69+pRvrrQ/14BVqyqfwKfSHIj8Pgku1bVl6rqA0luAv40vGiXXC41Pc2SfAT4WVV9qasbrKq6Jcl/AJ8DtgeuGNUPb/dlVr2kcE9gc9rI4GxgV1rd7bdoo2QvqqpzhhPt4PQSn2W6UaB9gRcBJ3X/36KqLk6yD+09eWNV/XiYMU+n7ktu56rar0sOb+4uJa8KPAH4v6r65VCDnCZdKdaewKrAkcDPaJ+ZTWhJ4nFDC24aJFmPltS8nJbsPAc4B9gQ+H9VdWpXavISYLOqunhIoU6rboRwfdqcja/QTh4/U1WHd48fDHygqv4+sf8If69MHE+fBHyZNuC0Be1qwveBY2nlJw8A3l1V3xxasNMoyatp36PXAl+uqu8k2R14HPDTqjp6mPEt6RxBHqAFHJAuAx6Y5O4TNT9JtgF+Djxp1GtLJ8pGkmwMXFRVn05yFe3EANqErFnATbSD+5yhBDp4D6CNFN/WjYjtSrt8/krg7sBvkmxSVR9PcjMwqu/DPJI8kHZZ9GbguUk+2htB3hy4L/DVUf+cTEjySFpyuDewMm30fDlaErAirURpFnD5qCY/wD2BNWiXyR9E+8Lfn3aS8ILuMHtwNxI2Tt9pzwNeQTtuzAYe30uOvwpcOZEcwzyT+EZOlxw/EdgGeGFVnZZkHdrJ5NW0v5kVgHt1VxlG9mRhQlpHl+fQThzfT5vj9LqqOrIbdNgkydeq6pphxrkkG6eDybSadOn8ibQP6V+A02hlBE9P8hta7c/+wHNG+Us/beb9A6vq8O6sdh/gl90oyF600Y8daJfGThrlS4JdPeAxSX5UVQfQ6iZ3AnYEnlFV6yY5BvhdkgdW1aeHGe906WpG96Ylx4fQTpa+2x3oVwT+B9h/lD8n83E/4PdV9QuAJH8FTgTOpU3C+lpV/WWI8Q1cVZ2b5Du0ZHBH2sn0M4D/BA4HDu2uxLxneFEO3qSyCmgdXjYD1gXeCrw7yTnAH2knTHt1PzfyyWBne9pVhp8CdFfgXkJreffVrszgqu6xkX4/uu+Ym2nfqS+hlWW9Cvhgktuq6rAkq5gc3zkT5AHpJccTl86/SRvx2JFWR7gT7YC/IrBnVc0dTqTT5jrgk2kLpNwL2Io2oeTltPZM29AWgHgS7b0aSd0X+XVdLfoxSQ6oqvcCf+9GT7/e7TqLNjltbFrwdHWT36eNiL2BNinvelrJDcB+VXXysOKbTkkeXlVn05IdkjwEuLCqzkpyNHDviZrcUdSdLN3UO1E+gtaJ4D60UeQfdyU3PwdWAn41nEinT/f7Btiyqk7p5nHcSisZeAGwd5KHAddV1Z/g9uPNyE72htuvRt6/qvbv3o/9kvy0+3zcE1iPNvBywzDjnC5JtgKu6gajHgA8C9i1qq5IsjdwcJJT+1cXNH8myAOUZEva2etTgDcD96clPs+sqlOS3I9WWzmys/CTbAqsWlXfTvIYWleCs6rqT10N9sG0UaDNug/0qtW6Noyk3pfVI4CzgVckWa6q3gX8HzAzyUeBTYFtq+qyBTzVUq9Xf70J7QD++u7v5BZad5d9gfdX1We69+iWUR4N69VRbgQckeT8qtotye9ok1V/kuQK2iz0U4Ya7AB1debHA2cmmVVV36DVUF4DvIDWzuy4rjZ5Jq3l3SifLPST3McAhyU5jjZf4Q3d/WdV1beAc3qDMxnl5DjdfBbaKOmGSW6tqgOSHAbMSnICrePLJ6t1OBlJ8zkmPpE20LQZ7TNzObB2ku1o7VNfPMpXaBcn27wtRt3Zfd8FwM60JHnTqtqYdmn09CQbVdVfRjk57qxEq6ddr5tU9UzgSUl2r6qbq+qmbr8HAFTV34YU57RJ687xXuCztPrSrZLsD3ya1hf7H8DLRjU5TnKP7nLxbd1J09+AzdO6dFBV36O1LtsFODCtRdFE//CRTI7h9jrK7WhXmE4D/iPJkVV1EO2y8SNpo+mvrKqfDS3QAeuOAXsCZwEfT/Iu4Gm0MoINaCeXLwIuAnaqqj8MJdBp0PucJK015m9pSd//0RZH+Sbte3wTmPfzMcqflc6q3e/4Plpr1J2TbF5VrwROAJ4LHFRVX80IL7A0+d+5qt4MnN+dNP2VliC/irb8+JGjXpK1ONnFYjHpn+V3kwNumvhDTPI/tLZDJyQ5gHaAO6iq/ji8iAdrYsSvu70a7Qv/0Kr6fDeq/ANa3+cf0Pow7lRV5w8n2unVXea6uZsssSzty+1zwFFVdehwoxusrlRgX9qEq5nAl2gnTcsAn6JdOn9zkkcAbwHeWlW/G1a80ynJ3WjdXD5Sbbb5fYHDaJdLX97ts8o4XRrtRtN3pM26vzttsuo/qmq/oQY2jbqR0uNpZQI3Az+prh1o2qJKO9DKb3YeXpTTqztZ+DTts3JK99l5Pa1P/KFV9YMkH6NdiXt6VV09xHAHIq1jxypV9c0ku9JKFH9drSXoa4C1quoN3b6r0vK9kXsfBskR5MUgyUxafTFpy5yeBByb5Khul9uAZ3YjZDvRJhqNcnJ8H+DJ3e19aHWDhwAvSbJLVZ1Ouwy0F20m9tajmhzP56oCtH61+yW5W7VJN2fRaih3SLL6An5mqdclO58FfkhbIe9DwFuq6vddErwn7T04kTYCdOS4JMedZWjHionSt6toJ5FPTvIJgHFKjgGq6ve0Vm7bA7+kLXbw4iQrj+rnZD4+DsylXVE5GNgyra0dVfVu4FkTyfEYvSdX01qB7p3kGVV1U1emdn9g1yT3rKp9aVdeVh5moAN0I3BWNwB1Bq3Ty38nOZR2jN2huyJFVf3N5HjRWYO8eGwK7NKNHD+eNgHteuBrST5Aqz/emzZZ4GVjcInjRuD5aUskzwC+1V3mKuDVXcnUV5I8nDbSfslQox2gXj3gnsDatPfm47QZ+D9MshutXmwZYLvuktjISVs++zvAZVV1bJL1aaUkr0hrNXR9Vf0+yaNpHQourqqRn3gFkGRd4C9VdUOSLwAfSXJ5Vc1Ocj2tbn+dJE+qqh8NN9qhmCiveUs3qp4a4dn3+deJddfSjqHX0RKitwD7JLl3VV1ddyygMg71+Y+iJYJzaFef/g68sjsv+AOtnOBTEzW2VfXqIYU8cFX1iyQzgF/TVhR9Y5KVaSVaO9ImeW+R5Js1Xp1/FhsT5H/DxIe2qj6WNrFob1qf4+uq6tokz6CNDn6/qj44zFinU7UuDV+kTb47BfhzkuWrrZYX4K3dhIrjhxvp4CRZqVpboYlm7dvSRtE/RPuCPyDJ+4F30g74r66qK4YV7yAl2RD4Aq0rxX8l+UhVvTrJC2jvyYeTvKZLkq+nNfkfWV2S9+CqmpW2CMjraS39zqGV2iwDnJTW6u+FtPZVu9Fm5I+dLjGaONaO7GQ8uKOVW3ec3Ak4jjZa+pEkT6g2gfkiWj/wu/V/dhST46504ubub2BL4BPAybQJaB+hrR9wK21BkJuAg0f5xHryyVO1zhQvB96ZZOWqOpI2OLUhbYLeKSbHd50lFndBN2FinktZVfVJ4MPAmrROBPfqanC/TWtQPtL670faSj1b00bS16AtGbwaQFV9lTZh4IwhhDktkmxN60m6TldjvA6tznYmbXLNoWk12vtV1S60ria/HmLIA9PVT+5M60bxflrt8YPTFgD5P9oJwk3A4UlWHGKo0yLJcrTWhlukTVA8mPb+3EzrV7o/7QRhS+BUWunWcrSSpN9Pf8RLhlFM/uanS46Xoc3ZeFh3UvBuWtneGUmeTbsCdeGoX4nsSrIOo5WUbAC8DNi92iS819Dq0jesqi/SJnFuX1XfGOUyk7pjntMOSV6U1g7yZNraCq9O8tJuvz9U1aE1gqvQTicT5Ltm3e7AVUn2SPI/SZ5SVV+mHbzeCrwtrQfyDrRlUUdar5RgF1qd4Oe7+sFX0yYl7p3kkCS/As6oEV0hr/sCew/wg2pL3t5GK634AS3J2a5a5449uoNcaoRbEHUH9P9XVV/q7l8CvBTYqBtJ/jNtFvr1wH8ML9LB6/6tb6Elvs+jfTaeATyK9mX/btpJ1HuAf1bV92kn128DXlIjPG9B83g/bbLqW5PM6EZOP0S72vJw4DdVtQ+Mbs1xWm/jL9KuwM6u1tf5KuCh3Sj7/9JOIl7bXa37v+5YMvInU2mLnxxK+16d1V1ZOJV2cn1wkucPM75RYonFIkqyCnBCkiNoraj2oC1nuVtXH/VB2qIYH6DVSD2t+3CPpF5t2MSln61po6XHAVTV3LSuDfvQLgu+dFQTwiT3B/YD9qiqM5Ks0NWVHk0bCflgVd3cHeBeAzx71A/mAHVHK7+J+3OTvIw2anx4Ve2V5NWj+ncBt3e2eX6SI7rawf1prf42ol0ufklV/SZt2fFVgInE52Lg+TX67SDHVv51hbyLgccmeQft5HpNYFVgi6r6R+/nRnIRkK6O9mPAx6vqqN5JwGxam79NaasI/oZW0jjSx9Aka1bVpd3tzWnHiy2r6oIkvwVOTrJVVX23+265aFixjhoT5EVUVX/vakrfASxLa092cVdLuAXwWlptVAFnVtVFw4p10CaS4+7u+rTLfi9K8j7gkCTbV9W1VXVp2qzrZarq5qEFPHg30i6V35C21v2BSZ5Mm2RzFS0h3IrWz3bHUR8RnPT3MY/eidNnkmxcVedNc3jT7eW0xT4ek+SNtJPqI2mXhh9D63l8KK3H7yu6qy+UM89HWq/meBlaKdqRtJZuD6AdT95Jm5B2NG0F0tsT5FFMjjvX004SvtrdXxa4hdYC8bXA/mnLz0+0S71+GEFOhyRrAbsn+SDt3/5ZtGPEpkn+XG0RJYAfJ/mvbmRdi4l9kKco8/Y5nmjMfjJwRFW9qdu+DbAdbaW4jw0t2GnWHay2p10Ou66qDk7yOVoHi11qTFpTdSMdr6NdNv9P4HvAj2lXGran1ZB+nXaiMJIT8mCeqwr3WNiIV5K7V9WN0x/l9MgdKwAuSxsVexit9dQfaEnQzbQrTfvRTjIPq6qvL+DpNIK675MTgT9W1WsmPbY8cBRAVe02hPCmXVrP3h8BB1ZbHbD/OVqDNrflKmBOVZ15ZyfiS7O0SXfXJLkn8GDa8eJ4Wn/4e9Ou0v68O8F6Ia10cSTbpQ6LI8hT0H0AJ5LjvWmTio6m1Rd/NMlfqurDVXVSWjeLkZ1FO1k3cv484Dm0hR6uB+hGko8DPptkh1E8gE3WJYWfoiVA6wDfmEj+kuwFnF1VVw4zxunQvQ9bAa9J8mvaF9nHq60INnkW9ignx/cHnpvkV1X10ySH0/qDX0xLjJ9C627ykKraKa1363Wj+oWvBdoNuLaqXpPWfeA5tNUlv0/7+7itql4Mo93KbUJV/S3JR4Edk8ytqrO4o4ziUcATgH0mjh2j+H50pVbvTnJAVX0vySNpx4vraXMVDqatFLh8kh9V1eeHF+3ocpLeFPQmoO1Bu1R6WlXdVlU/odXW7pK2ohFVdUqN+OziSQJ8lDZyvjJt+VPSltLeiXa5eOQOYAtSVddV1c+q6thecrwTbeRwZJcH7ktbOOeVtMvFfwQenbaa5ChfFp6flWgTD9/ZjfD8jlZLem1VnQgcSEuCtkjysLqjd+vYfF7GUf512eNzgKuSnAm8gnYJ/SG0ORtH9JLjZcbob+PrtPrivZNsAdyW5Am0Cb1fHeUT685GtKuQByR5ZlUdQbti/RzaPJ+30/K3LWkrTGoALLG4E71LxaGNth9Da0J+WuZdSvkJtJrk5wJXj8NBLMn2tNqwC2gLQPypqjbtHnsFLSF87eQJWuOkuxy4M22FuJ1rDFrudDVzPwJOqKrXpbVu25DW6/d9NaLt7BYkrY/rFrSe4B8AlqeV2+zdTcpbDVitqi4YXpSaLpNqjrelfa/MAh5Et2xwt9/JwKcnym3GYeR4siT3o12d3Id2VfaBwHuqa+U2yu9HktVpC4xdTFtI6qjuCvVutKtQp9JOIu49yuV6w2aJxQKkdauYQUsAHwZcSru8seyk/R4HnElbLnlkZ+H3dScMq9Bqor5B69DwkO6y0Dq0hPBF45wcd/5GqzXdbhwSoLR2S3PTFrh4dZIjq+pc4OwkK9E+T2Ol+wx8O23RoFfR+mDfm64NZHe1yQ4VY6LuWATkh8D5tNHiJwNfr6pvdt87RwGX9GvRRzkZXJDus/HRJMfS2mXevaouGdXkOG1lWarqbNox4SZgY9riKK9KW1zrmCR3p/VHP8XkeLAssZiP7uz+4cB2Xd3gR6otAXwurRPB2t2EgV1o5QUrjktyDLcfrP9Ia+e2Lq1v57dplwcfR0uOR360dGGqrQz3rVFPjtNsBHwnyYOr6u20FmbHJ9kqyUNpJ5nXDjXQIaqq39H6Gc+iJUbPAkZ+YRQ1k8oqdqYlwHvQWpZdAuzaJT6bAr+uqr26nxv77+iq+ktVXVGth/pIniwkuQ9tkvu3kjwXeDRtBPlGWhnjF2jlJtt15RZvnCjJ0uBYYrEA3Zn8MbTFHfavqqO67e+itWb6HW1m6R5V9ZuhBTqN0now7gS8qptw9SraAX3vaktrL0M7fvlHNYaSfJjWeukVVfX7JAfRVng6hdaO6axRHf1ZVEke2U0+0oib1MlkN9pl8/1px8053T5nAAfQFhi6vVvSmNXsj7Wu1vp7tNZ+N9Pq0OfSTpg+n7ZK3pbAy6rXHUiDY4lFT//Lu1q/44/RJlA8IK2n7wlV9eYkJwB/BW6sroH3KJpPMnMNbcnobyY5hVZ2ci7t0vm1HszHTzfrfv2q+m61Wfj/Q+tt/NKqOijJX2gr5/1tqIEuISaSnonk2BOG0ddLjt8J3IN2te1C4HFJ6JLkS7t9+x1ePJ6Okar63yRPp5XYbEKb0/R8YI2uzOR42gRFk+Np4ghyp/9F1U1AuxL4O221ngOA+wEn0JLBFavqmOFEOj0mvR870Gbkn1pVf+1qjR9CmzyxAfCJqnr18KLVdOpNXr0vrVvFqrRJead1j3+BNrHkqVX1hyRvBZ5KK8m5yYRQ4yBt2fk/VdW5Sd4C7As8tDuGPh94PG1y3s20/vE7DzFcLSGSbE0rUXt8tbaPG9QIr8a7JDNB7vS+9F8D7EJrwr0Nbc3zU4H/pk2o2Bx4RlX9dlixTqckL6ItfnEZcDnweeD7XYnFTFrbmc/X6K+ENvbSLZ3d3X4iLeH9Eu1v4J7A96r17NyMtuT6nlX1q27/1crlkjUmuquPa9AWhzmDduXtJOA3VfXCbp8NaBM271dVp3TbLKvQRJL8fuAJE8dNrzZNv7EvsUjyH8AVXUnFE2k9Bp9AW/ZzGeANwHJV9b4kM7rblw0v4umTZEtazdxjq+qmJAfStSZKclpVzU5yZlXdOtxINWhJVgbOSvKyqvoBbVb5slV1XpKbgF2BF6QtHLMprQ759gVzTI41LpJ8Ali9qnbsbb6uS3o+k+TjVbVPNyr4p97PxeRYAFV1ctoqit/rBqKc2zMEYz1DNsm9aZeI35zkXrQlgfeg1f38F22E7HTgw0me382kHdnkuGs/NHH77rTyiU1pI+nQ+rjOpU3U2wxa26JpDlNDUFXX0K6mHJ/kSbQWRCt2j11A+9v4EnAd8Laq+sWwYpWGpZvcfV/g1d39Zbv/p6rm0urx10rypck/awKkvqr6BrBZN2fBv40hGMsR5N6lir/RFrl4Aq2M4NCquiptidiPVNUNSf5KKyv4ydACngaTao5XodWKfiJJAS9Jcm1VfSfJB2knFWO14MM4S7e4Qff3cA2t9/URQCV5Aa1Wv4C/VtWbup/xcqDGSjfAsByt3GhisGFi0nel9QJfk5Y87zSUILVUsZXbcI1lgkxb7OMWWg32Kd3l4/1pX/jvB/4BvCnJI4AXAFtMtOMZVb3keH/aBKt1k7yHNoL+T+CVSZavqm/RRgs1BrpE99auBdGaXbuh22h9Oc+lLaTzDNrCMf8z8XMmxxonvRPCK5P8nbYU8Mu7uRorVtX1tInOm9MGX9436eckLWHGbpJe2hKOs2l1tZcnWZM2Ie/XtJGw66rqXWnNutcBvlNtNbCRlOTRtBOG39Nay/wPrc/zVsBTaBNMjgdeTBtpfylwvQf10TcxYahrPfQp2r/9rG40bEfa8slPqLYIhjTWugGEm5NsTJu7cmFVHdJ7/DjgMjv+SEuHsUuQAZJsA7yH1q3iw8DXquqwtIUwtgNuAN456v0Gu0l476CtBvi/tAT42VW1W/f402mzsLemLZG7fFX9bTjRarokuV+1ZV5Jcg/gaOCYqjox3aIH3WN70j4/6wF/q6qbhxWzNAxJ9gYeU1W797bdnTZHY19a3+PTaMfWq3odLBw5lpZwYzlJr6pOopVUnA18t6oO6x76Ea2J+220y2EjK8mTaYnxPlX1uWrLeJ4P3JbkcQBV9V1a7fX9quofJsejL8ndaEuabgTQnST+pb9Lt99DqurTwAO7yasmxxpHxwBXJXkM3J743tgdO3cGvkmb2Py1XnK8jMmxtOQbyxHkCd0I6UeBx1XV33vbV6qqfw4vssFL8jrg1qr6cO5YCnUV2qIoy9BWCvwr8FZg86q6eIjhahpM/N13fwcA76mqfbr2fg8D9qqqfyR5JPA+YPe6Y6lcR8Q0VrpJeXcDXkG7gnL0xPYFfRbscywtPcZ1kh7QRkiT/DfwiySPn+jVOsrJce/gvQGt5hrg1u7A/fckh9IO+A/pHtvW5Hj0JXkw8MEkf6Itg3sGcPck76iqtyY5AvhCkquBRwKH9Ceumhxr3HR/8zcm+Q7w2SRzqy25vsDPgsmxtPQY6xHkCUm2o806HpuG3F1XgjcBB1TVL5MsAyzTjSTvS2t/d1FV3TTUQDVw3aSiw2m1xssAGwN/AH4M7EdbLvftSR5FW3L9iu5vxlFjjZUkG1XV7ydaH058BpI8DdgeeMdE/b6kpdtY1iBPNqYNuX9OS4B2TvLo7ne/JckuwMtonSpMjkdcV3N8Em0C0RG0/sZ/Adarql/TSinWTPLRqjqzqr5dVb8ER401XrrOLcfDHQsk9T4DZ9NK0u7X7bvsMGKUtPiYIHfGrSF3N/nq07SVzz6Q5P1J3gkcBLzIsorx0J0E7QJsmmSf7hLwP4HVuhrL84CPA/foRpqlsVRVXwUuTPKG+Tx2Oa3Tz7snRpenPUBJi5UlFmMuyYrAo2m9jy8DTquq3w83Kk23JDOB7wI/BFYGXlJVf+4eWwa4R1VdO8QQpaFJcrequinJ82i9v1/TbQ/Ms9DSR2ilaS6mJC3lTJAlAdB1pzgN+EBVvSPJcrTvfkfDNJa6+RifoH1X3pJkLeBU2mp4h/f2m6hJfgitRv+vQwpZ0mJigizpdt3KiqfQWrx9cNjxSMOSZAbwWaCAHwCnVNU5SZ5Jm6fxhn4nF0mjxRpkSbfrJuBtAxySZN2uvEIaK0leCLyvqramrRa5CnBqkj2A1YCrgNW7fTO0QCUNjCPIkv5FkpWr6pphxyENQ5KHA/sAN9BaYd6YZFtgc1qnil2BnwJPraobhxaopIExQZb0L3r9Xe11rLHTjQo/CHgVsDzwmqq6Psm9gRVo7Q/nVNWbhhimpAEyQZYkjb0kbwKOnFjoo0uSHwy8klaHvN9Eb/j+ktGeREqjyfpCSZLaCpLHJ1kdbm/d9jtaH/DlgSfB7R0rTI6lEWeCLEkaW0lenmStqnoh8Gvg610HC2hXWc8DbgPWgjtW0etumxxLI8oEWZI0lpJ8EtgRmFjwY1/gXLokeWKkGLgvbRRZ0piwBlmSNHaSHAQ8vKqeM5/H3gk8FvgJbaXRq6vqxdMboaRhWm7YAUiSNJ26/t6rA5/v7m8OPAx4GnA6cDDwZOA+wOVV9YmJn+uNKksaYY4gS5LGTpIX0/oZXww8AvgFcA1tIZBLq+qQSfubHEtjxBFkSdI4+jpwE7AT8Cbg7Kq6PMluwEMm72xyLI0XR5AlSWNrcqu2JMcBv6+qNw8xLElDZhcLSdLY6laMvHuSByT5FnDNRHLcLRYiaQyZIEuSxt0ywMOBX1fV7nB7zbGXWKUxZYmFJGnsdSvk3drddkKeNOZMkCVJkqQeSywkSZKkHhNkSZIkqccEWZIkSeoxQZYkSZJ6TJAlaZoluTXJWUl+neRXSf5rEX/+6CTPneK+X+9e64Ikf+9un7WorylJ48SlpiVp+l1fVY8ESPJM4D3AkwfxQlW1Q/c6mwP7V9WzB/E6kjRKHEGWpOFaGbga2sptSQ5Nck6S3yTZubf9Y0nOT/I94L7d9i2SnDDxREmenuTrC3vBJLOSPLJ3/8dJHpHkoCTHJPlZkj8k2bO3z+uTnJHk7CQHL65fXpKWRI4gS9L0WzHJWcAKwBrAFt325wCPBB4BrA6ckWQW8HjgQcDGwP2A84CjgNOAjyeZUVVXAC/tti/MkcBLgNcm2QhYoap+nWQH2opymwL3AM7sll9+KLAh8FggwIlJNquqWf/OmyBJSypHkCVp+l1fVY+sqgcDWwKfSxLgicCXqurWqvoL8EPgMcBmve2XAv8L0C2FfAzwwiSr0hLpU6bw+scBz06yPPAy4OjeY9+oquur6q+0BPyxwDO6/84EfgU8mJYwS9JIcgRZkoaoqn6WZHVgxl18is8AJwE3AMdV1S1TeM1/JvkusB3wPODR/Ycn704bNX5PVX3qLsYoSUsVR5AlaYiSPBhYFrgS+BGwc5Jlk8ygjRz/ApjV274G8JSJn+9GlC8F3kJLlqfqCOAjwBlVdXVv+3ZJVkhyH2Bz4AzgVOBlSe7ZxbxWkvvepV9YkpYCjiBL0vSbqEGGNjr74qq6tZtg93jg17SR2zdU1f9127eg1R7/GfjZpOf7AjCjqn471QCq6pdJruFfk+qzaaUVqwPvmEjAkzwE+FmrBOE64IXA5VN9PUlamqSVsEmSllZJPgacWVVHLsLPrAn8AHhwVd3WbTsIuK6q3jeIOCVpaWGJhSQtxZL8ktZ54vOL8DMvAn4OvHkiOZYk3cERZEmSJKnHEWRJkiSpxwRZkiRJ6jFBliRJknpMkCVJkqQeE2RJkiSp5/8D66UG/ckUuPsAAAAASUVORK5CYII=\n",
       "datasetInfos": [],
       "metadata": {},
       "removedWidgets": [],
       "type": "image"
      }
     },
     "output_type": "display_data"
    }
   ],
   "source": [
    "# Plotting using Matplotlib\n",
    "plt.figure(figsize=(10, 6))\n",
    "plt.bar(body_type_counts['body_type'], body_type_counts['count'],color=['green', 'red', 'blue', 'orange', 'yellow', 'purple'],alpha=0.8, width=0.9, edgecolor='black')\n",
    "plt.title('Body Type Distribution')\n",
    "plt.xlabel('Body Type')\n",
    "plt.ylabel('Frequency')\n",
    "plt.xticks(rotation=45, ha='right')  # Rotate x-labels for better visibility\n",
    "plt.tight_layout()\n",
    "plt.show()"
   ]
  },
  {
   "cell_type": "markdown",
   "metadata": {
    "application/vnd.databricks.v1+cell": {
     "cellMetadata": {},
     "inputWidgets": {},
     "nuid": "990e3005-fe25-4385-ae7a-86ba5c159ad8",
     "showTitle": false,
     "title": ""
    }
   },
   "source": [
    "------------------------------------------------------------------------------------------"
   ]
  },
  {
   "cell_type": "markdown",
   "metadata": {
    "application/vnd.databricks.v1+cell": {
     "cellMetadata": {},
     "inputWidgets": {},
     "nuid": "a908bf81-a381-45f5-85ee-88c9eda1d0f5",
     "showTitle": false,
     "title": ""
    }
   },
   "source": [
    "City_fuel_economy"
   ]
  },
  {
   "cell_type": "code",
   "execution_count": null,
   "metadata": {
    "application/vnd.databricks.v1+cell": {
     "cellMetadata": {
      "byteLimit": 2048000,
      "rowLimit": 10000
     },
     "inputWidgets": {},
     "nuid": "6379f68e-5807-4a3d-9fac-db6a04ce4751",
     "showTitle": false,
     "title": ""
    }
   },
   "outputs": [
    {
     "name": "stdout",
     "output_type": "stream",
     "text": [
      "The amount of null values in the city_fuel_economy column are 16.37593%.\n"
     ]
    }
   ],
   "source": [
    "# Calculate the percentage of null values in the 'city_fuel_economy' column\n",
    "null_percentage = (cars_df2.filter(col('city_fuel_economy').isNull()).count() / cars_df2.count() * 100)\n",
    "\n",
    "print(f\"The amount of null values in the city_fuel_economy column are {null_percentage:.5f}%.\")"
   ]
  },
  {
   "cell_type": "code",
   "execution_count": null,
   "metadata": {
    "application/vnd.databricks.v1+cell": {
     "cellMetadata": {
      "byteLimit": 2048000,
      "rowLimit": 10000
     },
     "inputWidgets": {},
     "nuid": "7efa0d14-f8fa-43e5-ba65-43e6f401a674",
     "showTitle": false,
     "title": ""
    }
   },
   "outputs": [
    {
     "name": "stdout",
     "output_type": "stream",
     "text": [
      "+-----------------+------+\n",
      "|city_fuel_economy| count|\n",
      "+-----------------+------+\n",
      "|             70.0|   134|\n",
      "|              8.0|    42|\n",
      "|             67.0|   274|\n",
      "|            112.0|     3|\n",
      "|            124.0|   571|\n",
      "|             88.0|   153|\n",
      "|             49.0|   680|\n",
      "|            101.0|    72|\n",
      "|             98.0|     5|\n",
      "|             29.0| 67039|\n",
      "|            107.0|    31|\n",
      "|             64.0|   300|\n",
      "|             47.0|   109|\n",
      "|             42.0|  1716|\n",
      "|             44.0|  6417|\n",
      "|             null|491278|\n",
      "|             35.0|  6328|\n",
      "|             62.0|    53|\n",
      "|             18.0|191820|\n",
      "|             80.0|   512|\n",
      "+-----------------+------+\n",
      "only showing top 20 rows\n",
      "\n"
     ]
    }
   ],
   "source": [
    "# Group by 'city_fuel_economy' and count occurrences\n",
    "city_fuel_economy_counts = cars_df2.groupBy('city_fuel_economy').count()\n",
    "\n",
    "city_fuel_economy_counts.show()"
   ]
  },
  {
   "cell_type": "markdown",
   "metadata": {
    "application/vnd.databricks.v1+cell": {
     "cellMetadata": {},
     "inputWidgets": {},
     "nuid": "464bb207-6637-479b-b21f-64e81484cf40",
     "showTitle": false,
     "title": ""
    }
   },
   "source": [
    "Since this is a continuous variable, we can fill in the null values with the average value of the column.\n",
    "\n",
    "But before we do that, let's take a look at the data to see if there are any outliers."
   ]
  },
  {
   "cell_type": "code",
   "execution_count": null,
   "metadata": {
    "application/vnd.databricks.v1+cell": {
     "cellMetadata": {
      "byteLimit": 2048000,
      "rowLimit": 10000
     },
     "inputWidgets": {},
     "nuid": "1307bd59-86d7-444e-82b6-b7cdb5f99098",
     "showTitle": false,
     "title": ""
    }
   },
   "outputs": [],
   "source": [
    "# Convert Spark DataFrame to Pandas DataFrame\n",
    "city_fuel_economy_data = cars_df2.select('city_fuel_economy').toPandas()"
   ]
  },
  {
   "cell_type": "code",
   "execution_count": null,
   "metadata": {
    "application/vnd.databricks.v1+cell": {
     "cellMetadata": {
      "byteLimit": 2048000,
      "rowLimit": 10000
     },
     "inputWidgets": {},
     "nuid": "cba71945-1bc2-459f-b15d-154c2b49d71c",
     "showTitle": false,
     "title": ""
    }
   },
   "outputs": [
    {
     "data": {
      "image/png": "[encoded data removed]"
     },
     "metadata": {
      "application/vnd.databricks.v1+output": {
       "addedWidgets": {},
       "arguments": {},
       "data": "data:image/png;base64,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\n",
       "datasetInfos": [],
       "metadata": {},
       "removedWidgets": [],
       "type": "image"
      }
     },
     "output_type": "display_data"
    }
   ],
   "source": [
    "# Plotting using Matplotlib\n",
    "plt.figure(figsize=(10, 6))\n",
    "plt.hist(city_fuel_economy_data['city_fuel_economy'], bins=20, color='blue', alpha=0.7)\n",
    "plt.title('City Fuel Economy Distribution')\n",
    "plt.axvline(city_fuel_economy_data['city_fuel_economy'].mode()[0], color='r', linestyle='dashed', linewidth=2, label='Mode')\n",
    "plt.axvline(city_fuel_economy_data['city_fuel_economy'].median(), color='goldenrod', label='Median')\n",
    "plt.axvline(city_fuel_economy_data['city_fuel_economy'].mean(), color='darkgreen', label='Mean')\n",
    "plt.legend()\n",
    "plt.xlabel('City Fuel Economy')\n",
    "plt.ylabel('Frequency')\n",
    "plt.show()"
   ]
  },
  {
   "cell_type": "markdown",
   "metadata": {
    "application/vnd.databricks.v1+cell": {
     "cellMetadata": {},
     "inputWidgets": {},
     "nuid": "2368713d-3f72-47dd-a7c4-19911d03a856",
     "showTitle": false,
     "title": ""
    }
   },
   "source": [
    "It looks like there is a high emphasis on the lower end of the fuel economy. This is expected because most vehicles are fuel efficient. \n",
    "\n",
    "Lets take a look at the outliers."
   ]
  },
  {
   "cell_type": "code",
   "execution_count": null,
   "metadata": {
    "application/vnd.databricks.v1+cell": {
     "cellMetadata": {
      "byteLimit": 2048000,
      "rowLimit": 10000
     },
     "inputWidgets": {},
     "nuid": "285aa3d0-a91f-4bdd-8c27-bba54bff0cbb",
     "showTitle": false,
     "title": ""
    }
   },
   "outputs": [],
   "source": [
    "# Filter for rows with city_fuel_economy over 60\n",
    "outliers_data = cars_df2.filter(col('city_fuel_economy') > 60)"
   ]
  },
  {
   "cell_type": "code",
   "execution_count": null,
   "metadata": {
    "application/vnd.databricks.v1+cell": {
     "cellMetadata": {
      "byteLimit": 2048000,
      "rowLimit": 10000
     },
     "inputWidgets": {},
     "nuid": "bd3e7e49-9b27-409c-baec-991158a4f06b",
     "showTitle": false,
     "title": ""
    }
   },
   "outputs": [
    {
     "name": "stdout",
     "output_type": "stream",
     "text": [
      "+----------+-----------------+-----------------+-----------+---------+\n",
      "| make_name|       model_name|city_fuel_economy|engine_type|fuel_type|\n",
      "+----------+-----------------+-----------------+-----------+---------+\n",
      "|     Tesla|          Model S|            102.0|       null| Electric|\n",
      "|      Audi|Q5 Hybrid Plug-in|             64.0|         I4| Gasoline|\n",
      "| Chevrolet|          Bolt EV|            127.0|       null| Electric|\n",
      "|     Volvo|              S60|             70.0|         I4| Gasoline|\n",
      "|    Nissan|             LEAF|            114.0|       null| Electric|\n",
      "|   Hyundai|   Ioniq Electric|            127.0|       null| Electric|\n",
      "|   Hyundai|   Ioniq Electric|            127.0|       null| Electric|\n",
      "|   Hyundai|    Kona Electric|            127.0|       null| Electric|\n",
      "|    Nissan|             LEAF|            123.0|       null| Electric|\n",
      "| Chevrolet|          Bolt EV|            127.0|       null| Electric|\n",
      "|       Kia|          Niro EV|            123.0|       null| Electric|\n",
      "| Chevrolet|          Bolt EV|            127.0|       null| Electric|\n",
      "|    Nissan|             LEAF|            114.0|       null| Electric|\n",
      "|       Kia|          Niro EV|            123.0|       null| Electric|\n",
      "|Volkswagen|           e-Golf|            126.0|       null| Electric|\n",
      "|       Kia|          Soul EV|            120.0|       null| Electric|\n",
      "| Chevrolet|          Bolt EV|            127.0|       null| Electric|\n",
      "| Chevrolet|          Bolt EV|            127.0|       null| Electric|\n",
      "|    Nissan|             LEAF|            114.0|       null| Electric|\n",
      "| Chevrolet|          Bolt EV|            127.0|       null| Electric|\n",
      "+----------+-----------------+-----------------+-----------+---------+\n",
      "only showing top 20 rows\n",
      "\n"
     ]
    }
   ],
   "source": [
    "# Select desired columns for the output\n",
    "selected_columns = ['make_name', 'model_name', 'city_fuel_economy', 'engine_type', 'fuel_type']\n",
    "result = outliers_data.select(selected_columns)\n",
    "\n",
    "result.show()"
   ]
  },
  {
   "cell_type": "markdown",
   "metadata": {
    "application/vnd.databricks.v1+cell": {
     "cellMetadata": {},
     "inputWidgets": {},
     "nuid": "2a11d798-fabd-47d3-9716-665b85d29ada",
     "showTitle": false,
     "title": ""
    }
   },
   "source": [
    "`There a few vehicles that have a very high fuel economy even though they are small engines and electric vehicles. This is likely due to the fact that these vehicles are poorly maintained. We can fill in the null values with the average fuel economy for the body type of the vehicle."
   ]
  },
  {
   "cell_type": "code",
   "execution_count": null,
   "metadata": {
    "application/vnd.databricks.v1+cell": {
     "cellMetadata": {
      "byteLimit": 2048000,
      "rowLimit": 10000
     },
     "inputWidgets": {},
     "nuid": "6fd952b3-41b0-4c09-8b69-a1a3f674017b",
     "showTitle": false,
     "title": ""
    }
   },
   "outputs": [],
   "source": [
    "# Calculate the mean of the 'city_fuel_economy' column\n",
    "mean_city_fuel_economy = cars_df2.select(mean('city_fuel_economy')).first()[0]"
   ]
  },
  {
   "cell_type": "code",
   "execution_count": null,
   "metadata": {
    "application/vnd.databricks.v1+cell": {
     "cellMetadata": {
      "byteLimit": 2048000,
      "rowLimit": 10000
     },
     "inputWidgets": {},
     "nuid": "2aee6d26-353d-4350-a2a8-fda71b7c52c8",
     "showTitle": false,
     "title": ""
    }
   },
   "outputs": [],
   "source": [
    "# Replace null values in 'city_fuel_economy' with the calculated mean\n",
    "cars_df2 = cars_df2.withColumn('city_fuel_economy', when(col('city_fuel_economy').isNull(), mean_city_fuel_economy).otherwise(col('city_fuel_economy')))"
   ]
  },
  {
   "cell_type": "code",
   "execution_count": null,
   "metadata": {
    "application/vnd.databricks.v1+cell": {
     "cellMetadata": {
      "byteLimit": 2048000,
      "rowLimit": 10000
     },
     "inputWidgets": {},
     "nuid": "e233c954-85c0-4879-ad34-b816c6104df0",
     "showTitle": false,
     "title": ""
    }
   },
   "outputs": [
    {
     "name": "stdout",
     "output_type": "stream",
     "text": [
      "The amount of null values in the city_fuel_economy column are 0.00%.\n"
     ]
    }
   ],
   "source": [
    "# Calculate the percentage of null values in the 'city_fuel_economy' column\n",
    "null_percentage = (cars_df2.filter(col('city_fuel_economy').isNull()).count() / cars_df2.count() * 100)\n",
    "\n",
    "print(f\"The amount of null values in the city_fuel_economy column are {null_percentage:.2f}%.\")"
   ]
  },
  {
   "cell_type": "markdown",
   "metadata": {
    "application/vnd.databricks.v1+cell": {
     "cellMetadata": {},
     "inputWidgets": {},
     "nuid": "2ce1a321-4bb5-4053-aa84-15236d1e1781",
     "showTitle": false,
     "title": ""
    }
   },
   "source": [
    "------------------------------------------------------------------------------------------"
   ]
  },
  {
   "cell_type": "markdown",
   "metadata": {
    "application/vnd.databricks.v1+cell": {
     "cellMetadata": {},
     "inputWidgets": {},
     "nuid": "701372a9-29ae-4ca7-bea6-905023981893",
     "showTitle": false,
     "title": ""
    }
   },
   "source": [
    "highway_fuel_economy"
   ]
  },
  {
   "cell_type": "code",
   "execution_count": null,
   "metadata": {
    "application/vnd.databricks.v1+cell": {
     "cellMetadata": {
      "byteLimit": 2048000,
      "rowLimit": 10000
     },
     "inputWidgets": {},
     "nuid": "0227b066-45aa-4248-83ce-bf78dfbfd5af",
     "showTitle": false,
     "title": ""
    }
   },
   "outputs": [
    {
     "name": "stdout",
     "output_type": "stream",
     "text": [
      "The amount of null values in the highway_fuel_economy column is 16.38%.\n"
     ]
    }
   ],
   "source": [
    "# Calculate the percentage of null values in the 'highway_fuel_economy' column\n",
    "percentage = (cars_df2.filter(col('highway_fuel_economy').isNull()).count() / cars_df2.count() * 100)\n",
    "\n",
    "# Print the result\n",
    "print(f\"The amount of null values in the highway_fuel_economy column is {percentage:.2f}%.\")\n"
   ]
  },
  {
   "cell_type": "code",
   "execution_count": null,
   "metadata": {
    "application/vnd.databricks.v1+cell": {
     "cellMetadata": {
      "byteLimit": 2048000,
      "rowLimit": 10000
     },
     "inputWidgets": {},
     "nuid": "806e49b3-7fc5-4452-a9e3-7dae40a36d1d",
     "showTitle": false,
     "title": ""
    }
   },
   "outputs": [],
   "source": [
    "# Group by 'highway_fuel_economy' and count occurrences\n",
    "highway_fuel_economy_counts = cars_df2.groupBy('highway_fuel_economy').count()"
   ]
  },
  {
   "cell_type": "code",
   "execution_count": null,
   "metadata": {
    "application/vnd.databricks.v1+cell": {
     "cellMetadata": {
      "byteLimit": 2048000,
      "rowLimit": 10000
     },
     "inputWidgets": {},
     "nuid": "85833622-5009-4a2c-afa4-a6a8d16f0d79",
     "showTitle": false,
     "title": ""
    }
   },
   "outputs": [
    {
     "name": "stdout",
     "output_type": "stream",
     "text": [
      "+--------------------+------+--------------------+\n",
      "|highway_fuel_economy| count|          percentage|\n",
      "+--------------------+------+--------------------+\n",
      "|                70.0|   220|0.007333333333333333|\n",
      "|               112.0|    99|0.003300000000000...|\n",
      "|               124.0|    87|              0.0029|\n",
      "|               108.0|  2104| 0.07013333333333333|\n",
      "|                49.0|  2306| 0.07686666666666667|\n",
      "|               101.0|   624|              0.0208|\n",
      "|               116.0|    17|5.666666666666667E-4|\n",
      "|                98.0|    27|              9.0E-4|\n",
      "|                29.0|145127|   4.837566666666667|\n",
      "|               107.0|    45|              0.0015|\n",
      "|                75.0|   149|0.004966666666666667|\n",
      "|                64.0|    27|              9.0E-4|\n",
      "|                47.0|  6545| 0.21816666666666668|\n",
      "|                42.0|  9719|  0.3239666666666667|\n",
      "|                44.0|  2482| 0.08273333333333334|\n",
      "|                null|491278|  16.375933333333332|\n",
      "|                35.0| 65859|              2.1953|\n",
      "|                96.0|    10|3.333333333333333E-4|\n",
      "|                18.0| 26330|  0.8776666666666667|\n",
      "|                80.0|    40|0.001333333333333...|\n",
      "+--------------------+------+--------------------+\n",
      "only showing top 20 rows\n",
      "\n"
     ]
    }
   ],
   "source": [
    "# Calculate the percentage of each value\n",
    "highway_fuel_economy_percentages = highway_fuel_economy_counts.withColumn('percentage', (col('count') / total_rows) * 100)\n",
    "\n",
    "highway_fuel_economy_percentages.show()"
   ]
  },
  {
   "cell_type": "code",
   "execution_count": null,
   "metadata": {
    "application/vnd.databricks.v1+cell": {
     "cellMetadata": {
      "byteLimit": 2048000,
      "rowLimit": 10000
     },
     "inputWidgets": {},
     "nuid": "bb478e2c-9ae3-4987-bdd6-3826870d3ef5",
     "showTitle": false,
     "title": ""
    }
   },
   "outputs": [],
   "source": [
    "# Convert Spark DataFrame to Pandas DataFrame\n",
    "highway_fuel_economy_data = cars_df2.select('highway_fuel_economy').toPandas()\n",
    "highway_fuel_economy_data = highway_fuel_economy_data.dropna()"
   ]
  },
  {
   "cell_type": "markdown",
   "metadata": {
    "application/vnd.databricks.v1+cell": {
     "cellMetadata": {},
     "inputWidgets": {},
     "nuid": "5fda11e6-9921-403c-b3ba-6b52194af96b",
     "showTitle": false,
     "title": ""
    }
   },
   "source": [
    "Checking Visually"
   ]
  },
  {
   "cell_type": "code",
   "execution_count": null,
   "metadata": {
    "application/vnd.databricks.v1+cell": {
     "cellMetadata": {
      "byteLimit": 2048000,
      "rowLimit": 10000
     },
     "inputWidgets": {},
     "nuid": "b2af253f-51b1-42db-aef6-b8cdff873bec",
     "showTitle": false,
     "title": ""
    }
   },
   "outputs": [
    {
     "data": {
      "image/png": "[encoded data removed]"
     },
     "metadata": {
      "application/vnd.databricks.v1+output": {
       "addedWidgets": {},
       "arguments": {},
       "data": "data:image/png;base64,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\n",
       "datasetInfos": [],
       "metadata": {},
       "removedWidgets": [],
       "type": "image"
      }
     },
     "output_type": "display_data"
    }
   ],
   "source": [
    "# Plotting using Matplotlib\n",
    "plt.figure(figsize=(10, 6))\n",
    "plt.hist(highway_fuel_economy_data['highway_fuel_economy'], bins=20, color='blue', alpha=0.7)\n",
    "plt.title('Highway Fuel Economy Distribution')\n",
    "plt.axvline(highway_fuel_economy_data['highway_fuel_economy'].mode()[0], color='r', linestyle='dashed', linewidth=2, label='Mode')\n",
    "plt.axvline(highway_fuel_economy_data['highway_fuel_economy'].median(), color='goldenrod', label='Median')\n",
    "plt.axvline(highway_fuel_economy_data['highway_fuel_economy'].mean(), color='darkgreen', label='Mean')\n",
    "plt.legend()\n",
    "plt.xlabel('Highway Fuel Economy')\n",
    "plt.ylabel('Frequency')\n",
    "plt.show()"
   ]
  },
  {
   "cell_type": "markdown",
   "metadata": {
    "application/vnd.databricks.v1+cell": {
     "cellMetadata": {},
     "inputWidgets": {},
     "nuid": "4cc96910-53cd-4f9d-87f5-93ac6067b69d",
     "showTitle": false,
     "title": ""
    }
   },
   "source": [
    "Looking at the graph, it looks like the highway fuel economy of the vehicles fall within a range of approximately 20 to 30 miles per gallon. Filling in the null values with the mean value of the column is the best option."
   ]
  },
  {
   "cell_type": "code",
   "execution_count": null,
   "metadata": {
    "application/vnd.databricks.v1+cell": {
     "cellMetadata": {
      "byteLimit": 2048000,
      "rowLimit": 10000
     },
     "inputWidgets": {},
     "nuid": "e9f392d6-fae6-4aae-8182-ea0a84b6f700",
     "showTitle": false,
     "title": ""
    }
   },
   "outputs": [],
   "source": [
    "# Calculate the mean of the 'highway_fuel_economy' column\n",
    "mean_highway_fuel_economy = cars_df2.select(mean('highway_fuel_economy')).first()[0]"
   ]
  },
  {
   "cell_type": "code",
   "execution_count": null,
   "metadata": {
    "application/vnd.databricks.v1+cell": {
     "cellMetadata": {
      "byteLimit": 2048000,
      "rowLimit": 10000
     },
     "inputWidgets": {},
     "nuid": "ba03b2b0-d9de-4192-907e-7188bcee95c8",
     "showTitle": false,
     "title": ""
    }
   },
   "outputs": [],
   "source": [
    "# Replace null values in 'highway_fuel_economy' with the calculated mean\n",
    "cars_df2 = cars_df2.withColumn('highway_fuel_economy', when(col('highway_fuel_economy').isNull(), mean_highway_fuel_economy).otherwise(col('highway_fuel_economy')))"
   ]
  },
  {
   "cell_type": "code",
   "execution_count": null,
   "metadata": {
    "application/vnd.databricks.v1+cell": {
     "cellMetadata": {
      "byteLimit": 2048000,
      "rowLimit": 10000
     },
     "inputWidgets": {},
     "nuid": "5e204244-98be-4103-a0d2-a6a8c679bf1a",
     "showTitle": false,
     "title": ""
    }
   },
   "outputs": [
    {
     "name": "stdout",
     "output_type": "stream",
     "text": [
      "The amount of null values in the highway_fuel_economy column is 0.00%.\n"
     ]
    }
   ],
   "source": [
    "# Calculate the percentage of null values in the 'highway_fuel_economy' column\n",
    "percentage = (cars_df2.filter(col('highway_fuel_economy').isNull()).count() / cars_df2.count() * 100)\n",
    "\n",
    "# Print the result\n",
    "print(f\"The amount of null values in the highway_fuel_economy column is {percentage:.2f}%.\")\n"
   ]
  },
  {
   "cell_type": "markdown",
   "metadata": {
    "application/vnd.databricks.v1+cell": {
     "cellMetadata": {},
     "inputWidgets": {},
     "nuid": "3e692562-eb67-4516-b119-6fa1fd083bc1",
     "showTitle": false,
     "title": ""
    }
   },
   "source": [
    "Now that we have cleaned the highway fuel economy column, let's combine this column with the city fuel economy column to create a new column that will be more useful for our analysis."
   ]
  },
  {
   "cell_type": "code",
   "execution_count": null,
   "metadata": {
    "application/vnd.databricks.v1+cell": {
     "cellMetadata": {
      "byteLimit": 2048000,
      "rowLimit": 10000
     },
     "inputWidgets": {},
     "nuid": "8a426d22-d385-484d-beb6-65b59d2d7fcb",
     "showTitle": false,
     "title": ""
    }
   },
   "outputs": [],
   "source": [
    "# Combine city_fuel_economy and highway_fuel_economy columns\n",
    "cars_df2 = cars_df2.withColumn('combined_fuel_economy', (col('city_fuel_economy') + col('highway_fuel_economy')) / 2)"
   ]
  },
  {
   "cell_type": "code",
   "execution_count": null,
   "metadata": {
    "application/vnd.databricks.v1+cell": {
     "cellMetadata": {
      "byteLimit": 2048000,
      "rowLimit": 10000
     },
     "inputWidgets": {},
     "nuid": "b9f185fd-9982-4fc4-8dbc-6dd16ed8a066",
     "showTitle": false,
     "title": ""
    }
   },
   "outputs": [],
   "source": [
    "# Drop city_fuel_economy and highway_fuel_economy columns\n",
    "cars_df2 = cars_df2.drop('city_fuel_economy', 'highway_fuel_economy')"
   ]
  },
  {
   "cell_type": "code",
   "execution_count": null,
   "metadata": {
    "application/vnd.databricks.v1+cell": {
     "cellMetadata": {
      "byteLimit": 2048000,
      "rowLimit": 10000
     },
     "inputWidgets": {},
     "nuid": "96fd939b-a2d2-40ab-b115-8961bf2defd6",
     "showTitle": false,
     "title": ""
    }
   },
   "outputs": [],
   "source": [
    "# Convert the 'combined_fuel_economy' column to a Pandas DataFrame\n",
    "combined_fuel_economy_data = cars_df2.select('combined_fuel_economy').toPandas()\n",
    "combined_fuel_economy_data = combined_fuel_economy_data.dropna()"
   ]
  },
  {
   "cell_type": "code",
   "execution_count": null,
   "metadata": {
    "application/vnd.databricks.v1+cell": {
     "cellMetadata": {
      "byteLimit": 2048000,
      "rowLimit": 10000
     },
     "inputWidgets": {},
     "nuid": "529233db-09c5-4a95-ba1c-e84db70ff8af",
     "showTitle": false,
     "title": ""
    }
   },
   "outputs": [
    {
     "data": {
      "image/png": "[encoded data removed]"
     },
     "metadata": {
      "application/vnd.databricks.v1+output": {
       "addedWidgets": {},
       "arguments": {},
       "data": "data:image/png;base64,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\n",
       "datasetInfos": [],
       "metadata": {},
       "removedWidgets": [],
       "type": "image"
      }
     },
     "output_type": "display_data"
    }
   ],
   "source": [
    "# Plotting using Matplotlib\n",
    "plt.figure(figsize=(10, 6))\n",
    "plt.hist(combined_fuel_economy_data['combined_fuel_economy'], bins=20, color='blue', alpha=0.7)\n",
    "plt.title('Combined Fuel Economy Distribution')\n",
    "plt.axvline(combined_fuel_economy_data['combined_fuel_economy'].mode()[0], color='r', linestyle='dashed', linewidth=2, label='Mode')\n",
    "plt.axvline(combined_fuel_economy_data['combined_fuel_economy'].median(), color='goldenrod', label='Median')\n",
    "plt.axvline(combined_fuel_economy_data['combined_fuel_economy'].mean(), color='darkgreen', label='Mean')\n",
    "plt.legend()\n",
    "plt.xlabel('Combined Fuel Economy')\n",
    "plt.ylabel('Frequency')\n",
    "plt.show()"
   ]
  },
  {
   "cell_type": "code",
   "execution_count": null,
   "metadata": {
    "application/vnd.databricks.v1+cell": {
     "cellMetadata": {
      "byteLimit": 2048000,
      "rowLimit": 10000
     },
     "inputWidgets": {},
     "nuid": "8d5f2284-17f9-4ff2-9c67-e424c9a0fd8a",
     "showTitle": false,
     "title": ""
    }
   },
   "outputs": [],
   "source": [
    "# Calculate mean, median, and mode of the 'combined_fuel_economy' column\n",
    "mean_value = cars_df2.select(mean('combined_fuel_economy')).first()[0]\n",
    "median_value = cars_df2.select(median('combined_fuel_economy')).first()[0]\n",
    "mode_value = cars_df2.groupBy('combined_fuel_economy').count().orderBy(col('count').desc()).select('combined_fuel_economy').first()[0]\n"
   ]
  },
  {
   "cell_type": "code",
   "execution_count": null,
   "metadata": {
    "application/vnd.databricks.v1+cell": {
     "cellMetadata": {
      "byteLimit": 2048000,
      "rowLimit": 10000
     },
     "inputWidgets": {},
     "nuid": "467ab089-cc9b-4cd5-9332-c7ab6e2e727c",
     "showTitle": false,
     "title": ""
    }
   },
   "outputs": [
    {
     "name": "stdout",
     "output_type": "stream",
     "text": [
      "The mean of the combined fuel economy column is 26.08 mpg.\n"
     ]
    }
   ],
   "source": [
    "print(f\"The mean of the combined fuel economy column is {mean_value:.2f} mpg.\")"
   ]
  },
  {
   "cell_type": "code",
   "execution_count": null,
   "metadata": {
    "application/vnd.databricks.v1+cell": {
     "cellMetadata": {
      "byteLimit": 2048000,
      "rowLimit": 10000
     },
     "inputWidgets": {},
     "nuid": "b7400e00-927a-44d2-a51b-6b68f2e95f75",
     "showTitle": false,
     "title": ""
    }
   },
   "outputs": [
    {
     "name": "stdout",
     "output_type": "stream",
     "text": [
      "The median of the combined fuel economy column is 26.08 mpg.\n"
     ]
    }
   ],
   "source": [
    "print(f\"The median of the combined fuel economy column is {median_value:.2f} mpg.\")"
   ]
  },
  {
   "cell_type": "code",
   "execution_count": null,
   "metadata": {
    "application/vnd.databricks.v1+cell": {
     "cellMetadata": {
      "byteLimit": 2048000,
      "rowLimit": 10000
     },
     "inputWidgets": {},
     "nuid": "c2d18ce7-dc44-4fdd-bd59-701e4308ec32",
     "showTitle": false,
     "title": ""
    }
   },
   "outputs": [
    {
     "name": "stdout",
     "output_type": "stream",
     "text": [
      "The mode of the combined fuel economy column is 26.08 mpg.\n"
     ]
    }
   ],
   "source": [
    "print(f\"The mode of the combined fuel economy column is {mode_value:.2f} mpg.\")"
   ]
  },
  {
   "cell_type": "markdown",
   "metadata": {
    "application/vnd.databricks.v1+cell": {
     "cellMetadata": {},
     "inputWidgets": {},
     "nuid": "a2c9b1e7-d709-4015-aa43-707d9e2bab89",
     "showTitle": false,
     "title": ""
    }
   },
   "source": [
    "The results show that the majority of vehicles have a fuel economy of 26.08 miles per gallon. This is expected because most vehicles are fuel efficient."
   ]
  },
  {
   "cell_type": "markdown",
   "metadata": {
    "application/vnd.databricks.v1+cell": {
     "cellMetadata": {},
     "inputWidgets": {},
     "nuid": "9641d51d-2110-4a76-bf94-d9962477b403",
     "showTitle": false,
     "title": ""
    }
   },
   "source": [
    "------------------------------------------------------------------------------------------"
   ]
  },
  {
   "cell_type": "markdown",
   "metadata": {
    "application/vnd.databricks.v1+cell": {
     "cellMetadata": {},
     "inputWidgets": {},
     "nuid": "f257a4cb-967a-4d8d-92cd-805ef60c79cd",
     "showTitle": false,
     "title": ""
    }
   },
   "source": [
    "engine_cylinders"
   ]
  },
  {
   "cell_type": "code",
   "execution_count": null,
   "metadata": {
    "application/vnd.databricks.v1+cell": {
     "cellMetadata": {
      "byteLimit": 2048000,
      "rowLimit": 10000
     },
     "inputWidgets": {},
     "nuid": "7f7f0252-a42e-4fa7-a49d-eeb3b28ca8dc",
     "showTitle": false,
     "title": ""
    }
   },
   "outputs": [
    {
     "name": "stdout",
     "output_type": "stream",
     "text": [
      "The percentage of null values in the engine_cylinders column is 3.35%.\n"
     ]
    }
   ],
   "source": [
    "# Calculate the percentage of null values in the 'engine_cylinders' column\n",
    "null_percentage = (cars_df2.filter(col('engine_cylinders').isNull()).count() / cars_df2.count() * 100)\n",
    "\n",
    "# Print the result\n",
    "print(f\"The percentage of null values in the engine_cylinders column is {null_percentage:.2f}%.\")"
   ]
  },
  {
   "cell_type": "code",
   "execution_count": null,
   "metadata": {
    "application/vnd.databricks.v1+cell": {
     "cellMetadata": {
      "byteLimit": 2048000,
      "rowLimit": 10000
     },
     "inputWidgets": {},
     "nuid": "c9b36753-6514-48fd-99d5-57cdc7bcd300",
     "showTitle": false,
     "title": ""
    }
   },
   "outputs": [],
   "source": [
    "# Group by 'engine_cylinders' and count occurrences\n",
    "engine_cylinders_counts = cars_df2.groupBy('engine_cylinders').count()"
   ]
  },
  {
   "cell_type": "code",
   "execution_count": null,
   "metadata": {
    "application/vnd.databricks.v1+cell": {
     "cellMetadata": {
      "byteLimit": 2048000,
      "rowLimit": 10000
     },
     "inputWidgets": {},
     "nuid": "a2f1bf76-87f1-4d3b-9c52-a63b10039853",
     "showTitle": false,
     "title": ""
    }
   },
   "outputs": [
    {
     "name": "stdout",
     "output_type": "stream",
     "text": [
      "+--------------------+-------+--------------------+\n",
      "|    engine_cylinders|  count|          percentage|\n",
      "+--------------------+-------+--------------------+\n",
      "|                  H6|   4686|              0.1562|\n",
      "|W12 Flex Fuel Veh...|     97|0.003233333333333...|\n",
      "|           I4 Hybrid|  72711|              2.4237|\n",
      "|           V6 Diesel|   6657| 0.22190000000000001|\n",
      "|                  I5|   5301|              0.1767|\n",
      "|           I4 Diesel|   7210| 0.24033333333333332|\n",
      "|                null| 100580|   3.352666666666667|\n",
      "|           I5 Diesel|     49|0.001633333333333...|\n",
      "|V6 Flex Fuel Vehicle|  68336|  2.2778666666666667|\n",
      "|                  I4|1418273|   47.27576666666667|\n",
      "|           V6 Hybrid|   3058| 0.10193333333333332|\n",
      "|                  I2|    897|              0.0299|\n",
      "|                  R2|     65|0.002166666666666...|\n",
      "|V8 Compressed Nat...|     95|0.003166666666666...|\n",
      "|           I6 Diesel|  23438|  0.7812666666666668|\n",
      "|           H4 Hybrid|     94|0.003133333333333...|\n",
      "|                  I3|  54301|  1.8100333333333334|\n",
      "|                 W12|    484|0.016133333333333333|\n",
      "|I4 Compressed Nat...|     48|0.001599999999999...|\n",
      "|           V8 Hybrid|    127|0.004233333333333333|\n",
      "+--------------------+-------+--------------------+\n",
      "only showing top 20 rows\n",
      "\n"
     ]
    }
   ],
   "source": [
    "# Calculate the percentage of each value\n",
    "engine_cylinders_percentages = engine_cylinders_counts.withColumn('percentage', (col('count') / total_rows) * 100)\n",
    "\n",
    "engine_cylinders_percentages.show()"
   ]
  },
  {
   "cell_type": "markdown",
   "metadata": {
    "application/vnd.databricks.v1+cell": {
     "cellMetadata": {},
     "inputWidgets": {},
     "nuid": "6a92077d-74be-4eae-b27b-b3ec5e9c30f8",
     "showTitle": false,
     "title": ""
    }
   },
   "source": [
    "The information in this column closely matches the information in the engine_type column, also this has information of the fuel type the vehicle uses. \n",
    "\n",
    "So we can drop this column from the dataset due to redundancy."
   ]
  },
  {
   "cell_type": "code",
   "execution_count": null,
   "metadata": {
    "application/vnd.databricks.v1+cell": {
     "cellMetadata": {
      "byteLimit": 2048000,
      "rowLimit": 10000
     },
     "inputWidgets": {},
     "nuid": "d302bbbb-f01f-470f-953e-33bd09010fd3",
     "showTitle": false,
     "title": ""
    }
   },
   "outputs": [],
   "source": [
    "# Drop the 'engine_cylinders' column\n",
    "cars_df2 = cars_df2.drop('engine_cylinders')"
   ]
  },
  {
   "cell_type": "markdown",
   "metadata": {
    "application/vnd.databricks.v1+cell": {
     "cellMetadata": {},
     "inputWidgets": {},
     "nuid": "679c39ec-0ee0-4979-ad69-1d2870070504",
     "showTitle": false,
     "title": ""
    }
   },
   "source": [
    "------------------------------------------------------------------------------------------"
   ]
  },
  {
   "cell_type": "markdown",
   "metadata": {
    "application/vnd.databricks.v1+cell": {
     "cellMetadata": {},
     "inputWidgets": {},
     "nuid": "706adda8-579c-4d4f-91f6-7fff4dc6001c",
     "showTitle": false,
     "title": ""
    }
   },
   "source": [
    "engine_displacement"
   ]
  },
  {
   "cell_type": "markdown",
   "metadata": {
    "application/vnd.databricks.v1+cell": {
     "cellMetadata": {},
     "inputWidgets": {},
     "nuid": "b4195462-a143-4374-b75a-ce34e210609b",
     "showTitle": false,
     "title": ""
    }
   },
   "source": [
    "The engine displacement is the displacement of the engine. This is a measurement of the engine size, which represents the volume of the engine. Many factors affect the displacement of an engine, including the number of cylinders, the size of the cylinders, and the stroke of the pistons. But because this is better represented in the horsepower column, we can drop this column."
   ]
  },
  {
   "cell_type": "code",
   "execution_count": null,
   "metadata": {
    "application/vnd.databricks.v1+cell": {
     "cellMetadata": {
      "byteLimit": 2048000,
      "rowLimit": 10000
     },
     "inputWidgets": {},
     "nuid": "b52654cb-6ae5-4469-9d21-c71faa99c318",
     "showTitle": false,
     "title": ""
    }
   },
   "outputs": [],
   "source": [
    "# Drop the 'engine_displacement' column\n",
    "cars_df2 = cars_df2.drop('engine_displacement')"
   ]
  },
  {
   "cell_type": "markdown",
   "metadata": {
    "application/vnd.databricks.v1+cell": {
     "cellMetadata": {},
     "inputWidgets": {},
     "nuid": "085e35f2-f057-470f-aec9-f724ef719c7c",
     "showTitle": false,
     "title": ""
    }
   },
   "source": [
    "-----------------------------------------------------------------------------------------"
   ]
  },
  {
   "cell_type": "markdown",
   "metadata": {
    "application/vnd.databricks.v1+cell": {
     "cellMetadata": {},
     "inputWidgets": {},
     "nuid": "342dc0ed-ca38-459a-878c-db9aa606e04c",
     "showTitle": false,
     "title": ""
    }
   },
   "source": [
    "exterior_color"
   ]
  },
  {
   "cell_type": "code",
   "execution_count": null,
   "metadata": {
    "application/vnd.databricks.v1+cell": {
     "cellMetadata": {
      "byteLimit": 2048000,
      "rowLimit": 10000
     },
     "inputWidgets": {},
     "nuid": "eb517edf-c1bd-41cc-977b-f0ced9b9bf28",
     "showTitle": false,
     "title": ""
    }
   },
   "outputs": [
    {
     "name": "stdout",
     "output_type": "stream",
     "text": [
      "The percentage of null values in the exterior_color column is 0.00087%.\n"
     ]
    }
   ],
   "source": [
    "# Calculate the percentage of null values in the 'exterior_color' column\n",
    "null_percentage = (cars_df2.filter(col('exterior_color').isNull()).count() / cars_df2.count()) * 100\n",
    "\n",
    "# Print the result\n",
    "print(f\"The percentage of null values in the exterior_color column is {null_percentage:.5f}%.\")"
   ]
  },
  {
   "cell_type": "code",
   "execution_count": null,
   "metadata": {
    "application/vnd.databricks.v1+cell": {
     "cellMetadata": {
      "byteLimit": 2048000,
      "rowLimit": 10000
     },
     "inputWidgets": {},
     "nuid": "768ec22a-f5e9-4149-bab8-3c3ded3e5666",
     "showTitle": false,
     "title": ""
    }
   },
   "outputs": [
    {
     "name": "stdout",
     "output_type": "stream",
     "text": [
      "+--------------------+-----+--------------------+\n",
      "|      exterior_color|count|          percentage|\n",
      "+--------------------+-----+--------------------+\n",
      "|        Indus Silver|  253|0.008433333333333333|\n",
      "|machine gray meta...|  510|               0.017|\n",
      "|  Siren Red Tintcoat| 2232|              0.0744|\n",
      "|        Cirrus White|  605|0.020166666666666666|\n",
      "|      Bianco (White)|   93|0.003100000000000...|\n",
      "|British Racing Gr...|   16|5.333333333333334E-4|\n",
      "|           Wolf Gray|  292|0.009733333333333333|\n",
      "|Hydro Blue Pearlcoat| 2221| 0.07403333333333333|\n",
      "|         Osmium Gray|  389|0.012966666666666666|\n",
      "|      Portofino Blue|   71|0.002366666666666...|\n",
      "|         Stone White|  380|0.012666666666666666|\n",
      "|     DP XTAL BL MICA|   48|0.001599999999999...|\n",
      "|      Tank Clearcoat|   95|0.003166666666666...|\n",
      "|FALCON GRAY METALLIC|   18|6.000000000000001E-4|\n",
      "|LABRADOR BLACK PEARL|    6|1.999999999999999...|\n",
      "|Moonbeam Beige Me...|  142|0.004733333333333333|\n",
      "|Toronto Red Metallic|   34|0.001133333333333...|\n",
      "|   BLUE RAY METALLIC|   16|5.333333333333334E-4|\n",
      "|         Black/White|    3|9.999999999999999E-5|\n",
      "|     Chief Clearcoat|  100|0.003333333333333...|\n",
      "+--------------------+-----+--------------------+\n",
      "only showing top 20 rows\n",
      "\n"
     ]
    }
   ],
   "source": [
    "# Calculate the value counts and percentages of the 'exterior_color' column\n",
    "value_counts = cars_df2.groupBy(\"exterior_color\").count()\n",
    "total_rows = cars_df2.count()\n",
    "value_counts = value_counts.withColumn(\"percentage\", (col(\"count\") / total_rows) * 100)\n",
    "\n",
    "# Show the resulting DataFrame\n",
    "value_counts.show()"
   ]
  },
  {
   "cell_type": "markdown",
   "metadata": {
    "application/vnd.databricks.v1+cell": {
     "cellMetadata": {},
     "inputWidgets": {},
     "nuid": "61f90808-c84d-46cd-b1ce-8b84f8760da9",
     "showTitle": false,
     "title": ""
    }
   },
   "source": [
    "The results show that the color names are not consistent. There are too many off-brand colors that are not useful for our analysis. We can group these colors into a few categories. We can also see that there are a few vehicles that have multiple colors. We can split these vehicles into multiple rows so that each row has only one color.\n",
    "\n",
    "Let's first fill in the null values with the most common color."
   ]
  },
  {
   "cell_type": "code",
   "execution_count": null,
   "metadata": {
    "application/vnd.databricks.v1+cell": {
     "cellMetadata": {
      "byteLimit": 2048000,
      "rowLimit": 10000
     },
     "inputWidgets": {},
     "nuid": "22952654-26f7-4055-a88a-41f0c99adfa6",
     "showTitle": false,
     "title": ""
    }
   },
   "outputs": [
    {
     "name": "stdout",
     "output_type": "stream",
     "text": [
      "The percentage of null values in the exterior_color column after replacement is 0.00%.\n"
     ]
    }
   ],
   "source": [
    "# Replace null values in the 'exterior_color' column with \"Black\"\n",
    "cars_df2 = cars_df2.withColumn(\"exterior_color\", when(col(\"exterior_color\").isNull(), \"Black\").otherwise(col(\"exterior_color\")))\n",
    "\n",
    "# Calculate the percentage of null values after replacement\n",
    "null_percentage = (cars_df2.filter(col('exterior_color').isNull()).count() / cars_df2.count()) * 100\n",
    "\n",
    "# Print the result\n",
    "print(f\"The percentage of null values in the exterior_color column after replacement is {null_percentage:.2f}%.\")\n"
   ]
  },
  {
   "cell_type": "code",
   "execution_count": null,
   "metadata": {
    "application/vnd.databricks.v1+cell": {
     "cellMetadata": {
      "byteLimit": 2048000,
      "rowLimit": 10000
     },
     "inputWidgets": {},
     "nuid": "08d1c31b-e558-4867-abfa-a1a3716c2201",
     "showTitle": false,
     "title": ""
    }
   },
   "outputs": [
    {
     "name": "stdout",
     "output_type": "stream",
     "text": [
      "+--------------------+-----+--------------------+\n",
      "|      exterior_color|count|          percentage|\n",
      "+--------------------+-----+--------------------+\n",
      "|        Indus Silver|  253|0.008433333333333333|\n",
      "|machine gray meta...|  510|               0.017|\n",
      "|  Siren Red Tintcoat| 2232|              0.0744|\n",
      "|        Cirrus White|  605|0.020166666666666666|\n",
      "|      Bianco (White)|   93|0.003100000000000...|\n",
      "|British Racing Gr...|   16|5.333333333333334E-4|\n",
      "|           Wolf Gray|  292|0.009733333333333333|\n",
      "|Hydro Blue Pearlcoat| 2221| 0.07403333333333333|\n",
      "|         Osmium Gray|  389|0.012966666666666666|\n",
      "|      Portofino Blue|   71|0.002366666666666...|\n",
      "|         Stone White|  380|0.012666666666666666|\n",
      "|     DP XTAL BL MICA|   48|0.001599999999999...|\n",
      "|      Tank Clearcoat|   95|0.003166666666666...|\n",
      "|FALCON GRAY METALLIC|   18|6.000000000000001E-4|\n",
      "|LABRADOR BLACK PEARL|    6|1.999999999999999...|\n",
      "|Moonbeam Beige Me...|  142|0.004733333333333333|\n",
      "|Toronto Red Metallic|   34|0.001133333333333...|\n",
      "|   BLUE RAY METALLIC|   16|5.333333333333334E-4|\n",
      "|         Black/White|    3|9.999999999999999E-5|\n",
      "|     Chief Clearcoat|  100|0.003333333333333...|\n",
      "+--------------------+-----+--------------------+\n",
      "only showing top 20 rows\n",
      "\n"
     ]
    }
   ],
   "source": [
    "# Calculate the value counts and percentages\n",
    "color_value_counts = cars_df2.groupBy(\"exterior_color\").agg(count(\"*\").alias(\"count\"))\n",
    "total_rows = cars_df2.count()\n",
    "color_value_counts = color_value_counts.withColumn(\"percentage\", (col(\"count\") / total_rows) * 100)\n",
    "\n",
    "# Show the resulting DataFrame\n",
    "color_value_counts.show()"
   ]
  },
  {
   "cell_type": "code",
   "execution_count": null,
   "metadata": {
    "application/vnd.databricks.v1+cell": {
     "cellMetadata": {
      "byteLimit": 2048000,
      "rowLimit": 10000
     },
     "inputWidgets": {},
     "nuid": "d8554634-6ef7-4921-bf68-66f7f395fe98",
     "showTitle": false,
     "title": ""
    }
   },
   "outputs": [
    {
     "name": "stdout",
     "output_type": "stream",
     "text": [
      "The number of unique values in the exterior_color column is 28665.\n"
     ]
    }
   ],
   "source": [
    "# Calculate the number of unique values in the 'exterior_color' column\n",
    "unique_color_count = cars_df2.agg(countDistinct(col(\"exterior_color\")).alias(\"unique_count\")).collect()[0][\"unique_count\"]\n",
    "\n",
    "print(f\"The number of unique values in the exterior_color column is {unique_color_count}.\")"
   ]
  },
  {
   "cell_type": "markdown",
   "metadata": {
    "application/vnd.databricks.v1+cell": {
     "cellMetadata": {},
     "inputWidgets": {},
     "nuid": "9f293cf7-65b0-45cc-a266-389cf433d97c",
     "showTitle": false,
     "title": ""
    }
   },
   "source": [
    "Even though there are no null values present in `exterior color` we can still process this column as it has large amount of categorical values"
   ]
  },
  {
   "cell_type": "markdown",
   "metadata": {
    "application/vnd.databricks.v1+cell": {
     "cellMetadata": {},
     "inputWidgets": {},
     "nuid": "044dc0f3-82b0-4ef8-a015-a2a2fd33bff1",
     "showTitle": false,
     "title": ""
    }
   },
   "source": [
    "According to GermainCars.com, America's most common exterior colors in 2023 are ranked as follows:\n",
    "\n",
    "1. White\n",
    "2. Black\n",
    "3. Gray\n",
    "4. Silver\n",
    "5. Blue\n",
    "6. Red\n",
    "7. Brown\n",
    "8. Green\n",
    "9. Orange\n",
    "10. Beige\n",
    "11. Purple\n",
    "12. Gold\n",
    "13. Yellow"
   ]
  },
  {
   "cell_type": "code",
   "execution_count": null,
   "metadata": {
    "application/vnd.databricks.v1+cell": {
     "cellMetadata": {
      "byteLimit": 2048000,
      "rowLimit": 10000
     },
     "inputWidgets": {},
     "nuid": "3d03319e-4ea3-4edc-85bb-aefc7f97bcc5",
     "showTitle": false,
     "title": ""
    }
   },
   "outputs": [],
   "source": [
    "top_colors = ['White', 'Black', 'Gray', 'Silver',\n",
    "              'Red', 'Blue', 'Brown', 'Green', 'Beige',\n",
    "              'Orange', 'Gold', 'Yellow', 'Purple']"
   ]
  },
  {
   "cell_type": "code",
   "execution_count": null,
   "metadata": {
    "application/vnd.databricks.v1+cell": {
     "cellMetadata": {
      "byteLimit": 2048000,
      "rowLimit": 10000
     },
     "inputWidgets": {},
     "nuid": "d0b73589-250a-474f-906a-661a63f0de11",
     "showTitle": false,
     "title": ""
    }
   },
   "outputs": [],
   "source": [
    "# Fill values not in the top colors list with 'Other Color'\n",
    "cars_df2 = cars_df2.withColumn(\"exterior_color\", \n",
    "                               when(col(\"exterior_color\").isin(top_colors), col(\"exterior_color\")).otherwise(\"Other Color\"))\n"
   ]
  },
  {
   "cell_type": "code",
   "execution_count": null,
   "metadata": {
    "application/vnd.databricks.v1+cell": {
     "cellMetadata": {
      "byteLimit": 2048000,
      "rowLimit": 10000
     },
     "inputWidgets": {},
     "nuid": "30b319ca-06e6-4455-a25b-8b3f2a633ada",
     "showTitle": false,
     "title": ""
    }
   },
   "outputs": [
    {
     "name": "stdout",
     "output_type": "stream",
     "text": [
      "+--------------+-------+-------------------+\n",
      "|exterior_color|  count|         percentage|\n",
      "+--------------+-------+-------------------+\n",
      "|        Orange|   2492|0.08306666666666666|\n",
      "|         Beige|   2511|             0.0837|\n",
      "|        Silver|  78907| 2.6302333333333334|\n",
      "|         Green|   7026|             0.2342|\n",
      "|        Purple|    858|             0.0286|\n",
      "|          Gray|  77562|             2.5854|\n",
      "|          Blue|  51212| 1.7070666666666667|\n",
      "|         White| 126558|             4.2186|\n",
      "|         Brown|   5440|0.18133333333333332|\n",
      "|          Gold|   5332|0.17773333333333333|\n",
      "|   Other Color|2435360|  81.17866666666667|\n",
      "|         Black| 162487| 5.4162333333333335|\n",
      "|        Yellow|   1471|0.04903333333333333|\n",
      "|           Red|  42784| 1.4261333333333335|\n",
      "+--------------+-------+-------------------+\n",
      "\n"
     ]
    }
   ],
   "source": [
    "# Calculate the value counts and percentages of the modified 'exterior_color' column\n",
    "value_counts = cars_df2.groupBy(\"exterior_color\").count()\n",
    "total_rows = cars_df2.count()\n",
    "value_counts = value_counts.withColumn(\"percentage\", (col(\"count\") / total_rows) * 100)\n",
    "\n",
    "# Show the resulting DataFrame\n",
    "value_counts.show()\n"
   ]
  },
  {
   "cell_type": "markdown",
   "metadata": {
    "application/vnd.databricks.v1+cell": {
     "cellMetadata": {},
     "inputWidgets": {},
     "nuid": "35538d7e-b9df-4584-8f5b-8f25c3004d7e",
     "showTitle": false,
     "title": ""
    }
   },
   "source": [
    "-----------------------------------------------------------------------------------------"
   ]
  },
  {
   "cell_type": "markdown",
   "metadata": {
    "application/vnd.databricks.v1+cell": {
     "cellMetadata": {},
     "inputWidgets": {},
     "nuid": "bca41578-0e32-4054-b08a-193cb923abd7",
     "showTitle": false,
     "title": ""
    }
   },
   "source": [
    "fleet"
   ]
  },
  {
   "cell_type": "code",
   "execution_count": null,
   "metadata": {
    "application/vnd.databricks.v1+cell": {
     "cellMetadata": {
      "byteLimit": 2048000,
      "rowLimit": 10000
     },
     "inputWidgets": {},
     "nuid": "98617b57-2cd4-46ac-9af6-a893957f1c40",
     "showTitle": false,
     "title": ""
    }
   },
   "outputs": [
    {
     "name": "stdout",
     "output_type": "stream",
     "text": [
      "The percentage of null values in the fleet column is 47.55%.\n"
     ]
    }
   ],
   "source": [
    "# Calculate the percentage of null values in the 'fleet' column\n",
    "null_percentage = (cars_df2.filter(col('fleet').isNull()).count() / cars_df2.count() * 100)\n",
    "\n",
    "# Print the result\n",
    "print(f\"The percentage of null values in the fleet column is {null_percentage:.2f}%.\")\n"
   ]
  },
  {
   "cell_type": "code",
   "execution_count": null,
   "metadata": {
    "application/vnd.databricks.v1+cell": {
     "cellMetadata": {
      "byteLimit": 2048000,
      "rowLimit": 10000
     },
     "inputWidgets": {},
     "nuid": "b630ced8-72b4-4db3-967b-d32af877f6aa",
     "showTitle": false,
     "title": ""
    }
   },
   "outputs": [
    {
     "data": {
      "text/html": [
       "<style scoped>\n",
       "  .ansiout {\n",
       "    display: block;\n",
       "    unicode-bidi: embed;\n",
       "    white-space: pre-wrap;\n",
       "    word-wrap: break-word;\n",
       "    word-break: break-all;\n",
       "    font-family: \"Source Code Pro\", \"Menlo\", monospace;;\n",
       "    font-size: 13px;\n",
       "    color: #555;\n",
       "    margin-left: 4px;\n",
       "    line-height: 19px;\n",
       "  }\n",
       "</style>"
      ]
     },
     "metadata": {
      "application/vnd.databricks.v1+output": {
       "arguments": {},
       "data": "",
       "errorSummary": "Cancelled",
       "errorTraceType": "html",
       "metadata": {},
       "type": "ipynbError"
      }
     },
     "output_type": "display_data"
    }
   ],
   "source": [
    "# # Calculate the percentage of null values in each column\n",
    "null_percentage = df2.select([(spark_sum(col(c).isNull().cast(\"int\")) / df2.count()) * 100 for c in df.columns])\n",
    "\n",
    "null_percentage.show()"
   ]
  },
  {
   "cell_type": "markdown",
   "metadata": {
    "application/vnd.databricks.v1+cell": {
     "cellMetadata": {},
     "inputWidgets": {},
     "nuid": "34eb8404-5457-42c5-a4f6-5e9ea08f5d74",
     "showTitle": false,
     "title": ""
    }
   },
   "source": [
    "Notice there is a few null columns with the exact same null percentage. Let take a closer look at these columns."
   ]
  },
  {
   "cell_type": "code",
   "execution_count": null,
   "metadata": {
    "application/vnd.databricks.v1+cell": {
     "cellMetadata": {
      "byteLimit": 2048000,
      "rowLimit": 10000
     },
     "inputWidgets": {},
     "nuid": "425982a1-5289-44ab-9d2b-fd2ee3a2581f",
     "showTitle": false,
     "title": ""
    }
   },
   "outputs": [],
   "source": [
    "# Calculate null percentages for all columns\n",
    "null_percentages = []\n",
    "for column in cars_df2.columns:\n",
    "    null_percentage = (cars_df2.filter(col(column).isNull()).count() / cars_df2.count()) * 100\n",
    "    null_percentages.append((column, null_percentage))\n",
    "\n",
    "# Convert the list of tuples to a DataFrame\n",
    "null_percentages_df = spark.createDataFrame(null_percentages, [\"Column\", \"NullPercentage\"])"
   ]
  },
  {
   "cell_type": "code",
   "execution_count": null,
   "metadata": {
    "application/vnd.databricks.v1+cell": {
     "cellMetadata": {
      "byteLimit": 2048000,
      "rowLimit": 10000
     },
     "inputWidgets": {},
     "nuid": "26aa6b11-5ae2-4c31-ba5c-9f1e965ec5df",
     "showTitle": false,
     "title": ""
    }
   },
   "outputs": [
    {
     "name": "stdout",
     "output_type": "stream",
     "text": [
      "+-------------+-----------------+\n",
      "|       Column|   NullPercentage|\n",
      "+-------------+-----------------+\n",
      "|        fleet|47.55263333333333|\n",
      "|frame_damaged|47.55263333333333|\n",
      "|has_accidents|47.55263333333333|\n",
      "|        isCab|47.55263333333333|\n",
      "|      salvage|47.55263333333333|\n",
      "|  theft_title|47.55263333333333|\n",
      "+-------------+-----------------+\n",
      "\n"
     ]
    }
   ],
   "source": [
    "filtered_null_percentages_df = null_percentages_df.filter((col(\"NullPercentage\") >= 47) & (col(\"NullPercentage\") <= 48))\n",
    "\n",
    "# Show the filtered results\n",
    "filtered_null_percentages_df.show()"
   ]
  },
  {
   "cell_type": "markdown",
   "metadata": {
    "application/vnd.databricks.v1+cell": {
     "cellMetadata": {},
     "inputWidgets": {},
     "nuid": "e998642a-bef4-4325-9be7-4579533489c8",
     "showTitle": false,
     "title": ""
    }
   },
   "source": [
    "This is telling us that the information in these columns are redundant. We can drop these columns and keep the fleet column. We will re-name the fleet column to `has_incidents`."
   ]
  },
  {
   "cell_type": "code",
   "execution_count": null,
   "metadata": {
    "application/vnd.databricks.v1+cell": {
     "cellMetadata": {
      "byteLimit": 2048000,
      "rowLimit": 10000
     },
     "inputWidgets": {},
     "nuid": "0620bd07-58a5-4802-8535-7fe5163ff055",
     "showTitle": false,
     "title": ""
    }
   },
   "outputs": [],
   "source": [
    "# List of columns to drop\n",
    "columns_to_drop = ['frame_damaged', 'has_accidents', 'isCab', 'salvage', 'theft_title']"
   ]
  },
  {
   "cell_type": "code",
   "execution_count": null,
   "metadata": {
    "application/vnd.databricks.v1+cell": {
     "cellMetadata": {
      "byteLimit": 2048000,
      "rowLimit": 10000
     },
     "inputWidgets": {},
     "nuid": "16f51f1f-422a-4e3f-bd60-6dd1e04c90d5",
     "showTitle": false,
     "title": ""
    }
   },
   "outputs": [],
   "source": [
    "# Drop the specified columns\n",
    "cars_df2 = cars_df2.drop(*columns_to_drop)"
   ]
  },
  {
   "cell_type": "code",
   "execution_count": null,
   "metadata": {
    "application/vnd.databricks.v1+cell": {
     "cellMetadata": {
      "byteLimit": 2048000,
      "rowLimit": 10000
     },
     "inputWidgets": {},
     "nuid": "61a92138-d271-4c86-94f9-5fe63b3fc825",
     "showTitle": false,
     "title": ""
    }
   },
   "outputs": [
    {
     "name": "stdout",
     "output_type": "stream",
     "text": [
      "root\n",
      " |-- vin: string (nullable = true)\n",
      " |-- back_legroom: double (nullable = true)\n",
      " |-- body_type: string (nullable = true)\n",
      " |-- city: string (nullable = true)\n",
      " |-- daysonmarket: integer (nullable = true)\n",
      " |-- dealer_zip: string (nullable = true)\n",
      " |-- engine_type: string (nullable = true)\n",
      " |-- exterior_color: string (nullable = true)\n",
      " |-- fleet: boolean (nullable = true)\n",
      " |-- franchise_dealer: boolean (nullable = true)\n",
      " |-- franchise_make: string (nullable = true)\n",
      " |-- front_legroom: string (nullable = true)\n",
      " |-- fuel_tank_volume: string (nullable = true)\n",
      " |-- fuel_type: string (nullable = true)\n",
      " |-- height: string (nullable = true)\n",
      " |-- horsepower: double (nullable = true)\n",
      " |-- interior_color: string (nullable = true)\n",
      " |-- is_new: boolean (nullable = true)\n",
      " |-- latitude: double (nullable = true)\n",
      " |-- length: string (nullable = true)\n",
      " |-- listed_date: date (nullable = true)\n",
      " |-- listing_color: string (nullable = true)\n",
      " |-- listing_id: integer (nullable = true)\n",
      " |-- longitude: double (nullable = true)\n",
      " |-- main_picture_url: string (nullable = true)\n",
      " |-- major_options: string (nullable = true)\n",
      " |-- make_name: string (nullable = true)\n",
      " |-- maximum_seating: string (nullable = true)\n",
      " |-- mileage: double (nullable = true)\n",
      " |-- model_name: string (nullable = true)\n",
      " |-- power: string (nullable = true)\n",
      " |-- price: double (nullable = true)\n",
      " |-- savings_amount: integer (nullable = true)\n",
      " |-- seller_rating: double (nullable = true)\n",
      " |-- sp_id: double (nullable = true)\n",
      " |-- sp_name: string (nullable = true)\n",
      " |-- torque: string (nullable = true)\n",
      " |-- transmission: string (nullable = true)\n",
      " |-- transmission_display: string (nullable = true)\n",
      " |-- trimId: string (nullable = true)\n",
      " |-- trim_name: string (nullable = true)\n",
      " |-- wheel_system: string (nullable = true)\n",
      " |-- wheel_system_display: string (nullable = true)\n",
      " |-- wheelbase: string (nullable = true)\n",
      " |-- width: string (nullable = true)\n",
      " |-- year: integer (nullable = true)\n",
      " |-- combined_fuel_economy: double (nullable = true)\n",
      "\n"
     ]
    }
   ],
   "source": [
    "# Show the updated schema\n",
    "cars_df2.printSchema()"
   ]
  },
  {
   "cell_type": "markdown",
   "metadata": {
    "application/vnd.databricks.v1+cell": {
     "cellMetadata": {},
     "inputWidgets": {},
     "nuid": "1712699d-2bde-45ad-b649-d8c88a0d7585",
     "showTitle": false,
     "title": ""
    }
   },
   "source": [
    "Now let's fill the missing values"
   ]
  },
  {
   "cell_type": "code",
   "execution_count": null,
   "metadata": {
    "application/vnd.databricks.v1+cell": {
     "cellMetadata": {
      "byteLimit": 2048000,
      "rowLimit": 10000
     },
     "inputWidgets": {},
     "nuid": "8148cd87-9bf2-4521-b474-7c9235531d2a",
     "showTitle": false,
     "title": ""
    }
   },
   "outputs": [],
   "source": [
    "# Convert fleet column to string\n",
    "cars_df2 = cars_df2.withColumn(\"fleet\", col(\"fleet\").cast(\"string\"))\n",
    "\n",
    "# Fill null values in the 'fleet' column with \"False\"\n",
    "cars_df2 = cars_df2.withColumn(\"fleet\", when(col(\"fleet\").isNull(), \"False\").otherwise(col(\"fleet\")))\n",
    "\n",
    "# Rename the 'fleet' column to 'has_incidents'\n",
    "cars_df2 = cars_df2.withColumnRenamed(\"fleet\", \"has_incidents\")\n"
   ]
  },
  {
   "cell_type": "code",
   "execution_count": null,
   "metadata": {
    "application/vnd.databricks.v1+cell": {
     "cellMetadata": {
      "byteLimit": 2048000,
      "rowLimit": 10000
     },
     "inputWidgets": {},
     "nuid": "bba0bd12-9c32-4bbe-91af-e01bd1f93f6d",
     "showTitle": false,
     "title": ""
    }
   },
   "outputs": [
    {
     "name": "stdout",
     "output_type": "stream",
     "text": [
      "Percentage of null values in 'has_incidents': 0.0\n"
     ]
    }
   ],
   "source": [
    "# Calculate the percentage of null values in the 'has_incidents' column\n",
    "null_percentage = (cars_df2.where(col(\"has_incidents\").isNull()).count() / cars_df2.count()) * 100\n",
    "\n",
    "print(\"Percentage of null values in 'has_incidents':\", null_percentage)"
   ]
  },
  {
   "cell_type": "markdown",
   "metadata": {
    "application/vnd.databricks.v1+cell": {
     "cellMetadata": {},
     "inputWidgets": {},
     "nuid": "663bf1d6-3ef5-4110-b5de-e130abf4562c",
     "showTitle": false,
     "title": ""
    }
   },
   "source": [
    "------------------------------------------------------------------------------------------"
   ]
  },
  {
   "cell_type": "markdown",
   "metadata": {
    "application/vnd.databricks.v1+cell": {
     "cellMetadata": {},
     "inputWidgets": {},
     "nuid": "46ca61ec-ed7b-49b4-a02c-2e33649ffbb5",
     "showTitle": false,
     "title": ""
    }
   },
   "source": [
    "franchise_make"
   ]
  },
  {
   "cell_type": "code",
   "execution_count": null,
   "metadata": {
    "application/vnd.databricks.v1+cell": {
     "cellMetadata": {
      "byteLimit": 2048000,
      "rowLimit": 10000
     },
     "inputWidgets": {},
     "nuid": "f03b3f02-eacc-4c42-af5b-1e2d6c450c74",
     "showTitle": false,
     "title": ""
    }
   },
   "outputs": [
    {
     "name": "stdout",
     "output_type": "stream",
     "text": [
      "The percentage of null values in the franchise_make column is 19.09%.\n"
     ]
    }
   ],
   "source": [
    "# Calculate the percentage of null values in the 'franchise_make' column\n",
    "null_percentage = (cars_df2.filter(col('franchise_make').isNull()).count() / cars_df2.count() * 100)\n",
    "\n",
    "# Print the result\n",
    "print(f\"The percentage of null values in the franchise_make column is {null_percentage:.2f}%.\")\n"
   ]
  },
  {
   "cell_type": "code",
   "execution_count": null,
   "metadata": {
    "application/vnd.databricks.v1+cell": {
     "cellMetadata": {
      "byteLimit": 2048000,
      "rowLimit": 10000
     },
     "inputWidgets": {},
     "nuid": "60773e58-5f44-4f5c-bda2-510e62901a6c",
     "showTitle": false,
     "title": ""
    }
   },
   "outputs": [
    {
     "name": "stdout",
     "output_type": "stream",
     "text": [
      "+--------------+\n",
      "|franchise_make|\n",
      "+--------------+\n",
      "|Volkswagen    |\n",
      "|Lexus         |\n",
      "|FIAT          |\n",
      "|Jeep          |\n",
      "|Kia           |\n",
      "|null          |\n",
      "|Chevrolet     |\n",
      "|RAM           |\n",
      "|Volvo         |\n",
      "|Hyundai       |\n",
      "|Audi          |\n",
      "|Cadillac      |\n",
      "|Land Rover    |\n",
      "|Chrysler      |\n",
      "|Lincoln       |\n",
      "|BMW           |\n",
      "|GMC           |\n",
      "|Buick         |\n",
      "|Toyota        |\n",
      "|Dodge         |\n",
      "+--------------+\n",
      "only showing top 20 rows\n",
      "\n"
     ]
    }
   ],
   "source": [
    "# Get the distinct values from the 'franchise_make' column\n",
    "distinct_franchise_make = cars_df2.select(col('franchise_make')).distinct()\n",
    "\n",
    "distinct_franchise_make.show(truncate=False)"
   ]
  },
  {
   "cell_type": "markdown",
   "metadata": {
    "application/vnd.databricks.v1+cell": {
     "cellMetadata": {
      "byteLimit": 2048000,
      "rowLimit": 10000
     },
     "inputWidgets": {},
     "nuid": "7bd741d4-32aa-44ed-8c43-28e464137550",
     "showTitle": false,
     "title": ""
    }
   },
   "source": [
    "The information in this column closely matches the information in the make_name column. So we can drop this column from the dataset due to redundancy."
   ]
  },
  {
   "cell_type": "code",
   "execution_count": null,
   "metadata": {
    "application/vnd.databricks.v1+cell": {
     "cellMetadata": {
      "byteLimit": 2048000,
      "rowLimit": 10000
     },
     "inputWidgets": {},
     "nuid": "b180c19c-7faa-469f-9d49-e4fa984ef635",
     "showTitle": false,
     "title": ""
    }
   },
   "outputs": [],
   "source": [
    "# Drop the 'franchise_make' column\n",
    "cars_df2 = cars_df2.drop('franchise_make')"
   ]
  },
  {
   "cell_type": "markdown",
   "metadata": {
    "application/vnd.databricks.v1+cell": {
     "cellMetadata": {
      "byteLimit": 2048000,
      "rowLimit": 10000
     },
     "inputWidgets": {},
     "nuid": "bad297f7-a064-4981-aba2-27d74c1e54bf",
     "showTitle": false,
     "title": ""
    }
   },
   "source": [
    "------------------------------------------------------------------------------------------"
   ]
  },
  {
   "cell_type": "markdown",
   "metadata": {
    "application/vnd.databricks.v1+cell": {
     "cellMetadata": {
      "byteLimit": 2048000,
      "rowLimit": 10000
     },
     "inputWidgets": {},
     "nuid": "688680bb-c1ef-46a6-a5ab-965b10b0fbaf",
     "showTitle": false,
     "title": ""
    }
   },
   "source": [
    "front_legroom"
   ]
  },
  {
   "cell_type": "code",
   "execution_count": null,
   "metadata": {
    "application/vnd.databricks.v1+cell": {
     "cellMetadata": {
      "byteLimit": 2048000,
      "rowLimit": 10000
     },
     "inputWidgets": {},
     "nuid": "ea64252f-76db-4324-bc5e-2adbb232edde",
     "showTitle": false,
     "title": ""
    }
   },
   "outputs": [
    {
     "name": "stdout",
     "output_type": "stream",
     "text": [
      "The percentage of null values in the front_legroom column is 5.31%.\n"
     ]
    }
   ],
   "source": [
    "# Calculate the percentage of null values in the 'front_legroom' column\n",
    "null_percentage = (cars_df2.filter(col('front_legroom').isNull()).count() / cars_df2.count() * 100)\n",
    "\n",
    "# Print the result\n",
    "print(f\"The percentage of null values in the front_legroom column is {null_percentage:.2f}%.\")\n"
   ]
  },
  {
   "cell_type": "code",
   "execution_count": null,
   "metadata": {
    "application/vnd.databricks.v1+cell": {
     "cellMetadata": {
      "byteLimit": 2048000,
      "rowLimit": 10000
     },
     "inputWidgets": {},
     "nuid": "061933e0-6674-42b3-b128-b8efb77c46d1",
     "showTitle": false,
     "title": ""
    }
   },
   "outputs": [
    {
     "name": "stdout",
     "output_type": "stream",
     "text": [
      "+-------------+\n",
      "|front_legroom|\n",
      "+-------------+\n",
      "|42.1 in      |\n",
      "|44.4 in      |\n",
      "|43.5 in      |\n",
      "|41.2 in      |\n",
      "|44.8 in      |\n",
      "|45.7 in      |\n",
      "|46.9 in      |\n",
      "|40.1 in      |\n",
      "|38.9 in      |\n",
      "|41.6 in      |\n",
      "|39.4 in      |\n",
      "|43.2 in      |\n",
      "|43.3 in      |\n",
      "|42.3 in      |\n",
      "|40.5 in      |\n",
      "|45.3 in      |\n",
      "|41.4 in      |\n",
      "|41.5 in      |\n",
      "|null         |\n",
      "|39 in        |\n",
      "+-------------+\n",
      "only showing top 20 rows\n",
      "\n"
     ]
    }
   ],
   "source": [
    "# Get the distinct values from the 'front_legroom' column\n",
    "distinct_front_legroom = cars_df2.select(col('front_legroom')).distinct()\n",
    "\n",
    "distinct_front_legroom.show(truncate=False)"
   ]
  },
  {
   "cell_type": "code",
   "execution_count": null,
   "metadata": {
    "application/vnd.databricks.v1+cell": {
     "cellMetadata": {
      "byteLimit": 2048000,
      "rowLimit": 10000
     },
     "inputWidgets": {},
     "nuid": "73ebcce6-1c23-46e4-add6-3312a983a896",
     "showTitle": false,
     "title": ""
    }
   },
   "outputs": [],
   "source": [
    "# Calculate the value counts of the 'front_legroom' column\n",
    "value_counts = (cars_df2\n",
    "               .groupBy('front_legroom')\n",
    "               .agg({'front_legroom': 'count'})\n",
    "               .withColumnRenamed('count(front_legroom)', 'value_count')\n",
    "               .withColumn('percentage', (col('value_count') / cars_df2.count()) * 100)\n",
    "               .orderBy(col('percentage').desc()))"
   ]
  },
  {
   "cell_type": "code",
   "execution_count": null,
   "metadata": {
    "application/vnd.databricks.v1+cell": {
     "cellMetadata": {
      "byteLimit": 2048000,
      "rowLimit": 10000
     },
     "inputWidgets": {},
     "nuid": "1d24fa37-7e52-4101-b715-0e244bfaabcb",
     "showTitle": false,
     "title": ""
    }
   },
   "outputs": [
    {
     "name": "stdout",
     "output_type": "stream",
     "text": [
      "+-------------+-----------+------------------+\n",
      "|front_legroom|value_count|        percentage|\n",
      "+-------------+-----------+------------------+\n",
      "|      40.9 in|     229550| 7.651666666666666|\n",
      "|      43.9 in|     150836| 5.027866666666666|\n",
      "|      41.3 in|     144587| 4.819566666666667|\n",
      "|        41 in|     144257| 4.808566666666667|\n",
      "|      41.2 in|     129392| 4.313066666666667|\n",
      "|      42.3 in|     126924|4.2307999999999995|\n",
      "|      44.5 in|     100370| 3.345666666666667|\n",
      "|      41.5 in|      94947|            3.1649|\n",
      "|      42.2 in|      89861|2.9953666666666665|\n",
      "|        43 in|      89551|2.9850333333333334|\n",
      "|      40.8 in|      87359|2.9119666666666664|\n",
      "|        42 in|      82801|2.7600333333333333|\n",
      "|      41.1 in|      81544|2.7181333333333333|\n",
      "|      42.4 in|      74986|2.4995333333333334|\n",
      "|      40.3 in|      73480| 2.449333333333333|\n",
      "|      41.8 in|      71452|2.3817333333333335|\n",
      "|      45.3 in|      66150|             2.205|\n",
      "|      41.7 in|      64077|            2.1359|\n",
      "|      41.4 in|      64035|            2.1345|\n",
      "|      42.1 in|      63135|2.1045000000000003|\n",
      "+-------------+-----------+------------------+\n",
      "only showing top 20 rows\n",
      "\n"
     ]
    }
   ],
   "source": [
    "value_counts.show()"
   ]
  },
  {
   "cell_type": "markdown",
   "metadata": {
    "application/vnd.databricks.v1+cell": {
     "cellMetadata": {
      "byteLimit": 2048000,
      "rowLimit": 10000
     },
     "inputWidgets": {},
     "nuid": "fd882fad-55e1-4da0-a432-dbbec2d5780f",
     "showTitle": false,
     "title": ""
    }
   },
   "source": [
    "Just like the back legroom column, the front legroom column will need to be cleaned up. Lets remove the special characters and convert the values to float."
   ]
  },
  {
   "cell_type": "code",
   "execution_count": null,
   "metadata": {
    "application/vnd.databricks.v1+cell": {
     "cellMetadata": {
      "byteLimit": 2048000,
      "rowLimit": 10000
     },
     "inputWidgets": {},
     "nuid": "65c1d640-fffe-46d9-aa28-14422c6bb3f1",
     "showTitle": false,
     "title": ""
    }
   },
   "outputs": [],
   "source": [
    "# Split the 'front_legroom' column and return the first value\n",
    "cars_df2 = cars_df2.withColumn('front_legroom', split(col('front_legroom'), ' ')[0])"
   ]
  },
  {
   "cell_type": "code",
   "execution_count": null,
   "metadata": {
    "application/vnd.databricks.v1+cell": {
     "cellMetadata": {
      "byteLimit": 2048000,
      "rowLimit": 10000
     },
     "inputWidgets": {},
     "nuid": "af3d149a-61ea-4315-b4b8-4734bd74404d",
     "showTitle": false,
     "title": ""
    }
   },
   "outputs": [],
   "source": [
    "# Replace \"--\" with null values\n",
    "cars_df2 = cars_df2.withColumn('front_legroom', when(col('front_legroom') == \"--\", lit(None)).otherwise(col('front_legroom')))"
   ]
  },
  {
   "cell_type": "code",
   "execution_count": null,
   "metadata": {
    "application/vnd.databricks.v1+cell": {
     "cellMetadata": {
      "byteLimit": 2048000,
      "rowLimit": 10000
     },
     "inputWidgets": {},
     "nuid": "c83f56dc-8826-44d8-9f6b-0a15d28027ef",
     "showTitle": false,
     "title": ""
    }
   },
   "outputs": [],
   "source": [
    "# Split the 'front_legroom' column and return the first value\n",
    "cars_df2 = cars_df2.withColumn('front_legroom', col('front_legroom').cast(FloatType()))"
   ]
  },
  {
   "cell_type": "markdown",
   "metadata": {
    "application/vnd.databricks.v1+cell": {
     "cellMetadata": {
      "byteLimit": 2048000,
      "rowLimit": 10000
     },
     "inputWidgets": {},
     "nuid": "1102c105-e407-4231-be1b-e6cb4d8e73c4",
     "showTitle": false,
     "title": ""
    }
   },
   "source": [
    "Now that the column is cleaned, lets first get a visual representation. This will help us determine if what we can fill in the null values with."
   ]
  },
  {
   "cell_type": "code",
   "execution_count": null,
   "metadata": {
    "application/vnd.databricks.v1+cell": {
     "cellMetadata": {
      "byteLimit": 2048000,
      "rowLimit": 10000
     },
     "inputWidgets": {},
     "nuid": "73933bee-6dd6-4400-a30b-3c235f4fcc59",
     "showTitle": false,
     "title": ""
    }
   },
   "outputs": [],
   "source": [
    "# Convert Spark DataFrame to Pandas DataFrame for plotting\n",
    "pandas_df = cars_df2.select('front_legroom').toPandas()"
   ]
  },
  {
   "cell_type": "code",
   "execution_count": null,
   "metadata": {
    "application/vnd.databricks.v1+cell": {
     "cellMetadata": {
      "byteLimit": 2048000,
      "rowLimit": 10000
     },
     "inputWidgets": {},
     "nuid": "b9da50d0-ab6b-4b18-a2bc-acb9896937b5",
     "showTitle": false,
     "title": ""
    }
   },
   "outputs": [
    {
     "data": {
      "image/png": "[encoded data removed]"
     },
     "metadata": {
      "application/vnd.databricks.v1+output": {
       "addedWidgets": {},
       "arguments": {},
       "data": "data:image/png;base64,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\n",
       "datasetInfos": [],
       "metadata": {},
       "removedWidgets": [],
       "type": "image"
      }
     },
     "output_type": "display_data"
    }
   ],
   "source": [
    "# Plotting using Pandas DataFrame\n",
    "plt.figure(figsize=(10,6))\n",
    "plt.hist(pandas_df['front_legroom'], bins=10)\n",
    "plt.title(\"Front Legroom\")\n",
    "# Add the mode\n",
    "plt.axvline(pandas_df['front_legroom'].mode()[0], color='r', linestyle='dashed', linewidth=2, label='Mode')\n",
    "# Add the median\n",
    "plt.axvline(pandas_df['front_legroom'].median(), color='goldenrod', label='median')\n",
    "# Add the mean\n",
    "plt.axvline(pandas_df['front_legroom'].mean(), color='darkgreen', label='mean')\n",
    "plt.legend()\n",
    "plt.xlabel('Front Legroom')\n",
    "plt.ylabel('Frequency')\n",
    "plt.show()"
   ]
  },
  {
   "cell_type": "markdown",
   "metadata": {
    "application/vnd.databricks.v1+cell": {
     "cellMetadata": {
      "byteLimit": 2048000,
      "rowLimit": 10000
     },
     "inputWidgets": {},
     "nuid": "1d0af5d9-e9b2-4611-8854-f3146410b453",
     "showTitle": false,
     "title": ""
    }
   },
   "source": [
    "It looks like the front legroom has a standard measurement range of approximately 40 to 45 inches. \n",
    "\n",
    "In this case, we can fill in the null values with the mean value."
   ]
  },
  {
   "cell_type": "code",
   "execution_count": null,
   "metadata": {
    "application/vnd.databricks.v1+cell": {
     "cellMetadata": {
      "byteLimit": 2048000,
      "rowLimit": 10000
     },
     "inputWidgets": {},
     "nuid": "987c6c7e-3bfd-4add-af2e-c9ef5f22752b",
     "showTitle": false,
     "title": ""
    }
   },
   "outputs": [],
   "source": [
    "# Calculate the mean of the 'front_legroom' column\n",
    "mean_front_legroom = cars_df2.select(mean(col('front_legroom'))).first()[0]"
   ]
  },
  {
   "cell_type": "code",
   "execution_count": null,
   "metadata": {
    "application/vnd.databricks.v1+cell": {
     "cellMetadata": {
      "byteLimit": 2048000,
      "rowLimit": 10000
     },
     "inputWidgets": {},
     "nuid": "4de2b894-9e61-46fa-8cad-2e62b60cc441",
     "showTitle": false,
     "title": ""
    }
   },
   "outputs": [],
   "source": [
    "# Replace null values with the mean of the column\n",
    "cars_df2 = cars_df2.withColumn('front_legroom', when(col('front_legroom').isNull(), mean_front_legroom).otherwise(col('front_legroom')))"
   ]
  },
  {
   "cell_type": "code",
   "execution_count": null,
   "metadata": {
    "application/vnd.databricks.v1+cell": {
     "cellMetadata": {
      "byteLimit": 2048000,
      "rowLimit": 10000
     },
     "inputWidgets": {},
     "nuid": "8ae6803e-8eab-4c23-a024-96d90cbf9523",
     "showTitle": false,
     "title": ""
    }
   },
   "outputs": [
    {
     "name": "stdout",
     "output_type": "stream",
     "text": [
      "The percentage of null values in the front_legroom column is 0.00%.\n"
     ]
    }
   ],
   "source": [
    "# Calculate the percentage of null values in the 'front_legroom' column\n",
    "null_percentage = (cars_df2.filter(col('front_legroom').isNull()).count() / cars_df2.count() * 100)\n",
    "\n",
    "# Print the result\n",
    "print(f\"The percentage of null values in the front_legroom column is {null_percentage:.2f}%.\")"
   ]
  },
  {
   "cell_type": "markdown",
   "metadata": {
    "application/vnd.databricks.v1+cell": {
     "cellMetadata": {
      "byteLimit": 2048000,
      "rowLimit": 10000
     },
     "inputWidgets": {},
     "nuid": "091783ef-5881-4742-bfd4-30eb359b3214",
     "showTitle": false,
     "title": ""
    }
   },
   "source": [
    "Next, Lets combine the front legroom and back legroom columns to create a new column that will be more useful for our analysis. This will help reduce the amount of redundant information in the dataset, while also providing more information."
   ]
  },
  {
   "cell_type": "code",
   "execution_count": null,
   "metadata": {
    "application/vnd.databricks.v1+cell": {
     "cellMetadata": {
      "byteLimit": 2048000,
      "rowLimit": 10000
     },
     "inputWidgets": {},
     "nuid": "54956914-00b4-4f9b-b2e1-2e21d9260570",
     "showTitle": false,
     "title": ""
    }
   },
   "outputs": [],
   "source": [
    "# Convert the columns to FloatType\n",
    "cars_df2 = cars_df2.withColumn('front_legroom', col('front_legroom').cast('float'))\n",
    "cars_df2 = cars_df2.withColumn('back_legroom', col('back_legroom').cast('float'))"
   ]
  },
  {
   "cell_type": "code",
   "execution_count": null,
   "metadata": {
    "application/vnd.databricks.v1+cell": {
     "cellMetadata": {
      "byteLimit": 2048000,
      "rowLimit": 10000
     },
     "inputWidgets": {},
     "nuid": "bd7a0da6-b8ee-4220-82b8-b65891914993",
     "showTitle": false,
     "title": ""
    }
   },
   "outputs": [],
   "source": [
    "# Combine the 'front_legroom' and 'back_legroom' columns to create 'legroom'\n",
    "cars_df2 = cars_df2.withColumn('legroom', col('front_legroom') + col('back_legroom'))"
   ]
  },
  {
   "cell_type": "code",
   "execution_count": null,
   "metadata": {
    "application/vnd.databricks.v1+cell": {
     "cellMetadata": {
      "byteLimit": 2048000,
      "rowLimit": 10000
     },
     "inputWidgets": {},
     "nuid": "c08712b2-ccc5-4b77-b3b1-856925948b35",
     "showTitle": false,
     "title": ""
    }
   },
   "outputs": [],
   "source": [
    "# Drop the 'front_legroom' and 'back_legroom' columns\n",
    "cars_df2 = cars_df2.drop('front_legroom', 'back_legroom')"
   ]
  },
  {
   "cell_type": "markdown",
   "metadata": {
    "application/vnd.databricks.v1+cell": {
     "cellMetadata": {
      "byteLimit": 2048000,
      "rowLimit": 10000
     },
     "inputWidgets": {},
     "nuid": "7022cf0b-75d5-4fc1-a118-d3b5bff67e31",
     "showTitle": false,
     "title": ""
    }
   },
   "source": [
    "------------------------------------------------------------------------------------------"
   ]
  },
  {
   "cell_type": "markdown",
   "metadata": {
    "application/vnd.databricks.v1+cell": {
     "cellMetadata": {
      "byteLimit": 2048000,
      "rowLimit": 10000
     },
     "inputWidgets": {},
     "nuid": "9847c313-71b5-465e-aa58-0d253ddd2d5b",
     "showTitle": false,
     "title": ""
    }
   },
   "source": [
    "fuel_tank_volume"
   ]
  },
  {
   "cell_type": "code",
   "execution_count": null,
   "metadata": {
    "application/vnd.databricks.v1+cell": {
     "cellMetadata": {
      "byteLimit": 2048000,
      "rowLimit": 10000
     },
     "inputWidgets": {},
     "nuid": "f3b32348-89c8-4e6d-b8d4-5c4c15780b15",
     "showTitle": false,
     "title": ""
    }
   },
   "outputs": [
    {
     "name": "stdout",
     "output_type": "stream",
     "text": [
      "The amount of null values in the fuel_tank_volume column are 5.31%.\n"
     ]
    }
   ],
   "source": [
    "# Calculate the percentage of null values in the 'fuel_tank_volume' column\n",
    "null_percentage = (cars_df2.where(col(\"fuel_tank_volume\").isNull()).count() / cars_df2.count()) * 100\n",
    "\n",
    "print(f\"The amount of null values in the fuel_tank_volume column are {null_percentage:.2f}%.\")"
   ]
  },
  {
   "cell_type": "code",
   "execution_count": null,
   "metadata": {
    "application/vnd.databricks.v1+cell": {
     "cellMetadata": {
      "byteLimit": 2048000,
      "rowLimit": 10000
     },
     "inputWidgets": {},
     "nuid": "b20d3874-4410-4393-a1b6-d2c6b6635bec",
     "showTitle": false,
     "title": ""
    }
   },
   "outputs": [],
   "source": [
    "# Calculate the value counts of the 'fuel_tank_volume' column\n",
    "value_counts = cars_df2.groupBy(\"fuel_tank_volume\").agg(count(\"*\").alias(\"count\"))\n"
   ]
  },
  {
   "cell_type": "code",
   "execution_count": null,
   "metadata": {
    "application/vnd.databricks.v1+cell": {
     "cellMetadata": {
      "byteLimit": 2048000,
      "rowLimit": 10000
     },
     "inputWidgets": {},
     "nuid": "5c4e6168-5a52-41b1-b6f3-f580d485e749",
     "showTitle": false,
     "title": ""
    }
   },
   "outputs": [
    {
     "name": "stdout",
     "output_type": "stream",
     "text": [
      "+----------------+-----+--------------------+\n",
      "|fuel_tank_volume|count|          percentage|\n",
      "+----------------+-----+--------------------+\n",
      "|        14.8 gal|39604|  1.3201333333333334|\n",
      "|        17.1 gal|12216|              0.4072|\n",
      "|          12 gal| 1659|              0.0553|\n",
      "|        20.1 gal| 1322| 0.04406666666666667|\n",
      "|        19.3 gal| 4776|              0.1592|\n",
      "|          10 gal|   20|6.666666666666666E-4|\n",
      "|        22.2 gal|  736|0.024533333333333334|\n",
      "|        16.2 gal|26856|              0.8952|\n",
      "|          17 gal|18416|  0.6138666666666667|\n",
      "|        13.1 gal|   45|              0.0015|\n",
      "|        18.1 gal| 2334| 0.07780000000000001|\n",
      "|          48 gal| 7113| 0.23709999999999998|\n",
      "|          11 gal|  863|0.028766666666666666|\n",
      "|        12.1 gal|  507|              0.0169|\n",
      "|        20.3 gal| 1654| 0.05513333333333334|\n",
      "|           7 gal| 1235| 0.04116666666666667|\n",
      "|        27.8 gal| 5840| 0.19466666666666665|\n",
      "|        20.6 gal| 2164| 0.07213333333333334|\n",
      "|          19 gal|77052|              2.5684|\n",
      "|         2.4 gal|  420|0.013999999999999999|\n",
      "+----------------+-----+--------------------+\n",
      "only showing top 20 rows\n",
      "\n"
     ]
    }
   ],
   "source": [
    "# Calculate the percentage of each value count\n",
    "total_count = cars_df2.count()\n",
    "value_counts_percentage = value_counts.withColumn(\"percentage\", (col(\"count\") / total_count) * 100)\n",
    "\n",
    "value_counts_percentage.show()"
   ]
  },
  {
   "cell_type": "markdown",
   "metadata": {
    "application/vnd.databricks.v1+cell": {
     "cellMetadata": {
      "byteLimit": 2048000,
      "rowLimit": 10000
     },
     "inputWidgets": {},
     "nuid": "57b13c81-4311-453d-bfd3-63c090d6d8a5",
     "showTitle": false,
     "title": ""
    }
   },
   "source": [
    "Since the fuel_tank_volume column is a measurement of the fuel tank size, what about the fuel tank size of the electric vehicles?"
   ]
  },
  {
   "cell_type": "code",
   "execution_count": null,
   "metadata": {
    "application/vnd.databricks.v1+cell": {
     "cellMetadata": {
      "byteLimit": 2048000,
      "rowLimit": 10000
     },
     "inputWidgets": {},
     "nuid": "35bbf3bd-f728-43ea-b113-ccf30d0f75ea",
     "showTitle": false,
     "title": ""
    }
   },
   "outputs": [
    {
     "name": "stdout",
     "output_type": "stream",
     "text": [
      "+----------------+---------+\n",
      "|fuel_tank_volume|fuel_type|\n",
      "+----------------+---------+\n",
      "|            null| Electric|\n",
      "|            null| Electric|\n",
      "|            null| Electric|\n",
      "|            null| Electric|\n",
      "|            null| Electric|\n",
      "|            null| Electric|\n",
      "|            null| Electric|\n",
      "|            null| Electric|\n",
      "|            null| Electric|\n",
      "|            null| Electric|\n",
      "|            null| Electric|\n",
      "|              --| Electric|\n",
      "|            null| Electric|\n",
      "|            null| Electric|\n",
      "|            null| Electric|\n",
      "|            null| Electric|\n",
      "|            null| Electric|\n",
      "|            null| Electric|\n",
      "|            null| Electric|\n",
      "|            null| Electric|\n",
      "+----------------+---------+\n",
      "only showing top 20 rows\n",
      "\n"
     ]
    }
   ],
   "source": [
    "# Filter the rows where fuel_type is \"Electric\" and select the specified columns\n",
    "filtered_df = cars_df2.filter(col(\"fuel_type\") == \"Electric\").select(\"fuel_tank_volume\", \"fuel_type\")\n",
    "\n",
    "filtered_df.show()"
   ]
  },
  {
   "cell_type": "markdown",
   "metadata": {
    "application/vnd.databricks.v1+cell": {
     "cellMetadata": {
      "byteLimit": 2048000,
      "rowLimit": 10000
     },
     "inputWidgets": {},
     "nuid": "dd2b561b-95ea-49ff-b4fb-0140e231fe40",
     "showTitle": false,
     "title": ""
    }
   },
   "source": [
    "As expected, the fuel tank volume of the electric vehicles is null. We can fill in the null values with 0. \n",
    "\n",
    "But first, lets clean up the column so that the values are in float format."
   ]
  },
  {
   "cell_type": "code",
   "execution_count": null,
   "metadata": {
    "application/vnd.databricks.v1+cell": {
     "cellMetadata": {
      "byteLimit": 2048000,
      "rowLimit": 10000
     },
     "inputWidgets": {},
     "nuid": "78fd583d-0a0a-4b65-b114-0789128709a7",
     "showTitle": false,
     "title": ""
    }
   },
   "outputs": [],
   "source": [
    "# Split the 'fuel_tank_volume' column and select the first value\n",
    "cars_df2 = cars_df2.withColumn(\"fuel_tank_volume\", split(col(\"fuel_tank_volume\"), \" \").getItem(0))\n",
    "\n",
    "# Replace \"--\" with null values\n",
    "cars_df2 = cars_df2.withColumn(\"fuel_tank_volume\", when(col(\"fuel_tank_volume\") == \"--\", None).otherwise(col(\"fuel_tank_volume\")))\n",
    "\n",
    "# Convert the 'fuel_tank_volume' column to a FloatType\n",
    "cars_df2 = cars_df2.withColumn(\"fuel_tank_volume\", col(\"fuel_tank_volume\").cast(FloatType()))\n"
   ]
  },
  {
   "cell_type": "markdown",
   "metadata": {
    "application/vnd.databricks.v1+cell": {
     "cellMetadata": {
      "byteLimit": 2048000,
      "rowLimit": 10000
     },
     "inputWidgets": {},
     "nuid": "91c3bbcb-18a3-41ce-8649-735fb5dc8568",
     "showTitle": false,
     "title": ""
    }
   },
   "source": [
    "Now that the column is cleaned, lets first full the null values with 0 on the electric vehicles only."
   ]
  },
  {
   "cell_type": "code",
   "execution_count": null,
   "metadata": {
    "application/vnd.databricks.v1+cell": {
     "cellMetadata": {
      "byteLimit": 2048000,
      "rowLimit": 10000
     },
     "inputWidgets": {},
     "nuid": "0e97fbcc-b09a-4093-84fa-15a4a6fae11f",
     "showTitle": false,
     "title": ""
    }
   },
   "outputs": [],
   "source": [
    "# Fill null values in the 'fuel_tank_volume' column with 0 for electric cars only\n",
    "cars_df2 = cars_df2.withColumn(\"fuel_tank_volume\",\n",
    "                               when((col(\"fuel_type\") == \"Electric\") & (col(\"fuel_tank_volume\").isNull()), 0)\n",
    "                               .otherwise(col(\"fuel_tank_volume\")))\n"
   ]
  },
  {
   "cell_type": "code",
   "execution_count": null,
   "metadata": {
    "application/vnd.databricks.v1+cell": {
     "cellMetadata": {
      "byteLimit": 2048000,
      "rowLimit": 10000
     },
     "inputWidgets": {},
     "nuid": "0c9f6fe1-d34f-47e5-b4d6-3f3a868062b2",
     "showTitle": false,
     "title": ""
    }
   },
   "outputs": [
    {
     "name": "stdout",
     "output_type": "stream",
     "text": [
      "The amount of null values in the fuel_tank_volume column are 4.81%.\n"
     ]
    }
   ],
   "source": [
    "# Calculate the percentage of null values in the 'fuel_tank_volume' column\n",
    "null_percentage = (cars_df2.where(col(\"fuel_tank_volume\").isNull()).count() / cars_df2.count()) * 100\n",
    "\n",
    "print(f\"The amount of null values in the fuel_tank_volume column are {null_percentage:.2f}%.\")"
   ]
  },
  {
   "cell_type": "code",
   "execution_count": null,
   "metadata": {
    "application/vnd.databricks.v1+cell": {
     "cellMetadata": {
      "byteLimit": 2048000,
      "rowLimit": 10000
     },
     "inputWidgets": {},
     "nuid": "b13d1f07-7f9d-443d-97fa-299026248d5d",
     "showTitle": false,
     "title": ""
    }
   },
   "outputs": [
    {
     "name": "stdout",
     "output_type": "stream",
     "text": [
      "+----------------+---------+\n",
      "|fuel_tank_volume|fuel_type|\n",
      "+----------------+---------+\n",
      "|            null| Gasoline|\n",
      "|            null|   Diesel|\n",
      "|            null| Gasoline|\n",
      "|            null|     null|\n",
      "|            null| Gasoline|\n",
      "|            null|     null|\n",
      "|            null| Gasoline|\n",
      "|            null|     null|\n",
      "|            null| Gasoline|\n",
      "|            null| Gasoline|\n",
      "|            null|     null|\n",
      "|            null|   Diesel|\n",
      "|            null|     null|\n",
      "|            null| Gasoline|\n",
      "|            null| Gasoline|\n",
      "|            null|     null|\n",
      "|            null|     null|\n",
      "|            null| Gasoline|\n",
      "|            null|     null|\n",
      "|            null| Gasoline|\n",
      "+----------------+---------+\n",
      "only showing top 20 rows\n",
      "\n"
     ]
    }
   ],
   "source": [
    "# Select rows with null values in the 'fuel_tank_volume' column and the 'fuel_type' column\n",
    "null_values_df = cars_df2.filter(col(\"fuel_tank_volume\").isNull()).select(\"fuel_tank_volume\", \"fuel_type\")\n",
    "\n",
    "# Show the DataFrame with null values\n",
    "null_values_df.show()"
   ]
  },
  {
   "cell_type": "markdown",
   "metadata": {
    "application/vnd.databricks.v1+cell": {
     "cellMetadata": {
      "byteLimit": 2048000,
      "rowLimit": 10000
     },
     "inputWidgets": {},
     "nuid": "3034d436-48f1-46b0-ab8b-562de1774a23",
     "showTitle": false,
     "title": ""
    }
   },
   "source": [
    "We will fill in the rest of the null values with the mean value of the fuel tank volume."
   ]
  },
  {
   "cell_type": "code",
   "execution_count": null,
   "metadata": {
    "application/vnd.databricks.v1+cell": {
     "cellMetadata": {
      "byteLimit": 2048000,
      "rowLimit": 10000
     },
     "inputWidgets": {},
     "nuid": "a1855ecd-03b5-4dc2-9d35-6a929576ce2f",
     "showTitle": false,
     "title": ""
    }
   },
   "outputs": [],
   "source": [
    "# Calculate the mean fuel tank volume for each fuel type\n",
    "window_spec = Window().partitionBy(\"fuel_type\")\n",
    "cars_df2 = cars_df2.withColumn(\"mean_fuel_tank_volume\", avg(\"fuel_tank_volume\").over(window_spec))"
   ]
  },
  {
   "cell_type": "code",
   "execution_count": null,
   "metadata": {
    "application/vnd.databricks.v1+cell": {
     "cellMetadata": {
      "byteLimit": 2048000,
      "rowLimit": 10000
     },
     "inputWidgets": {},
     "nuid": "212adcf8-a220-4521-90cf-95ffdbe65f92",
     "showTitle": false,
     "title": ""
    }
   },
   "outputs": [],
   "source": [
    "# Fill null values in the 'fuel_tank_volume' column with the mean based on fuel_type\n",
    "cars_df2 = cars_df2.withColumn(\"fuel_tank_volume\",\n",
    "                               when(col(\"fuel_tank_volume\").isNull(), col(\"mean_fuel_tank_volume\"))\n",
    "                               .otherwise(col(\"fuel_tank_volume\")))"
   ]
  },
  {
   "cell_type": "code",
   "execution_count": null,
   "metadata": {
    "application/vnd.databricks.v1+cell": {
     "cellMetadata": {
      "byteLimit": 2048000,
      "rowLimit": 10000
     },
     "inputWidgets": {},
     "nuid": "3726c698-9410-4faf-8c57-0b28aafdb083",
     "showTitle": false,
     "title": ""
    }
   },
   "outputs": [],
   "source": [
    "# Drop the temporary mean column\n",
    "cars_df2 = cars_df2.drop(\"mean_fuel_tank_volume\")"
   ]
  },
  {
   "cell_type": "code",
   "execution_count": null,
   "metadata": {
    "application/vnd.databricks.v1+cell": {
     "cellMetadata": {
      "byteLimit": 2048000,
      "rowLimit": 10000
     },
     "inputWidgets": {},
     "nuid": "80826716-5d36-44dd-b3ee-2f66e2de6186",
     "showTitle": false,
     "title": ""
    }
   },
   "outputs": [
    {
     "name": "stdout",
     "output_type": "stream",
     "text": [
      "+----------------+---------+\n",
      "|fuel_tank_volume|fuel_type|\n",
      "+----------------+---------+\n",
      "+----------------+---------+\n",
      "\n"
     ]
    }
   ],
   "source": [
    "# Filter rows with null values in 'fuel_tank_volume' column and select columns\n",
    "null_fuel_tank_rows = cars_df2.filter(col('fuel_tank_volume').isNull()).select('fuel_tank_volume', 'fuel_type')\n",
    "\n",
    "null_fuel_tank_rows.show()"
   ]
  },
  {
   "cell_type": "markdown",
   "metadata": {
    "application/vnd.databricks.v1+cell": {
     "cellMetadata": {
      "byteLimit": 2048000,
      "rowLimit": 10000
     },
     "inputWidgets": {},
     "nuid": "dbeac645-7f0b-4255-badd-0edc2863de78",
     "showTitle": false,
     "title": ""
    }
   },
   "source": [
    "----------------------------------------------------------------------------------------"
   ]
  },
  {
   "cell_type": "markdown",
   "metadata": {
    "application/vnd.databricks.v1+cell": {
     "cellMetadata": {
      "byteLimit": 2048000,
      "rowLimit": 10000
     },
     "inputWidgets": {},
     "nuid": "5f208732-9d64-45b3-8c19-8a070bc81250",
     "showTitle": false,
     "title": ""
    }
   },
   "source": [
    "fuel_type"
   ]
  },
  {
   "cell_type": "code",
   "execution_count": null,
   "metadata": {
    "application/vnd.databricks.v1+cell": {
     "cellMetadata": {
      "byteLimit": 2048000,
      "rowLimit": 10000
     },
     "inputWidgets": {},
     "nuid": "08f5b7f1-cbef-42f9-b261-638ca7ea2b66",
     "showTitle": false,
     "title": ""
    }
   },
   "outputs": [],
   "source": [
    "# Calculate value counts and percentages for each fuel type\n",
    "fuel_type_counts = cars_df2.groupBy('fuel_type').agg(count('*').alias('count'))"
   ]
  },
  {
   "cell_type": "code",
   "execution_count": null,
   "metadata": {
    "application/vnd.databricks.v1+cell": {
     "cellMetadata": {
      "byteLimit": 2048000,
      "rowLimit": 10000
     },
     "inputWidgets": {},
     "nuid": "c3ae17f5-9ce2-4c05-acff-0cfefd1107ab",
     "showTitle": false,
     "title": ""
    }
   },
   "outputs": [],
   "source": [
    "total_count = cars_df2.count()"
   ]
  },
  {
   "cell_type": "code",
   "execution_count": null,
   "metadata": {
    "application/vnd.databricks.v1+cell": {
     "cellMetadata": {
      "byteLimit": 2048000,
      "rowLimit": 10000
     },
     "inputWidgets": {},
     "nuid": "24b8293d-bb78-4371-a241-557adaec3f69",
     "showTitle": false,
     "title": ""
    }
   },
   "outputs": [
    {
     "name": "stdout",
     "output_type": "stream",
     "text": [
      "+--------------------+-------+--------------------+\n",
      "|           fuel_type|  count|          percentage|\n",
      "+--------------------+-------+--------------------+\n",
      "|           Biodiesel|  25854|  0.8618000000000001|\n",
      "|            Gasoline|2598401|   86.61336666666666|\n",
      "|                null|  82724|  2.7574666666666667|\n",
      "|              Diesel|  44452|  1.4817333333333333|\n",
      "|   Flex Fuel Vehicle| 155991|              5.1997|\n",
      "|              Hybrid|  76011|  2.5336999999999996|\n",
      "|            Electric|  16415|  0.5471666666666666|\n",
      "|Compressed Natura...|    146|0.004866666666666667|\n",
      "|             Propane|      6|1.999999999999999...|\n",
      "+--------------------+-------+--------------------+\n",
      "\n"
     ]
    }
   ],
   "source": [
    "fuel_type_counts_percent = fuel_type_counts.withColumn('percentage', (col('count') / total_count) * 100)\n",
    "fuel_type_counts_percent.show()"
   ]
  },
  {
   "cell_type": "markdown",
   "metadata": {
    "application/vnd.databricks.v1+cell": {
     "cellMetadata": {
      "byteLimit": 2048000,
      "rowLimit": 10000
     },
     "inputWidgets": {},
     "nuid": "fa6d75bf-0105-461a-ad1b-bac74e69e46b",
     "showTitle": false,
     "title": ""
    }
   },
   "source": [
    "Notice that majority of vehicles are Gasoline. This should come as no surprise since the majority of vehicles are gas powered.\n",
    "\n",
    "Lets take a look at the null rows and see if we can use to fill in the null values."
   ]
  },
  {
   "cell_type": "code",
   "execution_count": null,
   "metadata": {
    "application/vnd.databricks.v1+cell": {
     "cellMetadata": {
      "byteLimit": 2048000,
      "rowLimit": 10000
     },
     "inputWidgets": {},
     "nuid": "f5611de4-a49f-4631-be32-bd455d0b5226",
     "showTitle": false,
     "title": ""
    }
   },
   "outputs": [
    {
     "name": "stdout",
     "output_type": "stream",
     "text": [
      "+---------+-----------------+-----------+---------+--------------------+\n",
      "|fuel_type| fuel_tank_volume|engine_type|make_name|          model_name|\n",
      "+---------+-----------------+-----------+---------+--------------------+\n",
      "|     null|             26.0|       null|Chevrolet|      Silverado 1500|\n",
      "|     null|23.44274324248767|       null|      RAM|        5500 Chassis|\n",
      "|     null|23.44274324248767|       null|      BMW|                  X3|\n",
      "|     null|23.44274324248767|       null|      BMW|                  X5|\n",
      "|     null|23.44274324248767|       null|     Ford|F-550 Super Duty ...|\n",
      "|     null|23.44274324248767|       null|      BMW|            5 Series|\n",
      "|     null|23.44274324248767|       null|   Nissan|            Frontier|\n",
      "|     null|23.44274324248767|       null|      BMW|            2 Series|\n",
      "|     null|23.44274324248767|       null|     Jeep|           Gladiator|\n",
      "|     null|             26.0|       null|      GMC|         Sierra 1500|\n",
      "|     null|             25.0|       null|     Ford|   Transit Passenger|\n",
      "|     null|23.44274324248767|       null|    Mazda|                CX-9|\n",
      "|     null|             23.0|       null|     Ford|               F-150|\n",
      "|     null|             14.5|       null|    Mazda|              MAZDA3|\n",
      "|     null|23.44274324248767|       null|   Toyota|              Avalon|\n",
      "|     null|23.44274324248767|       null|      RAM|        5500 Chassis|\n",
      "|     null|23.44274324248767|       null|      BMW|            5 Series|\n",
      "|     null|             21.0|       null|Chevrolet|             Equinox|\n",
      "|     null|23.44274324248767|       null|      BMW|                  X1|\n",
      "|     null|23.44274324248767|       null|     Ford|    F-350 Super Duty|\n",
      "+---------+-----------------+-----------+---------+--------------------+\n",
      "only showing top 20 rows\n",
      "\n"
     ]
    }
   ],
   "source": [
    "# Filter rows with null values in 'fuel_type' column and select specific columns\n",
    "null_fuel_type_rows = cars_df2.filter(col('fuel_type').isNull()).select('fuel_type', 'fuel_tank_volume', 'engine_type', 'make_name', 'model_name')\n",
    "\n",
    "null_fuel_type_rows.show()"
   ]
  },
  {
   "cell_type": "markdown",
   "metadata": {
    "application/vnd.databricks.v1+cell": {
     "cellMetadata": {
      "byteLimit": 2048000,
      "rowLimit": 10000
     },
     "inputWidgets": {},
     "nuid": "dce028e6-e228-433b-b606-41fb1a23b486",
     "showTitle": false,
     "title": ""
    }
   },
   "source": [
    "It looks like these are all gas vehicles. We can fill in the null values with 'Gasoline'."
   ]
  },
  {
   "cell_type": "code",
   "execution_count": null,
   "metadata": {
    "application/vnd.databricks.v1+cell": {
     "cellMetadata": {
      "byteLimit": 2048000,
      "rowLimit": 10000
     },
     "inputWidgets": {},
     "nuid": "5809ed47-accf-43fd-ba58-2f8e83568791",
     "showTitle": false,
     "title": ""
    }
   },
   "outputs": [],
   "source": [
    "# Fill null values in 'fuel_type' column with \"Gasoline\"\n",
    "cars_df2 = cars_df2.na.fill({'fuel_type': 'Gasoline'})"
   ]
  },
  {
   "cell_type": "code",
   "execution_count": null,
   "metadata": {
    "application/vnd.databricks.v1+cell": {
     "cellMetadata": {
      "byteLimit": 2048000,
      "rowLimit": 10000
     },
     "inputWidgets": {},
     "nuid": "645349e9-85db-4ba2-adce-3619b13992c4",
     "showTitle": false,
     "title": ""
    }
   },
   "outputs": [
    {
     "name": "stdout",
     "output_type": "stream",
     "text": [
      "The percentage of null values in the fuel_tank_volume column is 0.00%.\n"
     ]
    }
   ],
   "source": [
    "# Calculate the percentage of null values in the 'fuel_tank_volume' column\n",
    "null_percentage = (cars_df2.filter(col('fuel_tank_volume').isNull()).count() / cars_df2.count() * 100)\n",
    "\n",
    "# Print the result\n",
    "print(f\"The percentage of null values in the fuel_tank_volume column is {null_percentage:.2f}%.\")\n"
   ]
  },
  {
   "cell_type": "markdown",
   "metadata": {
    "application/vnd.databricks.v1+cell": {
     "cellMetadata": {
      "byteLimit": 2048000,
      "rowLimit": 10000
     },
     "inputWidgets": {},
     "nuid": "8924cd33-c2e2-4bbf-82fd-d55694c8f480",
     "showTitle": false,
     "title": ""
    }
   },
   "source": [
    "Now that the null values have been filled in, lets go back to the fuel_tank_volume column and see if we can fill in the rest of the null values."
   ]
  },
  {
   "cell_type": "code",
   "execution_count": null,
   "metadata": {
    "application/vnd.databricks.v1+cell": {
     "cellMetadata": {
      "byteLimit": 2048000,
      "rowLimit": 10000
     },
     "inputWidgets": {},
     "nuid": "8f219d1c-88b4-4b1b-9f86-3fcacc2f2e55",
     "showTitle": false,
     "title": ""
    }
   },
   "outputs": [
    {
     "name": "stdout",
     "output_type": "stream",
     "text": [
      "+----------------+---------+\n",
      "|fuel_tank_volume|fuel_type|\n",
      "+----------------+---------+\n",
      "+----------------+---------+\n",
      "\n"
     ]
    }
   ],
   "source": [
    "# Filter rows with null values in 'fuel_tank_volume' column and select specific columns\n",
    "null_fuel_tank_volume_rows = cars_df2.filter(col('fuel_tank_volume').isNull()).select('fuel_tank_volume', 'fuel_type')\n",
    "\n",
    "null_fuel_tank_volume_rows.show()"
   ]
  },
  {
   "cell_type": "markdown",
   "metadata": {
    "application/vnd.databricks.v1+cell": {
     "cellMetadata": {
      "byteLimit": 2048000,
      "rowLimit": 10000
     },
     "inputWidgets": {},
     "nuid": "588ec47d-ec8a-48e2-a591-017cc083f3fd",
     "showTitle": false,
     "title": ""
    }
   },
   "source": [
    "Great, Now that we know the nulls are all gas vehicles, we can fill in the rest of the null values with the mean value of the fuel tank volume."
   ]
  },
  {
   "cell_type": "code",
   "execution_count": null,
   "metadata": {
    "application/vnd.databricks.v1+cell": {
     "cellMetadata": {
      "byteLimit": 2048000,
      "rowLimit": 10000
     },
     "inputWidgets": {},
     "nuid": "7c4a1962-bbdb-46c2-9cdf-c97a715310ee",
     "showTitle": false,
     "title": ""
    }
   },
   "outputs": [],
   "source": [
    "# Calculate the mean fuel tank volume across the entire column\n",
    "mean_fuel_tank_volume = cars_df2.select(mean(\"fuel_tank_volume\")).first()[0]\n",
    "\n"
   ]
  },
  {
   "cell_type": "code",
   "execution_count": null,
   "metadata": {
    "application/vnd.databricks.v1+cell": {
     "cellMetadata": {
      "byteLimit": 2048000,
      "rowLimit": 10000
     },
     "inputWidgets": {},
     "nuid": "e4a3a07a-360f-4a19-9eef-a81d1cc4015b",
     "showTitle": false,
     "title": ""
    }
   },
   "outputs": [],
   "source": [
    "# Fill null values in the 'fuel_tank_volume' column with the calculated mean\n",
    "cars_df2 = cars_df2.withColumn(\"fuel_tank_volume\",\n",
    "                               when(col(\"fuel_tank_volume\").isNull(), mean_fuel_tank_volume)\n",
    "                               .otherwise(col(\"fuel_tank_volume\")))"
   ]
  },
  {
   "cell_type": "code",
   "execution_count": null,
   "metadata": {
    "application/vnd.databricks.v1+cell": {
     "cellMetadata": {
      "byteLimit": 2048000,
      "rowLimit": 10000
     },
     "inputWidgets": {},
     "nuid": "6cda5013-2741-43cb-9206-e709446ea9e8",
     "showTitle": false,
     "title": ""
    }
   },
   "outputs": [],
   "source": [
    "# Drop the 'mean_fuel_tank_volume' column\n",
    "cars_df2 = cars_df2.drop('mean_fuel_tank_volume')"
   ]
  },
  {
   "cell_type": "code",
   "execution_count": null,
   "metadata": {
    "application/vnd.databricks.v1+cell": {
     "cellMetadata": {
      "byteLimit": 2048000,
      "rowLimit": 10000
     },
     "inputWidgets": {},
     "nuid": "da3772aa-d248-4217-a711-ef1d4cc709a1",
     "showTitle": false,
     "title": ""
    }
   },
   "outputs": [
    {
     "name": "stdout",
     "output_type": "stream",
     "text": [
      "The percentage of null values in the fuel_tank_volume column is 0.00%.\n"
     ]
    }
   ],
   "source": [
    "# Calculate the percentage of null values in the 'fuel_tank_volume' column\n",
    "null_percentage = (cars_df2.filter(col('fuel_tank_volume').isNull()).count() / cars_df2.count() * 100)\n",
    "\n",
    "# Print the result\n",
    "print(f\"The percentage of null values in the fuel_tank_volume column is {null_percentage:.2f}%.\")\n"
   ]
  },
  {
   "cell_type": "markdown",
   "metadata": {
    "application/vnd.databricks.v1+cell": {
     "cellMetadata": {
      "byteLimit": 2048000,
      "rowLimit": 10000
     },
     "inputWidgets": {},
     "nuid": "8e8005c5-f581-4f36-a349-02bcc6a2a860",
     "showTitle": false,
     "title": ""
    }
   },
   "source": [
    "-----------------------------------------------------------------------------------------"
   ]
  },
  {
   "cell_type": "markdown",
   "metadata": {
    "application/vnd.databricks.v1+cell": {
     "cellMetadata": {
      "byteLimit": 2048000,
      "rowLimit": 10000
     },
     "inputWidgets": {},
     "nuid": "a3227b92-9d85-48bd-b6ad-6bac45f39f40",
     "showTitle": false,
     "title": ""
    }
   },
   "source": [
    "engine_type"
   ]
  },
  {
   "cell_type": "code",
   "execution_count": null,
   "metadata": {
    "application/vnd.databricks.v1+cell": {
     "cellMetadata": {
      "byteLimit": 2048000,
      "rowLimit": 10000
     },
     "inputWidgets": {},
     "nuid": "7fee5bec-0956-4105-86a4-f81772ae099d",
     "showTitle": false,
     "title": ""
    }
   },
   "outputs": [
    {
     "name": "stdout",
     "output_type": "stream",
     "text": [
      "The percentage of null values in the engine_type column is 3.35%.\n"
     ]
    }
   ],
   "source": [
    "# Calculate the percentage of null values in the 'engine_type' column\n",
    "null_percentage = (cars_df2.filter(col('engine_type').isNull()).count() / cars_df2.count() * 100)\n",
    "\n",
    "# Print the result\n",
    "print(f\"The percentage of null values in the engine_type column is {null_percentage:.2f}%.\")\n"
   ]
  },
  {
   "cell_type": "code",
   "execution_count": null,
   "metadata": {
    "application/vnd.databricks.v1+cell": {
     "cellMetadata": {
      "byteLimit": 2048000,
      "rowLimit": 10000
     },
     "inputWidgets": {},
     "nuid": "6b2e43d1-79f2-4321-93e6-881d3c82e42b",
     "showTitle": false,
     "title": ""
    }
   },
   "outputs": [
    {
     "name": "stdout",
     "output_type": "stream",
     "text": [
      "+--------------------+\n",
      "|         engine_type|\n",
      "+--------------------+\n",
      "|           I4 Hybrid|\n",
      "|           V6 Diesel|\n",
      "|                  I5|\n",
      "|           I4 Diesel|\n",
      "|                null|\n",
      "|V6 Flex Fuel Vehicle|\n",
      "|                  I4|\n",
      "|           V6 Hybrid|\n",
      "|                  R2|\n",
      "|           I6 Diesel|\n",
      "|                  I3|\n",
      "|                 W12|\n",
      "|        V8 Biodiesel|\n",
      "|                  V6|\n",
      "|V8 Flex Fuel Vehicle|\n",
      "|                 V12|\n",
      "|I4 Flex Fuel Vehicle|\n",
      "|                  V8|\n",
      "|           V8 Diesel|\n",
      "|                  H4|\n",
      "+--------------------+\n",
      "only showing top 20 rows\n",
      "\n"
     ]
    }
   ],
   "source": [
    "# Get the distinct values in the 'engine_type' column\n",
    "distinct_engine_types = cars_df2.select('engine_type').distinct()\n",
    "\n",
    "# Show the distinct values\n",
    "distinct_engine_types.show()"
   ]
  },
  {
   "cell_type": "code",
   "execution_count": null,
   "metadata": {
    "application/vnd.databricks.v1+cell": {
     "cellMetadata": {
      "byteLimit": 2048000,
      "rowLimit": 10000
     },
     "inputWidgets": {},
     "nuid": "fc43abfc-c3b7-4e70-8fa9-0f5eb4bb690e",
     "showTitle": false,
     "title": ""
    }
   },
   "outputs": [
    {
     "name": "stdout",
     "output_type": "stream",
     "text": [
      "+--------------------+-------+--------------------+\n",
      "|         engine_type|  count|          percentage|\n",
      "+--------------------+-------+--------------------+\n",
      "|                  H6|   4686|              0.1562|\n",
      "|W12 Flex Fuel Veh...|     97|0.003233333333333...|\n",
      "|           I4 Hybrid|  72711|              2.4237|\n",
      "|           V6 Diesel|   6657| 0.22190000000000001|\n",
      "|                  I5|   5301|              0.1767|\n",
      "|           I4 Diesel|   7210| 0.24033333333333332|\n",
      "|                null| 100580|   3.352666666666667|\n",
      "|           I5 Diesel|     49|0.001633333333333...|\n",
      "|V6 Flex Fuel Vehicle|  68336|  2.2778666666666667|\n",
      "|                  I4|1418273|   47.27576666666667|\n",
      "|           V6 Hybrid|   3058| 0.10193333333333332|\n",
      "|                  I2|    897|              0.0299|\n",
      "|                  R2|     65|0.002166666666666...|\n",
      "|V8 Compressed Nat...|     95|0.003166666666666...|\n",
      "|           I6 Diesel|  23438|  0.7812666666666668|\n",
      "|           H4 Hybrid|     94|0.003133333333333...|\n",
      "|                  I3|  54301|  1.8100333333333334|\n",
      "|                 W12|    484|0.016133333333333333|\n",
      "|I4 Compressed Nat...|     48|0.001599999999999...|\n",
      "|           V8 Hybrid|    127|0.004233333333333333|\n",
      "+--------------------+-------+--------------------+\n",
      "only showing top 20 rows\n",
      "\n"
     ]
    }
   ],
   "source": [
    "# Calculate the value counts of the 'engine_type' column\n",
    "value_counts = cars_df2.groupBy(\"engine_type\").agg(count(\"*\").alias(\"count\"))\n",
    "\n",
    "# Calculate the total count for percentages\n",
    "total_count = cars_df2.count()\n",
    "\n",
    "# Calculate the percentages\n",
    "value_counts_percentage = value_counts.withColumn(\"percentage\", (col(\"count\") / total_count) * 100)\n",
    "\n",
    "# Show the result\n",
    "value_counts_percentage.show()"
   ]
  },
  {
   "cell_type": "markdown",
   "metadata": {
    "application/vnd.databricks.v1+cell": {
     "cellMetadata": {
      "byteLimit": 2048000,
      "rowLimit": 10000
     },
     "inputWidgets": {},
     "nuid": "58c6632e-4cc8-40bf-b05a-0cfb312ea8ec",
     "showTitle": false,
     "title": ""
    }
   },
   "source": [
    "It looks like the majority of vehicles have a 4 cylinder engine. We can also see that this column shows the fuel type of the vehicle. We can remove the fuel type from the column and just have this column represent the engine type. The fuel type is already represented in the fuel_type column."
   ]
  },
  {
   "cell_type": "code",
   "execution_count": null,
   "metadata": {
    "application/vnd.databricks.v1+cell": {
     "cellMetadata": {
      "byteLimit": 2048000,
      "rowLimit": 10000
     },
     "inputWidgets": {},
     "nuid": "99246fa3-b749-43f9-9a5d-7055297ca6fd",
     "showTitle": false,
     "title": ""
    }
   },
   "outputs": [],
   "source": [
    "# Split the 'engine_type' column and select the first value\n",
    "cars_df2 = cars_df2.withColumn(\"engine_type\", split(col(\"engine_type\"), \" \").getItem(0))\n",
    "\n",
    "# Cast the 'engine_type' column to StringType\n",
    "cars_df2 = cars_df2.withColumn(\"engine_type\", col(\"engine_type\").cast(StringType()))\n"
   ]
  },
  {
   "cell_type": "code",
   "execution_count": null,
   "metadata": {
    "application/vnd.databricks.v1+cell": {
     "cellMetadata": {
      "byteLimit": 2048000,
      "rowLimit": 10000
     },
     "inputWidgets": {},
     "nuid": "9c0f488c-6d99-4c9e-b333-2f20c0d1c322",
     "showTitle": false,
     "title": ""
    }
   },
   "outputs": [
    {
     "name": "stdout",
     "output_type": "stream",
     "text": [
      "H6\n",
      "I5\n",
      "None\n",
      "I4\n",
      "I2\n",
      "R2\n",
      "I3\n",
      "W12\n",
      "W8\n",
      "V6\n",
      "V12\n",
      "V8\n",
      "H4\n",
      "V10\n",
      "I6\n",
      "W16\n"
     ]
    }
   ],
   "source": [
    "# Check the unique values in the 'engine_type' column\n",
    "unique_engine_types = cars_df2.select(\"engine_type\").distinct().collect()\n",
    "for row in unique_engine_types:\n",
    "    print(row[0])"
   ]
  },
  {
   "cell_type": "code",
   "execution_count": null,
   "metadata": {
    "application/vnd.databricks.v1+cell": {
     "cellMetadata": {
      "byteLimit": 2048000,
      "rowLimit": 10000
     },
     "inputWidgets": {},
     "nuid": "413f26bf-5327-45b2-b0f7-3ebc6922a126",
     "showTitle": false,
     "title": ""
    }
   },
   "outputs": [
    {
     "name": "stdout",
     "output_type": "stream",
     "text": [
      "+---------+--------------+-----------+---------+\n",
      "|make_name|    model_name|engine_type|fuel_type|\n",
      "+---------+--------------+-----------+---------+\n",
      "|Chevrolet|Silverado 1500|       null| Gasoline|\n",
      "|     Jeep|     Gladiator|       null| Gasoline|\n",
      "|   Subaru|       Impreza|       null| Gasoline|\n",
      "|     Jeep|     Gladiator|       null| Gasoline|\n",
      "|    Mazda|        MAZDA3|       null| Gasoline|\n",
      "|     Jeep|      Renegade|       null| Gasoline|\n",
      "|     Jeep|Grand Cherokee|       null| Gasoline|\n",
      "| INFINITI|           G35|       null| Gasoline|\n",
      "|      Kia|       Niro EV|       null| Electric|\n",
      "|     Jeep|     Gladiator|       null| Gasoline|\n",
      "|     Jeep|Grand Cherokee|       null| Gasoline|\n",
      "|   Subaru|       Impreza|       null| Gasoline|\n",
      "|Chevrolet|     El Camino|       null| Gasoline|\n",
      "|     Jeep|Grand Cherokee|       null| Gasoline|\n",
      "|    Dodge|       Journey|       null| Gasoline|\n",
      "|     Jeep|     Gladiator|       null| Gasoline|\n",
      "| Chrysler|           200|       null| Gasoline|\n",
      "|Chevrolet|       Bolt EV|       null| Electric|\n",
      "|     Jeep|     Gladiator|       null| Gasoline|\n",
      "|      RAM|          1500|       null| Gasoline|\n",
      "+---------+--------------+-----------+---------+\n",
      "only showing top 20 rows\n",
      "\n"
     ]
    }
   ],
   "source": [
    "# Select rows with null values in the 'engine_type' column and specified columns\n",
    "null_engine_type_rows = cars_df2.filter(col(\"engine_type\").isNull()).select(\"make_name\", \"model_name\", \"engine_type\", \"fuel_type\")\n",
    "\n",
    "null_engine_type_rows.show()"
   ]
  },
  {
   "cell_type": "markdown",
   "metadata": {
    "application/vnd.databricks.v1+cell": {
     "cellMetadata": {
      "byteLimit": 2048000,
      "rowLimit": 10000
     },
     "inputWidgets": {},
     "nuid": "2ca1c4bf-6797-4178-bb95-3aee54d696a1",
     "showTitle": false,
     "title": ""
    }
   },
   "source": [
    "It looks like the null values are a mix of electric and gas vehicles. Lets first take a look at the electric vehicles."
   ]
  },
  {
   "cell_type": "code",
   "execution_count": null,
   "metadata": {
    "application/vnd.databricks.v1+cell": {
     "cellMetadata": {
      "byteLimit": 2048000,
      "rowLimit": 10000
     },
     "inputWidgets": {},
     "nuid": "4596247a-018c-4270-8ad4-7a8db9f0c111",
     "showTitle": false,
     "title": ""
    }
   },
   "outputs": [
    {
     "name": "stdout",
     "output_type": "stream",
     "text": [
      "+---------+--------------+-----------+---------+\n",
      "|make_name|    model_name|engine_type|fuel_type|\n",
      "+---------+--------------+-----------+---------+\n",
      "|  Hyundai|Ioniq Electric|       null| Electric|\n",
      "|  Hyundai|Ioniq Electric|       null| Electric|\n",
      "|  Hyundai| Kona Electric|       null| Electric|\n",
      "|  Hyundai| Kona Electric|       null| Electric|\n",
      "|  Hyundai|Ioniq Electric|       null| Electric|\n",
      "|    Tesla|       Model S|       null| Electric|\n",
      "|  Hyundai|Ioniq Electric|       null| Electric|\n",
      "|  Hyundai|Ioniq Electric|       null| Electric|\n",
      "|    Tesla|       Model X|       null| Electric|\n",
      "|  Hyundai|Ioniq Electric|       null| Electric|\n",
      "|  Hyundai|Ioniq Electric|       null| Electric|\n",
      "|  Hyundai|Ioniq Electric|       null| Electric|\n",
      "|  Hyundai| Kona Electric|       null| Electric|\n",
      "|  Hyundai|Ioniq Electric|       null| Electric|\n",
      "|      Kia|       Niro EV|       null| Electric|\n",
      "|  Hyundai| Kona Electric|       null| Electric|\n",
      "|  Hyundai| Kona Electric|       null| Electric|\n",
      "|  Hyundai|Ioniq Electric|       null| Electric|\n",
      "|  Hyundai| Kona Electric|       null| Electric|\n",
      "|  Hyundai| Kona Electric|       null| Electric|\n",
      "+---------+--------------+-----------+---------+\n",
      "only showing top 20 rows\n",
      "\n"
     ]
    }
   ],
   "source": [
    "# Select rows with null values in the 'engine_type' column and where 'fuel_type' is \"Electric\"\n",
    "null_engine_type_electric_rows = cars_df2.filter(col(\"engine_type\").isNull() & (col(\"fuel_type\") == \"Electric\")).select(\"make_name\", \"model_name\", \"engine_type\", \"fuel_type\")\n",
    "\n",
    "null_engine_type_electric_rows.show()"
   ]
  },
  {
   "cell_type": "markdown",
   "metadata": {
    "application/vnd.databricks.v1+cell": {
     "cellMetadata": {
      "byteLimit": 2048000,
      "rowLimit": 10000
     },
     "inputWidgets": {},
     "nuid": "39783ed8-66a5-42eb-95cc-b618d002479b",
     "showTitle": false,
     "title": ""
    }
   },
   "source": [
    "Filling the null values of electric"
   ]
  },
  {
   "cell_type": "code",
   "execution_count": null,
   "metadata": {
    "application/vnd.databricks.v1+cell": {
     "cellMetadata": {
      "byteLimit": 2048000,
      "rowLimit": 10000
     },
     "inputWidgets": {},
     "nuid": "1d916627-759d-42ce-b9a3-f3fecd44fccc",
     "showTitle": false,
     "title": ""
    }
   },
   "outputs": [],
   "source": [
    "# Fill null values in the 'engine_type' column with \"Electric Motor\" for Electric fuel type\n",
    "cars_df2 = cars_df2.withColumn(\"engine_type\",when(col(\"engine_type\").isNull() & (col(\"fuel_type\") == \"Electric\"), \"Electric Motor\").otherwise(col(\"engine_type\")))"
   ]
  },
  {
   "cell_type": "markdown",
   "metadata": {
    "application/vnd.databricks.v1+cell": {
     "cellMetadata": {
      "byteLimit": 2048000,
      "rowLimit": 10000
     },
     "inputWidgets": {},
     "nuid": "aa86f725-93e6-477e-aa1c-594a0240b60f",
     "showTitle": false,
     "title": ""
    }
   },
   "source": [
    "Next, lets fill in the rest of the null values with the the \"Gasoline\" engine type."
   ]
  },
  {
   "cell_type": "code",
   "execution_count": null,
   "metadata": {
    "application/vnd.databricks.v1+cell": {
     "cellMetadata": {
      "byteLimit": 2048000,
      "rowLimit": 10000
     },
     "inputWidgets": {},
     "nuid": "c8873ec3-9fbd-4921-8a32-a18378418872",
     "showTitle": false,
     "title": ""
    }
   },
   "outputs": [],
   "source": [
    "# Fill null values in the 'engine_type' column with \"Gasoline engine\" for Gasoline fuel type\n",
    "cars_df2 = cars_df2.withColumn(\"engine_type\",when(col(\"engine_type\").isNull() & (col(\"fuel_type\") == \"Gasoline\"), \"Gasoline engine\").otherwise(col(\"engine_type\")))"
   ]
  },
  {
   "cell_type": "code",
   "execution_count": null,
   "metadata": {
    "application/vnd.databricks.v1+cell": {
     "cellMetadata": {
      "byteLimit": 2048000,
      "rowLimit": 10000
     },
     "inputWidgets": {},
     "nuid": "1a239eec-13ea-4e0e-89a5-ae128a067ab9",
     "showTitle": false,
     "title": ""
    }
   },
   "outputs": [
    {
     "name": "stdout",
     "output_type": "stream",
     "text": [
      "The percentage of null values in the engine_type column is 0.03%.\n"
     ]
    }
   ],
   "source": [
    "# Calculate the percentage of null values in the 'engine_type' column\n",
    "null_percentage = (cars_df2.filter(col('engine_type').isNull()).count() / cars_df2.count() * 100)\n",
    "\n",
    "# Print the result\n",
    "print(f\"The percentage of null values in the engine_type column is {null_percentage:.2f}%.\")\n"
   ]
  },
  {
   "cell_type": "markdown",
   "metadata": {
    "application/vnd.databricks.v1+cell": {
     "cellMetadata": {
      "byteLimit": 2048000,
      "rowLimit": 10000
     },
     "inputWidgets": {},
     "nuid": "7580b901-8fe8-4bd3-87c5-2e1588a73d18",
     "showTitle": false,
     "title": ""
    }
   },
   "source": [
    "We still have a few null values left. Lets take a closer look."
   ]
  },
  {
   "cell_type": "code",
   "execution_count": null,
   "metadata": {
    "application/vnd.databricks.v1+cell": {
     "cellMetadata": {
      "byteLimit": 2048000,
      "rowLimit": 10000
     },
     "inputWidgets": {},
     "nuid": "9b550931-25cc-4625-b837-bd3f792ab767",
     "showTitle": false,
     "title": ""
    }
   },
   "outputs": [
    {
     "name": "stdout",
     "output_type": "stream",
     "text": [
      "+-----------+---------+\n",
      "|engine_type|fuel_type|\n",
      "+-----------+---------+\n",
      "|       null|   Diesel|\n",
      "|       null|   Diesel|\n",
      "|       null|   Diesel|\n",
      "|       null|   Diesel|\n",
      "|       null|   Diesel|\n",
      "|       null|   Diesel|\n",
      "|       null|   Diesel|\n",
      "|       null|   Diesel|\n",
      "|       null|   Diesel|\n",
      "|       null|   Diesel|\n",
      "|       null|   Diesel|\n",
      "|       null|   Diesel|\n",
      "|       null|   Diesel|\n",
      "|       null|   Diesel|\n",
      "|       null|   Diesel|\n",
      "|       null|   Diesel|\n",
      "|       null|   Diesel|\n",
      "|       null|   Diesel|\n",
      "|       null|   Diesel|\n",
      "|       null|   Diesel|\n",
      "+-----------+---------+\n",
      "only showing top 20 rows\n",
      "\n"
     ]
    }
   ],
   "source": [
    "# Filter rows with null values in the 'engine_type' column and select specified columns\n",
    "null_engine_type_rows = cars_df2.filter(col(\"engine_type\").isNull()).select(\"engine_type\", \"fuel_type\")\n",
    "\n",
    "null_engine_type_rows.show()"
   ]
  },
  {
   "cell_type": "markdown",
   "metadata": {
    "application/vnd.databricks.v1+cell": {
     "cellMetadata": {
      "byteLimit": 2048000,
      "rowLimit": 10000
     },
     "inputWidgets": {},
     "nuid": "564a88a0-2581-48b7-a976-267dda81f236",
     "showTitle": false,
     "title": ""
    }
   },
   "source": [
    "Diesel Vehicle still has null vales let's fill them."
   ]
  },
  {
   "cell_type": "code",
   "execution_count": null,
   "metadata": {
    "application/vnd.databricks.v1+cell": {
     "cellMetadata": {
      "byteLimit": 2048000,
      "rowLimit": 10000
     },
     "inputWidgets": {},
     "nuid": "c071d59f-3384-487d-952a-2ebf12d85093",
     "showTitle": false,
     "title": ""
    }
   },
   "outputs": [],
   "source": [
    "# Replace null values in the 'engine_type' column with \"Diesel engine\" for rows with 'fuel_type' as \"Diesel\"\n",
    "cars_df2 = cars_df2.withColumn(\"engine_type\", when((col(\"engine_type\").isNull()) & (col(\"fuel_type\") == \"Diesel\"), \"Diesel engine\").otherwise(col(\"engine_type\")))"
   ]
  },
  {
   "cell_type": "code",
   "execution_count": null,
   "metadata": {
    "application/vnd.databricks.v1+cell": {
     "cellMetadata": {
      "byteLimit": 2048000,
      "rowLimit": 10000
     },
     "inputWidgets": {},
     "nuid": "21665b23-07be-4989-aa78-9511f4e22e5a",
     "showTitle": false,
     "title": ""
    }
   },
   "outputs": [
    {
     "name": "stdout",
     "output_type": "stream",
     "text": [
      "+-----------+---------+\n",
      "|engine_type|fuel_type|\n",
      "+-----------+---------+\n",
      "+-----------+---------+\n",
      "\n"
     ]
    }
   ],
   "source": [
    "# Checking the null values rows in the 'engine_type' column\n",
    "null_engine_type_rows = cars_df2.filter(col('engine_type').isNull()).select('engine_type', 'fuel_type')\n",
    "\n",
    "null_engine_type_rows.distinct().show()"
   ]
  },
  {
   "cell_type": "markdown",
   "metadata": {
    "application/vnd.databricks.v1+cell": {
     "cellMetadata": {
      "byteLimit": 2048000,
      "rowLimit": 10000
     },
     "inputWidgets": {},
     "nuid": "e7928ba6-8cd6-4834-b567-1986861a8d1d",
     "showTitle": false,
     "title": ""
    }
   },
   "source": [
    "Let's get a visual representation of the engine types."
   ]
  },
  {
   "cell_type": "code",
   "execution_count": null,
   "metadata": {
    "application/vnd.databricks.v1+cell": {
     "cellMetadata": {
      "byteLimit": 2048000,
      "rowLimit": 10000
     },
     "inputWidgets": {},
     "nuid": "fedd686b-18b8-4ccb-85b6-c3844a4a6a3d",
     "showTitle": false,
     "title": ""
    }
   },
   "outputs": [
    {
     "data": {
      "image/png": "[encoded data removed]"
     },
     "metadata": {
      "application/vnd.databricks.v1+output": {
       "addedWidgets": {},
       "arguments": {},
       "data": "data:image/png;base64,iVBORw0KGgoAAAANSUhEUgAABZgAAAGoCAYAAADLmIB6AAAAOXRFWHRTb2Z0d2FyZQBNYXRwbG90bGliIHZlcnNpb24zLjUuMSwgaHR0cHM6Ly9tYXRwbG90bGliLm9yZy/YYfK9AAAACXBIWXMAAAsTAAALEwEAmpwYAABHL0lEQVR4nO3dd5hkZZk34N9DMqGIMiYQMWDArJgTZsCAugYwrBlzWHE/MSHmtK45YsCcEyqKec0ihlVRUcSEYUGMIIrA8/1xTms5TjM95dRU9/R9X9dcVJ06XfX0oevUqd95z/NWdwcAAAAAADbUFvMuAAAAAACAlUnADAAAAADAVATMAAAAAABMRcAMAAAAAMBUBMwAAAAAAExFwAwAAAAAwFQEzAAALGtVtXNVnVxVW867lk1tY//uVfWKqnrieHuPqjp+Yzzv+Hw3qKpjNtbzAQCwMgiYAQDYKKrqx1V16hiILvx7yb/6vN390+7etrvP2Bh1LlirzjPXqv1uG/O1Fnn9e1XVGROv+aOqel1VXXphnaX+7uNzfW59r9ndD+zup26k+ruqLjXx3J/t7stsjOcGAGDlEDADALAx3WYMRBf+PXTeBS1mss4kP80/1v7mTVTGF8fX3y7JzZKcmuSrVXWFjf1Cq3EEOAAAsydgBgBg5hZG2FbVf1XVb8fRuntNPH7xqvpMVf2xqj5eVS+tqjeNj+0yjpbdarz/6ap6alV9flz/o1W1w8RzXbuqvlBVv6uq/62qPTagzm2q6jdVdcWJZReoqj9V1ZqFthJV9biq+vU4avtuE+uebfwdf1pV/ze2pDjH+l63u8/o7h9294OT/E+Sgxf53e9VVceNv/ePqupuVXW5JK9Icp1xJPTvxnUPraqXV9XhVXVKkhuPy5621u+82O/y6aq638T9v42SrqrPjIv/d3zNu6zdcqOqLjc+x++q6uiquu3EY4eO/48/NP4uX66qS67//xAAAMuNgBkAgE3lWkmOSbJDkuckeU1V1fjYW5IcmeT8GcLVe6znue6a5N5JLpBkmySPTpKq2jHJh5I8Lcn5xuXvrqo1Symwu09L8rYkd59YvF+ST3T3ieP9C42/w45J7pnkVVW10BriWUkuneQqSS41rnPQUl57wnuS3GDthVV1riQvSrJXd587yXWTfKO7v5vkgRlHQ3f3eSd+7K5Jnp7k3EnW1ULjrH6XRXX3DcebVx5f8+1r1bp1kg8k+WiG/0cPS/LmtZ573yRPTrJ9kmPHOgEAWGFWZMBcVa+tqhOq6ttLXP/OVfWdceTEW2ZdHwDAKva+ccTqwr/7Tzz2k+4+ZOwn/PokF05ywaraOck1khzU3ad19+eSHLae13ldd3+/u09N8o4MgW4yBMOHd/fh3X1md38syVFJ9t6A3+H1SfabCL/vkeSNa63zxO7+S3f/T4ZA+87j+vsn+Y/u/k13/zHJMzIEqRviFxnC8XU5M8kVquoc3f3L7j56Pc/1/u7+/Lgt/rzIOv/0u2xgvety7STbJnnW+P/0k0k+mCGsX/De7j6yu09P8ub8/f8hAAAryIoMmJMcmmTPpaxYVbsmeWyS63X35ZM8cnZlAQCserfr7vNO/Dtk4rFfLdzo7j+NN7dNcpEkv5lYliQ/W8/r/Gri9p/G50mSiyW502TIneT6GcLsJenuL4/PuUdVXTbDSOTJwPu33X3KxP2fjL/DmiTnzNBDeeG1PzIu3xA7JvnNOuo6JcldMoxW/uXYXuKy63mu9W3HxX6Xf9VFkvysu89c67l3nLi/2P9DAABWkBUZMHf3Z7LWQXdVXbKqPlJVX62qz04cbN8/yUu7+7fjz56wicsFAOCs/TLJ+arqnBPLLjrlc/0syRvXCrnP1d3P2sDneX2G0dD3SPKutUb/bj+2q1iwc4ZRx7/OMEnf5Sdee7txEr8Ncfskn13XA919RHffPENg/r0kCwF+L/Jciy1fsNjvkiSnZAjMF1xoPc816RdJLlpVk983dk7y8w14DgAAVoAVGTAv4lVJHtbdV8/Qa+9l4/JLJ7n0OAnMl6pqSSOfAQDYNLr7JxnaWBw8TrJ3nSS3mfLp3pTkNlV1y6rasqrOPk4+t9MUz3P7DCHzG9bx+JPHWm+Q5NZJ3jmO1j0kyfOr6gLJ0BO6qm65vhcba714Vb04yR4ZehOvvc4Fq2qfMRD+S5KTM7TMSJL/S7JTVW2zgb/nOn+Xcfk3ktyhqs5ZVZdKct+1fu7/klxikedcGAX+/6pq6xomWrxNhv7WAABsRjaLgLmqts0wyck7q+obSV6Zv18GuVWSXTMcqO+X5JCqOu+mrxIAYFX4QFWdPPHvvUv8ubsluU6SkzJM0Pf2DCHqBununyXZJ8njkpyYYUTzf2YDj3vH5/lahhHAa48m/lWS32YYpfvmJA/s7u+Njz0mw4R1X6qqPyT5eJKzmjTvOlV1cpI/JPl0kvMkuUZ3f2sd626R5FHj6/4myY2SPGh87JNJjk7yq6r69dJ/07P8XZ6f5LQMQfLrx8cnHZzk9WM7kH/o2zxOlnibJHtlGNn9siT/PvHcAABsJqp7fVfNLU9VtUuSD3b3FarqPEmO6e5/6q1XVa9I8uXuft14/xNJDuzur2zSggEAWLKqenuS73X3k+ZYw2uT/KK7nzCxbI8kb+ruDR0RDQAAm6XNYgRzd/8hyY+q6k5JUoMrjw+/L8Po5VTVDhlaZhw3hzIBAFhEVV1jnFNji7Gl2T4ZjuPmVc8uSe6Q5DXzqgEAAFaCFRkwV9Vbk3wxyWWq6viqum+GyyrvW1X/m+HywH3G1Y9IclJVfSfJp5L8Z3efNI+6AQBY1IUytIg4OcmLkjyou78+j0Kq6qlJvp3kud39o3nUAAAAK8WKbZEBAAAAAMB8rcgRzAAAAAAAzN9W8y5gQ+2www69yy67zLsMAAAAAIBV46tf/eqvu3vN2stXXMC8yy675Kijjpp3GQAAAAAAq0ZV/WRdy7XIAAAAAABgKgJmAAAAAACmImAGAAAAAGAqAmYAAAAAAKYiYAYAAAAAYCoCZgAAAAAApiJgBgAAAABgKgJmAAAAAACmImAGAAAAAGAqAmYAAAAAAKYiYAYAAAAAYCoCZgAAAAAApiJgBgAAAABgKlvNuwCWru5f8y5hpvqQnncJAAAAAMAGMIIZAAAAAICpCJgBAAAAAJiKgBkAAAAAgKkImAEAAAAAmIqAGQAAAACAqQiYAQAAAACYioAZAAAAAICpCJgBAAAAAJiKgBkAAAAAgKkImAEAAAAAmIqAGQAAAACAqQiYAQAAAACYioAZAAAAAICpCJgBAAAAAJiKgBkAAAAAgKkImAEAAAAAmIqAGQAAAACAqcwsYK6q11bVCVX17fWsd42qOr2q7jirWgAAAAAA2PhmOYL50CR7ntUKVbVlkmcn+egM6wAAAAAAYAZmFjB392eS/GY9qz0sybuTnDCrOgAAAAAAmI259WCuqh2T3D7Jy5ew7v5VdVRVHXXiiSfOvjgAAAAAANZrnpP8vSDJY7r7zPWt2N2v6u7du3v3NWvWzL4yAAAAAADWa6s5vvbuSd5WVUmyQ5K9q+r07n7fHGsCAAAAAGCJ5hYwd/fFF25X1aFJPihcBgAAAABYOWYWMFfVW5PskWSHqjo+yZOSbJ0k3f2KWb0uAAAAAACbxswC5u7ebwPWvdes6gAAAAAAYDbmOckfAAAAAAArmIAZAAAAAICpCJgBAAAAAJiKgBkAAAAAgKkImAEAAAAAmIqAGQAAAACAqQiYAQAAAACYioAZAAAAAICpCJgBAAAAAJiKgBkAAAAAgKkImAEAAAAAmIqAGQAAAACAqQiYAQAAAACYioAZAAAAAICpCJgBAAAAAJiKgBkAAAAAgKkImAEAAAAAmIqAGQAAAACAqQiYAQAAAACYioAZAAAAAICpCJgBAAAAAJiKgBkAAAAAgKkImAEAAAAAmIqAGQAAAACAqQiYAQAAAACYioAZAAAAAICpCJgBAAAAAJiKgBkAAAAAgKkImAEAAAAAmIqAGQAAAACAqcwsYK6q11bVCVX17UUev1tVfbOqvlVVX6iqK8+qFgAAAAAANr5ZjmA+NMmeZ/H4j5LcqLuvmOSpSV41w1oAAAAAANjItprVE3f3Z6pql7N4/AsTd7+UZKdZ1QIAAAAAwMa3XHow3zfJhxd7sKr2r6qjquqoE088cROWBQAAAADAYuYeMFfVjTMEzI9ZbJ3uflV3797du69Zs2bTFQcAAAAAwKJm1iJjKarqSklenWSv7j5pnrUAAAAAALBh5jaCuap2TvKeJPfo7u/Pqw4AAAAAAKYzsxHMVfXWJHsk2aGqjk/ypCRbJ0l3vyLJQUnOn+RlVZUkp3f37rOqBwAAAACAjWtmAXN377eex++X5H6zen0AAAAAAGZr7pP8AQAAAACwMgmYAQAAAACYioAZAAAAAICpCJgBAAAAAJiKgBkAAAAAgKkImAEAAAAAmIqAGQAAAACAqQiYAQAAAACYioAZAAAAAICpCJgBAAAAAJiKgBkAAAAAgKkImAEAAAAAmIqAGQAAAACAqQiYAQAAAACYioAZAAAAAICpCJgBAAAAAJiKgBkAAAAAgKkImAEAAAAAmIqAGQAAAACAqQiYAQAAAACYioAZAAAAAICpCJgBAAAAAJiKgBkAAAAAgKkImAEAAAAAmIqAGQAAAACAqQiYAQAAAACYioAZAAAAAICpCJgBAAAAAJiKgBkAAAAAgKkImAEAAAAAmMrMAuaqem1VnVBV317k8aqqF1XVsVX1zaq62qxqAQAAAABg45vlCOZDk+x5Fo/vlWTX8d/+SV4+w1oAAAAAANjIZhYwd/dnkvzmLFbZJ8kbevClJOetqgvPqh4AAAAAADauefZg3jHJzybuHz8u+ydVtX9VHVVVR5144ombpDgAAAAAAM7aipjkr7tf1d27d/fua9asmXc5AAAAAABkvgHzz5NcdOL+TuMyAAAAAABWgHkGzIcl+fcaXDvJ77v7l3OsBwAAAACADbDVrJ64qt6aZI8kO1TV8UmelGTrJOnuVyQ5PMneSY5N8qck955VLQAAAAAAbHwzC5i7e7/1PN5JHjKr1wcAAAAAYLZWxCR/AAAAAAAsPwJmAAAAAACmImAGAAAAAGAqAmYAAAAAAKYiYAYAAAAAYCoCZgAAAAAApiJgBgAAAABgKgJmAAAAAACmImAGAAAAAGAqAmYAAAAAAKYiYAYAAAAAYCoCZgAAAAAAprKkgLmqrjjrQgAAAAAAWFmWOoL5ZVV1ZFU9uKq2m2lFAAAAAACsCEsKmLv7BknuluSiSb5aVW+pqpvPtDIAAAAAAJa1Jfdg7u4fJHlCksckuVGSF1XV96rqDrMqDgAAAACA5WupPZivVFXPT/LdJDdJcpvuvtx4+/kzrA8AAAAAgGVqqyWu9+Ikr07yuO4+dWFhd/+iqp4wk8oAAAAAAFjWlhow3yrJqd19RpJU1RZJzt7df+ruN86sOgAAAAAAlq2l9mD+eJJzTNw/57gMAAAAAIBVaqkB89m7++SFO+Ptc86mJAAAAAAAVoKlBsynVNXVFu5U1dWTnHoW6wMAAAAAsJlbag/mRyZ5Z1X9IkkluVCSu8yqKAAAAAAAlr8lBczd/ZWqumySy4yLjunuv86uLAAAAAAAlruljmBOkmsk2WX8matVVbr7DTOpCgAAAACAZW9JAXNVvTHJJZN8I8kZ4+JOImAGAAAAAFilljqCefcku3V3z7IYAAAAAABWji2WuN63M0zsBwAAAAAASZY+gnmHJN+pqiOT/GVhYXffdiZVAQAAAACw7C01YD54lkUAAAAAALDyLClg7u7/qaqLJdm1uz9eVedMsuX6fq6q9kzywnHdV3f3s9Z6fOckr09y3nGdA7v78A37FSDJ82reFczWAdqfAwAAALD8LKkHc1XdP8m7krxyXLRjkvet52e2TPLSJHsl2S3JflW121qrPSHJO7r7qkn2TfKyJVcOAAAAAMBcLXWSv4ckuV6SPyRJd/8gyQXW8zPXTHJsdx/X3acleVuSfdZap5OcZ7y9XZJfLLEeAAAAAADmbKkB81/GkDhJUlVbZQiHz8qOSX42cf/4cdmkg5PcvaqOT3J4koet64mqav+qOqqqjjrxxBOXWDIAAAAAALO01ID5f6rqcUnOUVU3T/LOJB/YCK+/X5JDu3unJHsneWNV/VNN3f2q7t69u3dfs2bNRnhZAAAAAAD+VUsNmA9McmKSbyV5QIbRxk9Yz8/8PMlFJ+7vNC6bdN8k70iS7v5ikrMn2WGJNQEAAAAAMEdbLWWl7j4zySHjv6X6SpJdq+riGYLlfZPcda11fprkpkkOrarLZQiY9cAAAAAAAFgBlhQwV9WPso6ey919icV+prtPr6qHJjkiyZZJXtvdR1fVU5Ic1d2HJTkgySFV9R/j89+ru9fX2xkAAAAAgGVgSQFzkt0nbp89yZ2SnG99P9Tdh2dopzG57KCJ299Jcr0l1gAAAAAAwDKypB7M3X3SxL+fd/cLktxqtqUBAAAAALCcLbVFxtUm7m6RYUTzUkc/AwAAAACwGVpqSPy8idunJ/lxkjtv9GoAAAAAAFgxlhQwd/eNZ10IAAAAAAAry1JbZDzqrB7v7v/eOOUAAAAAALBSLLVFxu5JrpHksPH+bZIcmeQHsygKAAAAAIDlb6kB805Jrtbdf0ySqjo4yYe6++6zKgwAAAAAgOVtiyWud8Ekp03cP21cBgAAAADAKrXUEcxvSHJkVb13vH+7JK+fSUUAAAAAAKwISwqYu/vpVfXhJDcYF927u78+u7IAAAAAAFjultoiI0nOmeQP3f3CJMdX1cVnVBMAAAAAACvAkgLmqnpSksckeey4aOskb5pVUQAAAAAALH9LHcF8+yS3TXJKknT3L5Kce1ZFAQAAAACw/C01YD6tuztJJ0lVnWt2JQEAAAAAsBIsNWB+R1W9Msl5q+r+ST6e5JDZlQUAAAAAwHK31fpWqKpK8vYkl03yhySXSXJQd39sxrUBAAAAALCMrTdg7u6uqsO7+4pJhMoAAAAAACRZeouMr1XVNWZaCQAAAAAAK8p6RzCPrpXk7lX14ySnJKkMg5uvNKvCAAAAAABY3s4yYK6qnbv7p0luuYnqAQAAAABghVjfCOb3Jblad/+kqt7d3f+2CWoCAAAAAGAFWF8P5pq4fYlZFgIAAAAAwMqyvoC5F7kNAAAAAMAqt74WGVeuqj9kGMl8jvF28vdJ/s4z0+oAAAAAAFi2zjJg7u4tN1UhAAAAAACsLOtrkQEAAAAAAOskYAYAAAAAYCoCZgAAAAAApiJgBgAAAABgKgJmAAAAAACmMtOAuar2rKpjqurYqjpwkXXuXFXfqaqjq+ots6wHAAAAAICNZ6tZPXFVbZnkpUlunuT4JF+pqsO6+zsT6+ya5LFJrtfdv62qC8yqHgAAAAAANq5ZjmC+ZpJju/u47j4tyduS7LPWOvdP8tLu/m2SdPcJM6wHAAAAAICNaJYB845JfjZx//hx2aRLJ7l0VX2+qr5UVXuu64mqav+qOqqqjjrxxBNnVC4AAAAAABti3pP8bZVk1yR7JNkvySFVdd61V+ruV3X37t29+5o1azZthQAAAAAArNMsA+afJ7noxP2dxmWTjk9yWHf/tbt/lOT7GQJnAAAAAACWuVkGzF9JsmtVXbyqtkmyb5LD1lrnfRlGL6eqdsjQMuO4GdYEAAAAAMBGMrOAubtPT/LQJEck+W6Sd3T30VX1lKq67bjaEUlOqqrvJPlUkv/s7pNmVRMAAAAAABvPVrN88u4+PMnhay07aOJ2J3nU+A8AAAAAgBVk3pP8AQAAAACwQgmYAQAAAACYioAZAAAAAICpCJgBAAAAAJiKgBkAAAAAgKkImAEAAAAAmIqAGQAAAACAqQiYAQAAAACYioAZAAAAAICpCJgBAAAAAJiKgBkAAAAAgKkImAEAAAAAmIqAGQAAAACAqQiYAQAAAACYioAZAAAAAICpCJgBAAAAAJiKgBkAAAAAgKkImAEAAAAAmIqAGQAAAACAqQiYAQAAAACYioAZAAAAAICpCJgBAAAAAJiKgBkAAAAAgKkImAEAAAAAmIqAGQAAAACAqQiYAQAAAACYioAZAAAAAICpCJgBAAAAAJiKgBkAAAAAgKkImAEAAAAAmMpMA+aq2rOqjqmqY6vqwLNY79+qqqtq91nWAwAAAADAxjOzgLmqtkzy0iR7JdktyX5Vtds61jt3kkck+fKsagEAAAAAYOOb5QjmayY5truP6+7TkrwtyT7rWO+pSZ6d5M8zrAUAAAAAgI1slgHzjkl+NnH/+HHZ31TV1ZJctLs/dFZPVFX7V9VRVXXUiSeeuPErBQAAAABgg81tkr+q2iLJfyc5YH3rdverunv37t59zZo1sy8OAAAAAID1mmXA/PMkF524v9O4bMG5k1whyaer6sdJrp3kMBP9AQAAAACsDFvN8Lm/kmTXqrp4hmB53yR3XXiwu3+fZIeF+1X16SSP7u6jZlgTrCr/VTXvEmbu0d3zLgEAAABg1ZrZCObuPj3JQ5MckeS7Sd7R3UdX1VOq6razel0AAAAAADaNWY5gTncfnuTwtZYdtMi6e8yyFgAAAAAANq65TfIHAAAAAMDKJmAGAAAAAGAqAmYAAAAAAKYiYAYAAAAAYCoCZgAAAAAApiJgBgAAAABgKgJmAAAAAACmImAGAAAAAGAqAmYAAAAAAKYiYAYAAAAAYCoCZgAAAAAApiJgBgAAAABgKgJmAAAAAACmImAGAAAAAGAqAmYAAAAAAKYiYAYAAAAAYCoCZgAAAAAApiJgBgAAAABgKgJmAAAAAACmImAGAAAAAGAqAmYAAAAAAKYiYAYAAAAAYCoCZgAAAAAApiJgBgAAAABgKgJmAAAAAACmImAGAAAAAGAqAmYAAAAAAKYiYAYAAAAAYCoCZgAAAAAApiJgBgAAAABgKjMNmKtqz6o6pqqOraoD1/H4o6rqO1X1zar6RFVdbJb1AAAAAACw8cwsYK6qLZO8NMleSXZLsl9V7bbWal9Psnt3XynJu5I8Z1b1AAAAAACwcc1yBPM1kxzb3cd192lJ3pZkn8kVuvtT3f2n8e6Xkuw0w3oAAAAAANiIZhkw75jkZxP3jx+XLea+ST48w3oAAAAAANiItpp3AUlSVXdPsnuSGy3y+P5J9k+SnXfeeRNWBgAAAADAYmY5gvnnSS46cX+ncdk/qKqbJXl8ktt291/W9UTd/aru3r27d1+zZs1MigUAAAAAYMPMMmD+SpJdq+riVbVNkn2THDa5QlVdNckrM4TLJ8ywFgAAAAAANrKZBczdfXqShyY5Isl3k7yju4+uqqdU1W3H1Z6bZNsk76yqb1TVYYs8HQAAAAAAy8xMezB39+FJDl9r2UETt282y9cHAAAAAGB2ZtkiAwAAAACAzZiAGQAAAACAqQiYAQAAAACYioAZAAAAAICpCJgBAAAAAJiKgBkAAAAAgKkImAEAAAAAmIqAGQAAAACAqQiYAQAAAACYioAZAAAAAICpCJgBAAAAAJiKgBkAAAAAgKkImAEAAAAAmIqAGQAAAACAqQiYAQAAAACYioAZAAAAAICpCJgBAAAAAJjKVvMuAGAeqv5r3iXMVPej510CAAAAsAoYwQwAAAAAwFQEzAAAAAAATEXADAAAAADAVPRgBuBvXlrfnncJM/eQvsK8SwAAAIDNhhHMAAAAAABMxQhmAFiCI5657bxLmKlbPvbkeZcAAADACiRgBgCmVveveZcwc31Iz7sEAACAZUuLDAAAAAAApiJgBgAAAABgKgJmAAAAAACmImAGAAAAAGAqAmYAAAAAAKay1SyfvKr2TPLCJFsmeXV3P2utx8+W5A1Jrp7kpCR36e4fz7ImAIBN4nk17wpm64CedwUAAMAyMLMRzFW1ZZKXJtkryW5J9quq3dZa7b5Jftvdl0ry/CTPnlU9AAAAAABsXLNskXHNJMd293HdfVqStyXZZ6119kny+vH2u5LctKo28+E+AAAAAACbh1m2yNgxyc8m7h+f5FqLrdPdp1fV75OcP8mvZ1gXAABz8l+rYCzBo3u69iFV/7WRK1leuh899c++tL69EStZfh7SV5jq54545rYbuZLl5ZaPPXnqn637b977mj5kyjZFm3v7pkQLJ4A5qJ7yAHi9T1x1xyR7dvf9xvv3SHKt7n7oxDrfHtc5frz/w3GdX6/1XPsn2X+8e5kkx8ykaNa2Q4T9i7Ft1s12WZxts262y+Jsm8XZNutmuyzOtlk322Vxts262S6Ls23WzXZZnG2zbrbL4mybxdk2m87FunvN2gtnOYL550kuOnF/p3HZutY5vqq2SrJdhsn+/kF3vyrJq2ZUJ4uoqqO6e/d517Ec2TbrZrsszrZZN9tlcbbN4mybdbNdFmfbrJvtsjjbZt1sl8XZNutmuyzOtlk322Vxts3ibJv5m2UP5q8k2bWqLl5V2yTZN8lha61zWJJ7jrfvmOSTPash1QAAAAAAbFQzG8E89lR+aJIjkmyZ5LXdfXRVPSXJUd19WJLXJHljVR2b5DcZQmgAAAAAAFaAWbbISHcfnuTwtZYdNHH7z0nuNMsa+JdoS7I422bdbJfF2TbrZrsszrZZnG2zbrbL4mybdbNdFmfbrJvtsjjbZt1sl8XZNutmuyzOtlmcbTNnM5vkDwAAAACAzdssezADAAAAALAZEzADAAAAwDJWVTXvGmAxAmbYAFV1/nnXAACztjl8gdkcfgfmZ+Hvx9/RP7NtYOPzfvpntsk6zXQetc1BVW097xpWKwEz/6Sqtp13DctRVe2T5ANVtVNVbTnvepaTqrphVT21qvapqnPNux5Wjqq6yLxrWG6qymfzOlTVparKQfUmUFXV4yQdVXWPqrrovGua0gXmXcByNn527zXvOpax7cb/ClP/2fnG/9o28C+qqguPxzfnmHcty0FVXbWq9q6q3dqEYf+gqm6W5GVV9YiqcoyzDlV14yT7yyTmw5dY/kFV3SLJoVV13XnXspxU1XWSPDPJwd19fHefMe+alouq2jPJoUk6yTOS7D7XglaZiVFEF62qS867ng1RVZdP8qOqumNVOahOUlU3SfLYqnrgvGtZTqrq1kk+nuRyRiXM3kS4fKck+ydZcZ9542fT26pqB+HXPxtPmr8kY0DIPxr/ft5SVS9L8pCqOoegY1BVt0ry3qp6UZLHV9X5urtX68nRqrpRVT24qu4771o2dxPHvNevqr3Gv8UVrar2TvK2JG9KcuAKPqG7UYwnPd+R5FZJPjpmE05i5W/fEQ5JcmSSeyS5zVqP20bDZ/cbk3yvu0+Zdz2r0ao8EOAsXSnJLknuOu7EVr2qOneSM5O8rrs/WlU7V9UDqurWVXXVedc3T1W1a5I7JHlgdx+UIWi+VlVdpaouONfiVonxS91tkrwvyVOr6oiqutCcy1qq05P8Nsldk+xVVWefcz1zNR5UvzjJL5I8qaoeNeeSloXxRMQzkty3u7+VFRh2rkTj59vDk7y9u3+xkkaPj6HDE5I8vbt/LRj8R+NxzQMzfHYfXlVnq6pzzruu5WIMNF6Y5PlJjkpy6SSXHR9b1V/gq+oySV6W5MlJPpzkXEneU1VruvvM1bZ9xs/tQzJ8pz6wqg6eb0Wbt/GY99YZ3p8XTfL0lRzsj9+1n5/k0UleneH9dPnxsVX1XkqSqrpCkudlON57SJLHJXlBVZ17tX+OV9XOSW6X5KDuPiTDwLcrVNVtxv1yVvM2qsHZktwxycO6+xNVdd5xkMFO4zqyz03ARmbhDbnwt3B0kh8k+WqSfavqSuMXkVWpqi6W5EVJbpzkplW1Q4YQ9UoZdmAPXq2jvccPukclOS3JvceDgscn2S3DwcHDqupScyxxVaiq3ZIckGTPJB/IcMB96sTjy/YAtbuPyXBA/bEkj0xy7aq6/AoKyDeKcR+8c4aDxUd29+uSPCDJ9lV1Y8FP/pLkI+PB4i4ZvlAeUFX/Nue6Nivr2Ff8OcMxwR2r6krdffocytogVbVlDZeMfiDJh7r74zW0tbp1Vd2pqs475xKXiy0zXIr94/Fk8DsyjPZ+YVVdeL6lzdf4BfVOSZ7S3R/LcMx33iR7J6v7C/zoj0k+3N2fSPLRDCdyvpTk7VW1/WraPuN3hIOTPLS7X5Lk5kn2q6orzrWwzVgNl7zfN8leSU5OckqSD63g4OgGSf67u7/S3R9P8vsM+59Vta+ZOP44Jcnju/szVbVFd78hyQ+zyjOrGq5QvW+S4zJkD3sneV2SrTNcZbZ/VV1rjiXOXQ/+kuRXSU4dj2U+muTZST5VVXt395lzLXKVWNVvVv5my4k33GeSnJjkK+O/Z2ToO7xae/ycO8maDKM0vpxhZ374eFb1SRkOBHaZW3Xzdd4kOyZ5e4YPvGcmeWl33ytD4HnZJCuqZcMKdXKSd2Y44fGIJLfu7t9X1Q2T5XeAWkMf3e3G2+fM8Df0mQx/My/IcNnXznMrcD627O6fJrljd3+shr7Ub0yyQ4bRG09cjZdMToyYPU+SPavqBhlGLZ2S5PxJblxV95xXfZuTqn/ouXzDcVTV75M8PcMB+v7jScTlrrr7hAxfxB5aVXdL8vokeyQ5MEP7mVXb933c/563u3+XoeXMzZI8J8kHkzw0yYUz7HNWrfEL6hOSLAQcZ2Z4Dyz0Y161o6DG3/vMDCeD79ndZ4wnng7KMNL7PuMJ02V7YntjqaqtuvsnGUYTfrSqtu7uHyf5TpKzzbe6zVol+V2GffwDkty7u3+VZO+quvo8C5vS0zME5Avvmc9lOAGY5G/HyavBNknS3T/K8NmUiWziPEkumCRVdfGq2mYuFc7XVkmuk+Gqz0MynIR4bXc/NMn9M/TEv8rcqlsGJr4z/DHJbTOM9n51d983yf9LckitsFaSK9WqPEDi78YRucdW1cJkHdsk2TXJd5OckOS6GUYxrbpwI0m6+9tJvphhlOVXMlzSv8/42E8yjN7dLVneI0Vnobu/mWHb/HeSZyV5V8Z9Snd/I8kvM24bNp6Fv7OJv7czk9w+w8H27bv7uKq6UYZLyi4xpzLXqaq2T/KQDD0bt+vuP2UYvXyRDAdNF8hwBcV24yiyzd7kPri7jx0PkLZJcv/uflCS/ZJcO8MI9VVjYrucv7u/luHk3gFJftzdT0vytCTHJrnYHMvcbEyEyw/JcPn7fhnem5dNcniGESH/WVWXm1uR6zH+zRxXVTuMVwE8PsOJmg9396MzvIeumWHk26ozsf993BhafCPJvyXZNsM2+mmS+2W45HbN3Aqdk6raceF2d/9fd/9sIuA4NeMJ8xr6kt9r01c4PwvbprvPHMO8hyQ5qKruPK7y1wyDMC4yjiJbVie2N7bx/fGD8WTNEeMJur+OD/8mQyCWqrrmxPcrpjBxzHvhJOnuk5N8L8NJoAO6+/tVdb0MoxRXRPusqtp1ISTt7tPHuX0W3jN/yDDwIuMJ0kfUCmpPNY0aWhK9raoOrqrbdfcfx+Vbjye1zpHkT1W1X5LXJlk17fTGQH278YrP52b4zv3dDO30th+PkX+VYZT3xatqi9WWRyy8nyausntRkqtlaDvzzSTp7vdmOJG+WX82LRcC5lWuu3+d5GFJvjBe2vbbJO/PMKLlBUkem+SwJPdYLWdRq+p8VbXtxKIXZrj8768ZgtSfVtVhVfWwDF/O3pAsv5Gis7CObfPiJF/PcNb0y0m2rarHV9V9ktwiw2XKbEQT/edeV1UHZjigfm6GEQ+3qqpHJnlphlE1x82v0r+bONj5XYaRYH9JcsB4qePPMxwMfDTJ3TKMMnx4VskIoHEf/PD8fR98epKfdfc7xi+tv84Q9G3WXzDWttZn03mTvCbJz5LcqaquNp6cOC3Jpapqm9V2QD0L4yj5fZPs2d33zzCy6jEZTqy+Kcm3M5wIWpbGv5mHZPibOX93H5rkyt39X+N76cQkn8wqey+tY//71ySP6u4PZrj6Zackt6jhSrU9MnyW/HnTVzo/Ncxj8OmqeuzEsskv6n9M8osaLkt+fIarblaFdW2b7v58hvfas6vqPuPx73mTXL6qzrW574/Hfckjknxx/Nzu+vscEudOstV4ImLhEnamNG7bvZN8sKreP95+R4arJl9XVU9M8ookB46DW5a18f30mSQvX/ibqX+8IuK0JCdV1V0zfP6+ZyW0p5pWDROyPTXDqOXKMBJ9ob3i6eNJvqMyXFnz4CSP6O4/zKXYTayqLp3kPUleWVUXGls2PSbD/AnnzPD96elV9f+S/HuGuaLOXA15xIJ1vZ+6+9QkN8lwsu++VXXJqrpXkutllR3bzEutor9BzkINk1S8LENQeNUMEw48vofJXy6e5A/dfdIcS9wkxiDjPRlC08909/vHA+VnJrnQ2P4hVbV/hi/dX+zu786p3E1qXdtmXP6MJDt197+Po1lunOHy9Sd399HzqndzNR5wvDbJu5Nsn+QaSe6dYRKi62W4TOrD3f3JMVSZ+06+hktJT6/xcuOqukuGM8vvyRCOPzXJUd397nH986yWA8gF4z74JUl27+7fVtWW3X1GDS0gDsjQPuP7861y0xu/TL4gye4ZDgwfnWF07WEZwtBbr5Z98MY2jqzr8e/tchm+rLwsycuTfHl8zx6cZMfuvn9VnW1sH7CsTRzPXL27f7Pa30uL7H//X4Zw+blJbp3h/XW5DC3BHt7d/zu/ijetqto9w0nZj2S4IuJ73f2s8bGFv53LZgg5vp7kQePVbZu9s9o24+PXyd9H1F0/yR1Wy7ZJ/vlze1z25AxXf26VYaKpVbM9NqaF49equkaGwU7PzPA3dukkn89wDHyTDIMsft/dX1wux7yLGfcjr8zwfjpPhuP1R3T3nyf2NRfK8H76bpL7dfd35lfxbI3HIL9Osk93f6CGidienuTl3f2lifXen+RGSa652j67M8wBcKMMJ8ffnmESyCsk+VqGFonXyXCV+QtW27HwWb2fxsfPkaHV68J2eoRcYtMQMPM34xf55yW5epIzVsIXyVmooT/PdTOMVj40yaeTfCrDyJ/Xdveb5lbcnJ3FtvlYkheNl6Ckqs4xnkHkX1TDZd/bdvePq+qaGQKB13f3a2u45Pm+GQ6yD1iOBxdj/UdlODA8oYb+p+9M8r8ZRoWdnOFv5/fjJU6nLfcvCbOyjpD51hnC97uv5oOi8bPphRm2y++r6toZRoUd30O/PjZQVW2Z4YTUXTKM8tg5w5f4A5Mcn+Qd4z7n3kmu0N0HzK3YKazjvXSTDEHY3VdT4LPE/e9zx4BjpyR/GUdnrgrjqP3HZOj9/5EMLWEemuRrawWpO2e4ku3mq2VfvAHb5nwZLjveprv/bx61ztM69jWPT/IfSa7f3d+bb3UrT1VdJsklxwFO588wCnzL7r7V+Ph9Mwys+FKG0b0rYjDC+P1pvwytiY7McDLvwRlORPzHeFVWqmrrDKN5H9ZDK8LNWlXdKsNV09fp7j9U1Ycy9Ls/KsNJ79dk+N757R56nG/2xs+bs/fQ/mWHDFfzbZHh2GzXDIHz9zK00vtzDf3f/7r4M25+NuD9tHCiatse2uuwCWiRwd909+EZRocdlaEn36rrK5wk3f3D7n5jhpG4J2e4DPADSb6fVd5Afz3b5voTq7oEZSMYDzQfnKTH9+J3M/Qiu22SjCNmDkny2QyXB51nDI6Wjf57q4NP1jBJ2BuTvKW7H5zhS+t2GXo5nru7Txt/ZtWFy0nS3R/O8AV+oS3EERnaFayKQGMx42fTI5IcWUN/3S9192eFy9Pr7jMyjIDZNcPllq/v7l9kaHt01SRPrqo3ZXjvHjqvOqc18V5auIT9k0lusZrC5WS9+98PZ2hr8LQaejwev5rC5dH2SS6R5Fs9TA55ZIb3wNVqbAlRVZfroT/1JVbZvngp2+ayyXAsshrD5eQf9jVfHsP2VyS5inB5audMcsq4Tzopw+fPxavqwUnS3a/JcCXBDTJ+V10htk5ywyTnH99P381wdcDpGa4aTlVdLcOJmhuthnA5Sbr7Qxmyh69W1YszZFPPyzBZ5p0yzLfxuVUULp8ryRMzzFVzu/Ez/LgMLcrekeGEywkZWgq+aPyxzbaFyllYyvvpKvn7pPGnzKHGVcsIZv5JVe2T5EkZRjKv2rAn+YfLI5+WIVS9TJKL9zgBwWpm22waNfQ+3z7JgzIcTJyaYcT4l7r7keM62yXZfjkfgNXQZ+3wJI+bvPw4yc0yfFF44SoMN9apqm6X4QBz99W8/13b+Nl0cIbPprZtNtzaVwdU1WMyTK55kSTP7O5vVtW5k1w5w+WG31rJQf74N3NQVvl7yf53cWNYeockNxuvkDh7hskg75mhLcSFkuwxftFfVZawbS6Y5MarcdusbfzcfkKSa6zmfc2/YqKNz7kyhGgP7e7XjaNc909yeHe/clx3p+4+fp71LkUNbSZ/M75/bp7kbUnu1EMbu60ytPy4e5K9k+yQ5Frd/fP5VTwfVXWzDFcKX3jhZFUNvanPt9r2L2OblJtkGNn99AwTWj8wyTO6+6tVdcEM74e3dPcP51fppjfF++ma4+AJNiEBM+vkUoLB5JfxGibAqdU6SmNtts1sTVzWc44MH5LPSXJMhhFEf80QFhzd3Q+YY5kbZDwYeHGGA+jfTyw/58LlTAzsg9fNdpneWvvsG2W4lPDoDPuT+2ToUbd/kksluWCPffZXOn8zA/vfwTjK9LSFv4kxzHpehrYwn5xY778ztJDZa7WMJrRt/jX2NdObOOY9Tw+tEhbCo4d191vGViQHJHlvd790vtUuTQ1zprw9w7H7I7v7V2OLjxsmedLCoJCqekqGuVT27u5vzaveeRv/Hz8vwwm9E+Zdz7yNI9qfnWFQ0fUyXPF53+7+4cLJmLkWuIl5P60cWmSwTg6QBuPBTo23TxCg/p1tMzsTB9qXzTBj/akZJmXaKckjMwRDt0py9arabW6FbqAeZkD+jwytDs43sXzVhBtLZR+8brbLhlu71VVVPSJD0Hi/DF/gb5HhhNVXk3wiQ8/DzaYVgL+Zgf3v3yYrfleGFjD7JEl3n5JxtvmJ9a6UYfLDPVdLgGrb/Ovsa6Yzccx7zSRfqqo9xv3VvyV5RVXtO7YieUGSL8+z1g10XIbP0usleXYN80n8IclPM7ZcrKpdkuyV5FarPQwb/x8/NslHxtHLq1p3fy1DUHpShv7LN0xy23HbrMYRot5PK4QRzADL0HhJ88MzzBb81gyTnG2RoXXC7zOc1f5dD71UV5SJNjy7R6sDmKmq2nHhktvx8sJXJdm3u0+qqn2T3DLDRJtfr6rrJfn5cm63w79mte9/a/HJij+S5DXd/dZxvQustlF0tg3zMo5evVOGeQEun+R23f2Z8WqbTyW5R3e/eZ41LlWtf5K26yf5cZJ79TBJ23aTV5Wsdq4E+Ec1zMdz9gyju5/X3cfMuaRNyvtp5REwAywzNUzG9K4MvQ8vnWSPJH/MEDJvmyEceGZ3f39eNf6rHEDC7FXVtZJ8MckDuvuQqjpbkvcmeVl3f3Bc59lJ1nT3feZYKpuQ/e/fLrf9tyTXSnK2JD9JcnJ3P3quhS0Dtg2bUlVdNMOkxg8cQ+WHZOhnvV93f7qqbppkq+4+Yq6FLsHYVuYFSbbJ0M7jfVV1zwyTn380w3wHz8kwyvLV3b3/ZPsq4O+8n1amreZdAAD/ZMckP+ru7yT5TlWdmOHM9dmTPDNDWHTaPAv8V632cAM2kfNkODn14qo6R3e/qKo+l+TyVfXL7v5qhtnJr7Qae/qtVva/yTga6jm91mTFVfXkXuWTFds2bGK/TnJkkp/UMIH4S6tq1yTvqaobdvcnkn+epHY56u5TquqJGSZpe0lVXTh/n6Tt2B4mabtPxknaxp9Z1r8TzIv308pkBDPAnE30n9u6u/869kJ8bZK3dvc7x3WenWTnJB/q7jethANtYP6q6t5JLpbkoRmufjg0ydOS7JLkT0munGGkmH51rCqTn6NlsuJ/YNswKxPHvNtl+Aw6I8mbk3yru58xrnPjDJ9T50tyg+7+9dwKnpJJ2mDj8X5aOYxgBpiz8UB7zyS3rKpfd/fTq+qIJNesqitn6D930yTvTnLHqnrHSh/BDMzG+MV82yRHjPuJ3yf5XZKrZRgldnp3/0dVXTHJ5ZI8rrt/Mq96YV7Gz97qgZ7CE2wbZmX827pNkoOTfCnJ/yR5cJIPjCMUf5fkdknummFk4tnnUui/qLu/Np7gvWWGfrG3yTBJ2wuzOidpg6l5P60cAmaAORv7pD4nyXOTHFhV2yZ5UYbw564ZLgV6QIaD7Osk2TqJgBn4B1V1oSRvyNAa4/lVdeJ4ufHhSb6bYdTH58ZJup6axKhlVjVXAi3OtmEWqupSSe6c5BkZjmUfkqHH6i0z9P7eJcl+SXbI0J7l6XMpdCPo7uOr6g1J3pHh2P1wIy1hOt5PK4MWGQBzNE6m89gk3+juF1bVeTJMwvW1DCML/zpOzHWzJE/JcDnQN+ZWMLCsjSM8HpzkTUmum+Rn40M7dPe9xpHL70ly7SS/dXAOwKxV1RZJLpHk40ne1d2PHo9vd0/y+CQf7e4XjOteK8Nn2O27+9tzKhmADbTFvAsAWOUunOTcSW5QVZfp7j9kuDTw+klekiTd/Zcka5LcTbgMrMv45T3d/boMfZZvlKFf3ZFJTkmybVVdaOy1fPnuPkm4DMAsVVUlSXef2d3HJnlVhkvbLzEe3345ybOS7F1VlxjXPy7JTYTLACuLEcwAm9DE5CZXTHJmkp9nmMTkEePt93b3D8Y2Gbt195FzLBdYQSYnOqmqAzKEzM/t7s9W1Xbd/fvxMZOEAjBTE8e8N0py1SQ/THJ4ksckuWOSf+vuH1XVVkm27e7fza9aAP5VRjADbEITE/q9PcPB9Y+S/CXJ+zOMUt6vqi7d3ScLl4GzsjAybEF3nzkxkvl5ST6Zoa/7zZKcvPAzwmUAZm1iQr/nJTk1yaOTPLq7n5HkQ0mOGEcyny5cBlj5TPIHsImMYdDOSQ5Mcuskl05yYpJTu/uTVXV6kjslOX1+VQIrwWRQXFW3THJCd399IWQeL0d+QVWdPcNEoZ/PsK8RLgMwc1W1dZI9k+yVYZLqcyR5S5J09xPH4+KLZGiJAcAKp0UGwCZUVedKcv8kf0pyvwx9lX9QVbdNckSSs419mAH+ydojkKvq4UnuneTfkvxoInSebJexfXf/di4FA7AqVdWWSV6WYa6RnZLcc2yJcesMk8x+fq4FArBRaZEBsGltk2ESv4OTXHcMl6+R5IlJLiVcBtbj/As3xl7ud05y8+7+hxFg40jmLcfbwmUAZmbso/wPrZu6+4wk70tylSSvHsPlGyZ5fhKj3AA2MwJmgE1kHFH42wyjDTvJU6rq4CSHJHladx89z/qA5a2qdkzyxLHtRZL8Jsnx42Nnmxi9fLHkb1/uAWBmqur8ST5eVZcd+y5Pzg/wlQyB8iOr6jVJXpHkkd39hXnUCsDsaJEBMAOLTaRVVVt391+r6uJJbpvkzCT/292fMfkWcFaqatsMgwMul6Fv5eFJPpDkJd192LjO3ZJcOclB3f3nedUKwOpRVc9NcuMk+41X563dzulSSbZP8qfuPtoxL8DmR8AMsJEtHDSPE2/dIcnPkhzZ3R8dH/9bb1SA9VlrQr8rJblCkvsk+c8MEza/Mslnx9VvmmTf7v72PGoFYPWoqi0XrpapqqcluU2SO44h8xZjuyZhMsAqoEUGwEY2ES4/I8k7klwxyf0X+tMJl4ENMREu3y9D//bPJ3lThn3MaRn6un8xyY+S3E64DMCsjcHxGVV14STp7ickeXOSd1fVrsJlgNVlq3kXALCZunSSuyXZOckuGUZznF5VF+juE+ZaGbDiVNV1ktwlyb26++dV9YEkleSpSV7a3W+ba4EArCrjgIpbJXloVX07yS+6+zlVdc4kb62qu3X3MXMuE4BNxAhmgNnYLsnbkjwhw4jCn1XVnkn2rapt5lsasNxV1XkWJvOrqssluVWSCyXZK0m6+6Qk78vQh/k+VbXtWhMrAcDMVNXVkjwzyYOSXDjJTcYJZw9O8pEk7xnDZgBWAT2YATaSqrpqhglMPp0hYH5Lkh9394Oqao8MfVIf2t0fm1eNwPJXVWdLcqMkl01yriRbJ3lDhhHMOyT52ERP9/NmGEj2+/lUC8BqVFV7ZbhK71tJnpeh//+PquqS3f3DsU3GD+ZaJACbjIAZ4F8wMaHfTZK8PMlvknwtyduT/DbJc5OckSEUekp3f2huxQIrRlVdMcnrklwwyT7d/bWquliSuyc5T5LPdfcH5lkjAKvHxDHvTt19fFVdNsNcI9skuWF3nzC2zLhjkoclOUX/ZYDVQ4sMgClU1RbJ3/rPXTXJI5LsmeR6SX6f4XL2s3f3nhl6Md9OuAyclbVaXByT5OtJjkiyd1VdpLt/kuSQDCetrlpV55pDmQCsQuMx762TfKCqLpHkF0nen+SjSXavqusneXqS93b3ycJlgNVFwAywAWpwwSTvr6qtxqD5puO/nbr7zCTPT/LXDH1Rb9Tdv+vuX86xbGAFWPgyXlUHJDkoyYMzXBmxfYbRYBlvfznJy7r7lHnUCcDqU1XXS/LsJPft7uOS/CXJB5N8IckjkzwgyUHdfZg5AQBWHy0yAKZQVZcZb57Q3b+tqmckuWKSJ3b3N6pqTZIDkhza3d+bW6HAilJV+ye5d4Yv8N8Zl90wyW2SXCPDRH836+7j51clAKtNVd0yydUytILbNcm9Msw78uokxyXZorv/vNBKY151AjAfRjADLFFVXaSq3lxV23T3MUkenuQHVbV9dz8uwwiOJ1bV1bv7xAxhs3AZ2BC7Jjmgu79TVeccl302wwRKL0tyW+EyALO2MAq5qs4xTj77kySXSvKkJH9M8vgkZ09ywe4+rbv/nPz9ahwAVhcjmAE2QFV9Isnvktypu8+sqhdkGFm4+ziS+eAkuyfZL8PkJmfOq1ZgeVvXKK+qenuS/+vuh08s2zPJ/3T3qZu6RgBWr6raJ8NcImdP8pIk38xwfPvH8Wq+tyd5UHd/cY5lArAMCJgBlqCqtuzuM8bb70+yVZLbjCHzi5PcPMl1u/s3VXXJ7v7hPOsFlrfJcLmqbp+hl+UJSX6d5L+TfKG7/6uq7pbkiUlu0d0/nVvBAKwqVXXdJP+VZJ8kL0hykSR7d/epY7uMZyU5uLvfP78qAVguBMwA67EQBFXVuRYm1aqqtyXZLsmtxpD5kCS3SHLJ7j59nvUCK0dVPSrDVRAfSHKnJM9I8n9JXpHkB0kumeSe3X303IoEYLNXVTsmuXl3Hzre3y/JGeO/A5Lctbt/XFXnSXKeJGu6++t6LgOQCJgBlqSqbp5k3wyjCz/S3Z+qqjdlOMC+3Rgy77YwKRfAuoxfzP84nrS6SJIXdfcdq+opSa6SZJ/xsa2SnCvJlt39mzmWDMAqUFVXTXJ6hjZNJ4ztmQ5IcrYMJzp/VFV3THLnJPfo7r/MsVwAlhmT/AGsR1VdJ8khST6UYRTHHarqAd199yRbj8uTxIR+wKKq6mJJ3pbkmuOi04fF9ZIM4fKdx3B5vyQ7d/fvhcsAbArd/fUkP0zyyqo6MMlHk/wmyXeTnH0cbHFwkjcIlwFYmxHMAOtRVXdPconufkpVnSvJ9ZPcPckDu/uUqtq9u4+ab5XAclZVF+vun1TVk5NcMckzuvuoqnpGhtFgNx0fv0+ShyfZs7t/Nc+aAdi8VdVOSa6eYRK/X3f3J6rqxkkelOQTSQ7N0If53EnOl+QV3X24thgArE3ADLCWiZ7LF87QC/XmGQ6u913og1pVH0ny9O7+7BxLBVaAqtorycOS3Gu87PgJSa6T5EkZRjHfIcMkSh9Jsncm9jUAMAtVddkk70zyxSTnTXLDDAHywVV1gwztMT7U3YeM62/f3b+dV70ALG8CZoAJE+HybZP8R5L7J/nZePtiSd6Y5KQkb0ny70Ig4KyMlxQ/J8n/6+6PVdUWY8/2x2cYNfaMJN/McCLrz0l+1N3Hza9iADZ3VbVbhslkX9fdrxuXXSrDqOXXd/dBVXW9JI9P8oXuftrC59f8qgZgORMwA6ylqm6Y5EUZRht+o6rOliEIukySh2SY6O+Q7n73HMsElrmqukmSw5JcvbuPqapLJHlCkid298+r6qAMvZef291fnGOpAKwSVbVNhr7K3+ru243LztbdfxlD5i9lGERx+HhM/MexPzMALMokfwD/bE2GifvOU1UPTvKBJPdI8skkN0tyl+5+d1XVHGsElr9fJzlHkotV1RZJ3pzk6O7+eZJ091OSfDvJf1TV2edXJgCrRXeflmTfJNetqgeOy/5SVdt097EZ2mZcYlz9c8JlAJZiq3kXADBv65io5JgMl6u/OMNI5lckuWaSHbr7JwsrmdwEOCvd/c2qunaSjyY5M8mDu/vtC49X1eXGy5C37+4/z61QAFaV7v5KVe2d5GNVle5+RZIzxod/n+RPC6vOpUAAVhwjmIFVbaLn8q2r6hlV9ZwkP+juBya5eXe/Jsn3k9wqyZZzLRZYcbr7KxkmTtoiE/uQqrpnkhdV1RqTJgGwqXX3URkGVDyzqh7c3WeMfZf3SXL0uI6AGYAlMYIZWNXGcPlWSZ6cZP8kL0vymaq6aXefUFW3SPL8JAd295HzrBVYmbr7W+O+5KNVdUaSE5M8NEOf9xPnWx0Aq1V3HzVORnt4VV0+yZUzTEr75TmXBsAKY5I/YNWpqnMn2bq7fzP2PX1ekpcnuVSShyX5TYYD7Ksk2SFDa4yvraOVBsCSVdXuSY7MEDDv0d3fnXNJAJCqukaGuUbu0d3vc8wLwIYSMAOrSlVdJslzk3w5ybu6+5iq2j7J9kneluQ23f1/VXVikp8luboDbGBjqardkpzR3cfMuxYAWFBV23b3ycJlAKahRQawaozBzuszTNr3noW+p93926o6W5LvJjlXVV03ySFJPuwAG9iYuvs7864BANbhlHkXAMDKZQQzsCqMbTHel+Qt48R9C8vvnmE04Vur6lUZTrzdOsMlgkcYxQEAAACwOCOYgdXi1CTHJ3nXwoKquleS/0xyzqo6Z5IHJ7l4khd399cTs2cDAAAAnJUt5l0AwKxVVSXZNsnVklxvYtm5klw/yXWT3C/JBbv7BwvhMgAAAABnTcAMbPZ68LskL0lyx6q62jgy+RVjH+adk5yU5LQ5lgkAAACw4giYgdXkPUl+mWT/qrpJhoHM10/ysiQv7e4T51odAAAAwApjkj9gVamqCya5c5IHJfnfDD2Xn9Xd75tnXQAAAAArkYAZWJXGoPmMJGfr7p9XVZnQDwAAAGDDCJgBAAAAAJiKHswAAAAAAExFwAwAAAAAwFQEzAAAAAAATEXADAAAAADAVATMAAAAAABMRcAMAMCqVFVnVNU3Jv4d+C881xc2Qj2Pn6hlsraH/6vPDQAAs1LdPe8aAABgk6uqk7t723nXsS7LuTYAAJhkBDMAAEyoqh9X1ZOr6mtV9a2quuy4fE1Vfayqjq6qV1fVT6pqh/Gxk8f/7lFVn66qd1XV96rqzVVV42NXr6r/qaqvVtURVXXhJdTylKp65MT9p1fVI8bX+UxVfaiqjqmqV1TVFuM6t6iqL471v7OqBNUAAMyMgBkAgNXqHGu1yLjLxGO/7u6rJXl5kkePy56U5JPdffkk70qy8yLPe9Ukj0yyW5JLJLleVW2d5MVJ7tjdV0/y2iRPX0KNr03y70kyBsj7JnnT+Ng1kzxsfJ1LJrnDGHg/IcnNxvqPSvKoJbwOAABMZat5FwAAAHNyandfZZHH3jP+96tJ7jDevn6S2ydJd3+kqn67yM8e2d3HJ0lVfSPJLkl+l+QKST42DmjeMskv11dgd/+4qk6qqqsmuWCSr3f3SeNzHNndx42v89axvj9nCJw/P66zTZIvru91AABgWgJmAAD4Z38Z/3tGNvyY+S8Ttxd+vpIc3d3XmaKWVye5V5ILZRjRvGDtyVR6fJ2Pdfd+U7wOAABsMC0yAABgaT6f5M7J0Oc4yfYb8LPHJFlTVdcZf37rqrr8En/2vUn2THKNJEdMLL9mVV18bJ1xlySfS/KlDC05LjW+zrmq6tIbUCcAAGwQI5gBAFitzjG2sFjwke4+8CzWf3KSt1bVPTK0nfhVkj8u5YW6+7SqumOSF1XVdhmOw1+Q5Ogl/uynkvyuu8+YeOgrSV6S5FJJPpXkvd19ZlXda6zzbON6T0jy/aXUCQAAG6q6176yDgAAWNsY2J7R3aePI5FffhY9nDfm626R5GtJ7tTdPxiX7ZHk0d1961m/PgAAnBUjmAEAYGl2TvKOMfA9Lcn9Z/2CVbVbkg9mGJ38g1m/HgAAbCgjmAEAAAAAmIpJ/gAAAAAAmIqAGQAAAACAqQiYAQAAAACYioAZAAAAAICpCJgBAAAAAJjK/weD1qiHDjaONgAAAABJRU5ErkJggg==\n",
       "datasetInfos": [],
       "metadata": {},
       "removedWidgets": [],
       "type": "image"
      }
     },
     "output_type": "display_data"
    }
   ],
   "source": [
    "# Group data by 'engine_type' and count occurrences\n",
    "engine_type_distribution = cars_df2.groupBy(\"engine_type\").agg(count(\"*\").alias(\"count\"))\n",
    "\n",
    "# Convert the distribution to a Pandas DataFrame for plotting\n",
    "engine_type_pd = engine_type_distribution.toPandas()\n",
    "\n",
    "# Handle null values in the 'engine_type' column\n",
    "engine_type_pd['engine_type'] = engine_type_pd['engine_type'].fillna(\"Unknown\")\n",
    "\n",
    "# Sort the Pandas DataFrame by 'count'\n",
    "engine_type_pd = engine_type_pd.sort_values(by=\"count\", ascending=False)\n",
    "\n",
    "# Plotting the distribution\n",
    "plt.figure(figsize=(20, 6))\n",
    "plt.bar(engine_type_pd['engine_type'], engine_type_pd['count'],\n",
    "        color=['darkgreen', 'darkorange', 'darkred', 'darkblue', 'darkviolet', 'darkgoldenrod'])\n",
    "plt.title('Engine Type Distribution')\n",
    "plt.xlabel('Engine Type')\n",
    "plt.ylabel('Frequency')\n",
    "plt.xticks(rotation=45)\n",
    "plt.tight_layout()\n",
    "plt.show()"
   ]
  },
  {
   "cell_type": "markdown",
   "metadata": {
    "application/vnd.databricks.v1+cell": {
     "cellMetadata": {
      "byteLimit": 2048000,
      "rowLimit": 10000
     },
     "inputWidgets": {},
     "nuid": "867c17d7-d049-4e6c-9555-dc1979cbcb9f",
     "showTitle": false,
     "title": ""
    }
   },
   "source": [
    "------------------------------------------------------------------------------------------"
   ]
  },
  {
   "cell_type": "markdown",
   "metadata": {
    "application/vnd.databricks.v1+cell": {
     "cellMetadata": {
      "byteLimit": 2048000,
      "rowLimit": 10000
     },
     "inputWidgets": {},
     "nuid": "43cf212c-8c30-4ac4-ad11-2ec0d9a5e8a9",
     "showTitle": false,
     "title": ""
    }
   },
   "source": [
    "height"
   ]
  },
  {
   "cell_type": "code",
   "execution_count": null,
   "metadata": {
    "application/vnd.databricks.v1+cell": {
     "cellMetadata": {
      "byteLimit": 2048000,
      "rowLimit": 10000
     },
     "inputWidgets": {},
     "nuid": "d131b858-77f8-4bd7-b900-8bc40f8e7761",
     "showTitle": false,
     "title": ""
    }
   },
   "outputs": [
    {
     "name": "stdout",
     "output_type": "stream",
     "text": [
      "The amount of null values in the height column are 5.31%.\n"
     ]
    }
   ],
   "source": [
    "# Calculate the percentage of null values in the 'height' column\n",
    "percent = (cars_df2.filter(col(\"height\").isNull()).count() / cars_df2.count()) * 100\n",
    "\n",
    "print(f\"The amount of null values in the height column are {round(percent, 2)}%.\")"
   ]
  },
  {
   "cell_type": "code",
   "execution_count": null,
   "metadata": {
    "application/vnd.databricks.v1+cell": {
     "cellMetadata": {
      "byteLimit": 2048000,
      "rowLimit": 10000
     },
     "inputWidgets": {},
     "nuid": "b422534f-ed41-4a1b-a361-7ac802b69962",
     "showTitle": false,
     "title": ""
    }
   },
   "outputs": [
    {
     "name": "stdout",
     "output_type": "stream",
     "text": [
      "+-------+------+------------------+\n",
      "| height| count|        percentage|\n",
      "+-------+------+------------------+\n",
      "|   null|159266| 5.308866666666667|\n",
      "|66.1 in| 85163|2.8387666666666664|\n",
      "|66.3 in| 77556|            2.5852|\n",
      "|56.5 in| 73202|2.4400666666666666|\n",
      "|56.9 in| 72545|2.4181666666666666|\n",
      "|65.4 in| 69084|            2.3028|\n",
      "|69.9 in| 65577|            2.1859|\n",
      "|77.2 in| 62007|            2.0669|\n",
      "|58.1 in| 61724| 2.057466666666667|\n",
      "|57.1 in| 57861|1.9286999999999999|\n",
      "|66.5 in| 57104|1.9034666666666664|\n",
      "|69.3 in| 47801|1.5933666666666666|\n",
      "|64.8 in| 47340|1.5779999999999998|\n",
      "|57.9 in| 44531|1.4843666666666666|\n",
      "|75.5 in| 43692|1.4564000000000001|\n",
      "|57.7 in| 42239|1.4079666666666668|\n",
      "|70.6 in| 39192|            1.3064|\n",
      "|55.7 in| 36924|            1.2308|\n",
      "|57.3 in| 34327|1.1442333333333334|\n",
      "|65.3 in| 32602|1.0867333333333333|\n",
      "+-------+------+------------------+\n",
      "only showing top 20 rows\n",
      "\n"
     ]
    }
   ],
   "source": [
    "# Calculate the value counts of the 'height' column as a percentage\n",
    "height_value_counts = cars_df2.groupBy(\"height\").agg(count(\"*\").alias(\"count\")).orderBy(col(\"count\").desc())\n",
    "\n",
    "# Calculate the total number of rows in the DataFrame\n",
    "total_rows = cars_df2.count()\n",
    "\n",
    "# Calculate the percentages and show the results\n",
    "height_value_counts = height_value_counts.withColumn(\"percentage\", (col(\"count\") / total_rows) * 100)\n",
    "height_value_counts.show()"
   ]
  },
  {
   "cell_type": "code",
   "execution_count": null,
   "metadata": {
    "application/vnd.databricks.v1+cell": {
     "cellMetadata": {
      "byteLimit": 2048000,
      "rowLimit": 10000
     },
     "inputWidgets": {},
     "nuid": "9094d4fc-3e06-4f5d-8597-89f75a8e84a5",
     "showTitle": false,
     "title": ""
    }
   },
   "outputs": [
    {
     "name": "stdout",
     "output_type": "stream",
     "text": [
      "+--------+\n",
      "|  height|\n",
      "+--------+\n",
      "| 76.7 in|\n",
      "| 75.8 in|\n",
      "| 72.2 in|\n",
      "| 76.3 in|\n",
      "| 57.9 in|\n",
      "| 69.6 in|\n",
      "| 66.6 in|\n",
      "| 75.6 in|\n",
      "| 77.1 in|\n",
      "| 71.2 in|\n",
      "|   75 in|\n",
      "|105.7 in|\n",
      "| 55.6 in|\n",
      "| 71.6 in|\n",
      "| 58.9 in|\n",
      "| 66.8 in|\n",
      "| 58.8 in|\n",
      "| 64.7 in|\n",
      "| 84.3 in|\n",
      "| 48.8 in|\n",
      "+--------+\n",
      "only showing top 20 rows\n",
      "\n"
     ]
    }
   ],
   "source": [
    "# Select the unique values in the 'height' column\n",
    "unique_height_values = cars_df2.select('height').distinct()\n",
    "\n",
    "unique_height_values.show()"
   ]
  },
  {
   "cell_type": "code",
   "execution_count": null,
   "metadata": {
    "application/vnd.databricks.v1+cell": {
     "cellMetadata": {
      "byteLimit": 2048000,
      "rowLimit": 10000
     },
     "inputWidgets": {},
     "nuid": "ad5f8ff2-0c9f-4ed0-9376-7a24b6c06b69",
     "showTitle": false,
     "title": ""
    }
   },
   "outputs": [],
   "source": [
    "# Split the 'height' column and return the first value\n",
    "cars_df2 = cars_df2.withColumn(\"height\", split(col(\"height\"), \" \").getItem(0))\n",
    "\n",
    "# Replace \"--\" with null values\n",
    "cars_df2 = cars_df2.withColumn(\"height\", when(col(\"height\") == \"--\", None).otherwise(col(\"height\")))\n",
    "\n",
    "# Convert the 'height' column to FloatType\n",
    "cars_df2 = cars_df2.withColumn(\"height\", col(\"height\").cast(FloatType()))"
   ]
  },
  {
   "cell_type": "markdown",
   "metadata": {
    "application/vnd.databricks.v1+cell": {
     "cellMetadata": {
      "byteLimit": 2048000,
      "rowLimit": 10000
     },
     "inputWidgets": {},
     "nuid": "1bc97cf0-8084-443e-8962-16d9259b114c",
     "showTitle": false,
     "title": ""
    }
   },
   "source": [
    "Now that the column is cleaned, lets get a visual representation. This will help us determine if we can fill in the null values with a mean or median value."
   ]
  },
  {
   "cell_type": "code",
   "execution_count": null,
   "metadata": {
    "application/vnd.databricks.v1+cell": {
     "cellMetadata": {
      "byteLimit": 2048000,
      "rowLimit": 10000
     },
     "inputWidgets": {},
     "nuid": "8d9d7fa4-8cb7-4cc1-9589-50fe9a8fb887",
     "showTitle": false,
     "title": ""
    }
   },
   "outputs": [
    {
     "data": {
      "image/png": "[encoded data removed]"
     },
     "metadata": {
      "application/vnd.databricks.v1+output": {
       "addedWidgets": {},
       "arguments": {},
       "data": "data:image/png;base64,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\n",
       "datasetInfos": [],
       "metadata": {},
       "removedWidgets": [],
       "type": "image"
      }
     },
     "output_type": "display_data"
    }
   ],
   "source": [
    "# Convert the DataFrame to Pandas for visualization\n",
    "height_values = cars_df2.select('height').toPandas().dropna()['height']\n",
    "\n",
    "# Plot the histogram and lines\n",
    "plt.figure(figsize=(10,6))\n",
    "plt.hist(height_values, bins=10)\n",
    "plt.title(\"Height\")\n",
    "# Add the mode\n",
    "plt.axvline(height_values.mode()[0], color='r', linestyle='dashed', linewidth=2, label='Mode')\n",
    "# Add the median\n",
    "plt.axvline(height_values.median(), color='goldenrod', label='Median')\n",
    "# Add the mean\n",
    "plt.axvline(height_values.mean(), color='darkgreen', label='Mean')\n",
    "plt.legend()\n",
    "plt.xlabel('Height')\n",
    "plt.ylabel('Frequency')\n",
    "plt.show()"
   ]
  },
  {
   "cell_type": "markdown",
   "metadata": {
    "application/vnd.databricks.v1+cell": {
     "cellMetadata": {
      "byteLimit": 2048000,
      "rowLimit": 10000
     },
     "inputWidgets": {},
     "nuid": "9cef2b8e-7a6c-4fb8-a57d-3bbef37d4831",
     "showTitle": false,
     "title": ""
    }
   },
   "source": [
    "Looking at the graph, it looks like the height of the vehicles have a wide range of values. This means that we can fill in the null values with the mean value."
   ]
  },
  {
   "cell_type": "code",
   "execution_count": null,
   "metadata": {
    "application/vnd.databricks.v1+cell": {
     "cellMetadata": {
      "byteLimit": 2048000,
      "rowLimit": 10000
     },
     "inputWidgets": {},
     "nuid": "b1acc8b8-7e33-45c9-b1b8-570bff958112",
     "showTitle": false,
     "title": ""
    }
   },
   "outputs": [
    {
     "name": "stdout",
     "output_type": "stream",
     "text": [
      "The amount of null values in the height column are 0.00%.\n"
     ]
    }
   ],
   "source": [
    "# Filling null values with the mean of the column\n",
    "mean_height = cars_df2.select(mean(col(\"height\"))).collect()[0][0]\n",
    "cars_df2 = cars_df2.withColumn(\"height\", when(col(\"height\").isNull(), mean_height).otherwise(col(\"height\")))\n",
    "\n",
    "# Checking the result\n",
    "result = cars_df2.filter(col(\"height\").isNull()).count() / cars_df2.count() * 100\n",
    "\n",
    "print(f\"The amount of null values in the height column are {result:.2f}%.\")"
   ]
  },
  {
   "cell_type": "markdown",
   "metadata": {
    "application/vnd.databricks.v1+cell": {
     "cellMetadata": {
      "byteLimit": 2048000,
      "rowLimit": 10000
     },
     "inputWidgets": {},
     "nuid": "3ced1cbb-3d5a-43a0-8408-9bf79caa7de9",
     "showTitle": false,
     "title": ""
    }
   },
   "source": [
    "------------------------------------------------------------------------------------------"
   ]
  },
  {
   "cell_type": "markdown",
   "metadata": {
    "application/vnd.databricks.v1+cell": {
     "cellMetadata": {
      "byteLimit": 2048000,
      "rowLimit": 10000
     },
     "inputWidgets": {},
     "nuid": "e6c82936-ff8e-4b99-bd91-3a26c02bf31b",
     "showTitle": false,
     "title": ""
    }
   },
   "source": [
    "horsepower"
   ]
  },
  {
   "cell_type": "code",
   "execution_count": null,
   "metadata": {
    "application/vnd.databricks.v1+cell": {
     "cellMetadata": {
      "byteLimit": 2048000,
      "rowLimit": 10000
     },
     "inputWidgets": {},
     "nuid": "48287018-bd42-44d4-9b81-40a8bdcddcbf",
     "showTitle": false,
     "title": ""
    }
   },
   "outputs": [
    {
     "name": "stdout",
     "output_type": "stream",
     "text": [
      "The amount of null values in the horsepower column are 5.75%.\n"
     ]
    }
   ],
   "source": [
    "# Checking the number of null values in the column\n",
    "null_count = cars_df2.filter(col(\"horsepower\").isNull()).count()\n",
    "total_count = cars_df2.count()\n",
    "percentage = (null_count / total_count) * 100\n",
    "\n",
    "print(f\"The amount of null values in the horsepower column are {percentage:.2f}%.\")\n"
   ]
  },
  {
   "cell_type": "code",
   "execution_count": null,
   "metadata": {
    "application/vnd.databricks.v1+cell": {
     "cellMetadata": {
      "byteLimit": 2048000,
      "rowLimit": 10000
     },
     "inputWidgets": {},
     "nuid": "fa8461e3-dec9-4b42-b3df-51a2a224cf42",
     "showTitle": false,
     "title": ""
    }
   },
   "outputs": [
    {
     "name": "stdout",
     "output_type": "stream",
     "text": [
      "+----------+--------------------+\n",
      "|horsepower|          percentage|\n",
      "+----------+--------------------+\n",
      "|      null|              5.7461|\n",
      "|      55.0|3.333333333333333...|\n",
      "|      63.0|6.666666666666667E-5|\n",
      "|      65.0|3.333333333333333...|\n",
      "|      67.0|1.999999999999999...|\n",
      "|      69.0|3.333333333333333...|\n",
      "|      70.0|0.007966666666666665|\n",
      "|      72.0|6.666666666666667E-5|\n",
      "|      73.0|9.999999999999999E-5|\n",
      "|      74.0|0.007033333333333334|\n",
      "|      77.0|3.333333333333333...|\n",
      "|      78.0|              0.1406|\n",
      "|      79.0|3.333333333333333...|\n",
      "|      82.0|2.333333333333333E-4|\n",
      "|      83.0|6.666666666666667E-5|\n",
      "|      84.0| 0.01873333333333333|\n",
      "|      85.0|9.999999999999999E-5|\n",
      "|      88.0|3.666666666666666...|\n",
      "|      89.0|0.006733333333333333|\n",
      "|      90.0|7.666666666666667E-4|\n",
      "+----------+--------------------+\n",
      "only showing top 20 rows\n",
      "\n"
     ]
    }
   ],
   "source": [
    "# Calculate the value counts and percentages\n",
    "value_counts_df = cars_df2.groupBy(\"horsepower\").agg(count(\"*\").alias(\"count\"))\n",
    "total_count = cars_df2.count()\n",
    "value_counts_df = value_counts_df.withColumn(\"percentage\", (col(\"count\") / total_count) * 100)\n",
    "value_counts_df = value_counts_df.select(\"horsepower\", \"percentage\").orderBy(\"horsepower\")\n",
    "\n",
    "value_counts_df.show()"
   ]
  },
  {
   "cell_type": "code",
   "execution_count": null,
   "metadata": {
    "application/vnd.databricks.v1+cell": {
     "cellMetadata": {
      "byteLimit": 2048000,
      "rowLimit": 10000
     },
     "inputWidgets": {},
     "nuid": "36d2f345-37df-448b-aa0a-0b57a9f1a7c6",
     "showTitle": false,
     "title": ""
    }
   },
   "outputs": [
    {
     "name": "stdout",
     "output_type": "stream",
     "text": [
      "The amount of null values in the horsepower column after filling are 0.\n"
     ]
    }
   ],
   "source": [
    "# Calculate the most common value in the 'horsepower' column\n",
    "most_common_horsepower = cars_df2.select(\"horsepower\").groupBy(\"horsepower\").count().orderBy(col(\"count\").desc()).first()[0]\n",
    "\n",
    "# Fill null values in the 'horsepower' column with the most common value\n",
    "cars_df2 = cars_df2.withColumn(\"horsepower\", col(\"horsepower\").isNull().cast(\"string\"))\n",
    "\n",
    "# Check if there are any null values left in the 'horsepower' column\n",
    "null_count = cars_df2.filter(col(\"horsepower\").isNull()).count()\n",
    "\n",
    "print(f\"The amount of null values in the horsepower column after filling are {null_count}.\")"
   ]
  },
  {
   "cell_type": "markdown",
   "metadata": {
    "application/vnd.databricks.v1+cell": {
     "cellMetadata": {
      "byteLimit": 2048000,
      "rowLimit": 10000
     },
     "inputWidgets": {},
     "nuid": "fe0711cd-48a0-49d6-b52d-12eec4f038f9",
     "showTitle": false,
     "title": ""
    }
   },
   "source": [
    "------------------------------------------------------------------------------------------"
   ]
  },
  {
   "cell_type": "markdown",
   "metadata": {
    "application/vnd.databricks.v1+cell": {
     "cellMetadata": {
      "byteLimit": 2048000,
      "rowLimit": 10000
     },
     "inputWidgets": {},
     "nuid": "93c048e9-9a72-4e8a-bf55-63099c2009d3",
     "showTitle": false,
     "title": ""
    }
   },
   "source": [
    "interior_color"
   ]
  },
  {
   "cell_type": "code",
   "execution_count": null,
   "metadata": {
    "application/vnd.databricks.v1+cell": {
     "cellMetadata": {
      "byteLimit": 2048000,
      "rowLimit": 10000
     },
     "inputWidgets": {},
     "nuid": "dcd7aaed-7d9d-4c50-aa80-d4269fa98606",
     "showTitle": false,
     "title": ""
    }
   },
   "outputs": [
    {
     "name": "stdout",
     "output_type": "stream",
     "text": [
      "The amount of null values in the interior_color column are 0.01%.\n"
     ]
    }
   ],
   "source": [
    "# Calculate the percentage of null values in the 'interior_color' column\n",
    "null_percentage = (cars_df2.filter(col(\"interior_color\").isNull()).count() / cars_df2.count()) * 100\n",
    "\n",
    "print(f\"The amount of null values in the interior_color column are {null_percentage:.2f}%.\")\n"
   ]
  },
  {
   "cell_type": "markdown",
   "metadata": {
    "application/vnd.databricks.v1+cell": {
     "cellMetadata": {
      "byteLimit": 2048000,
      "rowLimit": 10000
     },
     "inputWidgets": {},
     "nuid": "715d4227-b286-434d-b3d8-b9e8196eae4e",
     "showTitle": false,
     "title": ""
    }
   },
   "source": [
    "This is a very low amount of null values. We can just fill in the null values with the most common value."
   ]
  },
  {
   "cell_type": "code",
   "execution_count": null,
   "metadata": {
    "application/vnd.databricks.v1+cell": {
     "cellMetadata": {
      "byteLimit": 2048000,
      "rowLimit": 10000
     },
     "inputWidgets": {},
     "nuid": "e1bd0513-c684-4438-8d89-e1cda369768e",
     "showTitle": false,
     "title": ""
    }
   },
   "outputs": [],
   "source": [
    "# Calculate the value counts and percentages\n",
    "value_counts_df = cars_df2.groupBy(\"interior_color\").agg(count(\"*\").alias(\"count\"))\n",
    "total_count = cars_df2.count()\n",
    "value_counts_df = value_counts_df.withColumn(\"percentage\", (col(\"count\") / total_count) * 100)\n",
    "value_counts_df = value_counts_df.select(\"interior_color\", \"percentage\").orderBy(\"interior_color\")"
   ]
  },
  {
   "cell_type": "code",
   "execution_count": null,
   "metadata": {
    "application/vnd.databricks.v1+cell": {
     "cellMetadata": {
      "byteLimit": 2048000,
      "rowLimit": 10000
     },
     "inputWidgets": {},
     "nuid": "b6015dbf-9c2e-4b26-bb5f-0efad3dfac72",
     "showTitle": false,
     "title": ""
    }
   },
   "outputs": [
    {
     "name": "stdout",
     "output_type": "stream",
     "text": [
      "+--------------------+--------------------+\n",
      "|      interior_color|          percentage|\n",
      "+--------------------+--------------------+\n",
      "|                null|0.005500000000000...|\n",
      "|                 !!!|3.333333333333333...|\n",
      "|'4wd Supercrew 14...|3.333333333333333...|\n",
      "|       (Ebony) Black|3.333333333333333...|\n",
      "|(SMOKE WHITE/BLAC...|3.333333333333333...|\n",
      "|                   *|3.333333333333333...|\n",
      "|        *salvage* Se|3.333333333333333...|\n",
      "|                   ,|1.333333333333333...|\n",
      "|                   -|0.007333333333333333|\n",
      "|                  -+|3.333333333333333...|\n",
      "|                 ---|0.001166666666666...|\n",
      "|                 -AA|3.333333333333333...|\n",
      "|                 -G2|3.333333333333333...|\n",
      "|                 -N1|3.333333333333333...|\n",
      "|                 -TV|3.333333333333333...|\n",
      "|                 -Tv|6.666666666666667E-5|\n",
      "|                 -X3|2.333333333333333E-4|\n",
      "|                 -X8|1.999999999999999...|\n",
      "|                 -X9|0.003766666666666667|\n",
      "|           -X9 Black|3.333333333333333...|\n",
      "+--------------------+--------------------+\n",
      "only showing top 20 rows\n",
      "\n"
     ]
    }
   ],
   "source": [
    "value_counts_df.show()"
   ]
  },
  {
   "cell_type": "markdown",
   "metadata": {
    "application/vnd.databricks.v1+cell": {
     "cellMetadata": {
      "byteLimit": 2048000,
      "rowLimit": 10000
     },
     "inputWidgets": {},
     "nuid": "16bf957b-5055-477f-ba73-a436bf347a21",
     "showTitle": false,
     "title": ""
    }
   },
   "source": [
    "Black is the most used color so we replace it the null values with black"
   ]
  },
  {
   "cell_type": "code",
   "execution_count": null,
   "metadata": {
    "application/vnd.databricks.v1+cell": {
     "cellMetadata": {
      "byteLimit": 2048000,
      "rowLimit": 10000
     },
     "inputWidgets": {},
     "nuid": "dd7855e9-7fc9-4a46-a248-9f42dcdb7d29",
     "showTitle": false,
     "title": ""
    }
   },
   "outputs": [
    {
     "name": "stdout",
     "output_type": "stream",
     "text": [
      "The amount of null values in the interior_color column are 0.00%.\n"
     ]
    }
   ],
   "source": [
    "# Fill null values with the most frequent value\n",
    "cars_df2 = cars_df2.na.fill({\"interior_color\": \"Black\"})\n",
    "\n",
    "# Checking the number of null values after filling\n",
    "null_count = cars_df2.filter(col(\"interior_color\").isNull()).count()\n",
    "total_count = cars_df2.count()\n",
    "percentage = (null_count / total_count) * 100\n",
    "\n",
    "print(f\"The amount of null values in the interior_color column are {percentage:.2f}%.\")\n"
   ]
  },
  {
   "cell_type": "markdown",
   "metadata": {
    "application/vnd.databricks.v1+cell": {
     "cellMetadata": {
      "byteLimit": 2048000,
      "rowLimit": 10000
     },
     "inputWidgets": {},
     "nuid": "059444f0-08f5-4c51-955d-dbf69731b554",
     "showTitle": false,
     "title": ""
    }
   },
   "source": [
    "Before we move on, we will need to address the large amount of categories in the interior_color column. Having a large amount of categories in the interior_color column can result in a large amount of redundant information. So lets re-categorize the interior_color column to reduce the amount of categories."
   ]
  },
  {
   "cell_type": "code",
   "execution_count": null,
   "metadata": {
    "application/vnd.databricks.v1+cell": {
     "cellMetadata": {
      "byteLimit": 2048000,
      "rowLimit": 10000
     },
     "inputWidgets": {},
     "nuid": "62a1478d-9ee3-4741-9607-2b4b93c24a30",
     "showTitle": false,
     "title": ""
    }
   },
   "outputs": [],
   "source": [
    "# List of primary colors\n",
    "colors = ['White', 'Black', 'Gray', 'Silver', 'Red', 'Blue', 'Brown', 'Green', 'Beige', 'Orange', 'Gold', 'Yellow', 'Purple']\n",
    "\n",
    "# Replace all colors not in the list with \"Other Color\"\n",
    "cars_df2 = cars_df2.withColumn(\"interior_color\", when(col(\"interior_color\").isin(colors), col(\"interior_color\")).otherwise(\"Other Color\"))\n"
   ]
  },
  {
   "cell_type": "code",
   "execution_count": null,
   "metadata": {
    "application/vnd.databricks.v1+cell": {
     "cellMetadata": {
      "byteLimit": 2048000,
      "rowLimit": 10000
     },
     "inputWidgets": {},
     "nuid": "29b0ac18-c93a-4571-a3ab-48f2cb4fc46c",
     "showTitle": false,
     "title": ""
    }
   },
   "outputs": [
    {
     "name": "stdout",
     "output_type": "stream",
     "text": [
      "+--------------+-------+--------------------+\n",
      "|interior_color|  count|          percentage|\n",
      "+--------------+-------+--------------------+\n",
      "|        Orange|    186|0.006200000000000001|\n",
      "|        Silver|   1192|0.039733333333333336|\n",
      "|         Green|    132|              0.0044|\n",
      "|          Gray| 195904|   6.530133333333334|\n",
      "|          Blue|   1220| 0.04066666666666666|\n",
      "|         White|   1913| 0.06376666666666667|\n",
      "|         Brown|   7505|  0.2501666666666667|\n",
      "|          Gold|    248|0.008266666666666667|\n",
      "|   Other Color|1915993|  63.866433333333326|\n",
      "|         Black| 871552|  29.051733333333335|\n",
      "|        Yellow|     41|0.001366666666666...|\n",
      "|           Red|   4106| 0.13686666666666666|\n",
      "|        Purple|      8|2.666666666666667E-4|\n",
      "+--------------+-------+--------------------+\n",
      "\n"
     ]
    }
   ],
   "source": [
    "# Check the distribution of values in the interior_color column\n",
    "distribution = cars_df2.groupBy(\"interior_color\").count().withColumn(\"percentage\", col(\"count\") / cars_df2.count() * 100)\n",
    "\n",
    "# Show the distribution\n",
    "distribution.show()"
   ]
  },
  {
   "cell_type": "markdown",
   "metadata": {
    "application/vnd.databricks.v1+cell": {
     "cellMetadata": {
      "byteLimit": 2048000,
      "rowLimit": 10000
     },
     "inputWidgets": {},
     "nuid": "93ac8a41-1d45-4222-8e4f-40697904fed4",
     "showTitle": false,
     "title": ""
    }
   },
   "source": [
    "------------------------------------------------------------------------------------------"
   ]
  },
  {
   "cell_type": "markdown",
   "metadata": {
    "application/vnd.databricks.v1+cell": {
     "cellMetadata": {
      "byteLimit": 2048000,
      "rowLimit": 10000
     },
     "inputWidgets": {},
     "nuid": "9565daf7-6932-4965-be15-929379031435",
     "showTitle": false,
     "title": ""
    }
   },
   "source": [
    "length"
   ]
  },
  {
   "cell_type": "code",
   "execution_count": null,
   "metadata": {
    "application/vnd.databricks.v1+cell": {
     "cellMetadata": {
      "byteLimit": 2048000,
      "rowLimit": 10000
     },
     "inputWidgets": {},
     "nuid": "24147b01-d640-49e0-a28a-da1befca7dc3",
     "showTitle": false,
     "title": ""
    }
   },
   "outputs": [
    {
     "name": "stdout",
     "output_type": "stream",
     "text": [
      "The amount of null values in the length column are 5.31%.\n"
     ]
    }
   ],
   "source": [
    "# Checking the number of null values in the column\n",
    "null_count = cars_df2.filter(col(\"length\").isNull()).count()\n",
    "total_count = cars_df2.count()\n",
    "percentage = (null_count / total_count) * 100\n",
    "\n",
    "print(f\"The amount of null values in the length column are {percentage:.2f}%.\")"
   ]
  },
  {
   "cell_type": "code",
   "execution_count": null,
   "metadata": {
    "application/vnd.databricks.v1+cell": {
     "cellMetadata": {
      "byteLimit": 2048000,
      "rowLimit": 10000
     },
     "inputWidgets": {},
     "nuid": "4da9297c-9dc7-4997-94fb-9b7e7bd4bb66",
     "showTitle": false,
     "title": ""
    }
   },
   "outputs": [
    {
     "name": "stdout",
     "output_type": "stream",
     "text": [
      "+--------+--------------------+\n",
      "|  length|          percentage|\n",
      "+--------+--------------------+\n",
      "|    null|   5.308866666666667|\n",
      "|      --|0.015233333333333335|\n",
      "|106.1 in|0.014333333333333333|\n",
      "|106.3 in|3.666666666666666...|\n",
      "|109.3 in|3.333333333333333...|\n",
      "|120.1 in|0.001966666666666...|\n",
      "|139.6 in|0.024333333333333332|\n",
      "|  142 in|3.333333333333333...|\n",
      "|142.8 in|0.001066666666666...|\n",
      "|143.1 in| 0.20539999999999997|\n",
      "|143.9 in|0.003966666666666666|\n",
      "|  144 in|6.666666666666667E-5|\n",
      "|144.4 in|0.005933333333333334|\n",
      "|144.7 in|0.018666666666666665|\n",
      "|145.6 in|0.016566666666666667|\n",
      "|146.2 in|              0.0171|\n",
      "|146.8 in|8.666666666666666E-4|\n",
      "|  147 in|0.002066666666666...|\n",
      "|147.2 in|9.999999999999999E-5|\n",
      "|147.7 in|6.333333333333333E-4|\n",
      "+--------+--------------------+\n",
      "only showing top 20 rows\n",
      "\n"
     ]
    }
   ],
   "source": [
    "# Calculate the value counts and percentages\n",
    "value_counts_df = cars_df2.groupBy(\"length\").agg(count(\"*\").alias(\"count\"))\n",
    "total_count = cars_df2.count()\n",
    "value_counts_df = value_counts_df.withColumn(\"percentage\", (col(\"count\") / total_count) * 100)\n",
    "value_counts_df = value_counts_df.select(\"length\", \"percentage\").orderBy(\"length\")\n",
    "\n",
    "# Show the results\n",
    "value_counts_df.show()"
   ]
  },
  {
   "cell_type": "code",
   "execution_count": null,
   "metadata": {
    "application/vnd.databricks.v1+cell": {
     "cellMetadata": {
      "byteLimit": 2048000,
      "rowLimit": 10000
     },
     "inputWidgets": {},
     "nuid": "55ca09ab-9410-489b-80a2-4fc6dc5d6cd7",
     "showTitle": false,
     "title": ""
    }
   },
   "outputs": [
    {
     "name": "stdout",
     "output_type": "stream",
     "text": [
      "+--------+\n",
      "|  length|\n",
      "+--------+\n",
      "|171.7 in|\n",
      "|197.9 in|\n",
      "|185.7 in|\n",
      "|169.3 in|\n",
      "|184.6 in|\n",
      "|191.1 in|\n",
      "|203.9 in|\n",
      "|203.2 in|\n",
      "|  176 in|\n",
      "|179.6 in|\n",
      "|199.6 in|\n",
      "|175.2 in|\n",
      "|159.6 in|\n",
      "|145.6 in|\n",
      "|180.2 in|\n",
      "|188.5 in|\n",
      "|171.5 in|\n",
      "|229.9 in|\n",
      "|263.9 in|\n",
      "|197.6 in|\n",
      "+--------+\n",
      "only showing top 20 rows\n",
      "\n"
     ]
    }
   ],
   "source": [
    "# Get unique values in the \"length\" column\n",
    "unique_lengths = cars_df2.select(\"length\").distinct()\n",
    "\n",
    "# Show the unique values\n",
    "unique_lengths.show()"
   ]
  },
  {
   "cell_type": "markdown",
   "metadata": {
    "application/vnd.databricks.v1+cell": {
     "cellMetadata": {
      "byteLimit": 2048000,
      "rowLimit": 10000
     },
     "inputWidgets": {},
     "nuid": "1d3ef815-1086-4819-b055-d7c5c1c22eb1",
     "showTitle": false,
     "title": ""
    }
   },
   "source": [
    "We can see that the this is a numeric column, so we can replace the null values with the average value of the column. But first, we will need to clean the column further."
   ]
  },
  {
   "cell_type": "code",
   "execution_count": null,
   "metadata": {
    "application/vnd.databricks.v1+cell": {
     "cellMetadata": {
      "byteLimit": 2048000,
      "rowLimit": 10000
     },
     "inputWidgets": {},
     "nuid": "820a4863-4ef9-49fe-ad17-7d31de7c1f21",
     "showTitle": false,
     "title": ""
    }
   },
   "outputs": [],
   "source": [
    "# Split the column and return the first value\n",
    "cars_df2 = cars_df2.withColumn(\"length\", col(\"length\").substr(1, 3))  \n",
    "\n",
    "# Replace \"--\" with null values\n",
    "cars_df2 = cars_df2.withColumn(\"length\", when(col(\"length\") == \"--\", None).otherwise(col(\"length\")))\n",
    "\n",
    "# Convert the length column to a float\n",
    "cars_df2 = cars_df2.withColumn(\"length\", cars_df2[\"length\"].cast(\"float\"))"
   ]
  },
  {
   "cell_type": "markdown",
   "metadata": {
    "application/vnd.databricks.v1+cell": {
     "cellMetadata": {
      "byteLimit": 2048000,
      "rowLimit": 10000
     },
     "inputWidgets": {},
     "nuid": "1abbfa1e-98df-4709-99bc-a11336ec23f1",
     "showTitle": false,
     "title": ""
    }
   },
   "source": [
    "let's get a visual representation"
   ]
  },
  {
   "cell_type": "code",
   "execution_count": null,
   "metadata": {
    "application/vnd.databricks.v1+cell": {
     "cellMetadata": {
      "byteLimit": 2048000,
      "rowLimit": 10000
     },
     "inputWidgets": {},
     "nuid": "dc5f755a-bc62-4fae-86aa-c8de05b103ab",
     "showTitle": false,
     "title": ""
    }
   },
   "outputs": [
    {
     "data": {
      "image/png": "[encoded data removed]"
     },
     "metadata": {
      "application/vnd.databricks.v1+output": {
       "addedWidgets": {},
       "arguments": {},
       "data": "data:image/png;base64,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\n",
       "datasetInfos": [],
       "metadata": {},
       "removedWidgets": [],
       "type": "image"
      }
     },
     "output_type": "display_data"
    }
   ],
   "source": [
    "# Select the 'length' column\n",
    "length_column = cars_df2.select(\"length\")\n",
    "\n",
    "# Convert the DataFrame to Pandas for plotting\n",
    "length_df = length_column.toPandas()\n",
    "\n",
    "# Plot the distribution\n",
    "plt.figure(figsize=(10, 6))\n",
    "plt.hist(length_df['length'], bins=20, color='blue')\n",
    "plt.title('Length Distribution')\n",
    "plt.xlabel('Length')\n",
    "plt.ylabel('Frequency')\n",
    "plt.axvline(length_df['length'].mode()[0], color='r', linestyle='dashed', linewidth=2, label='Mode')\n",
    "plt.axvline(length_df['length'].median(), color='goldenrod', label='Median')\n",
    "plt.axvline(length_df['length'].mean(), color='darkgreen', label='Mean')\n",
    "plt.legend()\n",
    "plt.show()"
   ]
  },
  {
   "cell_type": "markdown",
   "metadata": {
    "application/vnd.databricks.v1+cell": {
     "cellMetadata": {
      "byteLimit": 2048000,
      "rowLimit": 10000
     },
     "inputWidgets": {},
     "nuid": "f207a4bc-8735-4957-9b3c-7f3fa893ff43",
     "showTitle": false,
     "title": ""
    }
   },
   "source": [
    "We can see that the length of the vehicles have a wide range of values. This means that the mean value is a better option to fill in the null values."
   ]
  },
  {
   "cell_type": "code",
   "execution_count": null,
   "metadata": {
    "application/vnd.databricks.v1+cell": {
     "cellMetadata": {
      "byteLimit": 2048000,
      "rowLimit": 10000
     },
     "inputWidgets": {},
     "nuid": "74a475bb-c745-4e32-8c40-ec934db5f077",
     "showTitle": false,
     "title": ""
    }
   },
   "outputs": [],
   "source": [
    "# Calculate the median of the \"length\" column\n",
    "median_length = cars_df2.select(median(col(\"length\"))).collect()[0][0]"
   ]
  },
  {
   "cell_type": "code",
   "execution_count": null,
   "metadata": {
    "application/vnd.databricks.v1+cell": {
     "cellMetadata": {
      "byteLimit": 2048000,
      "rowLimit": 10000
     },
     "inputWidgets": {},
     "nuid": "0f235925-e75e-4b89-8428-0b964caa44a2",
     "showTitle": false,
     "title": ""
    }
   },
   "outputs": [],
   "source": [
    "# Fill null values with the median\n",
    "cars_df2 = cars_df2.na.fill({\"length\": median_length})"
   ]
  },
  {
   "cell_type": "code",
   "execution_count": null,
   "metadata": {
    "application/vnd.databricks.v1+cell": {
     "cellMetadata": {
      "byteLimit": 2048000,
      "rowLimit": 10000
     },
     "inputWidgets": {},
     "nuid": "53a076a1-4ca1-4974-a6d8-56fe2dfcb22d",
     "showTitle": false,
     "title": ""
    }
   },
   "outputs": [
    {
     "name": "stdout",
     "output_type": "stream",
     "text": [
      "The percentage of null values in the length column is 0.00%\n"
     ]
    }
   ],
   "source": [
    "# Calculate the percentage of null values in the 'length' column\n",
    "percentage_null = (cars_df2.filter(cars_df2['length'].isNull()).count() / cars_df2.count()) * 100\n",
    "\n",
    "# Print the result\n",
    "print(f\"The percentage of null values in the length column is {percentage_null:.2f}%\")"
   ]
  },
  {
   "cell_type": "markdown",
   "metadata": {
    "application/vnd.databricks.v1+cell": {
     "cellMetadata": {
      "byteLimit": 2048000,
      "rowLimit": 10000
     },
     "inputWidgets": {},
     "nuid": "e4440ee1-83dc-4cd0-8385-2d5c7a2ad53d",
     "showTitle": false,
     "title": ""
    }
   },
   "source": [
    "-----------------------------------------------------------------------------------"
   ]
  },
  {
   "cell_type": "markdown",
   "metadata": {
    "application/vnd.databricks.v1+cell": {
     "cellMetadata": {
      "byteLimit": 2048000,
      "rowLimit": 10000
     },
     "inputWidgets": {},
     "nuid": "d0850fc3-d526-4a7a-9991-d30e639433fa",
     "showTitle": false,
     "title": ""
    }
   },
   "source": [
    "main_picture_url"
   ]
  },
  {
   "cell_type": "markdown",
   "metadata": {
    "application/vnd.databricks.v1+cell": {
     "cellMetadata": {
      "byteLimit": 2048000,
      "rowLimit": 10000
     },
     "inputWidgets": {},
     "nuid": "07fcf028-a038-445c-a48f-ba766975e83d",
     "showTitle": false,
     "title": ""
    }
   },
   "source": [
    "The main picture url is the url of the main picture of the vehicle. This is a link to the main picture of the vehicle. Since this is a price prediction model, we will not be using this column. We will drop this column from the dataset."
   ]
  },
  {
   "cell_type": "code",
   "execution_count": null,
   "metadata": {
    "application/vnd.databricks.v1+cell": {
     "cellMetadata": {
      "byteLimit": 2048000,
      "rowLimit": 10000
     },
     "inputWidgets": {},
     "nuid": "30ce4c72-e592-4e7b-90d9-223ac571b566",
     "showTitle": false,
     "title": ""
    }
   },
   "outputs": [],
   "source": [
    "# Drop the \"main_picture_url\" column\n",
    "cars_df2 = cars_df2.drop(\"main_picture_url\")"
   ]
  },
  {
   "cell_type": "markdown",
   "metadata": {
    "application/vnd.databricks.v1+cell": {
     "cellMetadata": {
      "byteLimit": 2048000,
      "rowLimit": 10000
     },
     "inputWidgets": {},
     "nuid": "51809b72-2bc9-4826-a11e-dccbb4f3f1bb",
     "showTitle": false,
     "title": ""
    }
   },
   "source": [
    "-----------------------------------------------------------------------------------"
   ]
  },
  {
   "cell_type": "markdown",
   "metadata": {
    "application/vnd.databricks.v1+cell": {
     "cellMetadata": {
      "byteLimit": 2048000,
      "rowLimit": 10000
     },
     "inputWidgets": {},
     "nuid": "795d9c86-6842-4997-8e6c-1f9bbeb53eb1",
     "showTitle": false,
     "title": ""
    }
   },
   "source": [
    "major_options"
   ]
  },
  {
   "cell_type": "markdown",
   "metadata": {
    "application/vnd.databricks.v1+cell": {
     "cellMetadata": {
      "byteLimit": 2048000,
      "rowLimit": 10000
     },
     "inputWidgets": {},
     "nuid": "954c74f9-aed3-48d0-8876-cfb98c980b7f",
     "showTitle": false,
     "title": ""
    }
   },
   "source": [
    "Major options is a list of the major options the vehicle has. This will be helpful in adding more features to the model."
   ]
  },
  {
   "cell_type": "code",
   "execution_count": null,
   "metadata": {
    "application/vnd.databricks.v1+cell": {
     "cellMetadata": {
      "byteLimit": 2048000,
      "rowLimit": 10000
     },
     "inputWidgets": {},
     "nuid": "d5c78584-acc3-4373-9422-f72673477acc",
     "showTitle": false,
     "title": ""
    }
   },
   "outputs": [
    {
     "name": "stdout",
     "output_type": "stream",
     "text": [
      "The amount of null values in the major_options column are 6.67%.\n"
     ]
    }
   ],
   "source": [
    "# Checking the number of null values in the column\n",
    "null_count = cars_df2.filter(col(\"major_options\").isNull()).count()\n",
    "total_count = cars_df2.count()\n",
    "percentage = (null_count / total_count) * 100\n",
    "\n",
    "print(f\"The amount of null values in the major_options column are {percentage:.2f}%.\")"
   ]
  },
  {
   "cell_type": "code",
   "execution_count": null,
   "metadata": {
    "application/vnd.databricks.v1+cell": {
     "cellMetadata": {
      "byteLimit": 2048000,
      "rowLimit": 10000
     },
     "inputWidgets": {},
     "nuid": "fdf31aff-fa3d-48a4-92da-da70a89532ee",
     "showTitle": false,
     "title": ""
    }
   },
   "outputs": [
    {
     "name": "stdout",
     "output_type": "stream",
     "text": [
      "+--------------------+-----+--------------------+\n",
      "|       major_options|count|          percentage|\n",
      "+--------------------+-----+--------------------+\n",
      "|['Leather Seats',...|    1|3.333333333333333...|\n",
      "|['Sunroof/Moonroo...|   35|0.001166666666666...|\n",
      "|['Sunroof/Moonroo...|  389|0.012966666666666666|\n",
      "|['Adaptive Cruise...|  629|0.020966666666666668|\n",
      "|['Driver Confiden...|   38|0.001266666666666...|\n",
      "|['Backup Camera',...|  164|0.005466666666666...|\n",
      "|['Sunroof/Moonroo...|  142|0.004733333333333333|\n",
      "|['Leather Seats',...|    7|2.333333333333333E-4|\n",
      "|['Alloy Wheels', ...|   16|5.333333333333334E-4|\n",
      "|['Leather Seats',...|  360|               0.012|\n",
      "|['Navigation Syst...|   23|7.666666666666667E-4|\n",
      "|['LE Package', 'A...|  137|0.004566666666666667|\n",
      "|['Sunroof/Moonroo...|    7|2.333333333333333E-4|\n",
      "|['SE Package', 'T...|    1|3.333333333333333...|\n",
      "|['Sport Package',...|   58|0.001933333333333...|\n",
      "|['Steel Wheels', ...|   69|              0.0023|\n",
      "|['Adaptive Cruise...|   28|9.333333333333332E-4|\n",
      "|['Power Package',...|   27|              9.0E-4|\n",
      "|['Sunroof/Moonroo...|   10|3.333333333333333E-4|\n",
      "|['Navigation Syst...|    1|3.333333333333333...|\n",
      "+--------------------+-----+--------------------+\n",
      "only showing top 20 rows\n",
      "\n"
     ]
    }
   ],
   "source": [
    "# Calculate the value counts and percentages\n",
    "value_counts_df = cars_df2.groupBy(\"major_options\").count().withColumn(\"percentage\", col(\"count\") / cars_df2.count() * 100)\n",
    "\n",
    "# Show the result\n",
    "value_counts_df.show()"
   ]
  },
  {
   "cell_type": "markdown",
   "metadata": {
    "application/vnd.databricks.v1+cell": {
     "cellMetadata": {
      "byteLimit": 2048000,
      "rowLimit": 10000
     },
     "inputWidgets": {},
     "nuid": "04f6e641-7c31-46bb-abb7-fbbdb79a1fba",
     "showTitle": false,
     "title": ""
    }
   },
   "source": [
    "To make the column easier to work with, we will just convert the column into a new column called 'major_options_count'. This will be the number of major options the vehicle has. We will also drop the major_options column from the dataset."
   ]
  },
  {
   "cell_type": "code",
   "execution_count": null,
   "metadata": {
    "application/vnd.databricks.v1+cell": {
     "cellMetadata": {
      "byteLimit": 2048000,
      "rowLimit": 10000
     },
     "inputWidgets": {},
     "nuid": "2328d07b-281e-4f17-8c83-0750805c0dee",
     "showTitle": false,
     "title": ""
    }
   },
   "outputs": [
    {
     "name": "stdout",
     "output_type": "stream",
     "text": [
      "+-------------------+------+\n",
      "|major_options_count| count|\n",
      "+-------------------+------+\n",
      "|                 31|    93|\n",
      "|                 34|    48|\n",
      "|                 28|   222|\n",
      "|                 26|   492|\n",
      "|                 27|   311|\n",
      "|                 12| 80844|\n",
      "|                 22|  1273|\n",
      "|               null|200046|\n",
      "|                  1|183388|\n",
      "|                 13| 51701|\n",
      "|                  6|282661|\n",
      "|                 16| 12780|\n",
      "|                  3|314017|\n",
      "|                 20|  2501|\n",
      "|                 40|     6|\n",
      "|                  5|307010|\n",
      "|                 19|  3521|\n",
      "|                 15| 18990|\n",
      "|                 17|  8002|\n",
      "|                  9|183370|\n",
      "+-------------------+------+\n",
      "only showing top 20 rows\n",
      "\n"
     ]
    }
   ],
   "source": [
    "# Replace 'major_options' with the actual column name in your DataFrame\n",
    "cars_df2 = cars_df2.withColumn('major_options_count', (length(col('major_options')) - length(regexp_replace(col('major_options'), ',', ''))) + 1)\n",
    "\n",
    "# Group by major_options_count and calculate value counts\n",
    "value_counts = cars_df2.groupBy('major_options_count').count()\n",
    "value_counts.show()\n",
    "\n"
   ]
  },
  {
   "cell_type": "code",
   "execution_count": null,
   "metadata": {
    "application/vnd.databricks.v1+cell": {
     "cellMetadata": {
      "byteLimit": 2048000,
      "rowLimit": 10000
     },
     "inputWidgets": {},
     "nuid": "4393b22f-0d1a-4588-bdc2-f294575e5d1e",
     "showTitle": false,
     "title": ""
    }
   },
   "outputs": [
    {
     "data": {
      "image/png": "[encoded data removed]"
     },
     "metadata": {
      "application/vnd.databricks.v1+output": {
       "addedWidgets": {},
       "arguments": {},
       "data": "data:image/png;base64,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\n",
       "datasetInfos": [],
       "metadata": {},
       "removedWidgets": [],
       "type": "image"
      }
     },
     "output_type": "display_data"
    }
   ],
   "source": [
    "# Convert to Pandas DataFrame for plotting\n",
    "pandas_df = cars_df2.select('major_options_count').toPandas()\n",
    "\n",
    "# Plotting\n",
    "plt.figure(figsize=(10, 6))\n",
    "plt.hist(pandas_df['major_options_count'], bins=np.arange(0, 22, 2), edgecolor='black')\n",
    "plt.title('Major Options Count')\n",
    "plt.axvline(pandas_df['major_options_count'].mode()[0], color='r', linestyle='dashed', linewidth=2, label='Mode')\n",
    "plt.axvline(pandas_df['major_options_count'].median(), color='goldenrod', label='median')\n",
    "plt.axvline(pandas_df['major_options_count'].mean(), color='darkgreen', label='mean')\n",
    "plt.legend()\n",
    "plt.xlabel('Major Options Count')\n",
    "plt.ylabel('Frequency')\n",
    "plt.xticks(np.arange(0, 20, 2))\n",
    "plt.show()"
   ]
  },
  {
   "cell_type": "markdown",
   "metadata": {
    "application/vnd.databricks.v1+cell": {
     "cellMetadata": {
      "byteLimit": 2048000,
      "rowLimit": 10000
     },
     "inputWidgets": {},
     "nuid": "adae33c9-8cc4-4097-be15-21c967f0f676",
     "showTitle": false,
     "title": ""
    }
   },
   "source": [
    "We can fill in the null values with the mean value of the column."
   ]
  },
  {
   "cell_type": "code",
   "execution_count": null,
   "metadata": {
    "application/vnd.databricks.v1+cell": {
     "cellMetadata": {
      "byteLimit": 2048000,
      "rowLimit": 10000
     },
     "inputWidgets": {},
     "nuid": "bc49b706-8d85-4af3-ad62-b58efeab4e27",
     "showTitle": false,
     "title": ""
    }
   },
   "outputs": [
    {
     "name": "stdout",
     "output_type": "stream",
     "text": [
      "The amount of null values in the major_options_count column are 0.0%.\n"
     ]
    }
   ],
   "source": [
    "cars_df2 = cars_df2.withColumn('major_options_count', when(col('major_options_count').isNull(), cars_df2.select(avg('major_options_count')).collect()[0][0]).otherwise(col('major_options_count')))\n",
    "\n",
    "# Checking the result\n",
    "result = (cars_df2.filter(col('major_options_count').isNull()).count() / df.count()) * 100\n",
    "\n",
    "print(f\"The amount of null values in the major_options_count column are {round(result, 2)}%.\")\n"
   ]
  },
  {
   "cell_type": "code",
   "execution_count": null,
   "metadata": {
    "application/vnd.databricks.v1+cell": {
     "cellMetadata": {
      "byteLimit": 2048000,
      "rowLimit": 10000
     },
     "inputWidgets": {},
     "nuid": "d2171cb5-353b-42a8-a011-b2dd3f17165b",
     "showTitle": false,
     "title": ""
    }
   },
   "outputs": [],
   "source": [
    "# Drop the \"major_options\" column\n",
    "cars_df2 = cars_df2.drop(\"major_options\")"
   ]
  },
  {
   "cell_type": "markdown",
   "metadata": {
    "application/vnd.databricks.v1+cell": {
     "cellMetadata": {
      "byteLimit": 2048000,
      "rowLimit": 10000
     },
     "inputWidgets": {},
     "nuid": "2d7f0a61-3c29-4894-870f-4de387cf9008",
     "showTitle": false,
     "title": ""
    }
   },
   "source": [
    "---"
   ]
  },
  {
   "cell_type": "markdown",
   "metadata": {
    "application/vnd.databricks.v1+cell": {
     "cellMetadata": {
      "byteLimit": 2048000,
      "rowLimit": 10000
     },
     "inputWidgets": {},
     "nuid": "f6e91d1e-b1f9-4312-9cc1-34d96ee7f7fd",
     "showTitle": false,
     "title": ""
    }
   },
   "source": [
    "maximum_seating"
   ]
  },
  {
   "cell_type": "markdown",
   "metadata": {
    "application/vnd.databricks.v1+cell": {
     "cellMetadata": {
      "byteLimit": 2048000,
      "rowLimit": 10000
     },
     "inputWidgets": {},
     "nuid": "e4307b42-c2d4-4a37-bfd8-15fdfc64ebbd",
     "showTitle": false,
     "title": ""
    }
   },
   "source": [
    "Maximum seating is the maximum amount of people that can be seated in the vehicle."
   ]
  },
  {
   "cell_type": "code",
   "execution_count": null,
   "metadata": {
    "application/vnd.databricks.v1+cell": {
     "cellMetadata": {
      "byteLimit": 2048000,
      "rowLimit": 10000
     },
     "inputWidgets": {},
     "nuid": "8206e802-5868-46dc-93b6-3b04d657fbcf",
     "showTitle": false,
     "title": ""
    }
   },
   "outputs": [
    {
     "name": "stdout",
     "output_type": "stream",
     "text": [
      "The amount of null values in the maximum_seating column are 5.31%.\n"
     ]
    }
   ],
   "source": [
    "# Checking the number of null values in the column\n",
    "null_count = cars_df2.filter(col(\"maximum_seating\").isNull()).count()\n",
    "total_count = cars_df2.count()\n",
    "percentage = (null_count / total_count) * 100\n",
    "\n",
    "print(f\"The amount of null values in the maximum_seating column are {percentage:.2f}%.\")"
   ]
  },
  {
   "cell_type": "code",
   "execution_count": null,
   "metadata": {
    "application/vnd.databricks.v1+cell": {
     "cellMetadata": {
      "byteLimit": 2048000,
      "rowLimit": 10000
     },
     "inputWidgets": {},
     "nuid": "6d71793d-ac5f-45d7-81ce-86c3f41e0446",
     "showTitle": false,
     "title": ""
    }
   },
   "outputs": [
    {
     "name": "stdout",
     "output_type": "stream",
     "text": [
      "+---------------+-------+--------------------+\n",
      "|maximum_seating|  count|          percentage|\n",
      "+---------------+-------+--------------------+\n",
      "|       12 seats|   1703| 0.05676666666666666|\n",
      "|        9 seats|   3634| 0.12113333333333334|\n",
      "|        8 seats| 200358|   6.678599999999999|\n",
      "|        5 seats|1875332|   62.51106666666667|\n",
      "|           null| 159266|   5.308866666666667|\n",
      "|        4 seats|  81173|   2.705766666666667|\n",
      "|        3 seats|  29676|              0.9892|\n",
      "|        7 seats| 305325|             10.1775|\n",
      "|        6 seats| 301481|  10.049366666666666|\n",
      "|       10 seats|    540|0.018000000000000002|\n",
      "|             --|    501|              0.0167|\n",
      "|        2 seats|  35105|  1.1701666666666668|\n",
      "|       15 seats|   5906| 0.19686666666666666|\n",
      "+---------------+-------+--------------------+\n",
      "\n"
     ]
    }
   ],
   "source": [
    "# Calculate the percentage of each value in the maximum_seating column\n",
    "percentage_value_counts = cars_df2.groupBy('maximum_seating').count().withColumn('percentage', col('count') / cars_df2.count() * 100)\n",
    "\n",
    "percentage_value_counts.show()"
   ]
  },
  {
   "cell_type": "code",
   "execution_count": null,
   "metadata": {
    "application/vnd.databricks.v1+cell": {
     "cellMetadata": {
      "byteLimit": 2048000,
      "rowLimit": 10000
     },
     "inputWidgets": {},
     "nuid": "e48380be-44e3-43b5-8778-f5378d4d743d",
     "showTitle": false,
     "title": ""
    }
   },
   "outputs": [
    {
     "name": "stdout",
     "output_type": "stream",
     "text": [
      "+---------------+\n",
      "|maximum_seating|\n",
      "+---------------+\n",
      "|       12 seats|\n",
      "|        9 seats|\n",
      "|        8 seats|\n",
      "|        5 seats|\n",
      "|           null|\n",
      "|        4 seats|\n",
      "|        3 seats|\n",
      "|        7 seats|\n",
      "|        6 seats|\n",
      "|       10 seats|\n",
      "|             --|\n",
      "|        2 seats|\n",
      "|       15 seats|\n",
      "+---------------+\n",
      "\n"
     ]
    }
   ],
   "source": [
    "# Get unique values in the \"maximum_seating\" column\n",
    "unique_maximum_seating = cars_df2.select(\"maximum_seating\").distinct()\n",
    "\n",
    "unique_maximum_seating.show()"
   ]
  },
  {
   "cell_type": "markdown",
   "metadata": {
    "application/vnd.databricks.v1+cell": {
     "cellMetadata": {
      "byteLimit": 2048000,
      "rowLimit": 10000
     },
     "inputWidgets": {},
     "nuid": "d9663c2e-a064-4a04-8dfa-9af963888236",
     "showTitle": false,
     "title": ""
    }
   },
   "source": [
    "The standard modern car has a maximum seating capacity of 5 people. So we can replace the null values with the value '5 seats'. But before we can do that, we will need to clean the column further."
   ]
  },
  {
   "cell_type": "code",
   "execution_count": null,
   "metadata": {
    "application/vnd.databricks.v1+cell": {
     "cellMetadata": {
      "byteLimit": 2048000,
      "rowLimit": 10000
     },
     "inputWidgets": {},
     "nuid": "1a8c14cf-39a1-4412-a5c6-8042960f0702",
     "showTitle": false,
     "title": ""
    }
   },
   "outputs": [
    {
     "name": "stdout",
     "output_type": "stream",
     "text": [
      "The amount of null values in the maximum_seating column are 0.0%.\n"
     ]
    }
   ],
   "source": [
    "# Replacing \"--\" with null\n",
    "cars_df2 = cars_df2.withColumn(\"maximum_seating\", when(col(\"maximum_seating\") == \"--\", None).otherwise(col(\"maximum_seating\")))\n",
    "\n",
    "# Filling null values with the most frequent value\n",
    "most_frequent_value = cars_df2.groupBy(\"maximum_seating\").count().orderBy(col(\"count\").desc()).select(\"maximum_seating\").first()[0]\n",
    "cars_df2 = cars_df2.fillna({\"maximum_seating\": most_frequent_value})\n",
    "\n",
    "# Checking the result\n",
    "result = cars_df2.select(\"maximum_seating\").filter(col(\"maximum_seating\").isNull()).count() / cars_df2.count() * 100\n",
    "print(f\"The amount of null values in the maximum_seating column are {result}%.\")\n"
   ]
  },
  {
   "cell_type": "markdown",
   "metadata": {
    "application/vnd.databricks.v1+cell": {
     "cellMetadata": {
      "byteLimit": 2048000,
      "rowLimit": 10000
     },
     "inputWidgets": {},
     "nuid": "a2fe92a5-a8a0-44a1-8203-42c78ffad620",
     "showTitle": false,
     "title": ""
    }
   },
   "source": [
    "Lets also remove the word 'seats' from the column."
   ]
  },
  {
   "cell_type": "code",
   "execution_count": null,
   "metadata": {
    "application/vnd.databricks.v1+cell": {
     "cellMetadata": {
      "byteLimit": 2048000,
      "rowLimit": 10000
     },
     "inputWidgets": {},
     "nuid": "fa93903d-b6be-4b09-8c86-7af7edfca4c0",
     "showTitle": false,
     "title": ""
    }
   },
   "outputs": [
    {
     "name": "stdout",
     "output_type": "stream",
     "text": [
      "+---------------+-------+\n",
      "|maximum_seating|  count|\n",
      "+---------------+-------+\n",
      "|              2|  35105|\n",
      "|              3|  29676|\n",
      "|              4|  81173|\n",
      "|              5|2035099|\n",
      "|              6| 301481|\n",
      "|              7| 305325|\n",
      "|              8| 200358|\n",
      "|              9|   3634|\n",
      "|             10|    540|\n",
      "|             12|   1703|\n",
      "|             15|   5906|\n",
      "+---------------+-------+\n",
      "\n"
     ]
    }
   ],
   "source": [
    "# Removing \" seats\" from the column and converting to int\n",
    "cars_df2 = cars_df2.withColumn(\"maximum_seating\", regexp_replace(col(\"maximum_seating\"), \" seats\", \"\"))\n",
    "cars_df2 = cars_df2.withColumn(\"maximum_seating\", cars_df2[\"maximum_seating\"].cast(\"int\"))\n",
    "\n",
    "# Checking the result\n",
    "seating_counts = cars_df2.groupBy(\"maximum_seating\").count().orderBy(col(\"maximum_seating\"))\n",
    "seating_counts.show()"
   ]
  },
  {
   "cell_type": "markdown",
   "metadata": {
    "application/vnd.databricks.v1+cell": {
     "cellMetadata": {
      "byteLimit": 2048000,
      "rowLimit": 10000
     },
     "inputWidgets": {},
     "nuid": "2a4992fd-fd34-4bdb-9d22-6be65d69e2f6",
     "showTitle": false,
     "title": ""
    }
   },
   "source": [
    "Great! We have successfully cleaned the maximum_seating column."
   ]
  },
  {
   "cell_type": "markdown",
   "metadata": {
    "application/vnd.databricks.v1+cell": {
     "cellMetadata": {
      "byteLimit": 2048000,
      "rowLimit": 10000
     },
     "inputWidgets": {},
     "nuid": "7f42d946-8b81-499b-905b-feffde4cd837",
     "showTitle": false,
     "title": ""
    }
   },
   "source": [
    "---"
   ]
  },
  {
   "cell_type": "markdown",
   "metadata": {
    "application/vnd.databricks.v1+cell": {
     "cellMetadata": {
      "byteLimit": 2048000,
      "rowLimit": 10000
     },
     "inputWidgets": {},
     "nuid": "8dfd979f-edbe-47c8-9aa9-1dd8682c70b1",
     "showTitle": false,
     "title": ""
    }
   },
   "source": [
    "mileage"
   ]
  },
  {
   "cell_type": "markdown",
   "metadata": {
    "application/vnd.databricks.v1+cell": {
     "cellMetadata": {
      "byteLimit": 2048000,
      "rowLimit": 10000
     },
     "inputWidgets": {},
     "nuid": "44d2e2dc-bca5-482a-9d1f-99eadd737310",
     "showTitle": false,
     "title": ""
    }
   },
   "source": [
    "Milage is the mileage of the vehicle. This measures how many miles the vehicle has been driven. This is a very important feature in determining the price of the vehicle. The higher the mileage, the lower the price."
   ]
  },
  {
   "cell_type": "code",
   "execution_count": null,
   "metadata": {
    "application/vnd.databricks.v1+cell": {
     "cellMetadata": {
      "byteLimit": 2048000,
      "rowLimit": 10000
     },
     "inputWidgets": {},
     "nuid": "02062201-155d-4ac7-bfd1-ade91fcee927",
     "showTitle": false,
     "title": ""
    }
   },
   "outputs": [
    {
     "name": "stdout",
     "output_type": "stream",
     "text": [
      "The amount of null values in the mileage column is 4.81%.\n"
     ]
    }
   ],
   "source": [
    "# Calculate the percentage of null values in the 'mileage' column\n",
    "percentage = (cars_df2.filter(col('mileage').isNull()).count() / cars_df2.count() * 100)\n",
    "\n",
    "# Print the result\n",
    "print(f\"The amount of null values in the mileage column is {percentage:.2f}%.\")\n"
   ]
  },
  {
   "cell_type": "code",
   "execution_count": null,
   "metadata": {
    "application/vnd.databricks.v1+cell": {
     "cellMetadata": {
      "byteLimit": 2048000,
      "rowLimit": 10000
     },
     "inputWidgets": {},
     "nuid": "b7f086ed-ae66-48fa-b240-7462589613fb",
     "showTitle": false,
     "title": ""
    }
   },
   "outputs": [
    {
     "name": "stdout",
     "output_type": "stream",
     "text": [
      "+--------+-----+--------------------+\n",
      "| mileage|count|          percentage|\n",
      "+--------+-----+--------------------+\n",
      "| 14285.0|   26|8.666666666666666E-4|\n",
      "| 36797.0|   21|              7.0E-4|\n",
      "| 13918.0|   16|5.333333333333334E-4|\n",
      "| 96304.0|    5|1.666666666666666...|\n",
      "|153268.0|    1|3.333333333333333...|\n",
      "| 21356.0|   23|7.666666666666667E-4|\n",
      "|  4800.0|   43|0.001433333333333...|\n",
      "| 25813.0|   18|6.000000000000001E-4|\n",
      "| 54230.0|   10|3.333333333333333E-4|\n",
      "| 22797.0|   22|7.333333333333333E-4|\n",
      "| 30102.0|   32|0.001066666666666...|\n",
      "| 43284.0|   16|5.333333333333334E-4|\n",
      "| 94375.0|   10|3.333333333333333E-4|\n",
      "|104638.0|    4|1.333333333333333...|\n",
      "| 42406.0|   15|              5.0E-4|\n",
      "| 36715.0|   26|8.666666666666666E-4|\n",
      "| 30867.0|   31|0.001033333333333...|\n",
      "| 22331.0|   15|              5.0E-4|\n",
      "|   496.0|   25|8.333333333333334E-4|\n",
      "| 48198.0|   10|3.333333333333333E-4|\n",
      "+--------+-----+--------------------+\n",
      "only showing top 20 rows\n",
      "\n"
     ]
    }
   ],
   "source": [
    "# Calculate the percentage of each mileage value\n",
    "mileage_percentage = cars_df2.groupBy(\"mileage\").count().withColumn(\n",
    "    \"percentage\", col(\"count\") / cars_df2.count() * 100)\n",
    "\n",
    "# Show the result\n",
    "mileage_percentage.show()"
   ]
  },
  {
   "cell_type": "markdown",
   "metadata": {
    "application/vnd.databricks.v1+cell": {
     "cellMetadata": {
      "byteLimit": 2048000,
      "rowLimit": 10000
     },
     "inputWidgets": {},
     "nuid": "929fb95c-3557-4e7d-9bf5-237867d1ed7a",
     "showTitle": false,
     "title": ""
    }
   },
   "source": [
    "We can see that the this is a numeric column, so we can replace the null values with the average value of the column. But first, lets plot a graph to see if the mean or median value is a better representation of the average value of the column."
   ]
  },
  {
   "cell_type": "code",
   "execution_count": null,
   "metadata": {
    "application/vnd.databricks.v1+cell": {
     "cellMetadata": {
      "byteLimit": 2048000,
      "rowLimit": 10000
     },
     "inputWidgets": {},
     "nuid": "177eb05a-b0b3-4441-826c-fb3a34a936e6",
     "showTitle": false,
     "title": ""
    }
   },
   "outputs": [
    {
     "data": {
      "image/png": "[encoded data removed]"
     },
     "metadata": {
      "application/vnd.databricks.v1+output": {
       "addedWidgets": {},
       "arguments": {},
       "data": "data:image/png;base64,iVBORw0KGgoAAAANSUhEUgAAAmEAAAGDCAYAAABjkcdfAAAAOXRFWHRTb2Z0d2FyZQBNYXRwbG90bGliIHZlcnNpb24zLjUuMSwgaHR0cHM6Ly9tYXRwbG90bGliLm9yZy/YYfK9AAAACXBIWXMAAAsTAAALEwEAmpwYAAAqfUlEQVR4nO3de5hddX3v8feXYXKDgQCBCASIbRExEiAJEUToiHIxIpcj1uRAFYPiUSnalrai3OSUWs+htgJeiJUjogRQrFKBCnqYcimoXELkpnAkQLwBgcAkTDLM5Hv+2Is4hJ3MHpI1a8+e9+t55pm9Lnut796/h+GT3++31orMRJIkScNrs6oLkCRJGo0MYZIkSRUwhEmSJFXAECZJklQBQ5gkSVIFDGGSJEkVMIRJ2mgR8ZWIOLN43RkRS6uu6dWIiPsjonMTHev4iLhhwHJGxJ9simMXx1sREX+0qY4nafgZwiStV0QsiYjeiJi0zvp7ilAxFSAz/0dm/s9KimxAREwt6l1R/Pw+In4QEYcO3C8zp2VmV4PH2nxD+2XmtzLzsE1QPhHRFREfXOf4W2bmrzbF8SVVwxAmaTCPAvNeWoiIvYAJ1ZWzUSZm5pbA3sCNwL9FxImb+iSDBTRJAkOYpMFdBrxvwPL7gW8M3CEivh4Rf1/vzRGxU0RcHRFPRcSjEXHqgG2zI+L2iFgeEb+NiIsiYsyA7YdFxC8i4rmI+FJE/OfAHqGImB8RD0bEsxHxw4jYrZEPlJm/y8wvAOcAn4uIzYrjLYmItw+o7c6IeL7oOft88fabi9/Li161AyLixIi4LSL+OSKWAecU625d59RzIuJXEfF0RPzvAec9JyK+OeBzre1ti4jzgIOAi4rzXVTss3Z4MyK2johvFN/xYxFxxoBjnxgRt0bE+cX39GhEvKOR70lSuQxhkgZzB7BVROwZEW3AXOCbg7wHgCII/DtwL7Az8DbgExFxeLFLP/CXwCTggGL7R4v3TgK+A5wObAf8AnjzgGMfDXwK+G/A9sAtwMIhfrbvAjsAe9TZ9gXgC5m5FfDHwFXF+oOL3xOLIcHbi+U3Ab8CJgPnred8xwKzgBnA0cD8wQrMzE9T+2ynFOc7pc5uFwJbA38E/Cm10PyBAdvfRO37mwT8L+BrERGDnVtSuUZkCIuISyLiyYi4r8H9/ywiHigm3V5edn1SC3qpN+xQ4EHg1w2+bz9g+8w8NzN7izlMX6UW5MjMuzLzjszsy8wlwMXUQgTAHOD+zPxuZvYBFwC/G3Ds/wF8NjMfLLb/A7BPo71hhd8Uv7ets+1F4E8iYlJmrsjMOwY7VmZeWHyWnvXs87nMfCYzHwf+hQHDvK/WgGB8emZ2F9/jPwF/PmC3xzLzq5nZD1wK7EgtLEqq0IgMYcDXgSMa2TEidqf2L+kDM3Ma8InyypJa1mXAfwdOZJ2hyEHsBuxUDDcuj4jl1HqvJgNExOuKCfK/i4jnqQWply4C2Al44qUDZWYCS9c59hcGHPcZIKj1uDXqpX2fqbPtJOB1wEMR8bOIOHKQYz0xyPZ193mM2mfcWJOA9uJ4A4898HtYG14z84Xi5Zab4NySNsKIDGGZeTPr/NGMiD+OiP+IiLsi4paIeH2x6UPAFzPz2eK9Tw5zudKIl5mPUZugP4faEF6jngAezcyJA346MnNOsf3LwEPA7sWw36eoBSmA3wJTXjpQMXw2ZZ1jf3idY4/PzP8aQn3HAk9SG6p7mcx8ODPnURuu/BzwnYjYAsj1HGt96wfaZcDrXflDT9xKXn6xw2uGcOynqfXaDewB3JXGeyslVWREhrD1WAD8RWbOBE4DvlSsfx3wumLS7B0R0VAPmqRXOAk4JDNXDuE9PwW6I+LvImJ8RLRFxBsjYr9iewfwPLCi+IfTRwa891pgr4g4prja8GO8PJx8BTg9IqbB2snp72mkqIiYHBGnAGdTG8ZbU2efEyJi+2Lb8mL1GuCp4veruUfX30TENhGxC/Bx4Mpi/SLg4IjYNSK2ptZ7P9Dv13e+YojxKuC8iOgohmP/igbn7UmqTkuEsIjYktqE3W9HxCJq80p2LDZvDuwOdFKbf/HViJg4/FVKI1tm/r/MvHOI7+kHjgT2odaT9jTwr9QmkUPtH0z/HeimNlfsygHvfRp4D7WJ5MuANwB3AquL7f9GrYfqimIo8z5gsKv+lkfESuDn1Hr13pOZl6xn3yOA+yNiBbVJ+nMzs6cYzjsPuK0YCt2/sW8DgO8Dd1ELXdcCXys+y43FZ19cbP/BOu/7AnBccXXjBXWO+xfUetN+BdwKXA6s73NJahJRm2Yx8kTtJpE/yMw3RsRWwC8yc8c6+30F+Elm/p9i+cfAJzPzZ8NasKSNUlxpuRQ4PjNvqroeSdpYLdETlpnPA4++NBQRNXsXm79HrRfspUveX0ftX4uSmlxEHB4REyNiLH+YLzbYVYqSNCKMyBAWEQuB24E9ImJpRJwEHA+cFBH3AvdTuwcPwA+BZRHxAHAT8DeZuayKuiUN2QHA/6M2jPku4JgN3P5BkkaUETscKUmSNJKNyJ4wSZKkkc4QJkmSVIHNqy5gqCZNmpRTp04t9RwPLV1EZrLnLvuWeh4NzcqVK9liiy2qLkMD2CbNyXZpPrZJcxqOdrnrrruezszt620bcSFs6tSp3HnnkG5VNGQHfHQMALd/qdzzaGi6urro7OysugwNYJs0J9ul+dgmzWk42iUiHlvfNocjJUmSKmAIkyRJqoAhTJIkqQIjbk6YJEmqxosvvsjSpUtZtWpV1aVsEltvvTUPPvjgJjnWuHHjmDJlCu3t7Q2/xxAmSZIasnTpUjo6Opg6dSoRUXU5G627u5uOjo6NPk5msmzZMpYuXcprX/vaht/ncKQkSWrIqlWr2G677VoigG1KEcF222035B5Ce8LqmTiRvr6+qquQJKnpGMDqezXfiz1hkiRpxIgITjjhhLXLfX19bL/99hx55JFDOs7UqVNZtmzZpi5vSAxhkiRpxNhiiy2477776OnpAeDGG29k5513rriqV8cQVk93N21F40qSpOYyZ84crr32WgAWLlzIvHnz1m575plnOOaYY5g+fTr7778/ixcvBmDZsmUcdthhTJs2jQ9+8INk5tr3fPOb32T27Nnss88+fPjDH6a/v39YPochrJ7+fmKYGkCSpBErYv0/Cxb8Yb8FCza87xDNnTuXK664glWrVrF48WLe9KY3rd129tlns++++7J48WL+4R/+gfe9730AfOYzn+Etb3kL999/P8ceeyyPP/44AA8++CBXXnklt912G4sWLaKtrY1vfetbG/e9NMiJ+ZIkaUSZPn06S5YsYeHChcyZM+dl22699VauvvpqAA455BCWLVvG888/z80338x3v/tdAN75zneyzTbbAPDjH/+Yu+66i/322w+Anp4edthhh2H5HIYwSZL06gwY0tugk0+u/WxCRx11FKeddhpdXV0bNcE+M3n/+9/PZz/72U1YXWMcjtyAiCj1Z8puU6v+iJIkjUjz58/n7LPPZq+99nrZ+oMOOmjtcGJXVxeTJk1iq6224uCDD+byyy8H4Prrr+fZZ58F4G1vexvf+c53ePLJJ4HanLLHHntsWD6DPWEb8Nm7nyr1+KfP2L7U40uS1KqmTJnCqaee+or155xzDvPnz2f69OlMmDCBSy+9FKjNFZs3bx7Tpk3jzW9+M7vuuisAb3jDG/j7v/97DjvsMNasWUN7eztf/OIX2W233Ur/DIYwSZI0YqxYseIV6zo7O+ns7ARg22235Xvf+94r9tluu+244YYbXrauu7sbgPe+9728973v3eS1DsYQVs/YscN2eaokSRqdnBNWz/jx9A3hKeiSJElDZQiTJEmqgCGsnv5+Ys2aqquQJEktzDlh9XR3M6bqGiRJUkuzJ0ySJKkChjBJkjRiRAQnnHDC2uW+vj623357jjzyyCEdp7Ozk7vvvhuoPRB8+fLlm7LMhjgcKUmSRowtttiC++67j56eHsaPH8+NN97IzjvvvFHHvO666zZRdUNjT5gkSRpR5syZw7XXXgvAwoULmTdv3tptK1euZP78+cyePZt9992X73//+0Dtwdxz585lzz335Nhjj6Wnp2fte6ZOncrTTz8NwDHHHMPMmTOZNm0aCxYsWLvPlltuyac//Wn23ntv9t9/f37/+99v9OewJ0ySJA3ZU3edy+pnH9ikxxy7zRvYfuZZg+43d+5czj33XI488kgWL17M/PnzueWWWwA477zzOOSQQ7jkkktYvnw5s2fP5u1vfzsXX3wxEyZM4MEHH2Tx4sXMmDGj7rEvueQStt12W3p6ethvv/1497vfzXbbbcfKlSvZf//9Oe+88/jbv/1bvvrVr3LGGWds1Oe1J0ySJI0o06dPZ8mSJSxcuJA5c+a8bNsNN9zAP/7jP7LPPvvQ2dnJqlWrePzxx7n55pvXziWbPn0606dPr3vsCy64YG1v1xNPPMHDDz8MwJgxY9bOO5s5cyZLlizZ6M9hT1g9HR309vZWXYUkSU2rkR6rMh111FGcdtppdHV1sWzZsrXrM5Orr76aPfbYY8jH7Orq4kc/+hG33347EyZMWBviANrb24kIANra2ujr69voz2BPWD1tbeRmfjWSJDWr+fPnc/bZZ7PXXnu9bP3hhx/OhRdeSGYCcM899wBw8MEHc/nllwNw3333sXjx4lcc87nnnmObbbZhwoQJPPTQQ9xxxx2lfgaThiRJGnGmTJnCqaee+or1Z555Ji+++CLTp09n2rRpnHnmmQB85CMfYcWKFey5556cddZZzJw58xXvPeKII+jr62PPPffkk5/8JPvvv3+pn8HhyHp6eti8v7/qKiRJ0jpWrFjxinWdnZ10dnYCMH78eC6++OJX7DN+/HiuuOKKl63r7u4GeNn8ruuvv37Q8x533HEcd9xxQy39FQxh9axeTVvVNUiSpJbmcKQkSVIFDGGSJEkVMIRJkiRVwBAmSZJUAUOYJElSBQxh9XizVkmSmlJErH38EEBfXx/bb7/92kcKjSQmjXo6OugdO7bqKiRJ0jq22GIL7rvvPnp6egC48cYb2XnnnSuu6tUxhEmSpBFlzpw5XHvttQAsXLiQefPmrd22cuVK5s+fz+zZs9l33335/ve/D9RuyHrQQQcxY8YMZsyYwX/9138BtedFdnZ2ctxxx/H617+e448/fu0jj8rmzVolSdKQfeKKT7DoiUWb9Jj77LIP/zL3Xwbdb+7cuZx77rkceeSRLF68mPnz53PLLbcAcN5553HIIYdwySWXsHz5cmbPns3b3/52dthhB2688UbGjRvHww8/zLx587jpppuA2vMl77//fnbaaScOPPBAbrvtNt7ylrds0s9WjyGsnuXLcTBSkqTmNH36dJYsWcLChQuZM2fOy7bdcMMNXHPNNZx//vkArFq1iscff5yddtqJU045hUWLFtHW1sYvf/nLte+ZPXs2U6ZMAWCfffZhyZIlhjBJktScGumxKtNRRx3FaaedRldXF8uWLVu7PjO5+uqr2WOPPV62/znnnMPkyZO59957WbNmDePGjVu7beyAeeBtbW309fWV/wFwTpgkSRqB5s+fz9lnn81ee+31svWHH344F1544dp5Xffccw8Azz33HDvuuCObbbYZl112Gf39/cNe87oMYZIkacSZMmUKp5566ivWn3nmmbz44otMnz6dadOmceaZZwLw0Y9+lEsvvZS9996bhx56iC222GK4S34FhyMlSdKIsWLFiles6+zspLOzE4Dx48dz8cUXv2Kf3XffncWLF69d/tznPkd3d/fL3gtw0UUXbfKa18eeMEmSpAoYwiRJkipQWgiLiF0i4qaIeCAi7o+Ij9fZpzMinouIRcXPWWXVMyQTJtDX3l51FZIkqYWVOSesD/jrzLw7IjqAuyLixsx8YJ39bsnM5nrg05gx9A/T3XIlSRpJMpOIqLqMpvNq7rJfWk9YZv42M+8uXncDDwIj8+FOkiSJcePGsWzZsmF7rM9IkZksW7bsZfcea8SwXB0ZEVOBfYGf1Nl8QETcC/wGOC0z7x+Omjaot5e2YbpRmyRJI8WUKVNYunQpTz31VNWlbBKrVq0acnBan3Hjxq29636jouw0GxFbAv8JnJeZ311n21bAmsxcERFzgC9k5u51jnEycDLA5MmTZ15xxRWl1nz6VYcB8PF3XVfqeX79wL3MnDmz1HO0khUrVrDllltWXYYGsE2ak+3SfGyT5jQc7fLWt771rsycVW9bqSEsItqBHwA/zMzPN7D/EmBWZj69vn1mzZqVd95556Yrso4DPjoGgKM/9JtSz3P6jO3t0h2Cl550r+ZhmzQn26X52CbNaTjaJSLWG8LKvDoygK8BD64vgEXEa4r9iIjZRT3L6u0rSZLUSsqcE3Yg8OfAzyNiUbHuU8CuAJn5FeA44CMR0Qf0AHPTriFJkjQKlBbCMvNWYIPXsGbmRcDwPR9AkiSpSXjHfEmSpAoYwiRJkiowLPcJG3EmTmT16tVVVyFJklqYPWGSJEkVMIRJkiRVwOHIerq7GeOdMiRJUokMYfX092/43hqSJEkbyeFISZKkChjCJEmSKmAIkyRJqoAhTJIkqQKGMEmSpAp4dWQ9Y8fS399fdRWSJKmF2RNWz/jx9LW3V12FJElqYYYwSZKkChjC6unvJ9asqboKSZLUwpwTVk93N2OqrkGSJLU0e8IkSZIqYAiTJEmqgCFMkiSpAoYwSZKkChjCJEmSKmAIkyRJqoC3qKino4Pe3t6qq5AkSS3MnrB62trIzfxqJElSeUwakiRJFXA4sp6eHjbv76+6CkmS1MIMYfWsXk1b1TVIkqSW5nCkJElSBQxhkiRJFTCESZIkVcAQJkmSVAFDmCRJUgW8OrKetjYys+oqJElSC7MnrJ6ODnrHjq26CkmS1MIMYZIkSRUwhEmSJFXAOWH1LF+Og5GSJKlM9oRJkiRVwBAmSZJUAUOYJElSBQxhkiRJFTCESZIkVcAQJkmSVAFDWD0TJtDX3l51FZIkqYV5n7B6xoyh32dHSpKkEpXWExYRu0TETRHxQETcHxEfr7NPRMQFEfFIRCyOiBll1SNJktRMyuwJ6wP+OjPvjogO4K6IuDEzHxiwzzuA3YufNwFfLn5Xq7eXtr6+qquQJEktrLSesMz8bWbeXbzuBh4Edl5nt6OBb2TNHcDEiNixrJoa9sILbP7ii1VXIUmSWtiwzAmLiKnAvsBP1tm0M/DEgOWlxbrfrvP+k4GTASZPnkxXV1dZpb7M1N8tKvX4559//rB9llawYsUKv68mY5s0J9ul+dgmzanqdik9hEXElsDVwCcy8/lXc4zMXAAsAJg1a1Z2dnZuugLruar2a8lr9in1NKfPOZT0AoCGdXV1UXrba0hsk+ZkuzQf26Q5Vd0upd6iIiLaqQWwb2Xmd+vs8mtglwHLU4p1kiRJLa3MqyMD+BrwYGZ+fj27XQO8r7hKcn/gucz87Xr2lSRJahllDkceCPw58POIWFSs+xSwK0BmfgW4DpgDPAK8AHygxHokSZKaRmkhLDNvBWKQfRL4WFk1SJIkNSvvmF/PxImsXr266iokSVIL89mRkiRJFTCESZIkVcDhyHq6uxnj/bskSVKJDGH19Pdv+IoCSZKkjeRwpCRJUgUMYZIkSRUwhEmSJFXAECZJklQBQ5gkSVIFvDqynrFj6e/vr7oKSZLUwuwJq2f8ePra26uuQpIktTBDmCRJUgUMYfX09xNr1lRdhSRJamHOCaunu5sxVdcgSZJamj1hkiRJFTCESZIkVcAQJkmSVAFDmCRJUgUMYZIkSRUwhEmSJFXAW1TU09FBb29v1VVIkqQWZk9YPW1t5GZ+NZIkqTwmDUmSpAo4HFlPTw+b9/dXXYUkSWphDfWERcReZRfSVFavpq2vr+oqJElSC2t0OPJLEfHTiPhoRGxdakWSJEmjQEMhLDMPAo4HdgHuiojLI+LQUiuTJElqYQ1PzM/Mh4EzgL8D/hS4ICIeioj/VlZxkiRJrarROWHTI+KfgQeBQ4B3Zeaexet/LrE+SZKkltTo1ZEXAv8KfCoze15amZm/iYgzSqlMkiSphTUawt4J9GRmP0BEbAaMy8wXMvOy0qqrSlsbmVl1FZIkqYU1OifsR8D4AcsTinWtqaOD3rFjq65CkiS1sEZD2LjMXPHSQvF6QjklSZIktb5GQ9jKiJjx0kJEzAR6NrC/JEmSNqDROWGfAL4dEb8BAngN8N6yiqrc8uU4GClJksrUUAjLzJ9FxOuBPYpVv8jMF8srS5IkqbUN5QHe+wFTi/fMiAgy8xulVCVJktTiGgphEXEZ8MfAIqC/WJ2AIUySJOlVaLQnbBbwhvTmWZIkSZtEo1dH3kdtMr4kSZI2gUZ7wiYBD0TET4HVL63MzKNKqUqSJKnFNRrCzimziKYzYQJ9L3rxpyRJKk+jt6j4z4jYDdg9M38UEROAtnJLq9CYMfQ7/U2SJJWooTlhEfEh4DvAxcWqnYHvlVSTJElSy2t0Yv7HgAOB5wEy82Fghw29ISIuiYgnI+K+9WzvjIjnImJR8XPWUAovVW8vbX19VVchSZJaWKNzwlZnZm9EABARm1O7T9iGfB24iA3fS+yWzDyywRqGzwsvDOkutpIkSUPVaE/Yf0bEp4DxEXEo8G3g3zf0hsy8GXhmI+uTJElqSY2GsE8CTwE/Bz4MXAecsQnOf0BE3BsR10fEtE1wPEmSpBEhyrwJfkRMBX6QmW+ss20rYE1mroiIOcAXMnP39RznZOBkgMmTJ8+84oorSqsZ4PSrDgPg4++6rtTz/PqBe5k5c2ap52glK1asYMstt6y6DA1gmzQn26X52CbNaTja5a1vfetdmTmr3rZGnx35KHXmgGXmH73aojLz+QGvr4uIL0XEpMx8us6+C4AFALNmzcrOzs5Xe9rGXFX7teQ1+5R6mtPnHIpPgmpcV1cXpbe9hsQ2aU62S/OxTZpT1e0ylGdHvmQc8B5g2405cUS8Bvh9ZmZEzKY2NLpsY44pSZI0UjR6s9Z1w9G/RMRdwHpvKxERC4FOYFJELAXOBtqL430FOA74SET0AT3AXB8QLkmSRotGhyNnDFjcjFrP2Abfm5nzBtl+EbVbWDSfiRNZvXr14PtJkiS9So0OR/7TgNd9wBLgzzZ5NZIkSaNEo8ORby27EEmSpNGk0eHIv9rQ9sz8/KYpp0l0dzPG6WmSJKlEQ7k6cj/gmmL5XcBPgYfLKKpy/f1E1TVIkqSW1mgImwLMyMxugIg4B7g2M08oqzBJkqRW1uhjiyYDvQOWe4t1kiRJehUa7Qn7BvDTiPi3YvkY4NJSKpIkSRoFGr068ryIuB44qFj1gcy8p7yyJEmSWlujw5EAE4DnM/MLwNKIeG1JNUmSJLW8hkJYRJwN/B1werGqHfhmWUVVbuxY+jdvdKRWkiRp6BrtCTsWOApYCZCZvwE6yiqqcuPH09feXnUVkiSphTUawnqLh2snQERsUV5JkiRJra/REHZVRFwMTIyIDwE/Ar5aXlkV6+8n1qypugpJktTCBp34FBEBXAm8Hnge2AM4KzNvLLm26nR3M6bqGiRJUksbNIRlZkbEdZm5F9C6wUuSJGkYNToceXdE7FdqJZIkSaNIo/dheBNwQkQsoXaFZFDrJJteVmGSJEmtbIMhLCJ2zczHgcOHqR5JkqRRYbCesO8BMzLzsYi4OjPfPQw1SZIktbzB5oTFgNd/VGYhkiRJo8lgPWG5ntetraOD3t7eqquQJEktbLAQtndEPE+tR2x88Rr+MDF/q1Krq0pbG7nZUJ5tLkmSNDQbDGGZ2TZchUiSJI0mjd6iYnTp6WHz/v6qq5AkSS3MEFbP6tXYBShJksrkxCdJkqQKGMIkSZIqYAiTJEmqgCFMkiSpAoYwSZKkCnh1ZD1tbWSOngcESJKk4WdPWD0dHfSOHVt1FZIkqYUZwiRJkipgCJMkSaqAc8LqWb4cByMlSVKZ7AmTJEmqgCFMkiSpAoYwSZKkChjCJEmSKmAIkyRJqoAhTJIkqQKGsHomTKCvvb3qKiRJUgvzPmH1jBlDv8+OlCRJJbInTJIkqQKGsHp6e2nr66u6CkmS1MIcjqznhRf8YiRJUqlK6wmLiEsi4smIuG892yMiLoiIRyJicUTMKKsWSZKkZlPmcOTXgSM2sP0dwO7Fz8nAl0usRZIkqamUFsIy82bgmQ3scjTwjay5A5gYETuWVY8kSVIzqXLq087AEwOWlxbrfrvujhFxMrXeMiZPnkxXV9dw1MfU3y0q9fjnn3/+sH2WVrBixQq/ryZjmzQn26X52CbNqep2GRHzzzNzAbAAYNasWdnZ2VnuCa+q/Vrymn1KPc3pcw4lvR9Zw7q6uii97TUktklzsl2aj23SnKpulypvUfFrYJcBy1OKdZIkSS2vyhB2DfC+4irJ/YHnMvMVQ5GVmDiR1ePHV12FJElqYaUNR0bEQqATmBQRS4GzgXaAzPwKcB0wB3gEeAH4QFm1SJIkNZvSQlhmzhtkewIfK+v8kiRJzWxETMwfdt3djHHCvCRJKpEhrJ7+fqLqGiRJUkvzAd6SJEkVMIRJkiRVwBAmSZJUAUOYJElSBQxhkiRJFfDqyHrGjqW/v7/qKiRJUguzJ6ye8ePpa2+vugpJktTCDGGSJEkVMITV099PrFlTdRWSJKmFOSesnu5uxlRdgyRJamn2hEmSJFXAECZJklQBQ5gkSVIFDGGSJEkVMIRJkiRVwBAmSZJUAW9RUU9HB729vVVXIUmSWpg9YfW0tZGb+dVIkqTymDQkSZIq4HBkPT09bN7fX3UVkiSphRnC6lm9mraqa5AkSS3N4UhJkqQKGMIkSZIqYAiTJEmqgCFMkiSpAoYwSZKkCnh1ZD1tbWRm1VVIkqQWZk9YPR0d9I4dW3UVkiSphRnCJEmSKmAIkyRJqoBzwupZvhwHIyVJUpnsCZMkSaqAIUySJKkChjBJkqQKGMIkSZIqYAiTJEmqgCFMkiSpAoaweiZMoK+9veoqJElSC/M+YfWMGUO/z46UJEklsidMkiSpAoawenp7aevrq7oKSZLUwhyOrOeFF/xiJElSqewJkyRJqkCpISwijoiIX0TEIxHxyTrbT4yIpyJiUfHzwTLrkSRJahaljbpFRBvwReBQYCnws4i4JjMfWGfXKzPzlLLqkCRJakZl9oTNBh7JzF9lZi9wBXB0ieeTJEkaMcqcf74z8MSA5aXAm+rs9+6IOBj4JfCXmfnEujtExMnAyQCTJ0+mq6tr01dbx9TfLSr1+Oeff/6wfZZWsGLFCr+vJmObNCfbpfnYJs2p6nap+iLAfwcWZubqiPgwcClwyLo7ZeYCYAHArFmzsrOzs9yqrqr9WvKafUo9zelzDiW9KWzDurq6KL3tNSS2SXOyXZqPbdKcqm6XMocjfw3sMmB5SrFurcxclpmri8V/BWaWWE/jJk5k9fjxVVchSZJaWJkh7GfA7hHx2ogYA8wFrhm4Q0TsOGDxKODBEuuRJElqGqUNR2ZmX0ScAvwQaAMuycz7I+Jc4M7MvAY4NSKOAvqAZ4ATy6pHkiSpmZQ6JywzrwOuW2fdWQNenw6cXmYNr0p3N2OcqyVJkkpU9cT85tTfT1RdgyRJamk+tkiSJKkChjBJkqQKGMIkSZIqYAiTJEmqgCFMkiSpAl4dWc/YsfT391ddhSRJamH2hNUzfjx97e1VVyFJklqYIUySJKkChrB6+vuJNWuqrkKSJLUw54TV093NmKprkCRJLc2eMEmSpAoYwiRJkipgCJMkSaqAIUySJKkChjBJkqQKGMIkSZIq4C0q6unooLe3t+oqJElSC7MnrJ62NnIzvxpJklQek4YkSVIFHI6sp6eHzfv7q65CkiS1MENYPatX01Z1DZIkqaU5HClJklQBQ5gkSVIFDGGSJEkVMIRJkiRVwBAmSZJUAa+OrKetjcysugpJktTC7Amrp6OD3rFjq65CkiS1MEOYJElSBQxhkiRJFXBOWD3Ll+NgpCRJKpM9YZIkSRUwhEmSJFXAECZJklQBQ5gkSVIFDGGSJEkVMIRJkiRVwBBWz4QJ9LW3V12FJElqYd4nrJ4xY+j32ZGSJKlE9oRJkiRVwBBWT28vbX19VVchSZJamMOR9bzwgl+MJEkqlT1hkiRJFTCESZIkVaDUEBYRR0TELyLikYj4ZJ3tYyPiymL7TyJiapn1SJIkNYvSQlhEtAFfBN4BvAGYFxFvWGe3k4BnM/NPgH8GPldWPZIkSc2kzJ6w2cAjmfmrzOwFrgCOXmefo4FLi9ffAd4WEVFiTZIkSU2hzBC2M/DEgOWlxbq6+2RmH/AcsF2JNUmSJDWFEXEnhog4GTi5WFwREb8YhtNOuuPL2z9d9kns+BuSSUDpbaIhsU2ak+3SfGyT5jQc7bLb+jaUGcJ+DewyYHlKsa7ePksjYnNga2DZugfKzAXAgpLqrCsi7szMWcN5Tm2YbdJ8bJPmZLs0H9ukOVXdLmUOR/4M2D0iXhsRY4C5wDXr7HMN8P7i9XHA/830oY2SJKn1ldYTlpl9EXEK8EOgDbgkM++PiHOBOzPzGuBrwGUR8QjwDLWgJkmS1PJKnROWmdcB162z7qwBr1cB7ymzho0wrMOfaoht0nxsk+ZkuzQf26Q5Vdou4eifJEnS8POxRZIkSRUY1SHMxyo1pwba5a8i4oGIWBwRP46I9V7+q01jsDYZsN+7IyIjwqvAhkEj7RIRf1b893J/RFw+3DWONg38/do1Im6KiHuKv2FzqqhzNImISyLiyYi4bz3bIyIuKNpscUTMGK7aRm0I87FKzanBdrkHmJWZ06k9aeF/DW+Vo0uDbUJEdAAfB34yvBWOTo20S0TsDpwOHJiZ04BPDHedo0mD/62cAVyVmftSuxjtS8Nb5aj0deCIDWx/B7B78XMy8OVhqAkYxSEMH6vUrAZtl8y8KTNfKBbvoHYPOpWnkf9WAP4ntX+orBrO4kaxRtrlQ8AXM/NZgMx8cphrHG0aaZMEtipebw38ZhjrG5Uy82Zqd2BYn6OBb2TNHcDEiNhxOGobzSHMxyo1p0baZaCTgOtLrUiDtknRfb9LZl47nIWNco38t/I64HURcVtE3BERG+oN0MZrpE3OAU6IiKXU7h7wF8NTmjZgqP/f2WRGxGOLpHoi4gRgFvCnVdcymkXEZsDngRMrLkWvtDm1IZZOaj3GN0fEXpm5vMqiRrl5wNcz858i4gBq98p8Y2auqbowDb/R3BM2lMcqsaHHKmmTaqRdiIi3A58GjsrM1cNU22g1WJt0AG8EuiJiCbA/cI2T80vXyH8rS4FrMvPFzHwU+CW1UKZyNNImJwFXAWTm7cA4as8vVHUa+v9OGUZzCPOxSs1p0HaJiH2Bi6kFMOe4lG+DbZKZz2XmpMycmplTqc3TOyoz76ym3FGjkb9h36PWC0ZETKI2PPmrYaxxtGmkTR4H3gYQEXtSC2FPDWuVWtc1wPuKqyT3B57LzN8Ox4lH7XCkj1VqTg22y/8GtgS+XVwn8XhmHlVZ0S2uwTbRMGuwXX4IHBYRDwD9wN9kpr35JWmwTf4a+GpE/CW1Sfon+o/7ckXEQmr/GJlUzMU7G2gHyMyvUJubNwd4BHgB+MCw1WbbS5IkDb/RPBwpSZJUGUOYJElSBQxhkiRJFTCESZIkVcAQJkmSVMdgD/9eZ98hP5zdECZpRIuIjIhvDljePCKeiogfFMtHRcQni9fnRMRpVdUqacT5Oht++PdAQ344uyFM0ki3EnhjRIwvlg9lwN2uM/OazPzHSiqTNKLVe/h3RPxxRPxHRNwVEbdExOtf2p0hPpzdECapFVwHvLN4PQ9Y+NKGiDgxIi5a9w3r+0MaEe+KiJ8UQwo/iojJxfrtI+LGiLg/Iv41Ih4r7kJPRJwQET+NiEURcXFEtJX+iSVVZQHwF5k5EziNP/R4ncMQH85uCJPUCq4A5kbEOGA68JMG3rO+P6S3AvsXQwpXAH9brD+b2qPLpgHfAXaFtY+eeS9wYGbuQ+3O9Mdvig8lqblExJbAm6k9sWURtUfo7Vhsfunh7FOo3YH/sojYYM4atY8tktQ6MnNxREyl9kfwusH2X+cP6Uurxxa/pwBXRsSOwBjg0WL9W4Bji/P9R0Q8W6x/GzAT+FlxrPGAzzSVWtNmwPLiH1zrOoli/lhm3l78o3ASG/h7YE+YpFZxDXA+A4YiN2DtH9IBP3sW2y4ELsrMvYAPU3vA8oYEcOmA4+yRmee8ys8gqYll5vPAoxHxHoDiod97F5uH/HB2Q5ikVnEJ8JnM/PlgOw7yh3Rr/jCx//0D3nYb8GfF/ocB2xTrfwwcFxE7FNu2jYjdNvbDSKpe8fDv24E9ImJpRJxEbbrBSRFxL3A/cHSx+18DHyrWL6SBh7M7HCmpJWTmUuCCIbzleODLEXEG0E5t/te91CbXfrsYbvy/wGuL/T8DLIyIP6f2R/l3QHdmPl0c44Zi/seLwMeAxzb+U0mqUmbOW8+mV9y2IjMfAA4cyvFjkJAmSQIiYizQn5l9EXEA8OX1zAuRpIbYEyZJjdkVuKro7eoFPlRxPZJGOHvCJEmSKuDEfEmSpAoYwiRJkipgCJMkSaqAIUySJKkChjBJkqQKGMIkSZIq8P8BwvSKkqVeiUQAAAAASUVORK5CYII=\n",
       "datasetInfos": [],
       "metadata": {},
       "removedWidgets": [],
       "type": "image"
      }
     },
     "output_type": "display_data"
    }
   ],
   "source": [
    "# Convert the Spark DataFrame to a Pandas DataFrame for plotting\n",
    "cars_pd = cars_df2.select('mileage').toPandas()\n",
    "\n",
    "# Create a histogram plot\n",
    "plt.figure(figsize=(10, 6))\n",
    "plt.hist(cars_pd['mileage'], bins=20, color='skyblue', edgecolor='black')\n",
    "plt.title('Mileage Distribution')\n",
    "plt.axvline(cars_pd['mileage'].mode()[0], color='r', linestyle='dashed', linewidth=2, label='Mode')\n",
    "plt.axvline(cars_pd['mileage'].median(), color='goldenrod', label='Median')\n",
    "plt.axvline(cars_pd['mileage'].mean(), color='darkgreen', label='Mean')\n",
    "plt.legend()\n",
    "plt.xlabel('Mileage')\n",
    "plt.ylabel('Frequency')\n",
    "plt.grid(True)\n",
    "plt.show()"
   ]
  },
  {
   "cell_type": "markdown",
   "metadata": {
    "application/vnd.databricks.v1+cell": {
     "cellMetadata": {
      "byteLimit": 2048000,
      "rowLimit": 10000
     },
     "inputWidgets": {},
     "nuid": "4d71989c-c673-47ac-b8d0-e6fa126b35fb",
     "showTitle": false,
     "title": ""
    }
   },
   "source": [
    "The graph shows us that there are a large amount of outliers in the column. So we will need to remove the outliers before we can fill in the null values with the mean or median value. We will use the interquartile range to remove the outliers"
   ]
  },
  {
   "cell_type": "code",
   "execution_count": null,
   "metadata": {
    "application/vnd.databricks.v1+cell": {
     "cellMetadata": {
      "byteLimit": 2048000,
      "rowLimit": 10000
     },
     "inputWidgets": {},
     "nuid": "78b7a4a6-e680-4983-b286-e8ec117e97fd",
     "showTitle": false,
     "title": ""
    }
   },
   "outputs": [],
   "source": [
    "# Calculate quartiles using SQL window functions\n",
    "window_spec = Window.orderBy(\"mileage\")\n",
    "cars_df2 = cars_df2.withColumn(\"row_num\", expr(\"row_number() over(order by mileage)\"))\n",
    "row_count = cars_df2.count()\n",
    "\n",
    "\n",
    "quartile_1_row = int(row_count * 0.25)\n",
    "quartile_3_row = int(row_count * 0.75)\n",
    "\n",
    "quartile_1 = cars_df2.filter(col(\"row_num\") == quartile_1_row).select(\"mileage\").first()[0]\n",
    "quartile_3 = cars_df2.filter(col(\"row_num\") == quartile_3_row).select(\"mileage\").first()[0]\n",
    "\n",
    "# Calculate interquartile range (IQR)\n",
    "iqr = float(quartile_3) - float(quartile_1)\n",
    "\n",
    "# Define bounds for outliers\n",
    "lower_bound = quartile_1 - 1.5 * iqr\n",
    "upper_bound = quartile_3 + 1.5 * iqr\n",
    "\n",
    "# Remove outliers using filter\n",
    "cars_df2 = cars_df2.filter((col(\"mileage\") >= lower_bound) & (col(\"mileage\") <= upper_bound))\n"
   ]
  },
  {
   "cell_type": "code",
   "execution_count": null,
   "metadata": {
    "application/vnd.databricks.v1+cell": {
     "cellMetadata": {
      "byteLimit": 2048000,
      "rowLimit": 10000
     },
     "inputWidgets": {},
     "nuid": "d9c5da00-32d7-4656-99ab-4d63addd3436",
     "showTitle": false,
     "title": ""
    }
   },
   "outputs": [
    {
     "data": {
      "image/png": "[encoded data removed]"
     },
     "metadata": {
      "application/vnd.databricks.v1+output": {
       "addedWidgets": {},
       "arguments": {},
       "data": "data:image/png;base64,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\n",
       "datasetInfos": [],
       "metadata": {},
       "removedWidgets": [],
       "type": "image"
      }
     },
     "output_type": "display_data"
    }
   ],
   "source": [
    "# Convert PySpark DataFrame to Pandas DataFrame for plotting\n",
    "cars_pd = cars_df2.select('mileage').toPandas()\n",
    "\n",
    "# Create a histogram plot\n",
    "plt.figure(figsize=(10, 6))\n",
    "plt.hist(cars_pd['mileage'], bins=20, color='skyblue', edgecolor='black')\n",
    "plt.title('Mileage Distribution (After Outlier Removal)')\n",
    "plt.axvline(cars_pd['mileage'].mode()[0], color='r', linestyle='dashed', linewidth=2, label='Mode')\n",
    "plt.axvline(cars_pd['mileage'].median(), color='goldenrod', label='Median')\n",
    "plt.axvline(cars_pd['mileage'].mean(), color='darkgreen', label='Mean')\n",
    "plt.legend()\n",
    "plt.xlabel('Mileage')\n",
    "plt.ylabel('Frequency')\n",
    "plt.grid(True)\n",
    "plt.show()"
   ]
  },
  {
   "cell_type": "markdown",
   "metadata": {
    "application/vnd.databricks.v1+cell": {
     "cellMetadata": {
      "byteLimit": 2048000,
      "rowLimit": 10000
     },
     "inputWidgets": {},
     "nuid": "17ce2428-c355-4b1e-9171-7235b6282c0a",
     "showTitle": false,
     "title": ""
    }
   },
   "source": [
    "It looks like the majority of vehicles have a mileage of 0 miles. This is because the vehicles are new. So in this case, we can fill in the null values with the mean value of the column."
   ]
  },
  {
   "cell_type": "code",
   "execution_count": null,
   "metadata": {
    "application/vnd.databricks.v1+cell": {
     "cellMetadata": {
      "byteLimit": 2048000,
      "rowLimit": 10000
     },
     "inputWidgets": {},
     "nuid": "ef6cea9e-efad-43c8-a373-f4f064fd0229",
     "showTitle": false,
     "title": ""
    }
   },
   "outputs": [
    {
     "name": "stdout",
     "output_type": "stream",
     "text": [
      "The amount of null values in the mileage column after filling is 0.00%.\n"
     ]
    }
   ],
   "source": [
    "# Calculate the mean mileage\n",
    "mean_mileage = cars_df2.select(mean(\"mileage\")).collect()[0][0]\n",
    "\n",
    "# Fill null values with the mean mileage\n",
    "cars_df2 = cars_df2.na.fill(mean_mileage, subset=[\"mileage\"])\n",
    "\n",
    "# Calculate the percentage of null values after filling\n",
    "null_percentage_after_fill = (cars_df2.filter(col('mileage').isNull()).count() / cars_df2.count() * 100)\n",
    "\n",
    "# Print the result\n",
    "print(f\"The amount of null values in the mileage column after filling is {null_percentage_after_fill:.2f}%.\")\n"
   ]
  },
  {
   "cell_type": "markdown",
   "metadata": {
    "application/vnd.databricks.v1+cell": {
     "cellMetadata": {
      "byteLimit": 2048000,
      "rowLimit": 10000
     },
     "inputWidgets": {},
     "nuid": "a762cafc-e6a5-4474-9208-9e172c6bfd71",
     "showTitle": false,
     "title": ""
    }
   },
   "source": [
    "---"
   ]
  },
  {
   "cell_type": "markdown",
   "metadata": {
    "application/vnd.databricks.v1+cell": {
     "cellMetadata": {
      "byteLimit": 2048000,
      "rowLimit": 10000
     },
     "inputWidgets": {},
     "nuid": "97d51a98-cb90-4cc6-983d-109cc7cb8501",
     "showTitle": false,
     "title": ""
    }
   },
   "source": [
    "power"
   ]
  },
  {
   "cell_type": "markdown",
   "metadata": {
    "application/vnd.databricks.v1+cell": {
     "cellMetadata": {
      "byteLimit": 2048000,
      "rowLimit": 10000
     },
     "inputWidgets": {},
     "nuid": "9fd7f983-83a0-459b-bbb3-8484b751b094",
     "showTitle": false,
     "title": ""
    }
   },
   "source": [
    "Power is the power produced by the engine. This is a measurement of the power produced by the engine and the revolutions per minute (rpm). Since this is another measurement of the power the engine produces, we will not be using this column. We will drop this column from the dataset due to redundancy."
   ]
  },
  {
   "cell_type": "code",
   "execution_count": null,
   "metadata": {
    "application/vnd.databricks.v1+cell": {
     "cellMetadata": {
      "byteLimit": 2048000,
      "rowLimit": 10000
     },
     "inputWidgets": {},
     "nuid": "b640e8e4-b7a1-4486-a978-92424e8eaaab",
     "showTitle": false,
     "title": ""
    }
   },
   "outputs": [],
   "source": [
    "# Drop the 'power' column\n",
    "cars_df2 = cars_df2.drop('power')"
   ]
  },
  {
   "cell_type": "markdown",
   "metadata": {
    "application/vnd.databricks.v1+cell": {
     "cellMetadata": {
      "byteLimit": 2048000,
      "rowLimit": 10000
     },
     "inputWidgets": {},
     "nuid": "3b9fd5f4-a2cc-482f-8704-de192d0122a0",
     "showTitle": false,
     "title": ""
    }
   },
   "source": [
    "---"
   ]
  },
  {
   "cell_type": "markdown",
   "metadata": {
    "application/vnd.databricks.v1+cell": {
     "cellMetadata": {
      "byteLimit": 2048000,
      "rowLimit": 10000
     },
     "inputWidgets": {},
     "nuid": "6e589a1d-5ba3-4bca-a672-bd9da690e6af",
     "showTitle": false,
     "title": ""
    }
   },
   "source": [
    "seller_rating"
   ]
  },
  {
   "cell_type": "markdown",
   "metadata": {
    "application/vnd.databricks.v1+cell": {
     "cellMetadata": {
      "byteLimit": 2048000,
      "rowLimit": 10000
     },
     "inputWidgets": {},
     "nuid": "54057119-15ab-4ab9-a53b-4f83fdeeb68b",
     "showTitle": false,
     "title": ""
    }
   },
   "source": [
    "The seller rating is the rating of the dealership that is selling the vehicle. This is a rating from 1 to 5 stars."
   ]
  },
  {
   "cell_type": "code",
   "execution_count": null,
   "metadata": {
    "application/vnd.databricks.v1+cell": {
     "cellMetadata": {
      "byteLimit": 2048000,
      "rowLimit": 10000
     },
     "inputWidgets": {},
     "nuid": "f3f5b5f0-1fb0-40df-8ccf-748c90b8be75",
     "showTitle": false,
     "title": ""
    }
   },
   "outputs": [
    {
     "name": "stdout",
     "output_type": "stream",
     "text": [
      "The amount of null values in the seller_rating column are 1.17160%.\n"
     ]
    }
   ],
   "source": [
    "# Calculate the percentage of null values\n",
    "null_percentage = (cars_df2.filter(col(\"seller_rating\").isNull()).count() / cars_df2.count()) * 100\n",
    "print(f\"The amount of null values in the seller_rating column are {null_percentage:.5f}%.\")\n"
   ]
  },
  {
   "cell_type": "code",
   "execution_count": null,
   "metadata": {
    "application/vnd.databricks.v1+cell": {
     "cellMetadata": {
      "byteLimit": 2048000,
      "rowLimit": 10000
     },
     "inputWidgets": {},
     "nuid": "ed68cb81-2e7a-48b3-84fb-5034c56f9263",
     "showTitle": false,
     "title": ""
    }
   },
   "outputs": [],
   "source": [
    "# Find the most frequent value (mode)\n",
    "most_frequent_value = cars_df2.groupBy(\"seller_rating\").count().orderBy(col(\"count\").desc()).first()[\"seller_rating\"]\n",
    "\n",
    "# Fill null values with the most frequent value\n",
    "cars_df2 = cars_df2.withColumn(\"seller_rating\", when(col(\"seller_rating\").isNull(), most_frequent_value).otherwise(col(\"seller_rating\")))"
   ]
  },
  {
   "cell_type": "code",
   "execution_count": null,
   "metadata": {
    "application/vnd.databricks.v1+cell": {
     "cellMetadata": {
      "byteLimit": 2048000,
      "rowLimit": 10000
     },
     "inputWidgets": {},
     "nuid": "459c0eb0-0bfd-46ce-971a-fcd6a4cfc929",
     "showTitle": false,
     "title": ""
    }
   },
   "outputs": [
    {
     "name": "stdout",
     "output_type": "stream",
     "text": [
      "The percentage of null values in the seller_rating column after filling: 0.00000%\n"
     ]
    }
   ],
   "source": [
    "# Checking the result\n",
    "null_percentage = cars_df2.select(col(\"seller_rating\").isNull().cast(\"int\")).agg({\"*\": \"avg\"}).collect()[0][0] * 100\n",
    "print(f\"The percentage of null values in the seller_rating column after filling: {null_percentage:.5f}%\")\n"
   ]
  },
  {
   "cell_type": "markdown",
   "metadata": {
    "application/vnd.databricks.v1+cell": {
     "cellMetadata": {
      "byteLimit": 2048000,
      "rowLimit": 10000
     },
     "inputWidgets": {},
     "nuid": "f236ca61-e17d-45f9-b71d-840bdbf335ce",
     "showTitle": false,
     "title": ""
    }
   },
   "source": [
    "Now that the column is cleaned, lets group the columns into 5 categories. This will help us reduce create a more accurate rating system."
   ]
  },
  {
   "cell_type": "code",
   "execution_count": null,
   "metadata": {
    "application/vnd.databricks.v1+cell": {
     "cellMetadata": {
      "byteLimit": 2048000,
      "rowLimit": 10000
     },
     "inputWidgets": {},
     "nuid": "46a36307-5245-40b6-953c-f5b17d98987a",
     "showTitle": false,
     "title": ""
    }
   },
   "outputs": [],
   "source": [
    "# Convert 'seller_rating' column to IntegerType\n",
    "cars_df2 = cars_df2.withColumn(\"seller_rating\", col(\"seller_rating\").cast(IntegerType()))\n"
   ]
  },
  {
   "cell_type": "code",
   "execution_count": null,
   "metadata": {
    "application/vnd.databricks.v1+cell": {
     "cellMetadata": {
      "byteLimit": 2048000,
      "rowLimit": 10000
     },
     "inputWidgets": {},
     "nuid": "040b618d-bf93-428c-bb8f-7b6d374da0ec",
     "showTitle": false,
     "title": ""
    }
   },
   "outputs": [],
   "source": [
    "# Define bin edges and labels\n",
    "bin_edges = [0, 1, 2, 3, 4, 5]\n",
    "bin_labels = ['1 star', '2 stars', '3 stars', '4 stars', '5 stars']\n",
    "\n",
    "# Use Bucketizer to create bins\n",
    "bucketizer = Bucketizer(splits=bin_edges, inputCol=\"seller_rating\", outputCol=\"seller_rating_bin\")\n",
    "cars_df2 = bucketizer.transform(cars_df2)\n",
    "\n",
    "# Map bin indices to labels\n",
    "cars_df2 = cars_df2.withColumn(\"seller_rating\", when(col(\"seller_rating_bin\") == 0, bin_labels[0])\n",
    "                               .when(col(\"seller_rating_bin\") == 1, bin_labels[1])\n",
    "                               .when(col(\"seller_rating_bin\") == 2, bin_labels[2])\n",
    "                               .when(col(\"seller_rating_bin\") == 3, bin_labels[3])\n",
    "                               .when(col(\"seller_rating_bin\") == 4, bin_labels[4])\n",
    "                               .otherwise(None))"
   ]
  },
  {
   "cell_type": "code",
   "execution_count": null,
   "metadata": {
    "application/vnd.databricks.v1+cell": {
     "cellMetadata": {
      "byteLimit": 2048000,
      "rowLimit": 10000
     },
     "inputWidgets": {},
     "nuid": "e66782ad-beac-44e6-a76f-cb1bc5f281cb",
     "showTitle": false,
     "title": ""
    }
   },
   "outputs": [],
   "source": [
    "# Drop the seller_rating_bin column\n",
    "cars_df2 = cars_df2.drop(\"seller_rating_bin\")"
   ]
  },
  {
   "cell_type": "code",
   "execution_count": null,
   "metadata": {
    "application/vnd.databricks.v1+cell": {
     "cellMetadata": {
      "byteLimit": 2048000,
      "rowLimit": 10000
     },
     "inputWidgets": {},
     "nuid": "c42a0fab-eac1-4c98-8ce6-9e533d96df54",
     "showTitle": false,
     "title": ""
    }
   },
   "outputs": [
    {
     "name": "stdout",
     "output_type": "stream",
     "text": [
      "+-------------+\n",
      "|seller_rating|\n",
      "+-------------+\n",
      "|      4 stars|\n",
      "|      3 stars|\n",
      "|      4 stars|\n",
      "|      5 stars|\n",
      "|      5 stars|\n",
      "|      4 stars|\n",
      "|      5 stars|\n",
      "|      5 stars|\n",
      "|      4 stars|\n",
      "|      5 stars|\n",
      "|      5 stars|\n",
      "|      5 stars|\n",
      "|      5 stars|\n",
      "|      5 stars|\n",
      "|      4 stars|\n",
      "|      5 stars|\n",
      "|      5 stars|\n",
      "|      5 stars|\n",
      "|      4 stars|\n",
      "|      5 stars|\n",
      "+-------------+\n",
      "only showing top 20 rows\n",
      "\n"
     ]
    }
   ],
   "source": [
    "# Show the transformed column\n",
    "cars_df2.select(\"seller_rating\").show()\n"
   ]
  },
  {
   "cell_type": "code",
   "execution_count": null,
   "metadata": {
    "application/vnd.databricks.v1+cell": {
     "cellMetadata": {
      "byteLimit": 2048000,
      "rowLimit": 10000
     },
     "inputWidgets": {},
     "nuid": "8c2f1ac1-2b3c-4ecf-bceb-18374a7fcb09",
     "showTitle": false,
     "title": ""
    }
   },
   "outputs": [
    {
     "name": "stdout",
     "output_type": "stream",
     "text": [
      "+-------------+-------+\n",
      "|seller_rating|  count|\n",
      "+-------------+-------+\n",
      "|      2 stars|   7431|\n",
      "|      3 stars|  38792|\n",
      "|      4 stars| 500388|\n",
      "|      5 stars|2052744|\n",
      "+-------------+-------+\n",
      "\n"
     ]
    }
   ],
   "source": [
    "result = cars_df2.groupBy(\"seller_rating\").count().orderBy(\"seller_rating\")\n",
    "result.show()"
   ]
  },
  {
   "cell_type": "markdown",
   "metadata": {
    "application/vnd.databricks.v1+cell": {
     "cellMetadata": {
      "byteLimit": 2048000,
      "rowLimit": 10000
     },
     "inputWidgets": {},
     "nuid": "7d59be6e-63d0-4a04-8f83-24bb7a3e1994",
     "showTitle": false,
     "title": ""
    }
   },
   "source": [
    "visually looking at the column"
   ]
  },
  {
   "cell_type": "code",
   "execution_count": null,
   "metadata": {
    "application/vnd.databricks.v1+cell": {
     "cellMetadata": {
      "byteLimit": 2048000,
      "rowLimit": 10000
     },
     "inputWidgets": {},
     "nuid": "a1d63f33-2978-4b72-9e9b-671b1e21e709",
     "showTitle": false,
     "title": ""
    }
   },
   "outputs": [
    {
     "data": {
      "image/png": "[encoded data removed]"
     },
     "metadata": {
      "application/vnd.databricks.v1+output": {
       "addedWidgets": {},
       "arguments": {},
       "data": "data:image/png;base64,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\n",
       "datasetInfos": [],
       "metadata": {},
       "removedWidgets": [],
       "type": "image"
      }
     },
     "output_type": "display_data"
    }
   ],
   "source": [
    "# Convert the PySpark DataFrame to a Pandas DataFrame\n",
    "cars_pd = cars_df2.select('seller_rating').toPandas()\n",
    "\n",
    "# Create a histogram plot using Seaborn\n",
    "plt.figure(figsize=(10, 6))\n",
    "sns.histplot(data=cars_pd, x='seller_rating', bins=5)\n",
    "plt.title('Seller Rating Distribution')\n",
    "plt.xlabel('Seller Rating')\n",
    "plt.ylabel('Frequency')\n",
    "plt.show()"
   ]
  },
  {
   "cell_type": "markdown",
   "metadata": {
    "application/vnd.databricks.v1+cell": {
     "cellMetadata": {
      "byteLimit": 2048000,
      "rowLimit": 10000
     },
     "inputWidgets": {},
     "nuid": "961ed8a7-4cd1-4bae-835d-5081be6329b5",
     "showTitle": false,
     "title": ""
    }
   },
   "source": [
    "We can see that the seller_rating column is heavily skewed to the right. This means that there are a large amount of 5 star ratings which tells us that most sellers have a high rating."
   ]
  },
  {
   "cell_type": "markdown",
   "metadata": {
    "application/vnd.databricks.v1+cell": {
     "cellMetadata": {
      "byteLimit": 2048000,
      "rowLimit": 10000
     },
     "inputWidgets": {},
     "nuid": "8350f93a-693e-461d-870b-9d5f7cbab4f5",
     "showTitle": false,
     "title": ""
    }
   },
   "source": [
    "---"
   ]
  },
  {
   "cell_type": "markdown",
   "metadata": {
    "application/vnd.databricks.v1+cell": {
     "cellMetadata": {
      "byteLimit": 2048000,
      "rowLimit": 10000
     },
     "inputWidgets": {},
     "nuid": "0f4590c8-9fda-4e20-875f-4dc9f50655f8",
     "showTitle": false,
     "title": ""
    }
   },
   "source": [
    "sp_id"
   ]
  },
  {
   "cell_type": "markdown",
   "metadata": {
    "application/vnd.databricks.v1+cell": {
     "cellMetadata": {
      "byteLimit": 2048000,
      "rowLimit": 10000
     },
     "inputWidgets": {},
     "nuid": "2ec6fab2-7021-47ed-bde4-017b452b1a66",
     "showTitle": false,
     "title": ""
    }
   },
   "source": [
    "The service principal ID is set as a variable named SP_ID for use in additional command. This is not useful for our model because this acts as a unique identifier for the vehicle. We will drop this column from the dataset."
   ]
  },
  {
   "cell_type": "code",
   "execution_count": null,
   "metadata": {
    "application/vnd.databricks.v1+cell": {
     "cellMetadata": {
      "byteLimit": 2048000,
      "rowLimit": 10000
     },
     "inputWidgets": {},
     "nuid": "ac26938c-e4a3-4d95-a9c8-35114ebdc6ca",
     "showTitle": false,
     "title": ""
    }
   },
   "outputs": [],
   "source": [
    "# Drop the 'sp_id' column\n",
    "cars_df2 = cars_df2.drop('sp_id')"
   ]
  },
  {
   "cell_type": "markdown",
   "metadata": {
    "application/vnd.databricks.v1+cell": {
     "cellMetadata": {
      "byteLimit": 2048000,
      "rowLimit": 10000
     },
     "inputWidgets": {},
     "nuid": "95ccb9b8-3fd1-4d11-acca-954255cf81ab",
     "showTitle": false,
     "title": ""
    }
   },
   "source": [
    "---"
   ]
  },
  {
   "cell_type": "markdown",
   "metadata": {
    "application/vnd.databricks.v1+cell": {
     "cellMetadata": {
      "byteLimit": 2048000,
      "rowLimit": 10000
     },
     "inputWidgets": {},
     "nuid": "997cd54d-76c0-4561-a704-a391fdd2b338",
     "showTitle": false,
     "title": ""
    }
   },
   "source": [
    "torque"
   ]
  },
  {
   "cell_type": "markdown",
   "metadata": {
    "application/vnd.databricks.v1+cell": {
     "cellMetadata": {
      "byteLimit": 2048000,
      "rowLimit": 10000
     },
     "inputWidgets": {},
     "nuid": "f4137af4-5700-4160-be7a-b84379b30f36",
     "showTitle": false,
     "title": ""
    }
   },
   "source": [
    "Torque is the engine's rotational force and measures how much of that twisting force is available when an engine exerts itself."
   ]
  },
  {
   "cell_type": "code",
   "execution_count": null,
   "metadata": {
    "application/vnd.databricks.v1+cell": {
     "cellMetadata": {
      "byteLimit": 2048000,
      "rowLimit": 10000
     },
     "inputWidgets": {},
     "nuid": "8c30a9b7-50ea-4b76-bbed-feeb4076730b",
     "showTitle": false,
     "title": ""
    }
   },
   "outputs": [
    {
     "name": "stdout",
     "output_type": "stream",
     "text": [
      "The amount of null values in the torque column is 17.59%.\n"
     ]
    }
   ],
   "source": [
    "# Calculate the percentage of null values in the 'torque' column\n",
    "percentage = (\n",
    "    cars_df2.filter(col('torque').isNull()).count() / cars_df2.count() * 100)\n",
    "\n",
    "# Print the result\n",
    "print(f\"The amount of null values in the torque column is {percentage:.2f}%.\")"
   ]
  },
  {
   "cell_type": "code",
   "execution_count": null,
   "metadata": {
    "application/vnd.databricks.v1+cell": {
     "cellMetadata": {
      "byteLimit": 2048000,
      "rowLimit": 10000
     },
     "inputWidgets": {},
     "nuid": "1e6d78a2-baf9-4b57-835f-567dbcbcdc77",
     "showTitle": false,
     "title": ""
    }
   },
   "outputs": [
    {
     "name": "stdout",
     "output_type": "stream",
     "text": [
      "+--------------------+-----+--------------------+\n",
      "|              torque|count|          percentage|\n",
      "+--------------------+-----+--------------------+\n",
      "|331 lb-ft @ 1,500...| 3465| 0.13330229999365228|\n",
      "|207 lb-ft @ 1,700...| 4579|  0.1761590856193171|\n",
      "|306 lb-ft @ 2,000...| 2970| 0.11425911428027337|\n",
      "|369 lb-ft @ 4,500...|  546| 0.02100521090809066|\n",
      "|250 lb-ft @ 2,800...|   86|0.003308513073435...|\n",
      "|660 lb-ft @ 1,500...|   83|0.003193099826687...|\n",
      "|217 lb-ft @ 4,000...|   50|0.001923554112462...|\n",
      "|385 lb-ft @ 4,800...|   21|8.078927272342562E-4|\n",
      "|350 lb-ft @ 4,000...|   27|0.001038719220729...|\n",
      "|505 lb-ft @ 2,200...|    7|2.692975757447520...|\n",
      "|379 lb-ft @ 3,600...|   20|7.694216449850059E-4|\n",
      "|332 lb-ft @ 1,340...| 1176| 0.04524199272511835|\n",
      "|258 lb-ft @ 1,950...| 1016|  0.0390866195652383|\n",
      "|223 lb-ft @ 4,300...| 1396| 0.05370563081995341|\n",
      "|660 lb-ft @ 1,600...|  390|0.015003722077207616|\n",
      "|184 lb-ft @ 2,550...|  359|0.013811118527480855|\n",
      "|354 lb-ft @ 1,600...|  816| 0.03139240311538824|\n",
      "|169 lb-ft @ 3,750...|  352|0.013541820951736103|\n",
      "|232 lb-ft @ 3,000...|   31|0.001192603549726759|\n",
      "|140 lb-ft @ 3,200...|    1|3.847108224925029...|\n",
      "+--------------------+-----+--------------------+\n",
      "only showing top 20 rows\n",
      "\n"
     ]
    }
   ],
   "source": [
    "# Group by 'torque' and count the occurrences\n",
    "torque_counts = cars_df2.groupBy(\"torque\").count()\n",
    "\n",
    "# Calculate the total number of rows in the DataFrame\n",
    "total_rows = cars_df2.count()\n",
    "\n",
    "# Calculate the percentage distribution of values\n",
    "torque_percentage = torque_counts.withColumn(\"percentage\", col(\"count\") / total_rows * 100)\n",
    "\n",
    "torque_percentage.show()"
   ]
  },
  {
   "cell_type": "markdown",
   "metadata": {
    "application/vnd.databricks.v1+cell": {
     "cellMetadata": {
      "byteLimit": 2048000,
      "rowLimit": 10000
     },
     "inputWidgets": {},
     "nuid": "45807492-ec93-4ea5-a8a8-4ffab034264b",
     "showTitle": false,
     "title": ""
    }
   },
   "source": [
    "We can separate the torque from this column and find the average value. But first, we will need to clean the column further"
   ]
  },
  {
   "cell_type": "code",
   "execution_count": null,
   "metadata": {
    "application/vnd.databricks.v1+cell": {
     "cellMetadata": {
      "byteLimit": 2048000,
      "rowLimit": 10000
     },
     "inputWidgets": {},
     "nuid": "ded12903-9afc-4225-a1a2-55696c3d7c37",
     "showTitle": false,
     "title": ""
    }
   },
   "outputs": [
    {
     "name": "stdout",
     "output_type": "stream",
     "text": [
      "+------+\n",
      "|torque|\n",
      "+------+\n",
      "|  null|\n",
      "| 258.0|\n",
      "| 383.0|\n",
      "| 175.0|\n",
      "| 260.0|\n",
      "| 330.0|\n",
      "| 273.0|\n",
      "| 258.0|\n",
      "| 146.0|\n",
      "| 175.0|\n",
      "|  null|\n",
      "| 221.0|\n",
      "| 132.0|\n",
      "| 280.0|\n",
      "| 186.0|\n",
      "| 185.0|\n",
      "| 260.0|\n",
      "| 248.0|\n",
      "| 260.0|\n",
      "| 266.0|\n",
      "+------+\n",
      "only showing top 20 rows\n",
      "\n"
     ]
    }
   ],
   "source": [
    "# Split the 'torque' column and get the first value\n",
    "split_col = split(cars_df2['torque'], ' ')\n",
    "cars_df2 = cars_df2.withColumn('torque', split_col.getItem(0))\n",
    "\n",
    "# Convert the 'torque' column to FloatType\n",
    "cars_df2 = cars_df2.withColumn('torque', col('torque').cast(FloatType()))\n",
    "\n",
    "# Show the transformed column\n",
    "cars_df2.select('torque').show()"
   ]
  },
  {
   "cell_type": "markdown",
   "metadata": {
    "application/vnd.databricks.v1+cell": {
     "cellMetadata": {
      "byteLimit": 2048000,
      "rowLimit": 10000
     },
     "inputWidgets": {},
     "nuid": "d664b9ba-970e-420b-84c5-c1b4f171608c",
     "showTitle": false,
     "title": ""
    }
   },
   "source": [
    "Now that the column is cleaned, lets get a visual representation. This will help us determine if we can fill in the null values with a mean or median value."
   ]
  },
  {
   "cell_type": "code",
   "execution_count": null,
   "metadata": {
    "application/vnd.databricks.v1+cell": {
     "cellMetadata": {
      "byteLimit": 2048000,
      "rowLimit": 10000
     },
     "inputWidgets": {},
     "nuid": "7d1d84d0-b299-4992-885c-d1776624f36b",
     "showTitle": false,
     "title": ""
    }
   },
   "outputs": [
    {
     "data": {
      "image/png": "[encoded data removed]"
     },
     "metadata": {
      "application/vnd.databricks.v1+output": {
       "addedWidgets": {},
       "arguments": {},
       "data": "data:image/png;base64,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\n",
       "datasetInfos": [],
       "metadata": {},
       "removedWidgets": [],
       "type": "image"
      }
     },
     "output_type": "display_data"
    }
   ],
   "source": [
    "torque_df = cars_df2.select('torque')\n",
    "\n",
    "# Convert to Pandas DataFrame for plotting\n",
    "torque_pandas = torque_df.toPandas()\n",
    "\n",
    "# Plot the distribution using Matplotlib\n",
    "plt.figure(figsize=(10,6))\n",
    "plt.hist(torque_pandas['torque'], bins=20)\n",
    "plt.title('Torque')\n",
    "# Add the mode\n",
    "plt.axvline(torque_pandas['torque'].mode()[0], color='r', linestyle='dashed', linewidth=2, label='Mode')\n",
    "# Add the median\n",
    "plt.axvline(torque_pandas['torque'].median(), color='goldenrod', label='median')\n",
    "# Add the mean\n",
    "plt.axvline(torque_pandas['torque'].mean(), color='darkgreen', label='mean')\n",
    "plt.legend()\n",
    "plt.xlabel('Torque')\n",
    "plt.ylabel('Frequency')\n",
    "plt.show()"
   ]
  },
  {
   "cell_type": "markdown",
   "metadata": {
    "application/vnd.databricks.v1+cell": {
     "cellMetadata": {
      "byteLimit": 2048000,
      "rowLimit": 10000
     },
     "inputWidgets": {},
     "nuid": "86dda064-1cae-4cdf-9db3-c0b15d837412",
     "showTitle": false,
     "title": ""
    }
   },
   "source": [
    "The graph shows us that there is a majority of vehicles have a torque of 383 lb-ft.\n",
    "\n",
    "In this case, we can fill in the null values with the mean value of the column."
   ]
  },
  {
   "cell_type": "code",
   "execution_count": null,
   "metadata": {
    "application/vnd.databricks.v1+cell": {
     "cellMetadata": {
      "byteLimit": 2048000,
      "rowLimit": 10000
     },
     "inputWidgets": {},
     "nuid": "17c08f41-9ee5-47c6-8ca3-41c75f86d541",
     "showTitle": false,
     "title": ""
    }
   },
   "outputs": [
    {
     "name": "stdout",
     "output_type": "stream",
     "text": [
      "The percentage of null values in the torque column after filling: 0.00000%\n"
     ]
    }
   ],
   "source": [
    "# Calculate the mean of the 'torque' column\n",
    "mean_torque = torque_df.agg(mean('torque')).first()[0]\n",
    "\n",
    "# Fill null values with the mean using 'when' function\n",
    "cars_df2 = cars_df2.withColumn(\"torque\", when(col(\"torque\").isNull(), mean_torque).otherwise(col(\"torque\")))\n",
    "\n",
    "# Checking the result\n",
    "null_percentage = cars_df2.select(col(\"torque\").isNull().cast(\"int\")).agg({\"*\": \"avg\"}).collect()[0][0] * 100\n",
    "print(f\"The percentage of null values in the torque column after filling: {null_percentage:.5f}%\")\n"
   ]
  },
  {
   "cell_type": "markdown",
   "metadata": {
    "application/vnd.databricks.v1+cell": {
     "cellMetadata": {
      "byteLimit": 2048000,
      "rowLimit": 10000
     },
     "inputWidgets": {},
     "nuid": "cde864c3-ac10-4455-83ae-e83d0239d193",
     "showTitle": false,
     "title": ""
    }
   },
   "source": [
    "---"
   ]
  },
  {
   "cell_type": "markdown",
   "metadata": {
    "application/vnd.databricks.v1+cell": {
     "cellMetadata": {
      "byteLimit": 2048000,
      "rowLimit": 10000
     },
     "inputWidgets": {},
     "nuid": "147055fd-be12-4566-a0f8-547857ca3723",
     "showTitle": false,
     "title": ""
    }
   },
   "source": [
    "transmission"
   ]
  },
  {
   "cell_type": "markdown",
   "metadata": {
    "application/vnd.databricks.v1+cell": {
     "cellMetadata": {
      "byteLimit": 2048000,
      "rowLimit": 10000
     },
     "inputWidgets": {},
     "nuid": "3e9c7889-3fb7-46e3-99c8-2db73d15e8b0",
     "showTitle": false,
     "title": ""
    }
   },
   "source": [
    "The transmission is the type of transmission the vehicle has."
   ]
  },
  {
   "cell_type": "code",
   "execution_count": null,
   "metadata": {
    "application/vnd.databricks.v1+cell": {
     "cellMetadata": {
      "byteLimit": 2048000,
      "rowLimit": 10000
     },
     "inputWidgets": {},
     "nuid": "ab4e61f7-62dc-4f96-91cf-e96cddb24d21",
     "showTitle": false,
     "title": ""
    }
   },
   "outputs": [
    {
     "name": "stdout",
     "output_type": "stream",
     "text": [
      "The percentage of null values in the transmission column is: 2.10%\n"
     ]
    }
   ],
   "source": [
    "# Calculate the percentage of null values in the 'transmission' column\n",
    "null_percentage = (cars_df2.filter(col(\"transmission\").isNull()).count() / cars_df2.count()) * 100\n",
    "\n",
    "print(f\"The percentage of null values in the transmission column is: {null_percentage:.2f}%\")\n"
   ]
  },
  {
   "cell_type": "code",
   "execution_count": null,
   "metadata": {
    "application/vnd.databricks.v1+cell": {
     "cellMetadata": {
      "byteLimit": 2048000,
      "rowLimit": 10000
     },
     "inputWidgets": {},
     "nuid": "c55576ce-d1c9-41ef-bc44-cd59efc16c3f",
     "showTitle": false,
     "title": ""
    }
   },
   "outputs": [
    {
     "name": "stdout",
     "output_type": "stream",
     "text": [
      "+------------+-------+------------------+\n",
      "|transmission|  count|        percentage|\n",
      "+------------+-------+------------------+\n",
      "|           A|2079400| 79.99676842909106|\n",
      "|         CVT| 417664|16.067986096550875|\n",
      "|        null|  54515|  2.09725104881788|\n",
      "|           M|  37906|1.4582848437400815|\n",
      "| Dual Clutch|   9870|0.3797095818001004|\n",
      "+------------+-------+------------------+\n",
      "\n"
     ]
    }
   ],
   "source": [
    "# Calculate value counts and percentages in the 'transmission' column\n",
    "transmission_value_counts = cars_df2.groupBy(\"transmission\").count().orderBy(col(\"count\").desc())\n",
    "transmission_value_counts_percentages = transmission_value_counts.withColumn(\"percentage\", (col(\"count\") / cars_df2.count()) * 100)\n",
    "\n",
    "# Show the value counts with percentages\n",
    "transmission_value_counts_percentages.show()\n"
   ]
  },
  {
   "cell_type": "code",
   "execution_count": null,
   "metadata": {
    "application/vnd.databricks.v1+cell": {
     "cellMetadata": {
      "byteLimit": 2048000,
      "rowLimit": 10000
     },
     "inputWidgets": {},
     "nuid": "c3447fd4-0c0d-46ba-b369-e49323bcb581",
     "showTitle": false,
     "title": ""
    }
   },
   "outputs": [
    {
     "name": "stdout",
     "output_type": "stream",
     "text": [
      "+------------+\n",
      "|transmission|\n",
      "+------------+\n",
      "| Dual Clutch|\n",
      "|        null|\n",
      "|         CVT|\n",
      "|           M|\n",
      "|           A|\n",
      "+------------+\n",
      "\n"
     ]
    }
   ],
   "source": [
    "# Get distinct values in the 'transmission' column\n",
    "transmission_unique_values = cars_df2.select(\"transmission\").distinct()\n",
    "\n",
    "# Show the unique values\n",
    "transmission_unique_values.show()"
   ]
  },
  {
   "cell_type": "code",
   "execution_count": null,
   "metadata": {
    "application/vnd.databricks.v1+cell": {
     "cellMetadata": {
      "byteLimit": 2048000,
      "rowLimit": 10000
     },
     "inputWidgets": {},
     "nuid": "ce515110-3656-404a-93c9-d9cdb63f11c7",
     "showTitle": false,
     "title": ""
    }
   },
   "outputs": [
    {
     "name": "stdout",
     "output_type": "stream",
     "text": [
      "The percentage of null values in the transmission column after filling: 0.00%\n"
     ]
    }
   ],
   "source": [
    "# Fill null values in the 'transmission' column with \"A\"\n",
    "cars_df2= cars_df2.withColumn(\"transmission\", when(col(\"transmission\").isNull(), \"A\").otherwise(col(\"transmission\")))\n",
    "\n",
    "# Calculate the percentage of null values in the 'transmission' column after filling\n",
    "null_percentage = cars_df2.select(col(\"transmission\").isNull().cast(\"int\")).agg({\"*\": \"avg\"}).collect()[0][0] * 100\n",
    "\n",
    "print(f\"The percentage of null values in the transmission column after filling: {null_percentage:.2f}%\")\n"
   ]
  },
  {
   "cell_type": "markdown",
   "metadata": {
    "application/vnd.databricks.v1+cell": {
     "cellMetadata": {
      "byteLimit": 2048000,
      "rowLimit": 10000
     },
     "inputWidgets": {},
     "nuid": "a0bb9b7a-bac8-459f-8b78-d559bcf1293c",
     "showTitle": false,
     "title": ""
    }
   },
   "source": [
    "---"
   ]
  },
  {
   "cell_type": "markdown",
   "metadata": {
    "application/vnd.databricks.v1+cell": {
     "cellMetadata": {
      "byteLimit": 2048000,
      "rowLimit": 10000
     },
     "inputWidgets": {},
     "nuid": "76a14c2c-d08a-499a-8521-4fc545b32eb7",
     "showTitle": false,
     "title": ""
    }
   },
   "source": [
    "transmission_display"
   ]
  },
  {
   "cell_type": "markdown",
   "metadata": {
    "application/vnd.databricks.v1+cell": {
     "cellMetadata": {
      "byteLimit": 2048000,
      "rowLimit": 10000
     },
     "inputWidgets": {},
     "nuid": "74555440-0949-49a8-9787-86e9cbc7a5a4",
     "showTitle": false,
     "title": ""
    }
   },
   "source": [
    "The transmission display also represents the type of transmission the vehicle has. This is a more detailed version of the transmission column. Since we already have the transmission column, we will drop this column from the dataset."
   ]
  },
  {
   "cell_type": "code",
   "execution_count": null,
   "metadata": {
    "application/vnd.databricks.v1+cell": {
     "cellMetadata": {
      "byteLimit": 2048000,
      "rowLimit": 10000
     },
     "inputWidgets": {},
     "nuid": "59c8cd97-bae3-41fa-8482-8d2ddb663cbf",
     "showTitle": false,
     "title": ""
    }
   },
   "outputs": [],
   "source": [
    "# Drop the 'transmission_display' column\n",
    "cars_df2 = cars_df2.drop('transmission_display')"
   ]
  },
  {
   "cell_type": "markdown",
   "metadata": {
    "application/vnd.databricks.v1+cell": {
     "cellMetadata": {
      "byteLimit": 2048000,
      "rowLimit": 10000
     },
     "inputWidgets": {},
     "nuid": "ddf6ad7d-80c1-4036-9f1d-08cf7d728f83",
     "showTitle": false,
     "title": ""
    }
   },
   "source": [
    "----"
   ]
  },
  {
   "cell_type": "markdown",
   "metadata": {
    "application/vnd.databricks.v1+cell": {
     "cellMetadata": {
      "byteLimit": 2048000,
      "rowLimit": 10000
     },
     "inputWidgets": {},
     "nuid": "077bef15-ca22-4eab-8849-ceba8bbb13a7",
     "showTitle": false,
     "title": ""
    }
   },
   "source": [
    "trimId"
   ]
  },
  {
   "cell_type": "markdown",
   "metadata": {
    "application/vnd.databricks.v1+cell": {
     "cellMetadata": {
      "byteLimit": 2048000,
      "rowLimit": 10000
     },
     "inputWidgets": {},
     "nuid": "578fe5e9-3a74-475e-8731-d19aa457bd43",
     "showTitle": false,
     "title": ""
    }
   },
   "source": [
    "The trimId is the trim Id of the vehicle. This is another unique identifier for the vehicle that is redundant. We will drop this column from the dataset."
   ]
  },
  {
   "cell_type": "code",
   "execution_count": null,
   "metadata": {
    "application/vnd.databricks.v1+cell": {
     "cellMetadata": {
      "byteLimit": 2048000,
      "rowLimit": 10000
     },
     "inputWidgets": {},
     "nuid": "bb6ed6b4-9796-445b-90ef-848be09f4b2c",
     "showTitle": false,
     "title": ""
    }
   },
   "outputs": [],
   "source": [
    "# Drop the 'trimId' column\n",
    "cars_df2 = cars_df2.drop('trimId')"
   ]
  },
  {
   "cell_type": "markdown",
   "metadata": {
    "application/vnd.databricks.v1+cell": {
     "cellMetadata": {
      "byteLimit": 2048000,
      "rowLimit": 10000
     },
     "inputWidgets": {},
     "nuid": "d55e01e6-7f13-4d77-8b3c-893a6e277f50",
     "showTitle": false,
     "title": ""
    }
   },
   "source": [
    "---"
   ]
  },
  {
   "cell_type": "markdown",
   "metadata": {
    "application/vnd.databricks.v1+cell": {
     "cellMetadata": {
      "byteLimit": 2048000,
      "rowLimit": 10000
     },
     "inputWidgets": {},
     "nuid": "f17bd617-dbbc-4f06-8ac1-7e653b0a3363",
     "showTitle": false,
     "title": ""
    }
   },
   "source": [
    "trim_name"
   ]
  },
  {
   "cell_type": "markdown",
   "metadata": {
    "application/vnd.databricks.v1+cell": {
     "cellMetadata": {
      "byteLimit": 2048000,
      "rowLimit": 10000
     },
     "inputWidgets": {},
     "nuid": "1a19cc03-8a95-46d5-af77-a4896bc5f1e7",
     "showTitle": false,
     "title": ""
    }
   },
   "source": [
    "The trim name is the name of the trim of the vehicle. This is another unique identifier for the vehicle that is redundant. We will drop this column from the dataset."
   ]
  },
  {
   "cell_type": "code",
   "execution_count": null,
   "metadata": {
    "application/vnd.databricks.v1+cell": {
     "cellMetadata": {
      "byteLimit": 2048000,
      "rowLimit": 10000
     },
     "inputWidgets": {},
     "nuid": "43bee6b2-abd5-46ab-8e70-c424d48996ab",
     "showTitle": false,
     "title": ""
    }
   },
   "outputs": [],
   "source": [
    "# Drop the 'trim_name' column\n",
    "cars_df2 = cars_df2.drop('trim_name')"
   ]
  },
  {
   "cell_type": "markdown",
   "metadata": {
    "application/vnd.databricks.v1+cell": {
     "cellMetadata": {
      "byteLimit": 2048000,
      "rowLimit": 10000
     },
     "inputWidgets": {},
     "nuid": "8ddb4855-9d36-4cd4-bd2b-aa11bb0dd74f",
     "showTitle": false,
     "title": ""
    }
   },
   "source": [
    "------"
   ]
  },
  {
   "cell_type": "markdown",
   "metadata": {
    "application/vnd.databricks.v1+cell": {
     "cellMetadata": {
      "byteLimit": 2048000,
      "rowLimit": 10000
     },
     "inputWidgets": {},
     "nuid": "2429797e-c183-4a89-9870-79a09b5ae4cd",
     "showTitle": false,
     "title": ""
    }
   },
   "source": [
    "wheel_system"
   ]
  },
  {
   "cell_type": "markdown",
   "metadata": {
    "application/vnd.databricks.v1+cell": {
     "cellMetadata": {
      "byteLimit": 2048000,
      "rowLimit": 10000
     },
     "inputWidgets": {},
     "nuid": "8c9eca09-bb13-4448-acbf-560c9c73c13f",
     "showTitle": false,
     "title": ""
    }
   },
   "source": [
    "The wheel system represents the how to power of the engine is transmitted to the wheels."
   ]
  },
  {
   "cell_type": "code",
   "execution_count": null,
   "metadata": {
    "application/vnd.databricks.v1+cell": {
     "cellMetadata": {
      "byteLimit": 2048000,
      "rowLimit": 10000
     },
     "inputWidgets": {},
     "nuid": "27c2df6e-673f-4061-a506-0b9dd13207b8",
     "showTitle": false,
     "title": ""
    }
   },
   "outputs": [
    {
     "name": "stdout",
     "output_type": "stream",
     "text": [
      "The amount of null values in the wheel_system column is 4.74%.\n"
     ]
    }
   ],
   "source": [
    "# Calculate the percentage of null values in the 'wheel_system' column\n",
    "percentage = (cars_df2.filter(col('wheel_system').isNull()).count() / cars_df2.count() * 100)\n",
    "\n",
    "# Print the result\n",
    "print(f\"The amount of null values in the wheel_system column is {percentage:.2f}%.\")"
   ]
  },
  {
   "cell_type": "code",
   "execution_count": null,
   "metadata": {
    "application/vnd.databricks.v1+cell": {
     "cellMetadata": {
      "byteLimit": 2048000,
      "rowLimit": 10000
     },
     "inputWidgets": {},
     "nuid": "f59233fa-b601-4512-91de-a76014b85775",
     "showTitle": false,
     "title": ""
    }
   },
   "outputs": [
    {
     "name": "stdout",
     "output_type": "stream",
     "text": [
      "+------------+-------+------------------+\n",
      "|wheel_system|  count|        percentage|\n",
      "+------------+-------+------------------+\n",
      "|        null| 123308| 4.743792209990556|\n",
      "|         4WD| 495121|19.047840714331056|\n",
      "|         4X2| 101943| 3.921857537735323|\n",
      "|         FWD|1099839|  42.3119966299332|\n",
      "|         AWD| 618415| 23.79109432917012|\n",
      "|         RWD| 160729| 6.183418578839751|\n",
      "+------------+-------+------------------+\n",
      "\n"
     ]
    }
   ],
   "source": [
    "# Calculate value counts and percentages in the 'wheel_system' column\n",
    "value_counts_df = cars_df2.groupBy('wheel_system').count()\n",
    "total_rows = cars_df2.count()\n",
    "value_counts_with_percentages = value_counts_df.withColumn('percentage', (col('count') / total_rows * 100))\n",
    "\n",
    "value_counts_with_percentages.show()"
   ]
  },
  {
   "cell_type": "code",
   "execution_count": null,
   "metadata": {
    "application/vnd.databricks.v1+cell": {
     "cellMetadata": {
      "byteLimit": 2048000,
      "rowLimit": 10000
     },
     "inputWidgets": {},
     "nuid": "bd4e66d0-da45-49db-83cd-5f457539125e",
     "showTitle": false,
     "title": ""
    }
   },
   "outputs": [
    {
     "name": "stdout",
     "output_type": "stream",
     "text": [
      "+------------+\n",
      "|wheel_system|\n",
      "+------------+\n",
      "|        null|\n",
      "|         4WD|\n",
      "|         4X2|\n",
      "|         FWD|\n",
      "|         AWD|\n",
      "|         RWD|\n",
      "+------------+\n",
      "\n"
     ]
    }
   ],
   "source": [
    "# Get distinct values in the 'wheel_system' column\n",
    "distinct_wheel_systems = cars_df2.select('wheel_system').distinct()\n",
    "\n",
    "distinct_wheel_systems.show()"
   ]
  },
  {
   "cell_type": "markdown",
   "metadata": {
    "application/vnd.databricks.v1+cell": {
     "cellMetadata": {
      "byteLimit": 2048000,
      "rowLimit": 10000
     },
     "inputWidgets": {},
     "nuid": "11be5578-b50a-4204-aad6-382f23f95a8e",
     "showTitle": false,
     "title": ""
    }
   },
   "source": [
    "In this case, we can replace the null values with the most common value of the column."
   ]
  },
  {
   "cell_type": "code",
   "execution_count": null,
   "metadata": {
    "application/vnd.databricks.v1+cell": {
     "cellMetadata": {
      "byteLimit": 2048000,
      "rowLimit": 10000
     },
     "inputWidgets": {},
     "nuid": "198dd253-c002-4e8d-ae13-5754a896c2d0",
     "showTitle": false,
     "title": ""
    }
   },
   "outputs": [
    {
     "name": "stdout",
     "output_type": "stream",
     "text": [
      "The percentage of null values in the wheel_system column after filling: 0.00%\n"
     ]
    }
   ],
   "source": [
    "# Fill null values with \"FWD\"\n",
    "cars_df2 = cars_df2.withColumn(\"wheel_system\", when(col(\"wheel_system\").isNull(), \"FWD\").otherwise(col(\"wheel_system\")))\n",
    "\n",
    "# Calculate the percentage of null values after filling\n",
    "null_percentage = (cars_df2.filter(col(\"wheel_system\").isNull()).count() / cars_df2.count()) * 100\n",
    "\n",
    "print(f\"The percentage of null values in the wheel_system column after filling: {null_percentage:.2f}%\")"
   ]
  },
  {
   "cell_type": "markdown",
   "metadata": {
    "application/vnd.databricks.v1+cell": {
     "cellMetadata": {
      "byteLimit": 2048000,
      "rowLimit": 10000
     },
     "inputWidgets": {},
     "nuid": "c4c24543-c951-469b-8bb5-aa7a863aed7a",
     "showTitle": false,
     "title": ""
    }
   },
   "source": [
    "-------"
   ]
  },
  {
   "cell_type": "markdown",
   "metadata": {
    "application/vnd.databricks.v1+cell": {
     "cellMetadata": {
      "byteLimit": 2048000,
      "rowLimit": 10000
     },
     "inputWidgets": {},
     "nuid": "88cafc8e-7f0b-49ad-870d-0ca04413d86a",
     "showTitle": false,
     "title": ""
    }
   },
   "source": [
    "wheel_system_display"
   ]
  },
  {
   "cell_type": "markdown",
   "metadata": {
    "application/vnd.databricks.v1+cell": {
     "cellMetadata": {
      "byteLimit": 2048000,
      "rowLimit": 10000
     },
     "inputWidgets": {},
     "nuid": "d584e66f-f14c-4f74-bfe5-d4adffcc6f8d",
     "showTitle": false,
     "title": ""
    }
   },
   "source": [
    "The wheel system display is anothe representation of the wheel system column. This is redundant information because we already have the wheel_system column. So we can drop this column."
   ]
  },
  {
   "cell_type": "code",
   "execution_count": null,
   "metadata": {
    "application/vnd.databricks.v1+cell": {
     "cellMetadata": {
      "byteLimit": 2048000,
      "rowLimit": 10000
     },
     "inputWidgets": {},
     "nuid": "6ab38366-2d14-44e8-b287-188ed7239e6c",
     "showTitle": false,
     "title": ""
    }
   },
   "outputs": [],
   "source": [
    "# Drop the 'wheel_system_display' column\n",
    "cars_df2 = cars_df2.drop('wheel_system_display')"
   ]
  },
  {
   "cell_type": "markdown",
   "metadata": {
    "application/vnd.databricks.v1+cell": {
     "cellMetadata": {
      "byteLimit": 2048000,
      "rowLimit": 10000
     },
     "inputWidgets": {},
     "nuid": "9efea996-06f1-4b0d-96a3-02281c944ed9",
     "showTitle": false,
     "title": ""
    }
   },
   "source": [
    "---"
   ]
  },
  {
   "cell_type": "markdown",
   "metadata": {
    "application/vnd.databricks.v1+cell": {
     "cellMetadata": {
      "byteLimit": 2048000,
      "rowLimit": 10000
     },
     "inputWidgets": {},
     "nuid": "dcac4b87-2f67-4315-bac3-0a4424f4b22b",
     "showTitle": false,
     "title": ""
    }
   },
   "source": [
    "wheelbase"
   ]
  },
  {
   "cell_type": "markdown",
   "metadata": {
    "application/vnd.databricks.v1+cell": {
     "cellMetadata": {
      "byteLimit": 2048000,
      "rowLimit": 10000
     },
     "inputWidgets": {},
     "nuid": "35dd47d3-1a6e-4c48-9a87-20ba77ebe069",
     "showTitle": false,
     "title": ""
    }
   },
   "source": [
    "The wheelbase is the distance between the front and rear axles of the vehicle."
   ]
  },
  {
   "cell_type": "code",
   "execution_count": null,
   "metadata": {
    "application/vnd.databricks.v1+cell": {
     "cellMetadata": {
      "byteLimit": 2048000,
      "rowLimit": 10000
     },
     "inputWidgets": {},
     "nuid": "c4960fcd-3a38-447d-b799-579e6bbaf402",
     "showTitle": false,
     "title": ""
    }
   },
   "outputs": [
    {
     "name": "stdout",
     "output_type": "stream",
     "text": [
      "The amount of null values in the wheelbase column is 4.99%.\n"
     ]
    }
   ],
   "source": [
    "# Calculate the percentage of null values in the 'wheelbase' column\n",
    "percentage = (cars_df2.filter(col('wheelbase').isNull()).count() / cars_df2.count() * 100)\n",
    "\n",
    "# Print the result\n",
    "print(f\"The amount of null values in the wheelbase column is {percentage:.2f}%.\")"
   ]
  },
  {
   "cell_type": "code",
   "execution_count": null,
   "metadata": {
    "application/vnd.databricks.v1+cell": {
     "cellMetadata": {
      "byteLimit": 2048000,
      "rowLimit": 10000
     },
     "inputWidgets": {},
     "nuid": "e041227b-fb12-46f1-a37c-0d22cd3b3158",
     "showTitle": false,
     "title": ""
    }
   },
   "outputs": [
    {
     "name": "stdout",
     "output_type": "stream",
     "text": [
      "+---------+------+--------------------+\n",
      "|wheelbase| count|          percentage|\n",
      "+---------+------+--------------------+\n",
      "| 139.8 in|  4746|  0.1825837563549419|\n",
      "|   155 in|  2389| 0.09190741549345896|\n",
      "| 101.3 in|   261|0.010040952467054326|\n",
      "| 112.2 in|117309|   4.513004187577303|\n",
      "| 111.8 in| 18328|  0.7050979954642594|\n",
      "| 169.3 in|   336|0.012926283635748098|\n",
      "|   123 in|   485|0.018658474890886394|\n",
      "|  98.5 in|     7|2.692975757447520...|\n",
      "|   176 in|  6079| 0.23386570899319253|\n",
      "| 158.1 in|   409| 0.01573467263994337|\n",
      "| 119.8 in| 10786| 0.41494909314041367|\n",
      "| 127.8 in|    45|0.001731198701216...|\n",
      "| 105.3 in|   334|0.012849341471249599|\n",
      "|  98.8 in|   387|0.014888308830459865|\n",
      "| 149.5 in|  3314|  0.1274931665740155|\n",
      "|   117 in|    52|0.002000496276961...|\n",
      "| 105.7 in| 19383|  0.7456849872372184|\n",
      "| 144.6 in| 31583|   1.215032190678072|\n",
      "| 110.4 in| 27489|  1.0575315799496414|\n",
      "| 113.8 in| 17562|  0.6756291464613337|\n",
      "+---------+------+--------------------+\n",
      "only showing top 20 rows\n",
      "\n"
     ]
    }
   ],
   "source": [
    "# Calculate the value counts and percentages\n",
    "value_counts = cars_df2.groupBy(\"wheelbase\").count()\n",
    "total_rows = cars_df2.count()\n",
    "value_counts = value_counts.withColumn(\"percentage\", (col(\"count\") / total_rows) * 100)\n",
    "\n",
    "# Show the result\n",
    "value_counts.show()"
   ]
  },
  {
   "cell_type": "code",
   "execution_count": null,
   "metadata": {
    "application/vnd.databricks.v1+cell": {
     "cellMetadata": {
      "byteLimit": 2048000,
      "rowLimit": 10000
     },
     "inputWidgets": {},
     "nuid": "0945f4dc-8bc1-4dfc-853f-d78b5eb8604c",
     "showTitle": false,
     "title": ""
    }
   },
   "outputs": [
    {
     "name": "stdout",
     "output_type": "stream",
     "text": [
      "+---------+\n",
      "|wheelbase|\n",
      "+---------+\n",
      "| 139.8 in|\n",
      "|   155 in|\n",
      "| 112.2 in|\n",
      "| 111.8 in|\n",
      "|   176 in|\n",
      "| 119.8 in|\n",
      "|  98.8 in|\n",
      "| 105.3 in|\n",
      "| 149.5 in|\n",
      "| 105.7 in|\n",
      "| 144.6 in|\n",
      "| 110.4 in|\n",
      "| 114.2 in|\n",
      "| 113.8 in|\n",
      "| 112.9 in|\n",
      "| 140.6 in|\n",
      "|   145 in|\n",
      "| 104.7 in|\n",
      "|  96.5 in|\n",
      "|  99.2 in|\n",
      "+---------+\n",
      "only showing top 20 rows\n",
      "\n"
     ]
    }
   ],
   "source": [
    "# Get distinct values in the 'wheelbase' column\n",
    "distinct_wheelbases = cars_df2.select('wheelbase').distinct()\n",
    "\n",
    "distinct_wheelbases.show()"
   ]
  },
  {
   "cell_type": "markdown",
   "metadata": {
    "application/vnd.databricks.v1+cell": {
     "cellMetadata": {
      "byteLimit": 2048000,
      "rowLimit": 10000
     },
     "inputWidgets": {},
     "nuid": "7197a3cf-4faa-4142-beaf-ecaa6bf4566e",
     "showTitle": false,
     "title": ""
    }
   },
   "source": [
    "Let begin by cleaning the column from special characters, units, and converting the column to a float"
   ]
  },
  {
   "cell_type": "code",
   "execution_count": null,
   "metadata": {
    "application/vnd.databricks.v1+cell": {
     "cellMetadata": {
      "byteLimit": 2048000,
      "rowLimit": 10000
     },
     "inputWidgets": {},
     "nuid": "03087ffb-ca8b-431f-8268-6d3dcc99eed9",
     "showTitle": false,
     "title": ""
    }
   },
   "outputs": [],
   "source": [
    "# Split the 'wheelbase' column and extract the first value\n",
    "cars_df2 = cars_df2.withColumn('wheelbase', split(col('wheelbase'), ' ')[0])\n",
    "\n",
    "# Replace \"--\" with null values using 'when' function\n",
    "cars_df2 = cars_df2.withColumn('wheelbase', when(col('wheelbase') == '--', None).otherwise(col('wheelbase')))\n",
    "\n",
    "# Convert the 'wheelbase' column to FloatType\n",
    "cars_df2 = cars_df2.withColumn('wheelbase', col('wheelbase').cast(FloatType()))"
   ]
  },
  {
   "cell_type": "markdown",
   "metadata": {
    "application/vnd.databricks.v1+cell": {
     "cellMetadata": {
      "byteLimit": 2048000,
      "rowLimit": 10000
     },
     "inputWidgets": {},
     "nuid": "2e9adf9b-af11-419f-a9f3-4a9204cec730",
     "showTitle": false,
     "title": ""
    }
   },
   "source": [
    "Now that the column is cleaned, lets get a visual representation. This will help us determine if we can fill in the null values with a mean or median value"
   ]
  },
  {
   "cell_type": "code",
   "execution_count": null,
   "metadata": {
    "application/vnd.databricks.v1+cell": {
     "cellMetadata": {
      "byteLimit": 2048000,
      "rowLimit": 10000
     },
     "inputWidgets": {},
     "nuid": "76311f08-0125-4f7f-a560-c0387b567abb",
     "showTitle": false,
     "title": ""
    }
   },
   "outputs": [
    {
     "data": {
      "image/png": "[encoded data removed]"
     },
     "metadata": {
      "application/vnd.databricks.v1+output": {
       "addedWidgets": {},
       "arguments": {},
       "data": "data:image/png;base64,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\n",
       "datasetInfos": [],
       "metadata": {},
       "removedWidgets": [],
       "type": "image"
      }
     },
     "output_type": "display_data"
    }
   ],
   "source": [
    "# selecting our column for transformation to pandas\n",
    "wheelbase_data = cars_df2.select(\"wheelbase\").toPandas()\n",
    "\n",
    "# Visualize the distribution using Seaborn\n",
    "plt.figure(figsize=(10, 6))\n",
    "sns.histplot(data=wheelbase_data, x=\"wheelbase\", bins=20)\n",
    "plt.title(\"Wheelbase Distribution\")\n",
    "plt.xlabel(\"Wheelbase\")\n",
    "plt.ylabel(\"Frequency\")\n",
    "plt.axvline(wheelbase_data[\"wheelbase\"].mode()[0], color=\"r\", linestyle=\"dashed\", linewidth=2, label=\"Mode\")\n",
    "plt.axvline(wheelbase_data[\"wheelbase\"].median(), color=\"goldenrod\", label=\"Median\")\n",
    "plt.axvline(wheelbase_data[\"wheelbase\"].mean(), color=\"darkgreen\", label=\"Mean\")\n",
    "plt.legend()\n",
    "plt.show()"
   ]
  },
  {
   "cell_type": "markdown",
   "metadata": {
    "application/vnd.databricks.v1+cell": {
     "cellMetadata": {
      "byteLimit": 2048000,
      "rowLimit": 10000
     },
     "inputWidgets": {},
     "nuid": "64bf2c8a-a4fb-4846-8382-a5b215534c8f",
     "showTitle": false,
     "title": ""
    }
   },
   "source": [
    "With a wide range of values, we can see that the majority of vehicles have a wheelbase of 112 inches. So we can fill in the null values with the median value of the column."
   ]
  },
  {
   "cell_type": "code",
   "execution_count": null,
   "metadata": {
    "application/vnd.databricks.v1+cell": {
     "cellMetadata": {
      "byteLimit": 2048000,
      "rowLimit": 10000
     },
     "inputWidgets": {},
     "nuid": "55f17cd2-0d59-45c0-9071-4f9f78b30c0b",
     "showTitle": false,
     "title": ""
    }
   },
   "outputs": [
    {
     "name": "stdout",
     "output_type": "stream",
     "text": [
      "The amount of null values in the wheelbase column after filling is 0.00%.\n"
     ]
    }
   ],
   "source": [
    "# Calculate the median of the 'wheelbase' column\n",
    "median_wheelbase = cars_df2.select(median('wheelbase')).collect()[0][0]\n",
    "\n",
    "# Fill null values in the 'wheelbase' column with the median\n",
    "cars_df2 = cars_df2.withColumn('wheelbase', when(col('wheelbase').isNull(), median_wheelbase).otherwise(col('wheelbase')))\n",
    "\n",
    "# Calculate the percentage of null values after filling\n",
    "null_percentage_after_fill = (cars_df2.filter(col('wheelbase').isNull()).count() / cars_df2.count() * 100)\n",
    "\n",
    "# Print the result\n",
    "print(f\"The amount of null values in the wheelbase column after filling is {null_percentage_after_fill:.2f}%.\")\n"
   ]
  },
  {
   "cell_type": "markdown",
   "metadata": {
    "application/vnd.databricks.v1+cell": {
     "cellMetadata": {
      "byteLimit": 2048000,
      "rowLimit": 10000
     },
     "inputWidgets": {},
     "nuid": "9727f157-09b8-42f1-892a-b2e1c9d018c1",
     "showTitle": false,
     "title": ""
    }
   },
   "source": [
    "---"
   ]
  },
  {
   "cell_type": "markdown",
   "metadata": {
    "application/vnd.databricks.v1+cell": {
     "cellMetadata": {
      "byteLimit": 2048000,
      "rowLimit": 10000
     },
     "inputWidgets": {},
     "nuid": "c2334651-827f-4b61-bdca-cb93bbda6a1e",
     "showTitle": false,
     "title": ""
    }
   },
   "source": [
    "width"
   ]
  },
  {
   "cell_type": "markdown",
   "metadata": {
    "application/vnd.databricks.v1+cell": {
     "cellMetadata": {
      "byteLimit": 2048000,
      "rowLimit": 10000
     },
     "inputWidgets": {},
     "nuid": "9aeec382-6bfa-4322-9c82-71f8083c3a01",
     "showTitle": false,
     "title": ""
    }
   },
   "source": [
    "The width is the width of the vehicle. This is measured in inches."
   ]
  },
  {
   "cell_type": "code",
   "execution_count": null,
   "metadata": {
    "application/vnd.databricks.v1+cell": {
     "cellMetadata": {
      "byteLimit": 2048000,
      "rowLimit": 10000
     },
     "inputWidgets": {},
     "nuid": "5fcce98c-9545-47ff-959f-ea1611cb98fb",
     "showTitle": false,
     "title": ""
    }
   },
   "outputs": [
    {
     "name": "stdout",
     "output_type": "stream",
     "text": [
      "The amount of null values in the width column is 4.99%.\n"
     ]
    }
   ],
   "source": [
    "# Calculate the percentage of null values in the 'width' column\n",
    "percentage = (cars_df2.filter(col('width').isNull()).count() / cars_df2.count() * 100)\n",
    "\n",
    "# Print the result\n",
    "print(f\"The amount of null values in the width column is {percentage:.2f}%.\")"
   ]
  },
  {
   "cell_type": "code",
   "execution_count": null,
   "metadata": {
    "application/vnd.databricks.v1+cell": {
     "cellMetadata": {
      "byteLimit": 2048000,
      "rowLimit": 10000
     },
     "inputWidgets": {},
     "nuid": "ffa15d7e-79d1-4644-b959-8d8fed664da1",
     "showTitle": false,
     "title": ""
    }
   },
   "outputs": [
    {
     "name": "stdout",
     "output_type": "stream",
     "text": [
      "+-------+-----+--------------------+\n",
      "|  width|count|          percentage|\n",
      "+-------+-----+--------------------+\n",
      "|84.8 in|38521|  1.4819445593233707|\n",
      "|84.5 in|  174|0.006693968311369...|\n",
      "|  83 in| 4420|  0.1700421835416863|\n",
      "|83.3 in|28300|  1.0887316276537833|\n",
      "|76.7 in| 8954| 0.34447007045978717|\n",
      "|72.2 in|13043|  0.5017783257769716|\n",
      "|75.8 in|17058|  0.6562397210077116|\n",
      "|69.6 in| 1833| 0.07051749376287579|\n",
      "|76.3 in|  343| 0.01319558121149285|\n",
      "|66.6 in|   21|8.078927272342562E-4|\n",
      "|  82 in|12442| 0.47865720534517214|\n",
      "|83.9 in|21687|  0.8343223607394911|\n",
      "|75.6 in|  490|0.018850830302132644|\n",
      "|77.1 in|  147|0.005655249090639794|\n",
      "|85.7 in| 4719| 0.18154503713421213|\n",
      "|89.9 in| 2195|  0.0844440255371044|\n",
      "|  75 in|21038|  0.8093546283597277|\n",
      "|71.2 in| 7700|  0.2962273333192273|\n",
      "|  77 in|  111|0.004270290129666783|\n",
      "|71.6 in| 8990| 0.34585502942076013|\n",
      "+-------+-----+--------------------+\n",
      "only showing top 20 rows\n",
      "\n"
     ]
    }
   ],
   "source": [
    "# Calculate value counts and percentages in the 'width' column\n",
    "value_counts_df = cars_df2.groupBy('width').count()\n",
    "total_rows = cars_df2.count()\n",
    "value_counts_with_percentages = value_counts_df.withColumn('percentage', (col('count') / total_rows * 100))\n",
    "\n",
    "value_counts_with_percentages.show()"
   ]
  },
  {
   "cell_type": "code",
   "execution_count": null,
   "metadata": {
    "application/vnd.databricks.v1+cell": {
     "cellMetadata": {
      "byteLimit": 2048000,
      "rowLimit": 10000
     },
     "inputWidgets": {},
     "nuid": "bbddf9fa-cc34-429f-906e-b566a548b5ac",
     "showTitle": false,
     "title": ""
    }
   },
   "outputs": [
    {
     "name": "stdout",
     "output_type": "stream",
     "text": [
      "+-------+\n",
      "|  width|\n",
      "+-------+\n",
      "|84.8 in|\n",
      "|  83 in|\n",
      "|83.3 in|\n",
      "|76.7 in|\n",
      "|72.2 in|\n",
      "|75.8 in|\n",
      "|69.6 in|\n",
      "|76.3 in|\n",
      "|83.9 in|\n",
      "|  82 in|\n",
      "|75.6 in|\n",
      "|85.7 in|\n",
      "|89.9 in|\n",
      "|  75 in|\n",
      "|71.2 in|\n",
      "|71.6 in|\n",
      "|96.5 in|\n",
      "|92.3 in|\n",
      "|84.3 in|\n",
      "|82.9 in|\n",
      "+-------+\n",
      "only showing top 20 rows\n",
      "\n"
     ]
    }
   ],
   "source": [
    "# Get distinct values in the 'width' column\n",
    "distinct_widths = cars_df2.select('width').distinct()\n",
    "\n",
    "distinct_widths.show()"
   ]
  },
  {
   "cell_type": "code",
   "execution_count": null,
   "metadata": {
    "application/vnd.databricks.v1+cell": {
     "cellMetadata": {
      "byteLimit": 2048000,
      "rowLimit": 10000
     },
     "inputWidgets": {},
     "nuid": "ec03f462-091b-4ca4-b54a-3f9c39c34ae8",
     "showTitle": false,
     "title": ""
    }
   },
   "outputs": [],
   "source": [
    "# Split the 'width' column and extract the first value\n",
    "cars_df2 = cars_df2.withColumn('width', split(col('width'), ' ')[0])\n",
    "\n",
    "# Replace \"--\" with null values using 'when' function\n",
    "cars_df2 = cars_df2.withColumn('width', when(col('width') == '--', None).otherwise(col('width')))\n",
    "\n",
    "# Convert the 'width' column to FloatType\n",
    "cars_df2 = cars_df2.withColumn('width', col('width').cast(FloatType()))"
   ]
  },
  {
   "cell_type": "markdown",
   "metadata": {
    "application/vnd.databricks.v1+cell": {
     "cellMetadata": {
      "byteLimit": 2048000,
      "rowLimit": 10000
     },
     "inputWidgets": {},
     "nuid": "b4b8cac7-addf-435c-a2a4-533d9836ad86",
     "showTitle": false,
     "title": ""
    }
   },
   "source": [
    "Now that the column is cleaned, lets get a visual representation. This will help us determine if we can fill in the null values with a mean or median value."
   ]
  },
  {
   "cell_type": "code",
   "execution_count": null,
   "metadata": {
    "application/vnd.databricks.v1+cell": {
     "cellMetadata": {
      "byteLimit": 2048000,
      "rowLimit": 10000
     },
     "inputWidgets": {},
     "nuid": "2fd83c77-c5f5-4b44-bd20-a47cf52036a3",
     "showTitle": false,
     "title": ""
    }
   },
   "outputs": [
    {
     "data": {
      "image/png": "[encoded data removed]"
     },
     "metadata": {
      "application/vnd.databricks.v1+output": {
       "addedWidgets": {},
       "arguments": {},
       "data": "data:image/png;base64,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\n",
       "datasetInfos": [],
       "metadata": {},
       "removedWidgets": [],
       "type": "image"
      }
     },
     "output_type": "display_data"
    }
   ],
   "source": [
    "# Collect the 'width' column data to the driver node as a list\n",
    "width_data = cars_df2.select('width').collect()\n",
    "width_data = [row.width for row in width_data if row.width is not None]  # Remove None values\n",
    "\n",
    "# Convert the list to a NumPy array\n",
    "width_array = np.array(width_data)\n",
    "\n",
    "# Create the distribution plot\n",
    "plt.figure(figsize=(10, 6))\n",
    "plt.hist(width_array, bins=20)\n",
    "plt.title('Width')\n",
    "plt.axvline(np.nanmedian(width_array), color='r', linestyle='dashed', linewidth=2, label='Median')\n",
    "plt.axvline(np.nanmean(width_array), color='g', linestyle='dashed', linewidth=2, label='Mean')\n",
    "plt.legend()\n",
    "plt.xlabel('Width')\n",
    "plt.ylabel('Frequency')\n",
    "plt.show()"
   ]
  },
  {
   "cell_type": "markdown",
   "metadata": {
    "application/vnd.databricks.v1+cell": {
     "cellMetadata": {
      "byteLimit": 2048000,
      "rowLimit": 10000
     },
     "inputWidgets": {},
     "nuid": "d6ef6755-a8f0-478d-83e6-515f11b7eb30",
     "showTitle": false,
     "title": ""
    }
   },
   "source": [
    "Just like the length column, we can see that the majority of vehicles have a width of 75 inches. So we can fill in the null values with the mode value of the column."
   ]
  },
  {
   "cell_type": "code",
   "execution_count": null,
   "metadata": {
    "application/vnd.databricks.v1+cell": {
     "cellMetadata": {
      "byteLimit": 2048000,
      "rowLimit": 10000
     },
     "inputWidgets": {},
     "nuid": "547bf58d-b22a-46df-a3c0-214472a9ab55",
     "showTitle": false,
     "title": ""
    }
   },
   "outputs": [],
   "source": [
    "# Calculate the mode of the 'width' column\n",
    "mode_width = cars_df2.select(mode(col('width')).alias('mode_width')).first()['mode_width']\n",
    "\n",
    "# Fill null values with the mode of the 'width' column\n",
    "cars_df2 = cars_df2.withColumn('width', when(col('width').isNull(), mode_width).otherwise(col('width')))"
   ]
  },
  {
   "cell_type": "code",
   "execution_count": null,
   "metadata": {
    "application/vnd.databricks.v1+cell": {
     "cellMetadata": {
      "byteLimit": 2048000,
      "rowLimit": 10000
     },
     "inputWidgets": {},
     "nuid": "cc754a19-feaa-4cb2-b4d5-4889eafdb02e",
     "showTitle": false,
     "title": ""
    }
   },
   "outputs": [
    {
     "name": "stdout",
     "output_type": "stream",
     "text": [
      "The amount of null values in the width column is 0.00%.\n"
     ]
    }
   ],
   "source": [
    "# Calculate the percentage of null values in the 'width' column\n",
    "percentage = (cars_df2.filter(col('width').isNull()).count() / cars_df2.count() * 100)\n",
    "\n",
    "# Print the result\n",
    "print(f\"The amount of null values in the width column is {percentage:.2f}%.\")"
   ]
  },
  {
   "cell_type": "markdown",
   "metadata": {
    "application/vnd.databricks.v1+cell": {
     "cellMetadata": {
      "byteLimit": 2048000,
      "rowLimit": 10000
     },
     "inputWidgets": {},
     "nuid": "6425eb5b-5c8e-4fff-ba09-1dcf29baa56c",
     "showTitle": false,
     "title": ""
    }
   },
   "source": [
    "Noice we have successfully cleaned our dataset"
   ]
  },
  {
   "cell_type": "markdown",
   "metadata": {
    "application/vnd.databricks.v1+cell": {
     "cellMetadata": {
      "byteLimit": 2048000,
      "rowLimit": 10000
     },
     "inputWidgets": {},
     "nuid": "7a37d98d-d6bb-454a-a91e-4be6f0e66b4f",
     "showTitle": false,
     "title": ""
    }
   },
   "source": [
    "# Other Categorical Columns"
   ]
  },
  {
   "cell_type": "code",
   "execution_count": null,
   "metadata": {
    "application/vnd.databricks.v1+cell": {
     "cellMetadata": {
      "byteLimit": 2048000,
      "rowLimit": 10000
     },
     "inputWidgets": {},
     "nuid": "5d432946-b619-4d1d-9620-6700bf2bdb8b",
     "showTitle": false,
     "title": ""
    }
   },
   "outputs": [
    {
     "name": "stdout",
     "output_type": "stream",
     "text": [
      "Non-numeric columns: ['vin', 'body_type', 'city', 'dealer_zip', 'engine_type', 'exterior_color', 'has_incidents', 'franchise_dealer', 'fuel_type', 'horsepower', 'interior_color', 'is_new', 'listed_date', 'listing_color', 'make_name', 'model_name', 'seller_rating', 'sp_name', 'transmission', 'wheel_system']\n"
     ]
    }
   ],
   "source": [
    "# Get the data types of each column\n",
    "column_data_types = cars_df2.dtypes\n",
    "\n",
    "# Filter for non-numeric columns\n",
    "non_numeric_columns = [column for column, dtype in column_data_types if dtype not in ('int', 'bigint', 'float', 'double')]\n",
    "\n",
    "# Print the non-numeric columns\n",
    "print(\"Non-numeric columns:\", non_numeric_columns)"
   ]
  },
  {
   "cell_type": "markdown",
   "metadata": {
    "application/vnd.databricks.v1+cell": {
     "cellMetadata": {
      "byteLimit": 2048000,
      "rowLimit": 10000
     },
     "inputWidgets": {},
     "nuid": "bd25f318-eb97-4ad3-9a20-d91c084b844e",
     "showTitle": false,
     "title": ""
    }
   },
   "source": [
    "We will also go through columns that we haven't gone through yet and see if there is anything we can do with them."
   ]
  },
  {
   "cell_type": "markdown",
   "metadata": {
    "application/vnd.databricks.v1+cell": {
     "cellMetadata": {
      "byteLimit": 2048000,
      "rowLimit": 10000
     },
     "inputWidgets": {},
     "nuid": "8bf24e54-f295-43c9-9040-e50c51c12297",
     "showTitle": false,
     "title": ""
    }
   },
   "source": [
    "---"
   ]
  },
  {
   "cell_type": "markdown",
   "metadata": {
    "application/vnd.databricks.v1+cell": {
     "cellMetadata": {
      "byteLimit": 2048000,
      "rowLimit": 10000
     },
     "inputWidgets": {},
     "nuid": "15f83395-40f7-4f3c-84cd-22503e8e45be",
     "showTitle": false,
     "title": ""
    }
   },
   "source": [
    "city"
   ]
  },
  {
   "cell_type": "markdown",
   "metadata": {
    "application/vnd.databricks.v1+cell": {
     "cellMetadata": {
      "byteLimit": 2048000,
      "rowLimit": 10000
     },
     "inputWidgets": {},
     "nuid": "cbf8497e-150e-4d27-bde8-236f17d95afc",
     "showTitle": false,
     "title": ""
    }
   },
   "source": [
    "The city is the city where the vehicle is located. We can drop this column because we already have the dealer_zip column. The dealer_zip column is more useful because it is a numeric column and we can use it to find the state where the vehicle is located."
   ]
  },
  {
   "cell_type": "code",
   "execution_count": null,
   "metadata": {
    "application/vnd.databricks.v1+cell": {
     "cellMetadata": {
      "byteLimit": 2048000,
      "rowLimit": 10000
     },
     "inputWidgets": {},
     "nuid": "2d352f01-910f-46f1-8ca0-7f6533d75a67",
     "showTitle": false,
     "title": ""
    }
   },
   "outputs": [],
   "source": [
    "# Drop the 'city' column\n",
    "cars_df2 = cars_df2.drop('city')"
   ]
  },
  {
   "cell_type": "markdown",
   "metadata": {
    "application/vnd.databricks.v1+cell": {
     "cellMetadata": {
      "byteLimit": 2048000,
      "rowLimit": 10000
     },
     "inputWidgets": {},
     "nuid": "54010c35-5248-4e8a-8cc4-4f0e10b01b31",
     "showTitle": false,
     "title": ""
    }
   },
   "source": [
    "---"
   ]
  },
  {
   "cell_type": "markdown",
   "metadata": {
    "application/vnd.databricks.v1+cell": {
     "cellMetadata": {
      "byteLimit": 2048000,
      "rowLimit": 10000
     },
     "inputWidgets": {},
     "nuid": "8273734f-c167-4afd-89c2-aebc676da3d3",
     "showTitle": false,
     "title": ""
    }
   },
   "source": [
    "dealer_zip"
   ]
  },
  {
   "cell_type": "markdown",
   "metadata": {
    "application/vnd.databricks.v1+cell": {
     "cellMetadata": {
      "byteLimit": 2048000,
      "rowLimit": 10000
     },
     "inputWidgets": {},
     "nuid": "973516f8-4f89-43c8-9b5d-06d6452c9d6b",
     "showTitle": false,
     "title": ""
    }
   },
   "source": [
    "This is the zipcode of the dealership which is irrelevant for us in this so we drop"
   ]
  },
  {
   "cell_type": "code",
   "execution_count": null,
   "metadata": {
    "application/vnd.databricks.v1+cell": {
     "cellMetadata": {
      "byteLimit": 2048000,
      "rowLimit": 10000
     },
     "inputWidgets": {},
     "nuid": "fd70e25b-efbc-4282-af97-e5f57e437aa9",
     "showTitle": false,
     "title": ""
    }
   },
   "outputs": [],
   "source": [
    "# Drop the specified columns\n",
    "cars_df2 = cars_df2.drop('dealer_zip')"
   ]
  },
  {
   "cell_type": "markdown",
   "metadata": {
    "application/vnd.databricks.v1+cell": {
     "cellMetadata": {
      "byteLimit": 2048000,
      "rowLimit": 10000
     },
     "inputWidgets": {},
     "nuid": "c90f8ae5-5b41-4e0f-acc5-c4551fa4826a",
     "showTitle": false,
     "title": ""
    }
   },
   "source": [
    "---"
   ]
  },
  {
   "cell_type": "markdown",
   "metadata": {
    "application/vnd.databricks.v1+cell": {
     "cellMetadata": {
      "byteLimit": 2048000,
      "rowLimit": 10000
     },
     "inputWidgets": {},
     "nuid": "d95c0115-9de4-40ad-965e-3858584f0230",
     "showTitle": false,
     "title": ""
    }
   },
   "source": [
    "franchise_dealer"
   ]
  },
  {
   "cell_type": "markdown",
   "metadata": {
    "application/vnd.databricks.v1+cell": {
     "cellMetadata": {
      "byteLimit": 2048000,
      "rowLimit": 10000
     },
     "inputWidgets": {},
     "nuid": "05ad48a5-572b-4b45-8344-85d4580dcac5",
     "showTitle": false,
     "title": ""
    }
   },
   "source": [
    "The franchise dealer is a boolean value that represents if the dealer is a franchise dealer or not. We can simply drop this column because we already have the seller_rating column. The seller_rating column is more useful because it is a numeric column and we can use it to determine if the dealer is a franchise dealer or not."
   ]
  },
  {
   "cell_type": "code",
   "execution_count": null,
   "metadata": {
    "application/vnd.databricks.v1+cell": {
     "cellMetadata": {
      "byteLimit": 2048000,
      "rowLimit": 10000
     },
     "inputWidgets": {},
     "nuid": "d521024a-c7bc-48ae-8fe1-32799d3480ee",
     "showTitle": false,
     "title": ""
    }
   },
   "outputs": [],
   "source": [
    "cars_df2 = cars_df2.drop('franchise_dealer')"
   ]
  },
  {
   "cell_type": "markdown",
   "metadata": {
    "application/vnd.databricks.v1+cell": {
     "cellMetadata": {
      "byteLimit": 2048000,
      "rowLimit": 10000
     },
     "inputWidgets": {},
     "nuid": "11a97917-c901-49a4-ac78-4fa7c2caf70b",
     "showTitle": false,
     "title": ""
    }
   },
   "source": [
    "---"
   ]
  },
  {
   "cell_type": "markdown",
   "metadata": {
    "application/vnd.databricks.v1+cell": {
     "cellMetadata": {
      "byteLimit": 2048000,
      "rowLimit": 10000
     },
     "inputWidgets": {},
     "nuid": "f4791dc5-8225-4c98-8486-0a6adbe3ebd2",
     "showTitle": false,
     "title": ""
    }
   },
   "source": [
    "is_new"
   ]
  },
  {
   "cell_type": "markdown",
   "metadata": {
    "application/vnd.databricks.v1+cell": {
     "cellMetadata": {
      "byteLimit": 2048000,
      "rowLimit": 10000
     },
     "inputWidgets": {},
     "nuid": "053afe4f-e493-41fe-bcc8-ea116b7d0edf",
     "showTitle": false,
     "title": ""
    }
   },
   "source": [
    "The is new column is a boolean value that represents if the vehicle is new or not. This is a redundant column because we already have the mileage column, which already tells us if the vehicle is new or not. We will drop this column."
   ]
  },
  {
   "cell_type": "code",
   "execution_count": null,
   "metadata": {
    "application/vnd.databricks.v1+cell": {
     "cellMetadata": {
      "byteLimit": 2048000,
      "rowLimit": 10000
     },
     "inputWidgets": {},
     "nuid": "9b775b35-4a51-4008-b61f-54a96ece5567",
     "showTitle": false,
     "title": ""
    }
   },
   "outputs": [],
   "source": [
    "cars_df2 = cars_df2.drop('is_new')"
   ]
  },
  {
   "cell_type": "markdown",
   "metadata": {
    "application/vnd.databricks.v1+cell": {
     "cellMetadata": {
      "byteLimit": 2048000,
      "rowLimit": 10000
     },
     "inputWidgets": {},
     "nuid": "47648f8e-73db-4322-a3d3-6a2722628249",
     "showTitle": false,
     "title": ""
    }
   },
   "source": [
    "---"
   ]
  },
  {
   "cell_type": "markdown",
   "metadata": {
    "application/vnd.databricks.v1+cell": {
     "cellMetadata": {
      "byteLimit": 2048000,
      "rowLimit": 10000
     },
     "inputWidgets": {},
     "nuid": "2014dd88-85b8-4bf8-91ef-ddb1b83f8491",
     "showTitle": false,
     "title": ""
    }
   },
   "source": [
    "listed_date"
   ]
  },
  {
   "cell_type": "markdown",
   "metadata": {
    "application/vnd.databricks.v1+cell": {
     "cellMetadata": {
      "byteLimit": 2048000,
      "rowLimit": 10000
     },
     "inputWidgets": {},
     "nuid": "478d9254-0ea1-487c-95d4-00c7ccbb4f60",
     "showTitle": false,
     "title": ""
    }
   },
   "source": [
    "The listed date is the date the vehicle was listed. We can drop this column because we already have the year column. The year column is more useful because it is a numeric column and we can use it to find the age of the vehicle."
   ]
  },
  {
   "cell_type": "code",
   "execution_count": null,
   "metadata": {
    "application/vnd.databricks.v1+cell": {
     "cellMetadata": {
      "byteLimit": 2048000,
      "rowLimit": 10000
     },
     "inputWidgets": {},
     "nuid": "06b1481a-3a2c-406f-bd09-14f7c626c9ca",
     "showTitle": false,
     "title": ""
    }
   },
   "outputs": [],
   "source": [
    "cars_df2 = cars_df2.drop('listed_date')"
   ]
  },
  {
   "cell_type": "markdown",
   "metadata": {
    "application/vnd.databricks.v1+cell": {
     "cellMetadata": {
      "byteLimit": 2048000,
      "rowLimit": 10000
     },
     "inputWidgets": {},
     "nuid": "8c38b2c0-fbf8-4859-a90d-83ef72e52811",
     "showTitle": false,
     "title": ""
    }
   },
   "source": [
    "---"
   ]
  },
  {
   "cell_type": "markdown",
   "metadata": {
    "application/vnd.databricks.v1+cell": {
     "cellMetadata": {
      "byteLimit": 2048000,
      "rowLimit": 10000
     },
     "inputWidgets": {},
     "nuid": "a51cc00e-725d-4ddb-aeb3-8752d14902c5",
     "showTitle": false,
     "title": ""
    }
   },
   "source": [
    "listing_color"
   ]
  },
  {
   "cell_type": "markdown",
   "metadata": {
    "application/vnd.databricks.v1+cell": {
     "cellMetadata": {
      "byteLimit": 2048000,
      "rowLimit": 10000
     },
     "inputWidgets": {},
     "nuid": "e734ac0b-cdcf-43a3-926b-7287b81fdcb1",
     "showTitle": false,
     "title": ""
    }
   },
   "source": [
    "The listing color is the color of the vehicle when it was listed. We do not want to use the listing_color column because it is the color of the vehicle when it was first listed. This is not useful for our model because the vehicle may have been re-painted since it was listed. So we will drop this column."
   ]
  },
  {
   "cell_type": "code",
   "execution_count": null,
   "metadata": {
    "application/vnd.databricks.v1+cell": {
     "cellMetadata": {
      "byteLimit": 2048000,
      "rowLimit": 10000
     },
     "inputWidgets": {},
     "nuid": "f6ed20ea-63be-484f-baa0-792ab0f05bb1",
     "showTitle": false,
     "title": ""
    }
   },
   "outputs": [],
   "source": [
    "cars_df2 = cars_df2.drop('listing_color')"
   ]
  },
  {
   "cell_type": "markdown",
   "metadata": {
    "application/vnd.databricks.v1+cell": {
     "cellMetadata": {
      "byteLimit": 2048000,
      "rowLimit": 10000
     },
     "inputWidgets": {},
     "nuid": "214e07ac-63ec-40e5-b871-dbcea767c5b7",
     "showTitle": false,
     "title": ""
    }
   },
   "source": [
    "---"
   ]
  },
  {
   "cell_type": "markdown",
   "metadata": {
    "application/vnd.databricks.v1+cell": {
     "cellMetadata": {
      "byteLimit": 2048000,
      "rowLimit": 10000
     },
     "inputWidgets": {},
     "nuid": "1051b9c9-242e-407a-b746-55b5d35b2832",
     "showTitle": false,
     "title": ""
    }
   },
   "source": [
    "make_name"
   ]
  },
  {
   "cell_type": "markdown",
   "metadata": {
    "application/vnd.databricks.v1+cell": {
     "cellMetadata": {
      "byteLimit": 2048000,
      "rowLimit": 10000
     },
     "inputWidgets": {},
     "nuid": "faeba08e-50ce-4a95-8365-cbfb041ba638",
     "showTitle": false,
     "title": ""
    }
   },
   "source": [
    "The make name is the name of the make of the vehicle. Lets take a closer look at the make_name column and see how we can use it in our model."
   ]
  },
  {
   "cell_type": "code",
   "execution_count": null,
   "metadata": {
    "application/vnd.databricks.v1+cell": {
     "cellMetadata": {
      "byteLimit": 2048000,
      "rowLimit": 10000
     },
     "inputWidgets": {},
     "nuid": "31af8e0f-86f1-4946-874c-102a58e91b6e",
     "showTitle": false,
     "title": ""
    }
   },
   "outputs": [
    {
     "name": "stdout",
     "output_type": "stream",
     "text": [
      "Number of unique make names: 97\n"
     ]
    }
   ],
   "source": [
    "# Get the number of unique values in the 'make_name' column\n",
    "unique_make_names_count = cars_df2.select('make_name').distinct().count()\n",
    "\n",
    "# Print the result\n",
    "print(\"Number of unique make names:\", unique_make_names_count)"
   ]
  },
  {
   "cell_type": "markdown",
   "metadata": {
    "application/vnd.databricks.v1+cell": {
     "cellMetadata": {
      "byteLimit": 2048000,
      "rowLimit": 10000
     },
     "inputWidgets": {},
     "nuid": "8c401e67-bf66-44d5-82b9-3eb25658beef",
     "showTitle": false,
     "title": ""
    }
   },
   "source": [
    "in order to cut the number of unique values in the make_name column, we will list the top 20 most common values and replace the rest with the value 'Other'."
   ]
  },
  {
   "cell_type": "code",
   "execution_count": null,
   "metadata": {
    "application/vnd.databricks.v1+cell": {
     "cellMetadata": {
      "byteLimit": 2048000,
      "rowLimit": 10000
     },
     "inputWidgets": {},
     "nuid": "95fc9f08-c74f-4e3f-99f1-e59f7fa5a743",
     "showTitle": false,
     "title": ""
    }
   },
   "outputs": [
    {
     "name": "stdout",
     "output_type": "stream",
     "text": [
      "Ford\n",
      "Chevrolet\n",
      "Toyota\n",
      "Nissan\n",
      "Honda\n",
      "Jeep\n",
      "Hyundai\n",
      "Kia\n",
      "RAM\n",
      "GMC\n",
      "Dodge\n",
      "Volkswagen\n",
      "Subaru\n",
      "Mercedes-Benz\n",
      "Buick\n",
      "BMW\n",
      "Mazda\n",
      "Cadillac\n",
      "Lexus\n",
      "Audi\n"
     ]
    }
   ],
   "source": [
    "# Group by 'make_name' and count occurrences\n",
    "make_name_counts = cars_df2.groupBy('make_name').count()\n",
    "\n",
    "# Sort the counts in descending order and get the top 20 makes\n",
    "top_20_makes = make_name_counts.orderBy(col('count').desc()).limit(20).select('make_name').collect()\n",
    "\n",
    "# Extract and print the top 20 makes\n",
    "for row in top_20_makes:\n",
    "    print(row.make_name)"
   ]
  },
  {
   "cell_type": "code",
   "execution_count": null,
   "metadata": {
    "application/vnd.databricks.v1+cell": {
     "cellMetadata": {
      "byteLimit": 2048000,
      "rowLimit": 10000
     },
     "inputWidgets": {},
     "nuid": "4894384e-d088-48bd-8c93-beac06883530",
     "showTitle": false,
     "title": ""
    }
   },
   "outputs": [],
   "source": [
    "# Create a list of the top 20 make names\n",
    "top_20_list = [row.make_name for row in top_20_makes]\n",
    "\n",
    "# Redefine 'make_name' column using the 'when' function\n",
    "cars_df2 = cars_df2.withColumn('make_name', when(col('make_name').isin(top_20_list), col('make_name')).otherwise('Other'))\n"
   ]
  },
  {
   "cell_type": "code",
   "execution_count": null,
   "metadata": {
    "application/vnd.databricks.v1+cell": {
     "cellMetadata": {
      "byteLimit": 2048000,
      "rowLimit": 10000
     },
     "inputWidgets": {},
     "nuid": "ffef2732-44c5-4b90-b64c-7431265d2158",
     "showTitle": false,
     "title": ""
    }
   },
   "outputs": [
    {
     "name": "stdout",
     "output_type": "stream",
     "text": [
      "+-------------+------+\n",
      "|    make_name| count|\n",
      "+-------------+------+\n",
      "|   Volkswagen| 67146|\n",
      "|        Lexus| 33872|\n",
      "|         Jeep|148946|\n",
      "|          Kia|100778|\n",
      "|    Chevrolet|320609|\n",
      "|          RAM| 91050|\n",
      "|      Hyundai|121958|\n",
      "|        Honda|182758|\n",
      "|         Audi| 33481|\n",
      "|     Cadillac| 42235|\n",
      "|        Other|213624|\n",
      "|Mercedes-Benz| 60154|\n",
      "|          BMW| 55181|\n",
      "|          GMC| 82469|\n",
      "|        Buick| 57718|\n",
      "|       Toyota|199000|\n",
      "|        Dodge| 75694|\n",
      "|       Nissan|194696|\n",
      "|        Mazda| 46264|\n",
      "|         Ford|410337|\n",
      "+-------------+------+\n",
      "only showing top 20 rows\n",
      "\n"
     ]
    }
   ],
   "source": [
    "# Show the value counts for the 'make_name' column\n",
    "make_name = cars_df2.groupBy('make_name').count()\n",
    "make_name.show()"
   ]
  },
  {
   "cell_type": "markdown",
   "metadata": {
    "application/vnd.databricks.v1+cell": {
     "cellMetadata": {
      "byteLimit": 2048000,
      "rowLimit": 10000
     },
     "inputWidgets": {},
     "nuid": "f5fa3ca3-67fd-4182-ab94-051fc9cccb9b",
     "showTitle": false,
     "title": ""
    }
   },
   "source": [
    "It looks like the top 3 most common values are Ford, Chevrolet, and Toyota. These are the types of vehicles that are most likely to be sold."
   ]
  },
  {
   "cell_type": "markdown",
   "metadata": {
    "application/vnd.databricks.v1+cell": {
     "cellMetadata": {
      "byteLimit": 2048000,
      "rowLimit": 10000
     },
     "inputWidgets": {},
     "nuid": "0bde3e93-7353-43ae-bd38-d97bb0319c71",
     "showTitle": false,
     "title": ""
    }
   },
   "source": [
    "----"
   ]
  },
  {
   "cell_type": "markdown",
   "metadata": {
    "application/vnd.databricks.v1+cell": {
     "cellMetadata": {
      "byteLimit": 2048000,
      "rowLimit": 10000
     },
     "inputWidgets": {},
     "nuid": "7063c31f-e718-4e65-b1d7-7084e930ea6a",
     "showTitle": false,
     "title": ""
    }
   },
   "source": [
    "model_name"
   ]
  },
  {
   "cell_type": "markdown",
   "metadata": {
    "application/vnd.databricks.v1+cell": {
     "cellMetadata": {
      "byteLimit": 2048000,
      "rowLimit": 10000
     },
     "inputWidgets": {},
     "nuid": "23a50532-c53f-4673-8cd2-9f7e520ce494",
     "showTitle": false,
     "title": ""
    }
   },
   "source": [
    "The model name is the name of the model of the vehicle. Lets take a closer look at the model_name column and see how we can use it in our model."
   ]
  },
  {
   "cell_type": "code",
   "execution_count": null,
   "metadata": {
    "application/vnd.databricks.v1+cell": {
     "cellMetadata": {
      "byteLimit": 2048000,
      "rowLimit": 10000
     },
     "inputWidgets": {},
     "nuid": "68e56bf3-483e-43d6-9ed0-18e4be127116",
     "showTitle": false,
     "title": ""
    }
   },
   "outputs": [
    {
     "name": "stdout",
     "output_type": "stream",
     "text": [
      "+-----------------+-----+\n",
      "|       model_name|count|\n",
      "+-----------------+-----+\n",
      "|              MDX|10072|\n",
      "|             RS 7|   71|\n",
      "|           Cirrus|    2|\n",
      "|        GLE-Class| 4942|\n",
      "|  Impreza WRX STI|  116|\n",
      "|            Astra|   19|\n",
      "|     California T|   62|\n",
      "|              944|   17|\n",
      "|          Contour|    5|\n",
      "|              S60| 3151|\n",
      "|               TC|   12|\n",
      "|             1500|62009|\n",
      "|Highlander Hybrid| 5730|\n",
      "|            XLR-V|    6|\n",
      "|               Q7| 3308|\n",
      "|              DBS|   55|\n",
      "|    Captiva Sport|  380|\n",
      "|    Sierra 2500HD| 3972|\n",
      "|    Cruze Limited|  858|\n",
      "|            RS Q8|   10|\n",
      "+-----------------+-----+\n",
      "only showing top 20 rows\n",
      "\n"
     ]
    }
   ],
   "source": [
    "# Group by 'model_name' and count occurrences\n",
    "model_name_counts = cars_df2.groupBy('model_name').count()\n",
    "\n",
    "# Show the value counts for the 'model_name' column\n",
    "model_name_counts.show()"
   ]
  },
  {
   "cell_type": "code",
   "execution_count": null,
   "metadata": {
    "application/vnd.databricks.v1+cell": {
     "cellMetadata": {
      "byteLimit": 2048000,
      "rowLimit": 10000
     },
     "inputWidgets": {},
     "nuid": "d6f6e0c5-224a-473f-8425-e1f630dd6104",
     "showTitle": false,
     "title": ""
    }
   },
   "outputs": [
    {
     "name": "stdout",
     "output_type": "stream",
     "text": [
      "The number of unique values in the model_name column is 1353.\n"
     ]
    }
   ],
   "source": [
    "# Calculate the number of unique values in the 'model_name' column\n",
    "unique_model_count = cars_df2.select(countDistinct('model_name')).first()[0]\n",
    "\n",
    "print(f\"The number of unique values in the model_name column is {unique_model_count}.\")"
   ]
  },
  {
   "cell_type": "markdown",
   "metadata": {
    "application/vnd.databricks.v1+cell": {
     "cellMetadata": {
      "byteLimit": 2048000,
      "rowLimit": 10000
     },
     "inputWidgets": {},
     "nuid": "ff79256d-2a5f-4330-96b3-add413584ca8",
     "showTitle": false,
     "title": ""
    }
   },
   "source": [
    "Like our make_name column, we will list the top 20 most common values and replace the rest with the value 'Other'. This will reduce the number of unique values in the model_name column."
   ]
  },
  {
   "cell_type": "code",
   "execution_count": null,
   "metadata": {
    "application/vnd.databricks.v1+cell": {
     "cellMetadata": {
      "byteLimit": 2048000,
      "rowLimit": 10000
     },
     "inputWidgets": {},
     "nuid": "a004d896-20ee-41a2-bdde-882095a6cfca",
     "showTitle": false,
     "title": ""
    }
   },
   "outputs": [],
   "source": [
    "# Calculate the value counts for the 'model_name' column\n",
    "model_name_counts = cars_df2.groupBy('model_name').count()\n",
    "\n",
    "# Order the counts in descending order and select the top 20\n",
    "top_20_model_names = model_name_counts.orderBy(col('count').desc()).limit(20)\n",
    "\n",
    "# Convert the result to a list of model names\n",
    "top_20_list = [row['model_name'] for row in top_20_model_names.collect()]\n",
    "\n",
    "# Replace the column to categorize models as 'Top 20' or 'Other'\n",
    "cars_df2 = cars_df2.withColumn('model_name', when(col('model_name').isin(top_20_list), col('model_name')).otherwise('Other'))\n",
    "\n"
   ]
  },
  {
   "cell_type": "code",
   "execution_count": null,
   "metadata": {
    "application/vnd.databricks.v1+cell": {
     "cellMetadata": {
      "byteLimit": 2048000,
      "rowLimit": 10000
     },
     "inputWidgets": {},
     "nuid": "57bc115f-3f50-4691-802b-19f765d8b202",
     "showTitle": false,
     "title": ""
    }
   },
   "outputs": [
    {
     "name": "stdout",
     "output_type": "stream",
     "text": [
      "+--------------+-------+\n",
      "|    model_name|  count|\n",
      "+--------------+-------+\n",
      "|          1500|  62009|\n",
      "|         Camry|  36949|\n",
      "|      Cherokee|  29385|\n",
      "|         F-150| 111074|\n",
      "|        Fusion|  37616|\n",
      "|        Malibu|  26868|\n",
      "|        Accord|  32347|\n",
      "|         Rogue|  45037|\n",
      "|         Other|1742198|\n",
      "|Silverado 1500|  61657|\n",
      "|       Corolla|  32036|\n",
      "|        Escape|  50550|\n",
      "|         Civic|  33454|\n",
      "|          CR-V|  36663|\n",
      "|      Explorer|  42385|\n",
      "|          RAV4|  26759|\n",
      "|       Equinox|  56244|\n",
      "|        Tucson|  27775|\n",
      "|Grand Cherokee|  39176|\n",
      "|        Altima|  34419|\n",
      "+--------------+-------+\n",
      "only showing top 20 rows\n",
      "\n"
     ]
    }
   ],
   "source": [
    "# Group by 'model_name' and count occurrences\n",
    "model_name_counts = cars_df2.groupBy('model_name').count()\n",
    "\n",
    "# Show the value counts\n",
    "model_name_counts.show()"
   ]
  },
  {
   "cell_type": "markdown",
   "metadata": {
    "application/vnd.databricks.v1+cell": {
     "cellMetadata": {
      "byteLimit": 2048000,
      "rowLimit": 10000
     },
     "inputWidgets": {},
     "nuid": "08dfa792-06f5-440b-8a97-3f97fa197468",
     "showTitle": false,
     "title": ""
    }
   },
   "source": [
    "---"
   ]
  },
  {
   "cell_type": "markdown",
   "metadata": {
    "application/vnd.databricks.v1+cell": {
     "cellMetadata": {
      "byteLimit": 2048000,
      "rowLimit": 10000
     },
     "inputWidgets": {},
     "nuid": "56bcef30-e524-4750-908b-7c8276767bda",
     "showTitle": false,
     "title": ""
    }
   },
   "source": [
    "sp_name"
   ]
  },
  {
   "cell_type": "markdown",
   "metadata": {
    "application/vnd.databricks.v1+cell": {
     "cellMetadata": {
      "byteLimit": 2048000,
      "rowLimit": 10000
     },
     "inputWidgets": {},
     "nuid": "a20a1974-3a29-4387-b624-dc83dfb3eab2",
     "showTitle": false,
     "title": ""
    }
   },
   "source": [
    "The sp name is the name of the dealership selling the vehicle. We can drop this column because the sp name is not useful for our model."
   ]
  },
  {
   "cell_type": "code",
   "execution_count": null,
   "metadata": {
    "application/vnd.databricks.v1+cell": {
     "cellMetadata": {
      "byteLimit": 2048000,
      "rowLimit": 10000
     },
     "inputWidgets": {},
     "nuid": "52a7efda-354b-4a81-b0f8-305bb27a89af",
     "showTitle": false,
     "title": ""
    }
   },
   "outputs": [],
   "source": [
    "# Drop the 'sp_name' column\n",
    "cars_df2 = cars_df2.drop('sp_name')"
   ]
  },
  {
   "cell_type": "markdown",
   "metadata": {
    "application/vnd.databricks.v1+cell": {
     "cellMetadata": {
      "byteLimit": 2048000,
      "rowLimit": 10000
     },
     "inputWidgets": {},
     "nuid": "55a3f917-be11-488b-87e8-28231180c0ac",
     "showTitle": false,
     "title": ""
    }
   },
   "source": [
    "---"
   ]
  },
  {
   "cell_type": "markdown",
   "metadata": {
    "application/vnd.databricks.v1+cell": {
     "cellMetadata": {
      "byteLimit": 2048000,
      "rowLimit": 10000
     },
     "inputWidgets": {},
     "nuid": "a8770632-3667-498b-84bc-e1f31a99e236",
     "showTitle": false,
     "title": ""
    }
   },
   "source": [
    "longitude and latitude"
   ]
  },
  {
   "cell_type": "markdown",
   "metadata": {
    "application/vnd.databricks.v1+cell": {
     "cellMetadata": {
      "byteLimit": 2048000,
      "rowLimit": 10000
     },
     "inputWidgets": {},
     "nuid": "ae1a8032-a614-44a9-b09a-226bed4f8899",
     "showTitle": false,
     "title": ""
    }
   },
   "source": [
    "The longitude and latitude columns are the coordinates of where the vehicle is located. We can drop these columns because we already have the dealer_state column. This would be redundant information."
   ]
  },
  {
   "cell_type": "code",
   "execution_count": null,
   "metadata": {
    "application/vnd.databricks.v1+cell": {
     "cellMetadata": {
      "byteLimit": 2048000,
      "rowLimit": 10000
     },
     "inputWidgets": {},
     "nuid": "4936faa0-db52-4bc4-953f-cfcb6c3fd428",
     "showTitle": false,
     "title": ""
    }
   },
   "outputs": [],
   "source": [
    "# Drop the 'longitude' and 'latitude' columns\n",
    "columns_to_drop = ['longitude', 'latitude']\n",
    "cars_df2 = cars_df2.drop(*columns_to_drop)"
   ]
  },
  {
   "cell_type": "markdown",
   "metadata": {
    "application/vnd.databricks.v1+cell": {
     "cellMetadata": {
      "byteLimit": 2048000,
      "rowLimit": 10000
     },
     "inputWidgets": {},
     "nuid": "a8671e47-af0a-49b0-9626-41772fbd0ee5",
     "showTitle": false,
     "title": ""
    }
   },
   "source": [
    "---"
   ]
  },
  {
   "cell_type": "markdown",
   "metadata": {
    "application/vnd.databricks.v1+cell": {
     "cellMetadata": {
      "byteLimit": 2048000,
      "rowLimit": 10000
     },
     "inputWidgets": {},
     "nuid": "49da928e-38f2-4d5e-b1c4-15aad8af9a3a",
     "showTitle": false,
     "title": ""
    }
   },
   "source": [
    "listing_id"
   ]
  },
  {
   "cell_type": "markdown",
   "metadata": {
    "application/vnd.databricks.v1+cell": {
     "cellMetadata": {
      "byteLimit": 2048000,
      "rowLimit": 10000
     },
     "inputWidgets": {},
     "nuid": "67ec328b-5ad4-46a1-986e-42113714d949",
     "showTitle": false,
     "title": ""
    }
   },
   "source": [
    "The listing id is the unique identifier for the vehicle. We can drop this column because it is not useful for our model."
   ]
  },
  {
   "cell_type": "code",
   "execution_count": null,
   "metadata": {
    "application/vnd.databricks.v1+cell": {
     "cellMetadata": {
      "byteLimit": 2048000,
      "rowLimit": 10000
     },
     "inputWidgets": {},
     "nuid": "aa924540-c0d6-4252-bf9a-3ec81541b6b5",
     "showTitle": false,
     "title": ""
    }
   },
   "outputs": [],
   "source": [
    "# Drop the 'listing_id'\n",
    "cars_df2 = cars_df2.drop('listing_id')"
   ]
  },
  {
   "cell_type": "markdown",
   "metadata": {
    "application/vnd.databricks.v1+cell": {
     "cellMetadata": {
      "byteLimit": 2048000,
      "rowLimit": 10000
     },
     "inputWidgets": {},
     "nuid": "bb1f012a-d316-4756-a69e-ace373a6d193",
     "showTitle": false,
     "title": ""
    }
   },
   "source": [
    "----"
   ]
  },
  {
   "cell_type": "markdown",
   "metadata": {
    "application/vnd.databricks.v1+cell": {
     "cellMetadata": {
      "byteLimit": 2048000,
      "rowLimit": 10000
     },
     "inputWidgets": {},
     "nuid": "db8eec64-d8a1-4b4b-b566-5ef34c137ecc",
     "showTitle": false,
     "title": ""
    }
   },
   "source": [
    "size_of_vehicle"
   ]
  },
  {
   "cell_type": "markdown",
   "metadata": {
    "application/vnd.databricks.v1+cell": {
     "cellMetadata": {
      "byteLimit": 2048000,
      "rowLimit": 10000
     },
     "inputWidgets": {},
     "nuid": "f303a958-4354-4f2f-a366-ee80983a1010",
     "showTitle": false,
     "title": ""
    }
   },
   "source": [
    "We will be creating a new column called size_of_vehicle. This column will be a numeric column that represents the size of the vehicle. We will use the length, width, height, and wheelbase columns to calculate the size of the vehicle.\n",
    "\n",
    "We will use the following formula to calculate the size of the vehicle.\n",
    "\n",
    "size_of_vehicle = length + width + height + wheelbase + fuel_tank_volume\n",
    "\n",
    "This will allow us to reduce the number of columns in our dataset, while still being able to use the size of the vehicle in our model."
   ]
  },
  {
   "cell_type": "code",
   "execution_count": null,
   "metadata": {
    "application/vnd.databricks.v1+cell": {
     "cellMetadata": {
      "byteLimit": 2048000,
      "rowLimit": 10000
     },
     "inputWidgets": {},
     "nuid": "dfeb2cf7-fb2b-4c68-89d0-5d9fb3ff494d",
     "showTitle": false,
     "title": ""
    }
   },
   "outputs": [
    {
     "name": "stdout",
     "output_type": "stream",
     "text": [
      "+-----------------+------------+------------+-----------+--------------+-------------+---------+----------+--------------+---------+---------------+-------+----------+-------+--------------+-------------+-----------------+------------+------------+----+---------------------+---------+-------------------+-------+-----------------+\n",
      "|              vin|   body_type|daysonmarket|engine_type|exterior_color|has_incidents|fuel_type|horsepower|interior_color|make_name|maximum_seating|mileage|model_name|  price|savings_amount|seller_rating|           torque|transmission|wheel_system|year|combined_fuel_economy|  legroom|major_options_count|row_num|  size_of_vehicle|\n",
      "+-----------------+------------+------------+-----------+--------------+-------------+---------+----------+--------------+---------+---------------+-------+----------+-------+--------------+-------------+-----------------+------------+------------+----+---------------------+---------+-------------------+-------+-----------------+\n",
      "|1C6SRFHM5LN304254|Pickup Truck|         200|         V6|   Other Color|        False|Biodiesel|     false|   Other Color|      RAM|              5|    0.0|      1500|63733.0|             0|      5 stars|            410.0|           A|         4WD|2020|                 25.0|86.100006|                5.0| 144388|562.3000030517578|\n",
      "|1GD39SEY3LF292379|Pickup Truck|          11|         V8|   Other Color|        False|Biodiesel|     false|         Black|      GMC|              3|    0.0|     Other|47002.0|             0|      2 stars|264.3445760251868|           A|         4WD|2020|   26.083270485928693|     82.7|                7.0| 144389|610.7000045776367|\n",
      "|1FT8W3BT6LEE14322|Pickup Truck|          25|         V8|   Other Color|        False|Biodiesel|     false|         Black|     Ford|              6|    0.0|     Other|73510.0|             0|      4 stars|264.3445760251868|           A|         4WD|2020|   26.083270485928693|     87.5|               10.0| 144390|            677.0|\n",
      "|1FT8W2BT8LEE40849|Pickup Truck|          11|         V8|   Other Color|        False|Biodiesel|     false|   Other Color|     Ford|              6|    0.0|     Other|63955.0|             0|      4 stars|264.3445760251868|           A|         4WD|2020|   26.083270485928693|     87.5| 6.1610108594641195| 144391|631.2000045776367|\n",
      "|1FT8W3BT3LEC96620|Pickup Truck|         201|         V8|   Other Color|        False|Biodiesel|     false|         Black|     Ford|              5|    0.0|     Other|83705.0|             0|      4 stars|264.3445760251868|           A|         4WD|2020|   26.083270485928693|     87.5|                9.0| 144392|            677.0|\n",
      "|1FTRF3BT4LED28964|Pickup Truck|         160|         V8|   Other Color|        False|Biodiesel|      true|   Other Color|     Ford|              5|    0.0|     Other|57675.0|             0|      5 stars|264.3445760251868|           A|         FWD|2020|   26.083270485928693|80.402695|                7.0| 144393|475.3441243970968|\n",
      "|1GC4YPEY1LF300634|Pickup Truck|          25|         V8|   Other Color|        False|Biodiesel|     false|   Other Color|Chevrolet|              6|    0.0|     Other|71350.0|             0|      5 stars|264.3445760251868|           A|         4WD|2020|   26.083270485928693|     87.9|               17.0| 144394|606.5999984741211|\n",
      "|1FDRF3HT9KEG29408|Pickup Truck|         327|         V8|   Other Color|        False|Biodiesel|     false|   Other Color|     Ford|              3|    0.0|     Other|57360.0|             0|      5 stars|            750.0|           A|         4WD|2019|   26.083270485928693|82.100006|                6.0| 144395|602.2000045776367|\n",
      "|1FT8W3DT1LED91643|Pickup Truck|         109|         V8|   Other Color|        False|Biodiesel|     false|   Other Color|     Ford|              6|    0.0|     Other|65295.0|             0|      4 stars|264.3445760251868|           A|         4WD|2020|   26.083270485928693|     87.5|               10.0| 144396|677.4000015258789|\n",
      "|1FT8W4DT2LEC36282|Pickup Truck|         266|         V8|   Other Color|        False|Biodiesel|     false|   Other Color|     Ford|              6|    0.0|     Other|64834.0|             0|      5 stars|264.3445760251868|           A|         4WD|2020|   26.083270485928693|     87.5|                2.0| 144397|            678.0|\n",
      "|1FT8W3BT3LEE40585|Pickup Truck|          13|         V8|   Other Color|        False|Biodiesel|     false|   Other Color|     Ford|              6|    0.0|     Other|62284.0|             0|      5 stars|264.3445760251868|           A|         4WD|2020|   26.083270485928693|     87.5| 6.1610108594641195| 144398|631.0000076293945|\n",
      "|1GD39SEY2LF321953|Pickup Truck|           8|         V8|   Other Color|        False|Biodiesel|     false|   Other Color|      GMC|              3|    0.0|     Other|49430.0|             0|      5 stars|264.3445760251868|           A|         4WD|2020|   26.083270485928693|     82.7| 6.1610108594641195| 144399|610.7000045776367|\n",
      "|1FT8W3BT1LEC84515|Pickup Truck|         215|         V8|   Other Color|        False|Biodiesel|     false|   Other Color|     Ford|              6|    0.0|     Other|64285.0|             0|      5 stars|264.3445760251868|           A|         4WD|2020|   26.083270485928693|     87.5|                7.0| 144400|631.0000076293945|\n",
      "|1GC4YREY3LF167869|Pickup Truck|         295|         V8|         Black|        False|Biodiesel|     false|   Other Color|Chevrolet|              5|    0.0|     Other|68488.0|             0|      5 stars|264.3445760251868|           A|         4WD|2020|   26.083270485928693|     87.9|                7.0| 144401|606.5999984741211|\n",
      "|1GT49MEY3LF315390|Pickup Truck|          18|         V8|   Other Color|        False|Biodiesel|     false|   Other Color|      GMC|              6|    0.0|     Other|57375.0|             0|      5 stars|264.3445760251868|           A|         4WD|2020|   26.083270485928693|     87.9|               10.0| 144402|606.5999984741211|\n",
      "|1FT7W2BT1LEC38057|Pickup Truck|         267|         V8|   Other Color|        False|Biodiesel|     false|   Other Color|     Ford|              6|    0.0|     Other|66400.0|             0|      5 stars|264.3445760251868|           A|         4WD|2020|   26.083270485928693|     87.5|                9.0| 144403|631.2000045776367|\n",
      "|1FT8W3BT7LEE24969|Pickup Truck|          39|         V8|   Other Color|        False|Biodiesel|     false|   Other Color|     Ford|              6|    0.0|     Other|61676.0|             0|      5 stars|264.3445760251868|           A|         4WD|2020|   26.083270485928693|     87.5|                1.0| 144404|631.0000076293945|\n",
      "|1FT8W3BT4LEE41065|Pickup Truck|          12|         V8|   Other Color|        False|Biodiesel|     false|   Other Color|     Ford|              6|    0.0|     Other|72263.0|             0|      5 stars|264.3445760251868|           A|         4WD|2020|   26.083270485928693|     87.5|                9.0| 144405|631.0000076293945|\n",
      "|1FDRF3HT8LDA06840|Pickup Truck|          41|         V8|   Other Color|        false|Biodiesel|     false|   Other Color|     Ford|              3|    0.0|     Other|51999.0|             0|      5 stars|            468.0|           A|         4WD|2020|   26.083270485928693|82.100006|                2.0| 144406|603.4000015258789|\n",
      "|1C6SRFLM5LN231152|Pickup Truck|         274|         V6|   Other Color|        False|Biodiesel|     false|         Black|      RAM|              5|    0.0|      1500|60470.0|             0|      4 stars|            410.0|           A|         4WD|2020|                 25.0|86.100006|               13.0| 144407|562.3000030517578|\n",
      "+-----------------+------------+------------+-----------+--------------+-------------+---------+----------+--------------+---------+---------------+-------+----------+-------+--------------+-------------+-----------------+------------+------------+----+---------------------+---------+-------------------+-------+-----------------+\n",
      "only showing top 20 rows\n",
      "\n"
     ]
    }
   ],
   "source": [
    "# Create the new column 'size_of_vehicle'\n",
    "cars_df2 = cars_df2.withColumn('size_of_vehicle', col('length') + col('width') + col('height') + col('wheelbase') + col('fuel_tank_volume'))\n",
    "\n",
    "# Drop the 'length', 'width', 'height', 'wheelbase', and 'fuel_tank_volume' columns\n",
    "columns_to_drop = ['length', 'width', 'height', 'wheelbase', 'fuel_tank_volume']\n",
    "cars_df2 = cars_df2.drop(*columns_to_drop)\n",
    "\n",
    "# Show the updated DataFrame\n",
    "cars_df2.show()"
   ]
  },
  {
   "cell_type": "markdown",
   "metadata": {
    "application/vnd.databricks.v1+cell": {
     "cellMetadata": {
      "byteLimit": 2048000,
      "rowLimit": 10000
     },
     "inputWidgets": {},
     "nuid": "7491af9d-5f40-48ce-8b7b-4d02591dd2a0",
     "showTitle": false,
     "title": ""
    }
   },
   "source": [
    "Lets take a look at the distribution of the size_of_vehicle column."
   ]
  },
  {
   "cell_type": "code",
   "execution_count": null,
   "metadata": {
    "application/vnd.databricks.v1+cell": {
     "cellMetadata": {
      "byteLimit": 2048000,
      "rowLimit": 10000
     },
     "inputWidgets": {},
     "nuid": "6f398985-ddac-4baa-8ba8-c762db754f05",
     "showTitle": false,
     "title": ""
    }
   },
   "outputs": [
    {
     "data": {
      "image/png": "[encoded data removed]"
     },
     "metadata": {
      "application/vnd.databricks.v1+output": {
       "addedWidgets": {},
       "arguments": {},
       "data": "data:image/png;base64,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\n",
       "datasetInfos": [],
       "metadata": {},
       "removedWidgets": [],
       "type": "image"
      }
     },
     "output_type": "display_data"
    },
    {
     "name": "stdout",
     "output_type": "stream",
     "text": [
      "The mean of the size_of_vehicle column is 469.91803731271995.\n",
      "The median of the size_of_vehicle column is 456.10000228881836.\n"
     ]
    }
   ],
   "source": [
    "# Convert the column to a Pandas Series\n",
    "size_of_vehicle_pd = cars_df2.select('size_of_vehicle').toPandas()['size_of_vehicle']\n",
    "\n",
    "# Remove NaN values\n",
    "size_of_vehicle_pd_cleaned = size_of_vehicle_pd.dropna()\n",
    "\n",
    "# Plotting the distribution of the column\n",
    "plt.figure(figsize=(10, 6))\n",
    "plt.hist(size_of_vehicle_pd_cleaned, bins=20, edgecolor='k')\n",
    "plt.title('Size of Vehicle Distribution')\n",
    "plt.xlabel('Size of Vehicle')\n",
    "plt.ylabel('Frequency')\n",
    "plt.show()\n",
    "\n",
    "# Calculating the mean and median of the column\n",
    "mean_size = size_of_vehicle_pd_cleaned.mean()\n",
    "median_size = size_of_vehicle_pd_cleaned.median()\n",
    "print(f\"The mean of the size_of_vehicle column is {mean_size}.\")\n",
    "print(f\"The median of the size_of_vehicle column is {median_size}.\")"
   ]
  },
  {
   "cell_type": "markdown",
   "metadata": {
    "application/vnd.databricks.v1+cell": {
     "cellMetadata": {
      "byteLimit": 2048000,
      "rowLimit": 10000
     },
     "inputWidgets": {},
     "nuid": "564d5100-be8b-4b74-9580-f5731cf45cec",
     "showTitle": false,
     "title": ""
    }
   },
   "source": [
    "As we can see, most vehicles have a size of 439-450 inches."
   ]
  },
  {
   "cell_type": "code",
   "execution_count": null,
   "metadata": {
    "application/vnd.databricks.v1+cell": {
     "cellMetadata": {
      "byteLimit": 2048000,
      "rowLimit": 10000
     },
     "inputWidgets": {},
     "nuid": "27377754-b66d-4d51-acac-3cb7e9031ed1",
     "showTitle": false,
     "title": ""
    }
   },
   "outputs": [],
   "source": [
    "cars_df2=cars_df2.drop('row_num')"
   ]
  },
  {
   "cell_type": "markdown",
   "metadata": {
    "application/vnd.databricks.v1+cell": {
     "cellMetadata": {
      "byteLimit": 2048000,
      "rowLimit": 10000
     },
     "inputWidgets": {},
     "nuid": "cae6bf40-2373-4256-9852-d8fca7fc6d4f",
     "showTitle": false,
     "title": ""
    }
   },
   "source": [
    "----"
   ]
  },
  {
   "cell_type": "markdown",
   "metadata": {
    "application/vnd.databricks.v1+cell": {
     "cellMetadata": {
      "byteLimit": 2048000,
      "rowLimit": 10000
     },
     "inputWidgets": {},
     "nuid": "a167e5b1-ad03-4bfa-94c5-1f781f4c3b6c",
     "showTitle": false,
     "title": ""
    }
   },
   "source": [
    "Saving the cleaned dataset"
   ]
  },
  {
   "cell_type": "code",
   "execution_count": null,
   "metadata": {
    "application/vnd.databricks.v1+cell": {
     "cellMetadata": {
      "byteLimit": 2048000,
      "rowLimit": 10000
     },
     "inputWidgets": {},
     "nuid": "df2f3399-517e-4438-b3ef-b84c0dd21d23",
     "showTitle": false,
     "title": ""
    }
   },
   "outputs": [],
   "source": [
    "# Save the cleaned PySpark DataFrame as a CSV file\n",
    "cars_df2=cars_df2.coalesce(1)\n",
    "cars_df2.write.csv('dbfs:/mnt/files/cleaned_dataset.csv', header=True, mode='overwrite')"
   ]
  },
  {
   "cell_type": "code",
   "execution_count": null,
   "metadata": {
    "application/vnd.databricks.v1+cell": {
     "cellMetadata": {
      "byteLimit": 2048000,
      "rowLimit": 10000
     },
     "inputWidgets": {},
     "nuid": "6668de30-2dfe-433f-afce-ee38c1993c72",
     "showTitle": false,
     "title": ""
    }
   },
   "outputs": [],
   "source": [
    "#load the saved file and check if file is saved as intended\n",
    "new_df = spark.read.csv(\"dbfs:/mnt/files/cleaned_dataset.csv\",header=True,inferSchema=True)"
   ]
  },
  {
   "cell_type": "code",
   "execution_count": null,
   "metadata": {
    "application/vnd.databricks.v1+cell": {
     "cellMetadata": {
      "byteLimit": 2048000,
      "rowLimit": 10000
     },
     "inputWidgets": {},
     "nuid": "4c81f91b-45bd-463b-a478-0fe2cffa305b",
     "showTitle": false,
     "title": ""
    }
   },
   "outputs": [
    {
     "name": "stdout",
     "output_type": "stream",
     "text": [
      "Number of rows: 2599355\n",
      "Number of columns: 24\n"
     ]
    }
   ],
   "source": [
    "num_rows = new_df.count()  # Number of rows\n",
    "num_columns = len(new_df.columns)  # Number of columns\n",
    "\n",
    "print(f\"Number of rows: {num_rows}\")\n",
    "print(f\"Number of columns: {num_columns}\")\n"
   ]
  },
  {
   "cell_type": "markdown",
   "metadata": {
    "application/vnd.databricks.v1+cell": {
     "cellMetadata": {
      "byteLimit": 2048000,
      "rowLimit": 10000
     },
     "inputWidgets": {},
     "nuid": "9b2dc115-f925-46f1-b022-2d3a35d1bea4",
     "showTitle": false,
     "title": ""
    }
   },
   "source": [
    "We have successfully cleaned our dataset"
   ]
  }
 ],
 "metadata": {
  "application/vnd.databricks.v1+notebook": {
   "dashboards": [],
   "language": "python",
   "notebookMetadata": {
    "mostRecentlyExecutedCommandWithImplicitDF": {
     "commandId": 3575471450419549,
     "dataframes": [
      "_sqldf"
     ]
    },
    "pythonIndentUnit": 4
   },
   "notebookName": "Part1 Cleaning",
   "widgets": {}
  },
  "kernelspec": {
   "display_name": "Python 3 (ipykernel)",
   "language": "python",
   "name": "python3"
  },
  "language_info": {
   "codemirror_mode": {
    "name": "ipython",
    "version": 3
   },
   "file_extension": ".py",
   "mimetype": "text/x-python",
   "name": "python",
   "nbconvert_exporter": "python",
   "pygments_lexer": "ipython3",
   "version": "3.11.4"
  }
 },
 "nbformat": 4,
 "nbformat_minor": 0
}
